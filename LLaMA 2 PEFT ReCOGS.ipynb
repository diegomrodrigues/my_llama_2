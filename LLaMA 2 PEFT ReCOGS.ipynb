{
  "cells": [
    {
      "cell_type": "markdown",
      "metadata": {
        "id": "view-in-github",
        "colab_type": "text"
      },
      "source": [
        "<a href=\"https://colab.research.google.com/github/diegomrodrigues/my_llama_2/blob/main/LLaMA%202%20PEFT%20ReCOGS.ipynb\" target=\"_parent\"><img src=\"https://colab.research.google.com/assets/colab-badge.svg\" alt=\"Open In Colab\"/></a>"
      ]
    },
    {
      "cell_type": "markdown",
      "source": [
        "## My Custom LLaMA Implementation"
      ],
      "metadata": {
        "id": "H6nCbDvlarog"
      }
    },
    {
      "cell_type": "markdown",
      "source": [
        "### LLaMA Config"
      ],
      "metadata": {
        "id": "qK6iKRA7Zeht"
      }
    },
    {
      "cell_type": "code",
      "source": [
        "from transformers import PretrainedConfig\n",
        "from typing import Dict, Any, Optional, Union\n",
        "\n",
        "class LlamaConfig(PretrainedConfig):\n",
        "    \"\"\"\n",
        "    Configuração para o modelo LLaMA.\n",
        "\n",
        "    Esta classe define todos os parâmetros necessários para construir e configurar\n",
        "    um modelo LLaMA. Herda de PretrainedConfig da biblioteca Transformers.\n",
        "\n",
        "    Atributos:\n",
        "        vocab_size (int): Tamanho do vocabulário do modelo.\n",
        "        hidden_size (int): Dimensão dos vetores de estado oculto e embeddings.\n",
        "        intermediate_size (int): Dimensão da camada intermediária no MLP.\n",
        "        num_hidden_layers (int): Número de camadas de transformer no modelo.\n",
        "        num_attention_heads (int): Número de cabeças de atenção em cada camada.\n",
        "        num_key_value_heads (int): Número de cabeças para key e value (para atenção agrupada).\n",
        "        hidden_act (str): Função de ativação usada no MLP.\n",
        "        max_position_embeddings (int): Número máximo de posições para embeddings.\n",
        "        initializer_range (float): Desvio padrão da distribuição normal para inicialização de pesos.\n",
        "        rms_norm_eps (float): Epsilon usado na normalização RMS.\n",
        "        use_cache (bool): Se deve usar cache para geração incremental.\n",
        "        pad_token_id (int): ID do token de padding.\n",
        "        bos_token_id (int): ID do token de início de sequência.\n",
        "        eos_token_id (int): ID do token de fim de sequência.\n",
        "        pretraining_tp (int): Grau de paralelismo de tensor usado no pré-treinamento.\n",
        "        tie_word_embeddings (bool): Se deve compartilhar pesos entre embeddings de entrada e saída.\n",
        "        rope_theta (float): Valor theta para RoPE (Rotary Position Embedding).\n",
        "        rope_scaling (Dict[str, Any]): Configuração de escala para RoPE.\n",
        "        attention_bias (bool): Se deve usar bias nos cálculos de atenção.\n",
        "        attention_dropout (float): Taxa de dropout aplicada na camada de atenção.\n",
        "\n",
        "    Exemplo:\n",
        "        >>> config = LlamaConfig(\n",
        "        ...     vocab_size=32000,\n",
        "        ...     hidden_size=4096,\n",
        "        ...     intermediate_size=11008,\n",
        "        ...     num_hidden_layers=32,\n",
        "        ...     num_attention_heads=32,\n",
        "        ... )\n",
        "        >>> print(config)\n",
        "    \"\"\"\n",
        "\n",
        "    model_type = \"llama\"\n",
        "    keys_to_ignore_at_inference = [\"past_key_values\"]\n",
        "\n",
        "    def __init__(\n",
        "        self,\n",
        "        vocab_size: int = 32000,\n",
        "        hidden_size: int = 4096,\n",
        "        intermediate_size: int = 11008,\n",
        "        num_hidden_layers: int = 32,\n",
        "        num_attention_heads: int = 32,\n",
        "        num_key_value_heads: Optional[int] = None,\n",
        "        hidden_act: str = \"silu\",\n",
        "        rotary_emb_base: float = 10000.0,\n",
        "        rotary_emb_fraction: float = 1.0,\n",
        "        max_position_embeddings: int = 2048,\n",
        "        initializer_range: float = 0.02,\n",
        "        rms_norm_eps: float = 1e-6,\n",
        "        use_cache: bool = True,\n",
        "        pad_token_id: int = -1,\n",
        "        bos_token_id: int = 1,\n",
        "        eos_token_id: int = 2,\n",
        "        pretraining_tp: int = 1,\n",
        "        tie_word_embeddings: bool = False,\n",
        "        rope_theta: float = 10000.0,\n",
        "        rope_scaling: Optional[Dict[str, Union[float, str]]] = None,\n",
        "        attention_bias: bool = False,\n",
        "        mlp_bias: bool = False,\n",
        "        attention_dropout: float = 0.0,\n",
        "        **kwargs\n",
        "    ):\n",
        "        self.vocab_size = vocab_size\n",
        "        self.max_position_embeddings = max_position_embeddings\n",
        "        self.hidden_size = hidden_size\n",
        "        self.intermediate_size = intermediate_size\n",
        "        self.num_hidden_layers = num_hidden_layers\n",
        "        self.num_attention_heads = num_attention_heads\n",
        "        self.num_key_value_heads = num_key_value_heads if num_key_value_heads is not None else num_attention_heads\n",
        "        self.hidden_act = hidden_act\n",
        "        self.rotary_emb_base = rotary_emb_base\n",
        "        self.rotary_emb_fraction = rotary_emb_fraction\n",
        "        self.initializer_range = initializer_range\n",
        "        self.rms_norm_eps = rms_norm_eps\n",
        "        self.pretraining_tp = pretraining_tp\n",
        "        self.use_cache = use_cache\n",
        "        self.rope_theta = rope_theta\n",
        "        self.rope_scaling = rope_scaling\n",
        "        self.attention_bias = attention_bias\n",
        "        self.mlp_bias = mlp_bias\n",
        "        self.attention_dropout = attention_dropout\n",
        "\n",
        "        super().__init__(\n",
        "            pad_token_id=pad_token_id,\n",
        "            bos_token_id=bos_token_id,\n",
        "            eos_token_id=eos_token_id,\n",
        "            tie_word_embeddings=tie_word_embeddings,\n",
        "            **kwargs\n",
        "        )\n",
        "\n",
        "    @property\n",
        "    def head_dim(self) -> int:\n",
        "        \"\"\"\n",
        "        Retorna a dimensão de cada cabeça de atenção.\n",
        "\n",
        "        Returns:\n",
        "            int: Dimensão de cada cabeça de atenção.\n",
        "        \"\"\"\n",
        "        return self.hidden_size // self.num_attention_heads\n",
        "\n",
        "    def to_dict(self) -> Dict[str, Any]:\n",
        "        \"\"\"\n",
        "        Converte a configuração para um dicionário.\n",
        "\n",
        "        Returns:\n",
        "            Dict[str, Any]: Dicionário contendo todos os parâmetros da configuração.\n",
        "        \"\"\"\n",
        "        output = super().to_dict()\n",
        "        output[\"head_dim\"] = self.head_dim\n",
        "        return output\n",
        "\n",
        "    def __repr__(self):\n",
        "        return (f\"LlamaConfig(vocab_size={self.vocab_size}, \"\n",
        "                f\"hidden_size={self.hidden_size}, \"\n",
        "                f\"intermediate_size={self.intermediate_size}, \"\n",
        "                f\"num_hidden_layers={self.num_hidden_layers}, \"\n",
        "                f\"num_attention_heads={self.num_attention_heads}, \"\n",
        "                f\"max_position_embeddings={self.max_position_embeddings})\")"
      ],
      "metadata": {
        "id": "JteD23VEpx7_"
      },
      "execution_count": 1,
      "outputs": []
    },
    {
      "cell_type": "markdown",
      "source": [
        "### LLaMA Rotary Embedding"
      ],
      "metadata": {
        "id": "wSnw58m_ZlLC"
      }
    },
    {
      "cell_type": "code",
      "source": [
        "import torch\n",
        "import torch.nn as nn\n",
        "import math\n",
        "from typing import Optional, Tuple\n",
        "\n",
        "class LlamaRotaryEmbedding(nn.Module):\n",
        "    def __init__(\n",
        "        self,\n",
        "        dim: int,  # Dimensão do embedding\n",
        "        max_position_embeddings: int = 2048,  # Comprimento máximo da sequência\n",
        "        base: float = 10000.0,  # Base para o cálculo das frequências\n",
        "        device: Optional[torch.device] = None,\n",
        "        rope_scaling: Optional[Dict[str, Union[float, str]]] = None\n",
        "    ):\n",
        "        super().__init__()\n",
        "        self.dim = dim\n",
        "        self.max_position_embeddings = max_position_embeddings\n",
        "        self.base = base\n",
        "\n",
        "        # Calcula as frequências inversas para RoPE\n",
        "        # Dimensão: [dim/2]\n",
        "        inv_freq = 1.0 / (base ** (torch.arange(0, dim, 2).float().to(device) / dim))\n",
        "        self.register_buffer(\"inv_freq\", inv_freq)\n",
        "\n",
        "        if rope_scaling is not None:\n",
        "            scaling_type = rope_scaling[\"type\"]\n",
        "            scaling_factor = rope_scaling[\"factor\"]\n",
        "            if scaling_type == \"linear\":\n",
        "                self.seq_len_scaling = scaling_factor\n",
        "            else:\n",
        "                raise ValueError(f\"Tipo de scaling desconhecido: {scaling_type}\")\n",
        "        else:\n",
        "            self.seq_len_scaling = 1.0\n",
        "\n",
        "        # Cache para sequência máxima\n",
        "        self.max_seq_len_cached = max_position_embeddings\n",
        "\n",
        "        # Para garantir compatibilidade com HF\n",
        "        self._build_cache()\n",
        "\n",
        "    def _build_cache(self):\n",
        "        seq_len = self.max_seq_len_cached\n",
        "        # Dimensão: [max_seq_len_cached]\n",
        "        t = torch.arange(self.max_seq_len_cached, device=self.inv_freq.device, dtype=self.inv_freq.dtype)\n",
        "        if self.seq_len_scaling != 1.0:\n",
        "            t = t / self.seq_len_scaling\n",
        "\n",
        "        # Dimensão: [max_seq_len_cached, dim/2]\n",
        "        freqs = torch.einsum(\"i,j->ij\", t, self.inv_freq)\n",
        "\n",
        "        # Dimensão: [max_seq_len_cached, dim]\n",
        "        emb = torch.cat((freqs, freqs), dim=-1)\n",
        "\n",
        "        # Dimensão: [1, 1, max_seq_len_cached, dim]\n",
        "        self.register_buffer(\"cos_cached\", emb.cos()[None, None, :, :], persistent=False)\n",
        "        self.register_buffer(\"sin_cached\", emb.sin()[None, None, :, :], persistent=False)\n",
        "\n",
        "    def forward(self, x: torch.Tensor, seq_len: Optional[int] = None) -> Tuple[torch.Tensor, torch.Tensor]:\n",
        "        \"\"\"\n",
        "        Calcula os embeddings rotacionais para as posições dadas.\n",
        "\n",
        "        Args:\n",
        "            x: Tensor de entrada (batch_size, seq_len, num_heads, head_dim)\n",
        "            position_ids: IDs das posições (batch_size, seq_len)\n",
        "\n",
        "        Returns:\n",
        "            Tupla de tensores cosseno e seno para os embeddings rotacionais\n",
        "        \"\"\"\n",
        "        if seq_len is None:\n",
        "            seq_len = x.shape[2]\n",
        "\n",
        "        # Verifica se é necessário recalcular o cache para sequências mais longas\n",
        "        if seq_len > self.max_seq_len_cached:\n",
        "            self._update_cache(seq_len)\n",
        "\n",
        "        # Seleciona os valores de cosseno e seno correspondentes às posições\n",
        "        # Dimensão: [1, 1, seq_len, dim]\n",
        "        cos = self.cos_cached[:, :, :seq_len, :]\n",
        "        sin = self.sin_cached[:, :, :seq_len, :]\n",
        "\n",
        "        return (cos.to(x.device), sin.to(x.device))\n",
        "\n",
        "\n",
        "    def _update_cache(self, max_position: int):\n",
        "        \"\"\"\n",
        "        Atualiza o cache de cossenos e senos para uma sequência mais longa.\n",
        "\n",
        "        Args:\n",
        "            max_position: Nova posição máxima a ser suportada\n",
        "        \"\"\"\n",
        "        self.max_seq_len_cached = max_position\n",
        "        # Dimensão: [max_seq_len_cached]\n",
        "        t = torch.arange(self.max_seq_len_cached, device=self.inv_freq.device, dtype=self.inv_freq.dtype)\n",
        "        # Dimensão: [max_seq_len_cached, dim/2]\n",
        "        freqs = torch.einsum(\"i,j->ij\", t, self.inv_freq)\n",
        "        if self.rope_type == \"linear\":\n",
        "            freqs = freqs * self.scaling_factor\n",
        "        # Dimensão: [max_seq_len_cached, dim]\n",
        "        emb = torch.cat((freqs, freqs), dim=-1)\n",
        "        # Dimensão: [1, 1, max_seq_len_cached, dim]\n",
        "        self.register_buffer(\"cos_cached\", emb.cos()[None, None, :, :], persistent=False)\n",
        "        self.register_buffer(\"sin_cached\", emb.sin()[None, None, :, :], persistent=False)\n",
        "\n",
        "\n",
        "def rotate_half(x: torch.Tensor) -> torch.Tensor:\n",
        "    \"\"\"\n",
        "    Rotaciona metade das dimensões do tensor.\n",
        "    Usado como parte do processo de aplicação do RoPE.\n",
        "\n",
        "    Args:\n",
        "        x: Tensor de entrada\n",
        "\n",
        "    Returns:\n",
        "        Tensor com metade das dimensões rotacionadas\n",
        "    \"\"\"\n",
        "    x1, x2 = x.chunk(2, dim=-1)\n",
        "    return torch.cat((-x2, x1), dim=-1)\n",
        "\n",
        "def apply_rotary_pos_emb(q: torch.Tensor, k: torch.Tensor, cos: torch.Tensor, sin: torch.Tensor) -> Tuple[torch.Tensor, torch.Tensor]:\n",
        "    \"\"\"\n",
        "    Aplica os embeddings posicionais rotacionais aos tensores de query e key.\n",
        "\n",
        "    Args:\n",
        "        q: Tensor de query\n",
        "        k: Tensor de key\n",
        "        cos: Tensor de cossenos dos embeddings rotacionais\n",
        "        sin: Tensor de senos dos embeddings rotacionais\n",
        "\n",
        "    Returns:\n",
        "        Tupla de tensores q e k com RoPE aplicado\n",
        "    \"\"\"\n",
        "    q_embed = (q * cos) + (rotate_half(q) * sin)\n",
        "    k_embed = (k * cos) + (rotate_half(k) * sin)\n",
        "    return q_embed, k_embed"
      ],
      "metadata": {
        "id": "SbFgzhF5rnri"
      },
      "execution_count": 2,
      "outputs": []
    },
    {
      "cell_type": "markdown",
      "source": [
        "### LLaMA MLP"
      ],
      "metadata": {
        "id": "NdiXFZkaZo4L"
      }
    },
    {
      "cell_type": "code",
      "source": [
        "import torch\n",
        "import torch.nn as nn\n",
        "from typing import Optional\n",
        "\n",
        "class LlamaMLP(nn.Module):\n",
        "    \"\"\"\n",
        "    Implementa a camada de Perceptron Multicamadas (MLP) do modelo LLaMA.\n",
        "\n",
        "    Esta classe realiza as transformações não-lineares nos estados ocultos do modelo,\n",
        "    utilizando projeções lineares e uma função de ativação. Suporta implementações\n",
        "    com e sem tensor parallelism.\n",
        "\n",
        "    Atributos:\n",
        "        config: Configuração do modelo LLaMA.\n",
        "        hidden_size (int): Tamanho do espaço oculto de entrada e saída.\n",
        "        intermediate_size (int): Tamanho do espaço intermediário onde ocorre a transformação principal.\n",
        "        gate_proj (nn.Linear): Projeção linear para o mecanismo de gate.\n",
        "        up_proj (nn.Linear): Projeção linear de expansão.\n",
        "        down_proj (nn.Linear): Projeção linear de contração.\n",
        "        act_fn (callable): Função de ativação não-linear.\n",
        "\n",
        "    Args:\n",
        "        config: Um objeto de configuração contendo os parâmetros do modelo.\n",
        "\n",
        "    Exemplo:\n",
        "        >>> config = LlamaConfig(hidden_size=768, intermediate_size=3072)\n",
        "        >>> mlp = LlamaMLP(config)\n",
        "        >>> input_tensor = torch.randn(1, 10, 768)  # [batch_size, seq_length, hidden_size]\n",
        "        >>> output = mlp(input_tensor)\n",
        "        >>> print(output.shape)\n",
        "        torch.Size([1, 10, 768])\n",
        "    \"\"\"\n",
        "\n",
        "    def __init__(self, config):\n",
        "        super().__init__()\n",
        "        self.config = config\n",
        "        self.hidden_size = config.hidden_size\n",
        "        self.intermediate_size = config.intermediate_size\n",
        "\n",
        "        # Projeção de gate: hidden_size -> intermediate_size\n",
        "        self.gate_proj = nn.Linear(self.hidden_size, self.intermediate_size, bias=config.mlp_bias)\n",
        "\n",
        "        # Projeção up: hidden_size -> intermediate_size\n",
        "        self.up_proj = nn.Linear(self.hidden_size, self.intermediate_size, bias=config.mlp_bias)\n",
        "\n",
        "        # Projeção down: intermediate_size -> hidden_size\n",
        "        self.down_proj = nn.Linear(self.intermediate_size, self.hidden_size, bias=config.mlp_bias)\n",
        "\n",
        "        # Função de ativação (geralmente SiLU/Swish)\n",
        "        self.act_fn = nn.SiLU()\n",
        "\n",
        "    def forward(self, x: torch.Tensor) -> torch.Tensor:\n",
        "        \"\"\"\n",
        "        Realiza a passagem forward da camada MLP.\n",
        "\n",
        "        Args:\n",
        "            x (torch.Tensor): Tensor de entrada com shape [batch_size, seq_length, hidden_size].\n",
        "\n",
        "        Returns:\n",
        "            torch.Tensor: Tensor de saída com shape [batch_size, seq_length, hidden_size].\n",
        "\n",
        "        Raises:\n",
        "            ValueError: Se as dimensões do tensor de entrada não forem compatíveis.\n",
        "        \"\"\"\n",
        "        # Verificação das dimensões de entrada\n",
        "        if x.dim() != 3 or x.size(-1) != self.hidden_size:\n",
        "            raise ValueError(f\"Entrada esperada de shape [batch_size, seq_length, {self.hidden_size}], \"\n",
        "                             f\"mas recebeu {x.shape}\")\n",
        "\n",
        "        if self.config.pretraining_tp > 1:\n",
        "            # Implementação para tensor parallelism (TP)\n",
        "            slice = self.intermediate_size // self.config.pretraining_tp\n",
        "\n",
        "            # Divide os pesos das projeções em fatias\n",
        "            gate_proj_slices = self.gate_proj.weight.split(slice, dim=0)\n",
        "            up_proj_slices = self.up_proj.weight.split(slice, dim=0)\n",
        "            down_proj_slices = self.down_proj.weight.split(slice, dim=1)\n",
        "\n",
        "            # Aplica as projeções em paralelo\n",
        "            # Cada operação: [batch_size, seq_length, slice]\n",
        "            gate_proj = torch.cat(\n",
        "                [nn.functional.linear(x, gate_proj_slices[i]) for i in range(self.config.pretraining_tp)],\n",
        "                dim=-1\n",
        "            )\n",
        "            up_proj = torch.cat(\n",
        "                [nn.functional.linear(x, up_proj_slices[i]) for i in range(self.config.pretraining_tp)],\n",
        "                dim=-1\n",
        "            )\n",
        "\n",
        "            # Aplica a função de ativação e multiplicação elemento a elemento\n",
        "            # Dimensão: [batch_size, seq_length, intermediate_size]\n",
        "            intermediate_states = (self.act_fn(gate_proj) * up_proj).split(slice, dim=2)\n",
        "\n",
        "            # Aplica a projeção down em paralelo\n",
        "            # Cada operação: [batch_size, seq_length, hidden_size // pretraining_tp]\n",
        "            down_proj = [\n",
        "                nn.functional.linear(intermediate_states[i], down_proj_slices[i])\n",
        "                for i in range(self.config.pretraining_tp)\n",
        "            ]\n",
        "\n",
        "            # Soma os resultados das projeções down\n",
        "            # Dimensão final: [batch_size, seq_length, hidden_size]\n",
        "            down_proj = sum(down_proj)\n",
        "\n",
        "        else:\n",
        "            # Implementação padrão sem tensor parallelism\n",
        "\n",
        "            # Aplica as projeções gate e up\n",
        "            # Dimensões: [batch_size, seq_length, intermediate_size]\n",
        "            gate_proj = self.gate_proj(x)\n",
        "            up_proj = self.up_proj(x)\n",
        "\n",
        "            # Aplica a função de ativação no gate e multiplica pelo resultado de up\n",
        "            # Dimensão: [batch_size, seq_length, intermediate_size]\n",
        "            intermediate_states = self.act_fn(gate_proj) * up_proj\n",
        "\n",
        "            # Aplica a projeção down\n",
        "            # Dimensão final: [batch_size, seq_length, hidden_size]\n",
        "            down_proj = self.down_proj(intermediate_states)\n",
        "\n",
        "        return down_proj\n",
        "\n",
        "    def __repr__(self):\n",
        "        return (f\"LlamaMLP(hidden_size={self.hidden_size}, \"\n",
        "                f\"intermediate_size={self.intermediate_size}, \"\n",
        "                f\"act_fn={self.act_fn.__class__.__name__})\")"
      ],
      "metadata": {
        "id": "jf2uEPW8vBiO"
      },
      "execution_count": 3,
      "outputs": []
    },
    {
      "cell_type": "markdown",
      "source": [
        "### LLaMA RMS Norm"
      ],
      "metadata": {
        "id": "4h29-LUbZul5"
      }
    },
    {
      "cell_type": "code",
      "source": [
        "import torch\n",
        "import torch.nn as nn\n",
        "\n",
        "class LlamaRMSNorm(nn.Module):\n",
        "    \"\"\"\n",
        "    LlamaRMSNorm é uma variante de normalização de camada utilizada no modelo LLaMA.\n",
        "\n",
        "    Esta normalização usa a raiz quadrada da média dos quadrados (RMS) para normalizar\n",
        "    os inputs, em vez da média e variância usadas na normalização de camada padrão.\n",
        "\n",
        "    Atributos:\n",
        "        weight (nn.Parameter): Parâmetro aprendível para escala.\n",
        "        variance_epsilon (float): Pequeno valor adicionado ao denominador para estabilidade numérica.\n",
        "\n",
        "    Args:\n",
        "        hidden_size (int): Dimensão do espaço oculto a ser normalizado.\n",
        "        eps (float, opcional): Epsilon para estabilidade numérica. Padrão é 1e-6.\n",
        "\n",
        "    Forma do Input:\n",
        "        - Input: (batch_size, seq_length, hidden_size)\n",
        "        - Output: (batch_size, seq_length, hidden_size)\n",
        "\n",
        "    Exemplo:\n",
        "        >>> rms_norm = LlamaRMSNorm(hidden_size=768, eps=1e-6)\n",
        "        >>> input_tensor = torch.randn(32, 50, 768)  # (batch_size, seq_length, hidden_size)\n",
        "        >>> normalized_tensor = rms_norm(input_tensor)\n",
        "        >>> print(normalized_tensor.shape)\n",
        "        torch.Size([32, 50, 768])\n",
        "    \"\"\"\n",
        "\n",
        "    def __init__(self, hidden_size: int, eps: float = 1e-6):\n",
        "        super().__init__()\n",
        "        self.weight = nn.Parameter(torch.ones(hidden_size))\n",
        "        self.variance_epsilon = eps\n",
        "\n",
        "    def forward(self, hidden_states: torch.Tensor) -> torch.Tensor:\n",
        "        \"\"\"\n",
        "        Aplica a normalização RMS ao tensor de entrada.\n",
        "\n",
        "        Args:\n",
        "            hidden_states (torch.Tensor): Tensor de entrada a ser normalizado.\n",
        "                Shape: (batch_size, seq_length, hidden_size)\n",
        "\n",
        "        Returns:\n",
        "            torch.Tensor: Tensor normalizado.\n",
        "                Shape: (batch_size, seq_length, hidden_size)\n",
        "        \"\"\"\n",
        "        input_dtype = hidden_states.dtype\n",
        "        hidden_states = hidden_states.to(torch.float32)\n",
        "\n",
        "        # Calcula a variância (média dos quadrados)\n",
        "        variance = hidden_states.pow(2).mean(-1, keepdim=True)\n",
        "\n",
        "        # Normaliza usando RMS\n",
        "        hidden_states = hidden_states * torch.rsqrt(variance + self.variance_epsilon)\n",
        "\n",
        "        # Aplica o peso aprendível\n",
        "        return (self.weight * hidden_states).to(input_dtype)\n",
        "\n",
        "    def extra_repr(self) -> str:\n",
        "        \"\"\"\n",
        "        Retorna uma representação de string dos principais parâmetros.\n",
        "\n",
        "        Returns:\n",
        "            str: String representando os parâmetros do módulo.\n",
        "        \"\"\"\n",
        "        return f\"hidden_size={self.weight.numel()}, eps={self.variance_epsilon}\""
      ],
      "metadata": {
        "id": "y7nm-P9EU2Sb"
      },
      "execution_count": 4,
      "outputs": []
    },
    {
      "cell_type": "markdown",
      "source": [
        "### LLaMA Attention"
      ],
      "metadata": {
        "id": "p1247aOeZxZq"
      }
    },
    {
      "cell_type": "markdown",
      "source": [
        "#### Vanilla Attention"
      ],
      "metadata": {
        "id": "olhbgD_QZ1Qp"
      }
    },
    {
      "cell_type": "code",
      "source": [
        "import torch\n",
        "import torch.nn as nn\n",
        "import torch.nn.functional as F\n",
        "import math\n",
        "from typing import Optional, Tuple\n",
        "\n",
        "class LlamaAttention(nn.Module):\n",
        "    \"\"\"\n",
        "    Implementa o mecanismo de atenção multi-cabeça do modelo LLaMA.\n",
        "\n",
        "    Esta classe realiza a operação de auto-atenção, permitindo que o modelo foque\n",
        "    em diferentes partes da sequência de entrada. Suporta diferentes implementações\n",
        "    de atenção e otimizações como grouped-query attention.\n",
        "\n",
        "    Atributos:\n",
        "        config: Configuração do modelo LLaMA.\n",
        "        layer_idx (int): Índice da camada atual.\n",
        "        hidden_size (int): Dimensão do espaço oculto.\n",
        "        num_heads (int): Número de cabeças de atenção.\n",
        "        head_dim (int): Dimensão de cada cabeça de atenção.\n",
        "        num_key_value_heads (int): Número de cabeças para key e value (pode ser menor que num_heads).\n",
        "        max_position_embeddings (int): Número máximo de posições para embeddings.\n",
        "        rotary_emb (LlamaRotaryEmbedding): Instância para aplicar embeddings rotacionais.\n",
        "\n",
        "    Args:\n",
        "        config: Um objeto de configuração contendo os parâmetros do modelo.\n",
        "        layer_idx (Optional[int]): Índice da camada. Necessário para algumas otimizações.\n",
        "\n",
        "    Exemplo:\n",
        "        >>> config = LlamaConfig(hidden_size=512, num_attention_heads=8)\n",
        "        >>> attention = LlamaAttention(config, layer_idx=0)\n",
        "        >>> hidden_states = torch.randn(1, 10, 512)  # [batch_size, seq_length, hidden_size]\n",
        "        >>> attention_mask = torch.ones(1, 1, 10, 10)  # [batch_size, 1, seq_length, seq_length]\n",
        "        >>> output, _ = attention(hidden_states, attention_mask=attention_mask)\n",
        "        >>> print(output.shape)\n",
        "        torch.Size([1, 10, 512])\n",
        "    \"\"\"\n",
        "\n",
        "    def __init__(self, config):\n",
        "        super().__init__()\n",
        "        self.config = config\n",
        "\n",
        "        self.hidden_size = config.hidden_size\n",
        "        self.num_heads = config.num_attention_heads\n",
        "        self.head_dim = self.hidden_size // self.num_heads\n",
        "        self.num_key_value_heads = config.num_key_value_heads\n",
        "        self.num_key_value_groups = self.num_heads // self.num_key_value_heads\n",
        "        self.max_position_embeddings = config.max_position_embeddings\n",
        "\n",
        "        # Verifica se as dimensões são compatíveis\n",
        "        if self.head_dim * self.num_heads != self.hidden_size:\n",
        "            raise ValueError(f\"hidden_size deve ser divisível por num_heads. \"\n",
        "                             f\"Got {self.hidden_size} e {self.num_heads}.\")\n",
        "\n",
        "        # Projections para query, key, value e output\n",
        "        self.q_proj = nn.Linear(self.hidden_size, self.num_heads * self.head_dim, bias=config.attention_bias)\n",
        "        self.k_proj = nn.Linear(self.hidden_size, self.num_key_value_heads * self.head_dim, bias=config.attention_bias)\n",
        "        self.v_proj = nn.Linear(self.hidden_size, self.num_key_value_heads * self.head_dim, bias=config.attention_bias)\n",
        "        self.o_proj = nn.Linear(self.num_heads * self.head_dim, self.hidden_size, bias=config.attention_bias)\n",
        "\n",
        "        self.rotary_emb = LlamaRotaryEmbedding(\n",
        "            self.head_dim,\n",
        "            max_position_embeddings=self.max_position_embeddings,\n",
        "            base=config.rotary_emb_base,\n",
        "            rope_scaling=config.rope_scaling\n",
        "        )\n",
        "\n",
        "    def _shape(self, tensor: torch.Tensor, seq_len: int, bsz: int):\n",
        "        \"\"\"Reshape and transpose tensor for attention computation.\"\"\"\n",
        "        return tensor.view(bsz, seq_len, self.num_heads, self.head_dim).transpose(1, 2).contiguous()\n",
        "\n",
        "    def forward(\n",
        "        self,\n",
        "        hidden_states: torch.Tensor,\n",
        "        attention_mask: Optional[torch.Tensor] = None,\n",
        "        position_ids: Optional[torch.LongTensor] = None,\n",
        "        past_key_value: Optional[Tuple[torch.Tensor]] = None,\n",
        "        output_attentions: bool = False,\n",
        "        use_cache: bool = False,\n",
        "    ) -> Tuple[torch.Tensor, Optional[torch.Tensor], Optional[Tuple[torch.Tensor]]]:\n",
        "        \"\"\"\n",
        "        Realiza a passagem forward do mecanismo de atenção.\n",
        "\n",
        "        Args:\n",
        "            hidden_states (torch.Tensor): Estados ocultos de entrada. Shape [batch_size, seq_length, hidden_size]\n",
        "            attention_mask (Optional[torch.Tensor]): Máscara de atenção. Shape [batch_size, 1, tgt_seq_length, src_seq_length]\n",
        "            position_ids (Optional[torch.LongTensor]): IDs das posições. Shape [batch_size, seq_length]\n",
        "            past_key_value (Optional[Tuple[torch.Tensor]]): Cache de estados passados para geração autoregressiva.\n",
        "            output_attentions (bool): Se True, retorna os pesos de atenção.\n",
        "            use_cache (bool): Se True, retorna o cache para uso futuro.\n",
        "\n",
        "        Returns:\n",
        "            Tuple[torch.Tensor, Optional[torch.Tensor], Optional[Tuple[torch.Tensor]]]:\n",
        "                - Estados ocultos atualizados\n",
        "                - Pesos de atenção (opcional)\n",
        "                - Novo cache de estados (opcional)\n",
        "        \"\"\"\n",
        "        bsz, q_len, _ = hidden_states.size()\n",
        "\n",
        "        # Calcula query, key, value\n",
        "        query_states = self.q_proj(hidden_states).view(bsz, q_len, self.num_heads, self.head_dim).transpose(1, 2)\n",
        "        key_states = self.k_proj(hidden_states).view(bsz, q_len, self.num_key_value_heads, self.head_dim).transpose(1, 2)\n",
        "        value_states = self.v_proj(hidden_states).view(bsz, q_len, self.num_key_value_heads, self.head_dim).transpose(1, 2)\n",
        "\n",
        "        # [batch_size, num_heads, seq_length, head_dim]\n",
        "\n",
        "        # Aplica RoPE (Rotary Position Embedding)\n",
        "        cos, sin = self.rotary_emb(query_states)\n",
        "        query_states, key_states = apply_rotary_pos_emb(query_states, key_states, cos, sin)\n",
        "\n",
        "        # Lida com o cache de estados passados para geração autoregressiva\n",
        "        if past_key_value is not None:\n",
        "            key_states = torch.cat([past_key_value[0], key_states], dim=2)\n",
        "            value_states = torch.cat([past_key_value[1], value_states], dim=2)\n",
        "\n",
        "        past_key_value = (key_states, value_states) if use_cache else None\n",
        "\n",
        "        # Repete key e value para cada grupo de query em grouped-query attention\n",
        "        key_states = repeat_kv(key_states, self.num_key_value_groups)\n",
        "        value_states = repeat_kv(value_states, self.num_key_value_groups)\n",
        "\n",
        "        # [batch_size, num_heads, seq_length, head_dim]\n",
        "\n",
        "        # Calcula os scores de atenção\n",
        "        attn_weights = torch.matmul(query_states, key_states.transpose(2, 3)) / math.sqrt(self.head_dim)\n",
        "\n",
        "        # [batch_size, num_heads, seq_length, seq_length]\n",
        "\n",
        "        if attention_mask is not None:\n",
        "            attn_weights = attn_weights + attention_mask\n",
        "\n",
        "        # Normaliza os pesos de atenção\n",
        "        attn_weights = F.softmax(attn_weights, dim=-1, dtype=torch.float32).to(query_states.dtype)\n",
        "\n",
        "        # Calcula o output da atenção\n",
        "        attn_output = torch.matmul(attn_weights, value_states)\n",
        "\n",
        "        # [batch_size, num_heads, seq_length, head_dim]\n",
        "\n",
        "        attn_output = attn_output.transpose(1, 2).contiguous()\n",
        "        attn_output = attn_output.reshape(bsz, q_len, self.hidden_size)\n",
        "\n",
        "        # [batch_size, seq_length, hidden_size]\n",
        "\n",
        "        # Projeção final\n",
        "        attn_output = self.o_proj(attn_output)\n",
        "\n",
        "        if not output_attentions:\n",
        "            attn_weights = None\n",
        "\n",
        "        return attn_output, attn_weights, past_key_value\n",
        "\n",
        "def repeat_kv(hidden_states: torch.Tensor, n_rep: int) -> torch.Tensor:\n",
        "    \"\"\"\n",
        "    Repete os estados de key e value para grouped-query attention.\n",
        "\n",
        "    Args:\n",
        "        hidden_states (torch.Tensor): Estados de entrada [batch, num_key_value_heads, seqlen, head_dim]\n",
        "        n_rep (int): Número de repetições\n",
        "\n",
        "    Returns:\n",
        "        torch.Tensor: Estados repetidos [batch, num_attention_heads, seqlen, head_dim]\n",
        "    \"\"\"\n",
        "    batch, num_key_value_heads, slen, head_dim = hidden_states.shape\n",
        "    if n_rep == 1:\n",
        "        return hidden_states\n",
        "    hidden_states = hidden_states[:, :, None, :, :].expand(batch, num_key_value_heads, n_rep, slen, head_dim)\n",
        "    return hidden_states.reshape(batch, num_key_value_heads * n_rep, slen, head_dim)"
      ],
      "metadata": {
        "id": "lSN7BH0Hv7VF"
      },
      "execution_count": 5,
      "outputs": []
    },
    {
      "cell_type": "markdown",
      "source": [
        "#### Sdpa Attention"
      ],
      "metadata": {
        "id": "2ZKJw_elZ3s6"
      }
    },
    {
      "cell_type": "code",
      "source": [
        "import torch\n",
        "import torch.nn as nn\n",
        "import torch.nn.functional as F\n",
        "from typing import Optional, Tuple\n",
        "import warnings\n",
        "\n",
        "class LlamaSdpaAttention(nn.Module):\n",
        "    \"\"\"\n",
        "    Implementação otimizada do mecanismo de atenção do LLaMA usando\n",
        "    scaled_dot_product_attention (SDPA) do PyTorch.\n",
        "\n",
        "    Esta classe implementa a atenção multi-cabeça com suporte a\n",
        "    Rotary Position Embedding (RoPE) e atenção agrupada.\n",
        "\n",
        "    Atributos:\n",
        "        config: Configuração do modelo LLaMA.\n",
        "        layer_idx (int): Índice da camada atual.\n",
        "        hidden_size (int): Dimensão do espaço oculto.\n",
        "        num_heads (int): Número de cabeças de atenção.\n",
        "        head_dim (int): Dimensão de cada cabeça de atenção.\n",
        "        num_key_value_heads (int): Número de cabeças para key e value (pode ser menor que num_heads).\n",
        "        max_position_embeddings (int): Número máximo de posições para embeddings.\n",
        "        rotary_emb (LlamaRotaryEmbedding): Instância para aplicar embeddings rotacionais.\n",
        "\n",
        "    Args:\n",
        "        config: Configuração do modelo LLaMA.\n",
        "        layer_idx (Optional[int]): Índice da camada. Necessário para algumas otimizações.\n",
        "    \"\"\"\n",
        "\n",
        "    def __init__(self, config, layer_idx: Optional[int] = None):\n",
        "        super().__init__()\n",
        "        self.config = config\n",
        "        self.layer_idx = layer_idx\n",
        "\n",
        "        self.hidden_size = config.hidden_size\n",
        "        self.num_heads = config.num_attention_heads\n",
        "        self.head_dim = self.hidden_size // self.num_heads\n",
        "        self.num_key_value_heads = config.num_key_value_heads\n",
        "        self.num_key_value_groups = self.num_heads // self.num_key_value_heads\n",
        "        self.max_position_embeddings = config.max_position_embeddings\n",
        "\n",
        "        if (self.head_dim * self.num_heads) != self.hidden_size:\n",
        "            raise ValueError(\n",
        "                f\"hidden_size deve ser divisível por num_heads. \"\n",
        "                f\"Got {self.hidden_size} e {self.num_heads}.\"\n",
        "            )\n",
        "\n",
        "        # Projeções lineares para Q, K, V e O\n",
        "        self.q_proj = nn.Linear(self.hidden_size, self.num_heads * self.head_dim, bias=config.attention_bias)\n",
        "        self.k_proj = nn.Linear(self.hidden_size, self.num_key_value_heads * self.head_dim, bias=config.attention_bias)\n",
        "        self.v_proj = nn.Linear(self.hidden_size, self.num_key_value_heads * self.head_dim, bias=config.attention_bias)\n",
        "        self.o_proj = nn.Linear(self.num_heads * self.head_dim, self.hidden_size, bias=config.attention_bias)\n",
        "\n",
        "        self.rotary_emb = LlamaRotaryEmbedding(\n",
        "            self.head_dim,\n",
        "            max_position_embeddings=self.max_position_embeddings,\n",
        "            base=config.rope_theta,\n",
        "        )\n",
        "\n",
        "    def forward(\n",
        "        self,\n",
        "        hidden_states: torch.Tensor,\n",
        "        attention_mask: Optional[torch.Tensor] = None,\n",
        "        position_ids: Optional[torch.LongTensor] = None,\n",
        "        past_key_value: Optional[Tuple[torch.Tensor]] = None,\n",
        "        output_attentions: bool = False,\n",
        "        use_cache: bool = False,\n",
        "    ) -> Tuple[torch.Tensor, Optional[torch.Tensor], Optional[Tuple[torch.Tensor]]]:\n",
        "        \"\"\"\n",
        "        Realiza a passagem forward do mecanismo de atenção.\n",
        "\n",
        "        Args:\n",
        "            hidden_states (torch.Tensor): Estados ocultos de entrada.\n",
        "                Shape: [batch_size, seq_length, hidden_size]\n",
        "            attention_mask (Optional[torch.Tensor]): Máscara de atenção.\n",
        "                Shape: [batch_size, 1, tgt_seq_length, src_seq_length]\n",
        "            position_ids (Optional[torch.LongTensor]): IDs das posições.\n",
        "                Shape: [batch_size, seq_length]\n",
        "            past_key_value (Optional[Tuple[torch.Tensor]]): Cache de estados passados.\n",
        "            output_attentions (bool): Se True, retorna os pesos de atenção.\n",
        "            use_cache (bool): Se True, retorna o cache para uso futuro.\n",
        "\n",
        "        Returns:\n",
        "            Tuple[torch.Tensor, Optional[torch.Tensor], Optional[Tuple[torch.Tensor]]]:\n",
        "                - Estados ocultos atualizados\n",
        "                - Pesos de atenção (opcional)\n",
        "                - Novo cache de estados (opcional)\n",
        "        \"\"\"\n",
        "        # Obtém as dimensões do tensor de entrada\n",
        "        # hidden_states shape: [batch_size, seq_length, hidden_size]\n",
        "        bsz, q_len, _ = hidden_states.size()\n",
        "\n",
        "        if self.config.pretraining_tp > 1:\n",
        "            # Implementação para tensor parallelism\n",
        "            key_value_slicing = (self.num_key_value_heads * self.head_dim) // self.config.pretraining_tp\n",
        "            query_slices = self.q_proj.weight.split((self.num_heads * self.head_dim) // self.config.pretraining_tp, dim=0)\n",
        "            key_slices = self.k_proj.weight.split(key_value_slicing, dim=0)\n",
        "            value_slices = self.v_proj.weight.split(key_value_slicing, dim=0)\n",
        "\n",
        "            query_states = [F.linear(hidden_states, query_slices[i]) for i in range(self.config.pretraining_tp)]\n",
        "            query_states = torch.cat(query_states, dim=-1)\n",
        "\n",
        "            key_states = [F.linear(hidden_states, key_slices[i]) for i in range(self.config.pretraining_tp)]\n",
        "            key_states = torch.cat(key_states, dim=-1)\n",
        "\n",
        "            value_states = [F.linear(hidden_states, value_slices[i]) for i in range(self.config.pretraining_tp)]\n",
        "            value_states = torch.cat(value_states, dim=-1)\n",
        "\n",
        "        else:\n",
        "            # Projeções Q, K, V padrão\n",
        "            # Resultado: [batch_size, seq_length, num_heads * head_dim]\n",
        "            query_states = self.q_proj(hidden_states)\n",
        "            key_states = self.k_proj(hidden_states)\n",
        "            value_states = self.v_proj(hidden_states)\n",
        "\n",
        "        # Reshape e transpõe Q, K, V\n",
        "        # Resultado: [batch_size, num_heads, seq_length, head_dim]\n",
        "        query_states = query_states.view(bsz, q_len, self.num_heads, self.head_dim).transpose(1, 2)\n",
        "        key_states = key_states.view(bsz, q_len, self.num_key_value_heads, self.head_dim).transpose(1, 2)\n",
        "        value_states = value_states.view(bsz, q_len, self.num_key_value_heads, self.head_dim).transpose(1, 2)\n",
        "\n",
        "        # Calcula os embeddings rotacionais\n",
        "        # cos e sin: [1, seq_length, head_dim]\n",
        "        cos, sin = self.rotary_emb(value_states, seq_len=q_len)\n",
        "\n",
        "        # Aplica RoPE (Rotary Position Embedding) a Q e K\n",
        "        # query_states, key_states: [batch_size, num_heads, seq_length, head_dim]\n",
        "        query_states, key_states = apply_rotary_pos_emb(query_states, key_states, cos, sin, position_ids)\n",
        "\n",
        "        # Lida com o cache de estados passados para geração autoregressiva\n",
        "        if past_key_value is not None:\n",
        "            # Concatena estados passados com os atuais\n",
        "            # key_states, value_states: [batch_size, num_heads, seq_length + past_length, head_dim]\n",
        "            key_states = torch.cat([past_key_value[0], key_states], dim=2)\n",
        "            value_states = torch.cat([past_key_value[1], value_states], dim=2)\n",
        "\n",
        "        # Prepara o cache para a próxima iteração se necessário\n",
        "        past_key_value = (key_states, value_states) if use_cache else None\n",
        "\n",
        "        # Repete K e V para atenção agrupada (grouped-query attention)\n",
        "        # key_states, value_states: [batch_size, num_heads, seq_length, head_dim]\n",
        "        key_states = repeat_kv(key_states, self.num_key_value_groups)\n",
        "        value_states = repeat_kv(value_states, self.num_key_value_groups)\n",
        "\n",
        "        # Aplica a atenção usando scaled_dot_product_attention\n",
        "        # attn_output: [batch_size, num_heads, seq_length, head_dim]\n",
        "        attn_output = F.scaled_dot_product_attention(\n",
        "            query_states, key_states, value_states,\n",
        "            attn_mask=attention_mask,\n",
        "            dropout_p=self.config.attention_dropout if self.training else 0.0,\n",
        "            is_causal=False\n",
        "        )\n",
        "\n",
        "        # Reorganiza o tensor de saída\n",
        "        # attn_output: [batch_size, seq_length, num_heads * head_dim]\n",
        "        attn_output = attn_output.transpose(1, 2).contiguous()\n",
        "        attn_output = attn_output.reshape(bsz, q_len, self.hidden_size)\n",
        "\n",
        "        # Aplica a projeção de saída\n",
        "        # attn_output: [batch_size, seq_length, hidden_size]\n",
        "        attn_output = self.o_proj(attn_output)\n",
        "\n",
        "        if output_attentions:\n",
        "            warnings.warn(\"output_attentions=True não é suportado para SDPA no momento.\")\n",
        "            attn_weights = None\n",
        "        else:\n",
        "            attn_weights = None\n",
        "\n",
        "        return attn_output, attn_weights, past_key_value"
      ],
      "metadata": {
        "id": "LDQ8ZVGbXlNS"
      },
      "execution_count": 6,
      "outputs": []
    },
    {
      "cell_type": "markdown",
      "source": [
        "#### Flash Attention 2"
      ],
      "metadata": {
        "id": "toLzxx4MZ9-I"
      }
    },
    {
      "cell_type": "code",
      "source": [
        "!pip install flash_attn --quiet"
      ],
      "metadata": {
        "id": "9swlCZ6WYbwA"
      },
      "execution_count": 7,
      "outputs": []
    },
    {
      "cell_type": "code",
      "source": [
        "import torch\n",
        "import torch.nn as nn\n",
        "from typing import Optional, Tuple\n",
        "from flash_attn import flash_attn_func, flash_attn_varlen_func\n",
        "import warnings\n",
        "\n",
        "class LlamaFlashAttention2(nn.Module):\n",
        "    \"\"\"\n",
        "    Implementação do mecanismo de atenção do LLaMA usando Flash Attention 2.\n",
        "    Esta versão é otimizada para eficiência em memória e velocidade.\n",
        "    \"\"\"\n",
        "\n",
        "    def __init__(self, config, layer_idx: Optional[int] = None):\n",
        "        super().__init__()\n",
        "        self.config = config\n",
        "        self.layer_idx = layer_idx\n",
        "\n",
        "        self.hidden_size = config.hidden_size\n",
        "        self.num_heads = config.num_attention_heads\n",
        "        self.head_dim = self.hidden_size // self.num_heads\n",
        "        self.num_key_value_heads = config.num_key_value_heads\n",
        "        self.num_key_value_groups = self.num_heads // self.num_key_value_heads\n",
        "        self.max_position_embeddings = config.max_position_embeddings\n",
        "\n",
        "        if (self.head_dim * self.num_heads) != self.hidden_size:\n",
        "            raise ValueError(f\"hidden_size deve ser divisível por num_heads.\")\n",
        "\n",
        "        # Inicializa as projeções lineares para Q, K, V e O\n",
        "        self.q_proj = nn.Linear(self.hidden_size, self.num_heads * self.head_dim, bias=config.attention_bias)\n",
        "        self.k_proj = nn.Linear(self.hidden_size, self.num_key_value_heads * self.head_dim, bias=config.attention_bias)\n",
        "        self.v_proj = nn.Linear(self.hidden_size, self.num_key_value_heads * self.head_dim, bias=config.attention_bias)\n",
        "        self.o_proj = nn.Linear(self.num_heads * self.head_dim, self.hidden_size, bias=config.attention_bias)\n",
        "\n",
        "        self.rotary_emb = LlamaRotaryEmbedding(\n",
        "            self.head_dim,\n",
        "            max_position_embeddings=self.max_position_embeddings,\n",
        "            base=config.rope_theta,\n",
        "        )\n",
        "\n",
        "    def forward(\n",
        "        self,\n",
        "        hidden_states: torch.Tensor,\n",
        "        attention_mask: Optional[torch.Tensor] = None,\n",
        "        position_ids: Optional[torch.LongTensor] = None,\n",
        "        past_key_value: Optional[Tuple[torch.Tensor]] = None,\n",
        "        output_attentions: bool = False,\n",
        "        use_cache: bool = False,\n",
        "    ) -> Tuple[torch.Tensor, Optional[torch.Tensor], Optional[Tuple[torch.Tensor]]]:\n",
        "        # hidden_states shape: [batch_size, seq_length, hidden_size]\n",
        "        bsz, q_len, _ = hidden_states.size()\n",
        "\n",
        "        # Aplica as projeções lineares para Q, K, V\n",
        "        # Shapes: [batch_size, seq_length, num_heads * head_dim]\n",
        "        query_states = self.q_proj(hidden_states)\n",
        "        key_states = self.k_proj(hidden_states)\n",
        "        value_states = self.v_proj(hidden_states)\n",
        "\n",
        "        # Reshape e transpõe para [batch_size, num_heads, seq_length, head_dim]\n",
        "        query_states = query_states.view(bsz, q_len, self.num_heads, self.head_dim).transpose(1, 2)\n",
        "        key_states = key_states.view(bsz, q_len, self.num_key_value_heads, self.head_dim).transpose(1, 2)\n",
        "        value_states = value_states.view(bsz, q_len, self.num_key_value_heads, self.head_dim).transpose(1, 2)\n",
        "\n",
        "        # Calcula os embeddings rotacionais\n",
        "        cos, sin = self.rotary_emb(value_states, seq_len=q_len)\n",
        "        # Aplica RoPE (Rotary Position Embedding)\n",
        "        query_states, key_states = apply_rotary_pos_emb(query_states, key_states, cos, sin, position_ids)\n",
        "\n",
        "        # Lida com o cache de estados passados para geração autoregressiva\n",
        "        if past_key_value is not None:\n",
        "            key_states = torch.cat([past_key_value[0], key_states], dim=2)\n",
        "            value_states = torch.cat([past_key_value[1], value_states], dim=2)\n",
        "        past_key_value = (key_states, value_states) if use_cache else None\n",
        "\n",
        "        # Repete K e V para atenção agrupada (grouped-query attention)\n",
        "        key_states = repeat_kv(key_states, self.num_key_value_groups)\n",
        "        value_states = repeat_kv(value_states, self.num_key_value_groups)\n",
        "\n",
        "        # Prepara os tensores para Flash Attention\n",
        "        q, k, v = query_states, key_states, value_states\n",
        "\n",
        "        # Converte q, k, v para o formato esperado por Flash Attention\n",
        "        # [batch_size, seq_length, num_heads, head_dim]\n",
        "        q = q.transpose(1, 2)\n",
        "        k = k.transpose(1, 2)\n",
        "        v = v.transpose(1, 2)\n",
        "\n",
        "        # Aplica Flash Attention\n",
        "        if attention_mask is None:\n",
        "            # Usa a versão padrão do Flash Attention quando não há máscara\n",
        "            attn_output = flash_attn_func(q, k, v, dropout_p=self.config.attention_dropout if self.training else 0.0, causal=True)\n",
        "        else:\n",
        "            # Usa a versão com comprimento variável quando há máscara\n",
        "            attn_output, _ = flash_attn_varlen_func(\n",
        "                q, k, v,\n",
        "                cu_seqlens_q=attention_mask,\n",
        "                cu_seqlens_k=attention_mask,\n",
        "                max_seqlen_q=q_len,\n",
        "                max_seqlen_k=q_len,\n",
        "                dropout_p=self.config.attention_dropout if self.training else 0.0,\n",
        "                causal=True\n",
        "            )\n",
        "\n",
        "        # Reshape e aplica a projeção de saída\n",
        "        # [batch_size, seq_length, hidden_size]\n",
        "        attn_output = attn_output.reshape(bsz, q_len, self.hidden_size)\n",
        "        attn_output = self.o_proj(attn_output)\n",
        "\n",
        "        if output_attentions:\n",
        "            warnings.warn(\"output_attentions=True não é suportado para Flash Attention.\")\n",
        "            attn_weights = None\n",
        "        else:\n",
        "            attn_weights = None\n",
        "\n",
        "        return attn_output, attn_weights, past_key_value"
      ],
      "metadata": {
        "id": "v3AqKNbBYCuj"
      },
      "execution_count": 8,
      "outputs": []
    },
    {
      "cell_type": "markdown",
      "source": [
        "### LLaMA Decoder Layer"
      ],
      "metadata": {
        "id": "eDCXFvglaDFd"
      }
    },
    {
      "cell_type": "code",
      "source": [
        "import torch\n",
        "import torch.nn as nn\n",
        "from typing import Optional, Tuple\n",
        "\n",
        "class LlamaDecoderLayer(nn.Module):\n",
        "    \"\"\"\n",
        "    Implementa uma camada do decodificador do modelo LLaMA.\n",
        "\n",
        "    Esta classe combina os mecanismos de atenção e feed-forward network (MLP),\n",
        "    formando um bloco completo do transformer decodificador. Inclui normalizações\n",
        "    de camada e conexões residuais.\n",
        "\n",
        "    Atributos:\n",
        "        hidden_size (int): Dimensão do espaço oculto.\n",
        "        self_attn (LlamaAttention): Mecanismo de auto-atenção.\n",
        "        mlp (LlamaMLP): Rede feed-forward.\n",
        "        input_layernorm (LlamaRMSNorm): Normalização de camada para entrada.\n",
        "        post_attention_layernorm (LlamaRMSNorm): Normalização após a atenção.\n",
        "\n",
        "    Args:\n",
        "        config (LlamaConfig): Configuração do modelo LLaMA.\n",
        "        layer_idx (int): Índice da camada atual.\n",
        "\n",
        "    Exemplo:\n",
        "        >>> config = LlamaConfig(hidden_size=512, intermediate_size=2048, num_attention_heads=8)\n",
        "        >>> layer = LlamaDecoderLayer(config, layer_idx=0)\n",
        "        >>> hidden_states = torch.randn(1, 10, 512)  # [batch_size, seq_length, hidden_size]\n",
        "        >>> attention_mask = torch.ones(1, 1, 10, 10)  # [batch_size, 1, seq_length, seq_length]\n",
        "        >>> outputs = layer(hidden_states, attention_mask=attention_mask)\n",
        "        >>> print(outputs[0].shape)\n",
        "        torch.Size([1, 10, 512])\n",
        "    \"\"\"\n",
        "\n",
        "    def __init__(self, config: LlamaConfig):\n",
        "        super().__init__()\n",
        "        self.hidden_size = config.hidden_size\n",
        "        self.self_attn = LlamaAttention(config=config)\n",
        "        self.mlp = LlamaMLP(config)\n",
        "        self.input_layernorm = LlamaRMSNorm(config.hidden_size, eps=config.rms_norm_eps)\n",
        "        self.post_attention_layernorm = LlamaRMSNorm(config.hidden_size, eps=config.rms_norm_eps)\n",
        "\n",
        "    def forward(\n",
        "        self,\n",
        "        hidden_states: torch.Tensor,\n",
        "        attention_mask: Optional[torch.Tensor] = None,\n",
        "        position_ids: Optional[torch.LongTensor] = None,\n",
        "        past_key_value: Optional[Tuple[torch.Tensor]] = None,\n",
        "        output_attentions: Optional[bool] = False,\n",
        "        use_cache: Optional[bool] = False,\n",
        "    ) -> Tuple[torch.FloatTensor, Optional[Tuple[torch.FloatTensor, torch.FloatTensor]]]:\n",
        "        \"\"\"\n",
        "        Realiza a passagem forward de uma camada do decodificador.\n",
        "\n",
        "        Args:\n",
        "            hidden_states (torch.Tensor): Estados ocultos de entrada.\n",
        "                Shape [batch_size, seq_length, hidden_size]\n",
        "            attention_mask (Optional[torch.Tensor]): Máscara de atenção.\n",
        "                Shape [batch_size, 1, tgt_seq_length, src_seq_length]\n",
        "            position_ids (Optional[torch.LongTensor]): IDs das posições.\n",
        "                Shape [batch_size, seq_length]\n",
        "            past_key_value (Optional[Tuple[torch.Tensor]]): Cache de estados passados para\n",
        "                geração autoregressiva.\n",
        "            output_attentions (Optional[bool]): Se True, retorna os pesos de atenção.\n",
        "            use_cache (Optional[bool]): Se True, retorna o cache para uso futuro.\n",
        "\n",
        "        Returns:\n",
        "            Tuple[torch.FloatTensor, Optional[Tuple[torch.FloatTensor, torch.FloatTensor]]]:\n",
        "                - Estados ocultos atualizados\n",
        "                - Tupla contendo os novos cache de estados (se use_cache=True)\n",
        "        \"\"\"\n",
        "        # Shape de hidden_states: [batch_size, seq_length, hidden_size]\n",
        "        residual = hidden_states\n",
        "\n",
        "        # Normalização de camada na entrada\n",
        "        hidden_states = self.input_layernorm(hidden_states)\n",
        "        # Shape após normalização: [batch_size, seq_length, hidden_size]\n",
        "\n",
        "        # Self Attention\n",
        "        hidden_states, self_attn_weights, present_key_value = self.self_attn(\n",
        "            hidden_states=hidden_states,\n",
        "            attention_mask=attention_mask,\n",
        "            position_ids=position_ids,\n",
        "            past_key_value=past_key_value,\n",
        "            output_attentions=output_attentions,\n",
        "            use_cache=use_cache,\n",
        "        )\n",
        "        # Shape após atenção: [batch_size, seq_length, hidden_size]\n",
        "\n",
        "        # Conexão residual após a atenção\n",
        "        hidden_states = residual + hidden_states\n",
        "        # Shape após conexão residual: [batch_size, seq_length, hidden_size]\n",
        "\n",
        "        # Normalização de camada após a atenção\n",
        "        residual = hidden_states\n",
        "        hidden_states = self.post_attention_layernorm(hidden_states)\n",
        "        # Shape após normalização: [batch_size, seq_length, hidden_size]\n",
        "\n",
        "        # MLP (Feed-Forward Network)\n",
        "        hidden_states = self.mlp(hidden_states)\n",
        "        # Shape após MLP: [batch_size, seq_length, hidden_size]\n",
        "\n",
        "        # Conexão residual após o MLP\n",
        "        hidden_states = residual + hidden_states\n",
        "        # Shape final: [batch_size, seq_length, hidden_size]\n",
        "\n",
        "        outputs = (hidden_states,)\n",
        "\n",
        "        if output_attentions:\n",
        "            outputs += (self_attn_weights,)\n",
        "\n",
        "        if use_cache:\n",
        "            outputs += (present_key_value,)\n",
        "\n",
        "        return outputs\n",
        "\n",
        "    def __repr__(self):\n",
        "        return f\"LlamaDecoderLayer(hidden_size={self.hidden_size})\""
      ],
      "metadata": {
        "id": "PQ5ZrqsbxQie"
      },
      "execution_count": 9,
      "outputs": []
    },
    {
      "cell_type": "markdown",
      "source": [
        "### LLaMA Pre-Trained Model"
      ],
      "metadata": {
        "id": "-IK_BO3TaHfG"
      }
    },
    {
      "cell_type": "code",
      "source": [
        "from transformers import PreTrainedModel\n",
        "from transformers.modeling_utils import PretrainedConfig\n",
        "from typing import Union, Optional\n",
        "import torch\n",
        "import torch.nn as nn\n",
        "\n",
        "class LlamaPreTrainedModel(PreTrainedModel):\n",
        "    \"\"\"\n",
        "    Classe base abstrata para modelos pré-treinados LLaMA.\n",
        "\n",
        "    Esta classe herda de `PreTrainedModel` e implementa funcionalidades específicas\n",
        "    para modelos LLaMA, incluindo inicialização de pesos e configurações de otimização.\n",
        "\n",
        "    Atributos:\n",
        "        config_class (Type[PretrainedConfig]): Classe de configuração para modelos LLaMA.\n",
        "        base_model_prefix (str): Prefixo usado para nomear o modelo base.\n",
        "        supports_gradient_checkpointing (bool): Indica suporte a checkpointing de gradiente.\n",
        "        _no_split_modules (List[str]): Lista de módulos que não devem ser divididos durante\n",
        "                                       o processamento paralelo.\n",
        "\n",
        "    Exemplo:\n",
        "        >>> from transformers import LlamaConfig\n",
        "        >>> class MyLlamaModel(LlamaPreTrainedModel):\n",
        "        ...     def __init__(self, config):\n",
        "        ...         super().__init__(config)\n",
        "        ...         # Implementação do modelo\n",
        "        ...\n",
        "        >>> config = LlamaConfig()\n",
        "        >>> model = MyLlamaModel(config)\n",
        "    \"\"\"\n",
        "\n",
        "    config_class = LlamaConfig\n",
        "    base_model_prefix = \"model\"\n",
        "    supports_gradient_checkpointing = True\n",
        "    _no_split_modules = [\"LlamaDecoderLayer\"]\n",
        "    _skip_keys_device_placement = [\"past_key_values\"]\n",
        "    _supports_flash_attn_2 = True\n",
        "    _supports_sdpa = True\n",
        "    _supports_cache_class = True\n",
        "    _supports_quantized_cache = True\n",
        "    _supports_static_cache = True\n",
        "\n",
        "    def __init__(self, config: LlamaConfig, *inputs, **kwargs):\n",
        "        super().__init__(config, *inputs, **kwargs)\n",
        "\n",
        "    def _init_weights(self, module: nn.Module):\n",
        "        \"\"\"\n",
        "        Inicializa os pesos do módulo.\n",
        "\n",
        "        Esta função é chamada para cada submódulo durante a inicialização do modelo.\n",
        "        Implementa a estratégia de inicialização de pesos específica para modelos LLaMA.\n",
        "\n",
        "        Args:\n",
        "            module (nn.Module): O módulo cujos pesos serão inicializados.\n",
        "        \"\"\"\n",
        "        std = self.config.initializer_range\n",
        "        if isinstance(module, nn.Linear):\n",
        "            module.weight.data.normal_(mean=0.0, std=std)\n",
        "            if module.bias is not None:\n",
        "                module.bias.data.zero_()\n",
        "        elif isinstance(module, nn.Embedding):\n",
        "            module.weight.data.normal_(mean=0.0, std=std)\n",
        "            if module.padding_idx is not None:\n",
        "                module.weight.data[module.padding_idx].zero_()\n",
        "\n",
        "    def _set_gradient_checkpointing(self, module: nn.Module, value: bool = False):\n",
        "        \"\"\"\n",
        "        Configura o checkpointing de gradiente para o módulo.\n",
        "\n",
        "        O checkpointing de gradiente pode ser usado para economizar memória durante o treinamento,\n",
        "        recalculando os gradientes durante a passagem backward em vez de armazená-los.\n",
        "\n",
        "        Args:\n",
        "            module (nn.Module): O módulo para configurar o checkpointing.\n",
        "            value (bool): Se True, ativa o checkpointing de gradiente.\n",
        "        \"\"\"\n",
        "        if isinstance(module, (LlamaDecoderLayer, LlamaModel)):\n",
        "            module.gradient_checkpointing = value\n",
        "\n",
        "    def gradient_checkpointing_enable(self):\n",
        "        \"\"\"\n",
        "        Ativa o checkpointing de gradiente para todo o modelo.\n",
        "        \"\"\"\n",
        "        self.apply(lambda module: self._set_gradient_checkpointing(module, value=True))\n",
        "\n",
        "    def gradient_checkpointing_disable(self):\n",
        "        \"\"\"\n",
        "        Desativa o checkpointing de gradiente para todo o modelo.\n",
        "        \"\"\"\n",
        "        self.apply(lambda module: self._set_gradient_checkpointing(module, value=False))\n",
        "\n",
        "    def enable_input_require_grads(self):\n",
        "        \"\"\"\n",
        "        Configura o modelo para permitir gradientes nos inputs.\n",
        "\n",
        "        Isso é necessário para técnicas como adversarial training.\n",
        "        \"\"\"\n",
        "        def make_inputs_require_grads(module, input, output):\n",
        "            output.requires_grad_(True)\n",
        "\n",
        "        self._require_grads_hook = self.get_input_embeddings().register_forward_hook(make_inputs_require_grads)\n",
        "\n",
        "    def disable_input_require_grads(self):\n",
        "        \"\"\"\n",
        "        Remove a configuração que permite gradientes nos inputs.\n",
        "        \"\"\"\n",
        "        self._require_grads_hook.remove()\n",
        "\n",
        "    def get_position_embeddings(self) -> Optional[Union[nn.Embedding, torch.Tensor]]:\n",
        "        \"\"\"\n",
        "        Retorna as embeddings de posição do modelo, se existirem.\n",
        "\n",
        "        Returns:\n",
        "            Optional[Union[nn.Embedding, torch.Tensor]]: As embeddings de posição ou None.\n",
        "        \"\"\"\n",
        "        if hasattr(self, \"rotary_emb\"):\n",
        "            return self.rotary_emb\n",
        "        return None\n",
        "\n",
        "    def resize_position_embeddings(self, new_num_position_embeddings: int):\n",
        "        \"\"\"\n",
        "        Redimensiona as embeddings de posição do modelo.\n",
        "\n",
        "        Args:\n",
        "            new_num_position_embeddings (int): O novo número de posições.\n",
        "\n",
        "        Raises:\n",
        "            NotImplementedError: Esta funcionalidade não está implementada para modelos LLaMA.\n",
        "        \"\"\"\n",
        "        raise NotImplementedError(\n",
        "            f\"{self.__class__.__name__} não suporta o redimensionamento das embeddings de posição.\"\n",
        "        )\n",
        "\n",
        "    def get_output_embeddings(self) -> Optional[nn.Module]:\n",
        "        \"\"\"\n",
        "        Retorna as embeddings de saída do modelo, se existirem.\n",
        "\n",
        "        Returns:\n",
        "            Optional[nn.Module]: As embeddings de saída ou None.\n",
        "        \"\"\"\n",
        "        return None  # LLaMA não usa embeddings de saída por padrão\n",
        "\n",
        "    def set_output_embeddings(self, new_embeddings: Optional[nn.Module]):\n",
        "        \"\"\"\n",
        "        Define novas embeddings de saída para o modelo.\n",
        "\n",
        "        Args:\n",
        "            new_embeddings (Optional[nn.Module]): As novas embeddings de saída.\n",
        "\n",
        "        Raises:\n",
        "            NotImplementedError: Esta funcionalidade não está implementada para modelos LLaMA.\n",
        "        \"\"\"\n",
        "        raise NotImplementedError(\n",
        "            f\"{self.__class__.__name__} não suporta a mudança das embeddings de saída.\"\n",
        "        )"
      ],
      "metadata": {
        "id": "EcLz7dF_xjtp"
      },
      "execution_count": 10,
      "outputs": []
    },
    {
      "cell_type": "markdown",
      "source": [
        "### LLaMA Model"
      ],
      "metadata": {
        "id": "oWIpC2lxaLN_"
      }
    },
    {
      "cell_type": "code",
      "source": [
        "import torch\n",
        "import torch.nn as nn\n",
        "from typing import Optional, Tuple, Union, List\n",
        "from transformers.modeling_outputs import BaseModelOutputWithPast\n",
        "\n",
        "class LlamaModel(LlamaPreTrainedModel):\n",
        "    \"\"\"\n",
        "    Modelo base LLaMA.\n",
        "\n",
        "    Esta classe implementa a estrutura principal do modelo LLaMA, incluindo\n",
        "    as camadas de embedding, as camadas do decodificador e a normalização final.\n",
        "\n",
        "    Atributos:\n",
        "        config (LlamaConfig): Configuração do modelo.\n",
        "        padding_idx (int): Índice do token de padding.\n",
        "        vocab_size (int): Tamanho do vocabulário.\n",
        "        embed_tokens (nn.Embedding): Camada de embedding para tokens.\n",
        "        layers (nn.ModuleList): Lista de camadas do decodificador.\n",
        "        norm (LlamaRMSNorm): Camada de normalização final.\n",
        "        gradient_checkpointing (bool): Se o checkpointing de gradiente está ativado.\n",
        "\n",
        "    Args:\n",
        "        config (LlamaConfig): Configuração do modelo LLaMA.\n",
        "\n",
        "    Exemplo:\n",
        "        >>> from transformers import LlamaConfig\n",
        "        >>> config = LlamaConfig()\n",
        "        >>> model = LlamaModel(config)\n",
        "        >>> input_ids = torch.randint(0, config.vocab_size, (1, 10))\n",
        "        >>> outputs = model(input_ids)\n",
        "        >>> last_hidden_states = outputs.last_hidden_state\n",
        "    \"\"\"\n",
        "\n",
        "    def __init__(self, config: LlamaConfig):\n",
        "        super().__init__(config)\n",
        "        self.padding_idx = config.pad_token_id\n",
        "        self.vocab_size = config.vocab_size\n",
        "\n",
        "        self.embed_tokens = nn.Embedding(config.vocab_size, config.hidden_size, self.padding_idx)\n",
        "        self.layers = nn.ModuleList([LlamaDecoderLayer(config) for _i1 in range(config.num_hidden_layers)])\n",
        "        self.norm = LlamaRMSNorm(config.hidden_size, eps=config.rms_norm_eps)\n",
        "\n",
        "        self.gradient_checkpointing = False\n",
        "        # Initialize weights and apply final processing\n",
        "        self.post_init()\n",
        "\n",
        "    def get_input_embeddings(self):\n",
        "        return self.embed_tokens\n",
        "\n",
        "    def set_input_embeddings(self, value):\n",
        "        self.embed_tokens = value\n",
        "\n",
        "    def forward(\n",
        "        self,\n",
        "        input_ids: Optional[torch.LongTensor] = None,\n",
        "        attention_mask: Optional[torch.Tensor] = None,\n",
        "        position_ids: Optional[torch.LongTensor] = None,\n",
        "        past_key_values: Optional[List[torch.FloatTensor]] = None,\n",
        "        inputs_embeds: Optional[torch.FloatTensor] = None,\n",
        "        use_cache: Optional[bool] = None,\n",
        "        output_attentions: Optional[bool] = None,\n",
        "        output_hidden_states: Optional[bool] = None,\n",
        "        return_dict: Optional[bool] = None,\n",
        "    ) -> Union[Tuple, BaseModelOutputWithPast]:\n",
        "        \"\"\"\n",
        "        Realiza a passagem forward do modelo LLaMA.\n",
        "\n",
        "        Args:\n",
        "            input_ids (Optional[torch.LongTensor]): Tensor de IDs de tokens de entrada.\n",
        "                Shape: (batch_size, sequence_length)\n",
        "            attention_mask (Optional[torch.Tensor]): Máscara de atenção para os tokens de entrada.\n",
        "                Shape: (batch_size, sequence_length)\n",
        "            position_ids (Optional[torch.LongTensor]): IDs de posição para os tokens de entrada.\n",
        "                Shape: (batch_size, sequence_length)\n",
        "            past_key_values (Optional[List[torch.FloatTensor]]): Lista de tensores contendo estados passados\n",
        "                para uso em geração incremental.\n",
        "            inputs_embeds (Optional[torch.FloatTensor]): Embeddings pré-computados para substituir input_ids.\n",
        "                Shape: (batch_size, sequence_length, hidden_size)\n",
        "            use_cache (Optional[bool]): Se deve retornar um cache para geração incremental.\n",
        "            output_attentions (Optional[bool]): Se deve retornar todas as atenções.\n",
        "            output_hidden_states (Optional[bool]): Se deve retornar todos os estados ocultos.\n",
        "            return_dict (Optional[bool]): Se deve retornar um dicionário ao invés de uma tupla.\n",
        "\n",
        "        Returns:\n",
        "            Union[Tuple, BaseModelOutputWithPast]: Saída do modelo, incluindo últimos estados ocultos,\n",
        "                past_key_values (se use_cache=True), e opcionalmente todos os estados ocultos e atenções.\n",
        "        \"\"\"\n",
        "        output_attentions = output_attentions if output_attentions is not None else self.config.output_attentions\n",
        "        output_hidden_states = (\n",
        "            output_hidden_states if output_hidden_states is not None else self.config.output_hidden_states\n",
        "        )\n",
        "        use_cache = use_cache if use_cache is not None else self.config.use_cache\n",
        "        return_dict = return_dict if return_dict is not None else self.config.use_return_dict\n",
        "\n",
        "        # Recuperar embeddings de entrada\n",
        "        if input_ids is not None and inputs_embeds is not None:\n",
        "            raise ValueError(\"Você não pode especificar tanto input_ids quanto inputs_embeds ao mesmo tempo\")\n",
        "        elif input_ids is not None:\n",
        "            # input_ids shape: (batch_size, sequence_length)\n",
        "            batch_size, seq_length = input_ids.shape\n",
        "            inputs_embeds = self.embed_tokens(input_ids)\n",
        "            # inputs_embeds shape: (batch_size, sequence_length, hidden_size)\n",
        "        elif inputs_embeds is not None:\n",
        "            batch_size, seq_length, _ = inputs_embeds.shape\n",
        "        else:\n",
        "            raise ValueError(\"Você deve especificar ou input_ids ou inputs_embeds\")\n",
        "\n",
        "        # Gerar position_ids se não fornecidos\n",
        "        if position_ids is None:\n",
        "            # position_ids shape: (batch_size, sequence_length)\n",
        "            position_ids = torch.arange(seq_length, dtype=torch.long, device=inputs_embeds.device)\n",
        "            position_ids = position_ids.unsqueeze(0).expand(batch_size, -1)\n",
        "\n",
        "        # Gerar máscara de atenção se não fornecida\n",
        "        if attention_mask is None:\n",
        "            # attention_mask shape: (batch_size, sequence_length)\n",
        "            attention_mask = torch.ones((batch_size, seq_length), device=inputs_embeds.device)\n",
        "\n",
        "        # Converter máscara de atenção para o formato correto (expandido para todas as cabeças)\n",
        "        # extended_attention_mask shape: (batch_size, 1, 1, sequence_length)\n",
        "        extended_attention_mask = self.get_extended_attention_mask(attention_mask, (batch_size, seq_length))\n",
        "\n",
        "        # hidden_states shape: (batch_size, sequence_length, hidden_size)\n",
        "        hidden_states = inputs_embeds\n",
        "        all_hidden_states = () if output_hidden_states else None\n",
        "        all_self_attentions = () if output_attentions else None\n",
        "        next_decoder_cache = () if use_cache else None\n",
        "\n",
        "        for idx, decoder_layer in enumerate(self.layers):\n",
        "            if output_hidden_states:\n",
        "                all_hidden_states += (hidden_states,)\n",
        "\n",
        "            past_key_value = past_key_values[idx] if past_key_values is not None else None\n",
        "\n",
        "            if self.gradient_checkpointing and self.training:\n",
        "                layer_outputs = self._gradient_checkpointing_func(\n",
        "                    decoder_layer.__call__,\n",
        "                    hidden_states,\n",
        "                    extended_attention_mask,\n",
        "                    position_ids,\n",
        "                    past_key_value,\n",
        "                    output_attentions,\n",
        "                    use_cache,\n",
        "                )\n",
        "            else:\n",
        "                layer_outputs = decoder_layer(\n",
        "                    hidden_states,\n",
        "                    attention_mask=extended_attention_mask,\n",
        "                    position_ids=position_ids,\n",
        "                    past_key_value=past_key_value,\n",
        "                    output_attentions=output_attentions,\n",
        "                    use_cache=use_cache,\n",
        "                )\n",
        "\n",
        "            # layer_outputs[0] shape: (batch_size, sequence_length, hidden_size)\n",
        "            hidden_states = layer_outputs[0]\n",
        "\n",
        "            if use_cache:\n",
        "                # next_decoder_cache shape (para cada camada):\n",
        "                # (2, batch_size, num_heads, sequence_length, head_dim)\n",
        "                next_decoder_cache += (layer_outputs[2 if output_attentions else 1],)\n",
        "\n",
        "            if output_attentions:\n",
        "                # all_self_attentions shape (para cada camada):\n",
        "                # (batch_size, num_heads, sequence_length, sequence_length)\n",
        "                all_self_attentions += (layer_outputs[1],)\n",
        "\n",
        "        # Normalização final\n",
        "        # hidden_states shape: (batch_size, sequence_length, hidden_size)\n",
        "        hidden_states = self.norm(hidden_states)\n",
        "\n",
        "        # Adicionar últimos estados ocultos\n",
        "        if output_hidden_states:\n",
        "            all_hidden_states += (hidden_states,)\n",
        "\n",
        "        next_cache = next_decoder_cache if use_cache else None\n",
        "        if not return_dict:\n",
        "            return tuple(v for v in [hidden_states, next_cache, all_hidden_states, all_self_attentions] if v is not None)\n",
        "\n",
        "        return BaseModelOutputWithPast(\n",
        "            last_hidden_state=hidden_states,  # (batch_size, sequence_length, hidden_size)\n",
        "            past_key_values=next_cache,       # Lista de tensores, cada um com shape:\n",
        "                                              # (2, batch_size, num_heads, sequence_length, head_dim)\n",
        "            hidden_states=all_hidden_states,  # Tupla de tensores, cada um com shape:\n",
        "                                              # (batch_size, sequence_length, hidden_size)\n",
        "            attentions=all_self_attentions,   # Tupla de tensores, cada um com shape:\n",
        "                                              # (batch_size, num_heads, sequence_length, sequence_length)\n",
        "        )"
      ],
      "metadata": {
        "id": "2IUNbEY6208o"
      },
      "execution_count": 11,
      "outputs": []
    },
    {
      "cell_type": "markdown",
      "source": [
        "### LLaMA Implmentations"
      ],
      "metadata": {
        "id": "600DUO0saOKI"
      }
    },
    {
      "cell_type": "markdown",
      "source": [
        "#### Causal Language Modeling"
      ],
      "metadata": {
        "id": "QerDXIzeaUHV"
      }
    },
    {
      "cell_type": "code",
      "source": [
        "import torch\n",
        "import torch.nn as nn\n",
        "from torch.nn import CrossEntropyLoss\n",
        "from typing import Optional, Tuple, Union, List\n",
        "from transformers.modeling_outputs import CausalLMOutputWithPast\n",
        "\n",
        "class LlamaForCausalLM(LlamaPreTrainedModel):\n",
        "    \"\"\"\n",
        "    Modelo LLaMA para Modelagem de Linguagem Causal.\n",
        "\n",
        "    Esta classe implementa o modelo LLaMA específico para tarefas de geração de texto,\n",
        "    adicionando uma camada de saída linear (lm_head) ao modelo base LLaMA.\n",
        "\n",
        "    Atributos:\n",
        "        model (LlamaModel): O modelo base LLaMA.\n",
        "        lm_head (nn.Linear): Camada linear para projetar estados ocultos no espaço do vocabulário.\n",
        "        vocab_size (int): Tamanho do vocabulário do modelo.\n",
        "\n",
        "    Args:\n",
        "        config (LlamaConfig): Configuração do modelo LLaMA.\n",
        "\n",
        "    Exemplo:\n",
        "        >>> from transformers import LlamaConfig, LlamaTokenizer\n",
        "        >>> config = LlamaConfig()\n",
        "        >>> model = LlamaForCausalLM(config)\n",
        "        >>> tokenizer = LlamaTokenizer.from_pretrained(\"meta-llama/Llama-2-7b-hf\")\n",
        "        >>> inputs = tokenizer(\"Olá, como vai?\", return_tensors=\"pt\")\n",
        "        >>> outputs = model(**inputs)\n",
        "        >>> logits = outputs.logits\n",
        "    \"\"\"\n",
        "\n",
        "    _tied_weights_keys = [\"lm_head.weight\"]\n",
        "\n",
        "    def __init__(self, config):\n",
        "        super().__init__(config)\n",
        "        self.model = LlamaModel(config)\n",
        "        self.vocab_size = config.vocab_size\n",
        "        self.lm_head = nn.Linear(config.hidden_size, config.vocab_size, bias=False)\n",
        "\n",
        "        # Inicializa pesos e aplica processamento final\n",
        "        self.post_init()\n",
        "\n",
        "    def get_input_embeddings(self):\n",
        "        return self.model.embed_tokens\n",
        "\n",
        "    def set_input_embeddings(self, value):\n",
        "        self.model.embed_tokens = value\n",
        "\n",
        "    def get_output_embeddings(self):\n",
        "        return self.lm_head\n",
        "\n",
        "    def set_output_embeddings(self, new_embeddings):\n",
        "        self.lm_head = new_embeddings\n",
        "\n",
        "    def set_decoder(self, decoder):\n",
        "        self.model = decoder\n",
        "\n",
        "    def get_decoder(self):\n",
        "        return self.model\n",
        "\n",
        "    def forward(\n",
        "        self,\n",
        "        input_ids: torch.LongTensor = None,\n",
        "        attention_mask: Optional[torch.Tensor] = None,\n",
        "        position_ids: Optional[torch.LongTensor] = None,\n",
        "        past_key_values: Optional[List[torch.FloatTensor]] = None,\n",
        "        inputs_embeds: Optional[torch.FloatTensor] = None,\n",
        "        labels: Optional[torch.LongTensor] = None,\n",
        "        use_cache: Optional[bool] = None,\n",
        "        output_attentions: Optional[bool] = None,\n",
        "        output_hidden_states: Optional[bool] = None,\n",
        "        return_dict: Optional[bool] = None,\n",
        "    ) -> Union[Tuple, CausalLMOutputWithPast]:\n",
        "        \"\"\"\n",
        "        Realiza a passagem forward do modelo.\n",
        "\n",
        "        Args:\n",
        "            input_ids (torch.LongTensor): IDs dos tokens de entrada.\n",
        "            attention_mask (torch.Tensor, opcional): Máscara de atenção.\n",
        "            position_ids (torch.LongTensor, opcional): IDs das posições.\n",
        "            past_key_values (List[torch.FloatTensor], opcional): Valores passados para uso em geração incremental.\n",
        "            inputs_embeds (torch.FloatTensor, opcional): Embeddings de entrada pré-computados.\n",
        "            labels (torch.LongTensor, opcional): Rótulos para cálculo de perda.\n",
        "            use_cache (bool, opcional): Se deve usar cache para geração incremental.\n",
        "            output_attentions (bool, opcional): Se deve retornar todas as atenções.\n",
        "            output_hidden_states (bool, opcional): Se deve retornar todos os estados ocultos.\n",
        "            return_dict (bool, opcional): Se deve retornar um dicionário ou tupla.\n",
        "\n",
        "        Returns:\n",
        "            Union[Tuple, CausalLMOutputWithPast]: Saída do modelo, incluindo logits, loss (se labels fornecidos),\n",
        "                                                  past_key_values (se use_cache=True), e opcionalmente\n",
        "                                                  hidden_states e attentions.\n",
        "        \"\"\"\n",
        "        output_attentions = output_attentions if output_attentions is not None else self.config.output_attentions\n",
        "        output_hidden_states = (\n",
        "            output_hidden_states if output_hidden_states is not None else self.config.output_hidden_states\n",
        "        )\n",
        "        return_dict = return_dict if return_dict is not None else self.config.use_return_dict\n",
        "\n",
        "        # decoder outputs consists of (dec_features, layer_state, dec_hidden, dec_attn)\n",
        "        outputs = self.model(\n",
        "            input_ids=input_ids,\n",
        "            attention_mask=attention_mask,\n",
        "            position_ids=position_ids,\n",
        "            past_key_values=past_key_values,\n",
        "            inputs_embeds=inputs_embeds,\n",
        "            use_cache=use_cache,\n",
        "            output_attentions=output_attentions,\n",
        "            output_hidden_states=output_hidden_states,\n",
        "            return_dict=return_dict,\n",
        "        )\n",
        "\n",
        "        hidden_states = outputs[0]\n",
        "        logits = self.lm_head(hidden_states)\n",
        "\n",
        "        loss = None\n",
        "        if labels is not None:\n",
        "            # Shift so that tokens < n predict n\n",
        "            shift_logits = logits[..., :-1, :].contiguous()\n",
        "            shift_labels = labels[..., 1:].contiguous()\n",
        "            # Flatten the tokens\n",
        "            loss_fct = CrossEntropyLoss()\n",
        "            shift_logits = shift_logits.view(-1, self.config.vocab_size)\n",
        "            shift_labels = shift_labels.view(-1)\n",
        "            # Enable model parallelism\n",
        "            shift_labels = shift_labels.to(shift_logits.device)\n",
        "            loss = loss_fct(shift_logits, shift_labels)\n",
        "\n",
        "        if not return_dict:\n",
        "            output = (logits,) + outputs[1:]\n",
        "            return ((loss,) + output) if loss is not None else output\n",
        "\n",
        "        return CausalLMOutputWithPast(\n",
        "            loss=loss,\n",
        "            logits=logits,\n",
        "            past_key_values=outputs.past_key_values,\n",
        "            hidden_states=outputs.hidden_states,\n",
        "            attentions=outputs.attentions,\n",
        "        )\n",
        "\n",
        "    @torch.no_grad()\n",
        "    def generate(self, input_ids, max_length=30, temperature=1.0, do_sample=False, **kwargs):\n",
        "        \"\"\"\n",
        "        Generates text by iteratively predicting the next token.\n",
        "\n",
        "        Args:\n",
        "            input_ids (torch.LongTensor): Input token IDs.\n",
        "            max_length (int): Maximum length of the generated sequence.\n",
        "            temperature (float): Sampling temperature.\n",
        "            do_sample (bool): If True, sample next token; else, use greedy decoding.\n",
        "\n",
        "        Returns:\n",
        "            torch.LongTensor: Generated token IDs.\n",
        "        \"\"\"\n",
        "        generated = input_ids\n",
        "        past_key_values = None\n",
        "\n",
        "        for _ in range(max_length):\n",
        "            outputs = self.forward(\n",
        "                input_ids=generated[:, -1:],\n",
        "                past_key_values=past_key_values,\n",
        "                attention_mask=None,\n",
        "                use_cache=True,\n",
        "                **kwargs\n",
        "            )\n",
        "            next_token_logits = outputs.logits[:, -1, :] / temperature\n",
        "\n",
        "            if do_sample:\n",
        "                # Sample from the distribution\n",
        "                probabilities = F.softmax(next_token_logits, dim=-1)\n",
        "                next_token = torch.multinomial(probabilities, num_samples=1)\n",
        "            else:\n",
        "                # Greedy decoding\n",
        "                next_token = torch.argmax(next_token_logits, dim=-1, keepdim=True)\n",
        "\n",
        "            generated = torch.cat([generated, next_token], dim=-1)\n",
        "            past_key_values = outputs.past_key_values\n",
        "\n",
        "            # Optional: Stop if EOS token is generated\n",
        "            if next_token.item() == self.config.eos_token_id:\n",
        "                break\n",
        "\n",
        "        return generated\n",
        "\n",
        "    def prepare_inputs_for_generation(\n",
        "        self, input_ids, past_key_values=None, attention_mask=None, inputs_embeds=None, **kwargs\n",
        "    ):\n",
        "        if past_key_values:\n",
        "            input_ids = input_ids[:, -1:]\n",
        "\n",
        "        # if `inputs_embeds` are passed, we only want to use them in the 1st generation step\n",
        "        if inputs_embeds is not None and past_key_values is None:\n",
        "            model_inputs = {\"inputs_embeds\": inputs_embeds}\n",
        "        else:\n",
        "            model_inputs = {\"input_ids\": input_ids}\n",
        "\n",
        "        model_inputs.update(\n",
        "            {\n",
        "                \"past_key_values\": past_key_values,\n",
        "                \"use_cache\": kwargs.get(\"use_cache\"),\n",
        "                \"attention_mask\": attention_mask,\n",
        "                \"position_ids\": kwargs.get(\"position_ids\"),\n",
        "            }\n",
        "        )\n",
        "        return model_inputs\n",
        "\n",
        "    @staticmethod\n",
        "    def _reorder_cache(past_key_values, beam_idx):\n",
        "        reordered_past = ()\n",
        "        for layer_past in past_key_values:\n",
        "            reordered_past += (\n",
        "                tuple(past_state.index_select(0, beam_idx.to(past_state.device)) for past_state in layer_past),\n",
        "            )\n",
        "        return reordered_past"
      ],
      "metadata": {
        "id": "ZQX07y71ye30"
      },
      "execution_count": 12,
      "outputs": []
    },
    {
      "cell_type": "markdown",
      "source": [
        "## ReCOGS Dataset and Utilities\n",
        "\n"
      ],
      "metadata": {
        "id": "k3E3eexBAvmM"
      }
    },
    {
      "cell_type": "code",
      "source": [
        "try:\n",
        "    # This library is our indicator that the required installs\n",
        "    # need to be done.\n",
        "    import datasets\n",
        "except ModuleNotFoundError:\n",
        "    !git clone https://github.com/cgpotts/cs224u/\n",
        "    !pip install -r cs224u/requirements.txt\n",
        "    import sys\n",
        "    sys.path.append(\"cs224u\")"
      ],
      "metadata": {
        "id": "PFkYjxbVjiZN"
      },
      "execution_count": 13,
      "outputs": []
    },
    {
      "cell_type": "code",
      "source": [
        "import os\n",
        "import wget\n",
        "\n",
        "SRC_DIRNAME = os.path.join(\"data\", \"recogs\")\n",
        "\n",
        "if not os.path.exists(SRC_DIRNAME):\n",
        "    os.makedirs('data', exist_ok=True)\n",
        "    wget.download('https://web.stanford.edu/class/cs224u/data/recogs.tgz', out='data/')\n",
        "    !tar xvf data/recogs.tgz -C data/"
      ],
      "metadata": {
        "id": "NPzp-BXcg0IP"
      },
      "execution_count": 14,
      "outputs": []
    },
    {
      "cell_type": "code",
      "source": [
        "import pandas as pd\n",
        "\n",
        "def load_split(filename):\n",
        "    return pd.read_csv(\n",
        "        filename,\n",
        "        delimiter=\"\\t\",\n",
        "        names=['input', 'output', 'category'])"
      ],
      "metadata": {
        "id": "aCI3NS17g1fu"
      },
      "execution_count": 15,
      "outputs": []
    },
    {
      "cell_type": "code",
      "source": [
        "dataset = {}\n",
        "\n",
        "for splitname in (\"train\", \"dev\", \"gen\"):\n",
        "    dataset[splitname] = load_split(f\"{SRC_DIRNAME}/{splitname}.tsv\")"
      ],
      "metadata": {
        "id": "UVqa6-mOhAHW"
      },
      "execution_count": 16,
      "outputs": []
    },
    {
      "cell_type": "code",
      "source": [
        "from datasets import Dataset\n",
        "\n",
        "dataset['train'] = Dataset.from_pandas(dataset['train'])\n",
        "dataset['dev'] = Dataset.from_pandas(dataset['dev'].head(64))\n",
        "dataset['gen'] = Dataset.from_pandas(dataset['gen'])"
      ],
      "metadata": {
        "id": "2r9E-Lhb6X-j"
      },
      "execution_count": 17,
      "outputs": []
    },
    {
      "cell_type": "code",
      "source": [
        "def format_instruction(sample, include_response=True):\n",
        "    \"\"\"\n",
        "    Formats a single sample for instruction fine-tuning.\n",
        "\n",
        "    Args:\n",
        "        sample (dict): A dictionary with 'input' and optionally 'output'.\n",
        "        include_response (bool): Whether to include the response in the formatted string.\n",
        "\n",
        "    Returns:\n",
        "        str: The formatted instruction string.\n",
        "    \"\"\"\n",
        "    if include_response and 'output' in sample:\n",
        "        return (\n",
        "            f\"### Instruction:\\nTranslate English sentences into logical form.\\n\\n\"\n",
        "            f\"### Input:\\n{sample['input']}\\n\\n\"\n",
        "            f\"### Response:\\n{sample['output']}\\n\"\n",
        "        )\n",
        "    else:\n",
        "        return (\n",
        "            f\"### Instruction:\\nTranslate English sentences into logical form.\\n\\n\"\n",
        "            f\"### Input:\\n{sample['input']}\\n\\n\"\n",
        "            f\"### Response:\\n\"\n",
        "        )"
      ],
      "metadata": {
        "id": "YsgsxQ2ChC4X"
      },
      "execution_count": 18,
      "outputs": []
    },
    {
      "cell_type": "code",
      "source": [
        "# Funções auxiliares para recogs_exact_match\n",
        "from collections import defaultdict\n",
        "from itertools import product\n",
        "import re\n",
        "\n",
        "def recogs_exact_match(gold, pred, flag=\"000000\"):\n",
        "    gold = normalize_formula(gold)\n",
        "    pred = normalize_formula(pred)\n",
        "    gold_conj_set = get_conj_set(gold)\n",
        "    # Loop over all viable mappings from pred_vars to gold_vars:\n",
        "    for this_map in _candidate_variable_maps(gold, pred):\n",
        "        phi = pred\n",
        "        for sourcevar, targetvar in this_map.items():\n",
        "            # The flag makes sure we don't accidentally do a chain\n",
        "            # of replacements via successive changes in situations\n",
        "            # where the domain and range of `this_map` share vars.\n",
        "            phi = variable_change(phi, sourcevar, targetvar, flag=flag)\n",
        "        phi = phi.replace(flag, \"\")\n",
        "        phi_conj_set = get_conj_set(phi)\n",
        "        # This step assumes that we have no conjuncts that are\n",
        "        # tautologies, contradictions, or equality predications. If\n",
        "        # such are introduced, they need to be identified ahead of\n",
        "        # time and treated separately -- tautologies would be removed,\n",
        "        # contradictions would reduce to comparisons of only those\n",
        "        # conjuncts, and equality statements would call for special\n",
        "        # handling related to variables mapping.\n",
        "        if phi_conj_set == gold_conj_set:\n",
        "            return True\n",
        "    return False\n",
        "\n",
        "def normalize_formula(phi):\n",
        "    return phi.replace(\" \", \"\").replace(\"AND\" , \" AND \")\n",
        "\n",
        "binary_pred_re = re.compile(r\"\"\"\n",
        "    (\\w+)\n",
        "    \\s*\n",
        "    \\(\n",
        "    \\s*\n",
        "    (\\d+)\n",
        "    \\s*\n",
        "    ,\n",
        "    \\s*\n",
        "    (\\d+)\n",
        "    \\s*\n",
        "    \\)\"\"\", re.VERBOSE)\n",
        "\n",
        "unary_pred_re = re.compile(r\"\"\"\n",
        "    (\\w+)\n",
        "    \\s*\n",
        "    \\(\n",
        "    \\s*\n",
        "    (\\d+)\n",
        "    \\s*\n",
        "    \\)\"\"\", re.VERBOSE)\n",
        "\n",
        "def _candidate_variable_maps(gold, pred):\n",
        "    # This creates a mapping from tuples of predicates into their\n",
        "    # associated variables. These serve as equivalence classes over\n",
        "    # variables that could possibly be translations of each other.\n",
        "    gold_map = _map_get_preds_to_vars(gold)\n",
        "    pred_map = _map_get_preds_to_vars(pred)\n",
        "\n",
        "    # For each prediction variable, get the set of potential\n",
        "    # translations for it:\n",
        "    pred2gold = defaultdict(list)\n",
        "    for preds, pvars in pred_map.items():\n",
        "        gvars = gold_map[preds]\n",
        "        for pvar in pvars:\n",
        "            pred2gold[pvar] = gold_map[preds]\n",
        "\n",
        "    # Variable sets:\n",
        "    gold_vars = set(get_variables(gold))\n",
        "    pred_vars = set(get_variables(pred))\n",
        "\n",
        "    # Now generate potentially viable mappings:\n",
        "    for vals in list(product(*list(pred2gold.values()))):\n",
        "        d = dict(zip(pred2gold.keys(), vals))\n",
        "        if set(d.keys()) == pred_vars and set(d.values()) == gold_vars:\n",
        "            yield d\n",
        "\n",
        "def _map_get_preds_to_vars(phi):\n",
        "    var2pred = defaultdict(list)\n",
        "    for pred, var in unary_pred_re.findall(phi):\n",
        "        var2pred[var].append(pred)\n",
        "    # We could do somewhat less search by specializing to first and\n",
        "    # second position for these predicates, but I think it's fine\n",
        "    # as-is.\n",
        "    for pred, var1, var2 in binary_pred_re.findall(phi):\n",
        "        var2pred[var1].append(pred)\n",
        "        var2pred[var2].append(pred)\n",
        "    pred2var = defaultdict(list)\n",
        "    for var, preds in var2pred.items():\n",
        "        pred2var[tuple(sorted(preds))].append(var)\n",
        "    return pred2var\n",
        "\n",
        "def get_variables(phi):\n",
        "    variable_re = re.compile(r\"(\\d+)\")\n",
        "    return variable_re.findall(phi)\n",
        "\n",
        "def get_conj_set(phi):\n",
        "    conj_splitter_re  = re.compile(r\"\\s*(?:AND|;)\\s*\")\n",
        "    return set(conj_splitter_re.split(phi))\n",
        "\n",
        "def variable_change(phi, sourcevar, targetvar, flag=\"000000\"):\n",
        "    replace_re = re.compile(rf\"\\b{sourcevar}\\b\")\n",
        "    return replace_re.sub(f\"{flag}{targetvar}\", phi)\n",
        "\n",
        "def compute_metrics(eval_preds):\n",
        "    predictions, labels = eval_preds\n",
        "    decoded_preds = tokenizer.batch_decode(predictions, skip_special_tokens=True)\n",
        "    decoded_labels = tokenizer.batch_decode(labels, skip_special_tokens=True)\n",
        "\n",
        "    exact_matches = []\n",
        "    for pred, label in zip(decoded_preds, decoded_labels):\n",
        "        # Extrair a resposta gerada pelo modelo\n",
        "        pred_response = pred.split(\"### Response:\")[-1].strip()\n",
        "        # Extrair a resposta de referência\n",
        "        label_response = label.split(\"### Response:\")[-1].strip()\n",
        "        # Calcular o match exato usando recogs_exact_match\n",
        "        match = recogs_exact_match(label_response, pred_response)\n",
        "        exact_matches.append(int(match))\n",
        "\n",
        "    accuracy = sum(exact_matches) / len(exact_matches)\n",
        "    return {\"accuracy\": accuracy}\n",
        "\n",
        "def compute_metrics(tokenizer, eval_preds):\n",
        "    predictions, labels = eval_preds\n",
        "\n",
        "    # Decode predictions and labels\n",
        "    decoded_preds = tokenizer.batch_decode(predictions, skip_special_tokens=True)\n",
        "    decoded_labels = tokenizer.batch_decode(labels, skip_special_tokens=True)\n",
        "\n",
        "    exact_matches = []\n",
        "    for pred, label in zip(decoded_preds, decoded_labels):\n",
        "        pred_response = pred.split(\"### Response:\")[-1].strip()\n",
        "        label_response = label.split(\"### Response:\")[-1].strip()\n",
        "        match = recogs_exact_match(label_response, pred_response)\n",
        "        exact_matches.append(int(match))\n",
        "\n",
        "    accuracy = sum(exact_matches) / len(exact_matches) if exact_matches else 0\n",
        "    return {\"accuracy\": accuracy}\n"
      ],
      "metadata": {
        "id": "fuHEuQFqLpHC"
      },
      "execution_count": 19,
      "outputs": []
    },
    {
      "cell_type": "markdown",
      "source": [
        "## Code"
      ],
      "metadata": {
        "id": "74d12LiJal2R"
      }
    },
    {
      "cell_type": "code",
      "source": [
        "!pip install -U peft trl bitsandbytes safetensors accelerate wandb --quiet"
      ],
      "metadata": {
        "id": "6kPQRsR7iIgG"
      },
      "execution_count": 20,
      "outputs": []
    },
    {
      "cell_type": "code",
      "source": [
        "!export PYTORCH_CUDA_ALLOC_CONF=max_split_size_mb:128"
      ],
      "metadata": {
        "id": "O4y4qUBm5xs4"
      },
      "execution_count": 21,
      "outputs": []
    },
    {
      "cell_type": "code",
      "source": [
        "#from huggingface_hub import notebook_login\n",
        "#notebook_login()"
      ],
      "metadata": {
        "id": "6iyvJX3GfOfk"
      },
      "execution_count": 22,
      "outputs": []
    },
    {
      "cell_type": "code",
      "source": [],
      "metadata": {
        "id": "fk6qxc44PLTw"
      },
      "execution_count": 22,
      "outputs": []
    },
    {
      "cell_type": "code",
      "source": [
        "import torch\n",
        "from torch.utils.data import DataLoader\n",
        "from transformers import get_linear_schedule_with_warmup, LlamaForCausalLM, LlamaTokenizer, BitsAndBytesConfig\n",
        "from peft import LoraConfig, prepare_model_for_kbit_training, get_peft_model\n",
        "import wandb\n",
        "from tqdm import tqdm\n",
        "from dataclasses import dataclass\n",
        "from typing import Optional\n",
        "import random\n",
        "\n",
        "def collate_fn(batch, tokenizer, max_length):\n",
        "    \"\"\"\n",
        "    Collate function to prepare inputs and labels.\n",
        "\n",
        "    Args:\n",
        "        batch (list): List of samples from the dataset.\n",
        "        tokenizer (transformers.PreTrainedTokenizer): Tokenizer instance.\n",
        "\n",
        "    Returns:\n",
        "        dict: Dictionary containing input_ids, attention_mask, and labels.\n",
        "    \"\"\"\n",
        "    formatted_batch = [format_instruction(item, include_response=True) for item in batch]\n",
        "    encoded = tokenizer.batch_encode_plus(\n",
        "        formatted_batch,\n",
        "        padding=True,\n",
        "        truncation=True,\n",
        "        max_length=max_length,\n",
        "        return_tensors=\"pt\"\n",
        "    )\n",
        "    input_ids = encoded[\"input_ids\"]\n",
        "    attention_mask = encoded[\"attention_mask\"]\n",
        "    labels = input_ids.clone()\n",
        "\n",
        "    # Tokenize the response prefix to identify where to start computing loss\n",
        "    response_prefix = \"### Response:\\n\"\n",
        "    response_ids = tokenizer.encode(response_prefix, add_special_tokens=False)\n",
        "    response_len = len(response_ids)\n",
        "\n",
        "    for i in range(input_ids.size(0)):\n",
        "        # Find the start index of the response\n",
        "        response_start = (input_ids[i] == response_ids[0]).nonzero(as_tuple=True)[0]\n",
        "        if len(response_start) > 0:\n",
        "            response_start = response_start[0].item()\n",
        "            # Verify that the response_ids match\n",
        "            if input_ids[i, response_start:response_start + response_len].tolist() == response_ids:\n",
        "                # Mask all tokens before the response\n",
        "                labels[i, :response_start + response_len] = -100\n",
        "        else:\n",
        "            # If response prefix not found, mask all tokens\n",
        "            labels[i] = -100\n",
        "\n",
        "    return {\n",
        "        \"input_ids\": input_ids,\n",
        "        \"attention_mask\": attention_mask,\n",
        "        \"labels\": labels\n",
        "    }\n",
        "\n",
        "from dataclasses import dataclass, field\n",
        "from typing import Optional\n",
        "\n",
        "@dataclass\n",
        "class TrainingArguments:\n",
        "    model_name: str\n",
        "    output_dir: str\n",
        "    num_epochs: int\n",
        "    batch_size: int\n",
        "    learning_rate: float\n",
        "    max_grad_norm: float\n",
        "    warmup_ratio: float\n",
        "    eval_steps: int\n",
        "    save_steps: int\n",
        "    log_steps: int\n",
        "    max_seq_length: int = 512\n",
        "    gradient_accumulation_steps: int = 1\n",
        "    fp16: bool = False\n",
        "    bf16: bool = True\n",
        "    optim: str = \"adamw_torch\"\n",
        "    lr_scheduler_type: str = \"linear\"\n",
        "    weight_decay: float = 0.01\n",
        "    push_to_hub: bool = False\n",
        "    hub_model_id: Optional[str] = None\n",
        "\n",
        "    lora_rank: int = 64\n",
        "    lora_alpha: int = 64\n",
        "    lora_dropout: float = 0.1\n",
        "    lora_bias: str = \"none\"\n",
        "\n",
        "def train(\n",
        "    args: TrainingArguments,\n",
        "    dataset,\n",
        "    compute_metrics,\n",
        "    format_instruction\n",
        "):\n",
        "    # Initialize wandb\n",
        "    wandb.init(project=f\"{args.output_dir}-fine-tuning\", name=args.output_dir)\n",
        "\n",
        "    # Load tokenizer\n",
        "    tokenizer = LlamaTokenizer.from_pretrained(args.model_name, use_fast=True)\n",
        "    tokenizer.pad_token = tokenizer.eos_token\n",
        "    tokenizer.padding_side = \"right\"\n",
        "\n",
        "    # Load model with 4-bit quantization\n",
        "    bnb_config = BitsAndBytesConfig(\n",
        "        load_in_4bit=True,\n",
        "        bnb_4bit_use_double_quant=True,\n",
        "        bnb_4bit_quant_type=\"nf4\",\n",
        "        bnb_4bit_compute_dtype=torch.bfloat16\n",
        "    )\n",
        "    model = LlamaForCausalLM.from_pretrained(\n",
        "        args.model_name,\n",
        "        quantization_config=bnb_config,\n",
        "        use_cache=False,\n",
        "        device_map=\"auto\"\n",
        "    )\n",
        "    model.config.pretraining_tp = 1\n",
        "\n",
        "    # Prepare model for k-bit training\n",
        "    model = prepare_model_for_kbit_training(model)\n",
        "\n",
        "    # Apply LoRA\n",
        "    peft_config = LoraConfig(\n",
        "        lora_alpha=args.lora_alpha,\n",
        "        lora_dropout=args.lora_dropout,\n",
        "        r=args.lora_rank,\n",
        "        bias=args.lora_bias,\n",
        "        task_type=\"CAUSAL_LM\",\n",
        "    )\n",
        "    model = get_peft_model(model, peft_config)\n",
        "\n",
        "    # Prepare datasets\n",
        "    train_dataset = dataset['train']\n",
        "    eval_dataset = dataset['dev']\n",
        "\n",
        "    # Define collate function with tokenizer and fixed max_length\n",
        "    def collate_fn_train(batch):\n",
        "        return collate_fn(batch, tokenizer, max_length=args.max_seq_length)\n",
        "\n",
        "    train_dataloader = DataLoader(\n",
        "        train_dataset,\n",
        "        batch_size=args.batch_size,\n",
        "        shuffle=True,\n",
        "        collate_fn=collate_fn_train\n",
        "    )\n",
        "    eval_dataloader = DataLoader(\n",
        "        eval_dataset,\n",
        "        batch_size=args.batch_size,\n",
        "        shuffle=False,\n",
        "        collate_fn=collate_fn_train  # For metrics computation\n",
        "    )\n",
        "\n",
        "    # Prepare optimizer and scheduler\n",
        "    optimizer = torch.optim.AdamW(model.parameters(), lr=args.learning_rate, weight_decay=args.weight_decay)\n",
        "    num_training_steps = args.num_epochs * len(train_dataloader)\n",
        "    num_warmup_steps = int(args.warmup_ratio * num_training_steps)\n",
        "    scheduler = get_linear_schedule_with_warmup(optimizer, num_warmup_steps, num_training_steps)\n",
        "\n",
        "    # Training loop\n",
        "    global_step = 0\n",
        "    model.train()\n",
        "    for epoch in range(args.num_epochs):\n",
        "        total_loss = 0\n",
        "\n",
        "        progress_bar = tqdm(enumerate(train_dataloader), total=len(train_dataloader), desc=f\"Epoch {epoch+1}/{args.num_epochs}\")\n",
        "\n",
        "        for step, batch in progress_bar:\n",
        "            input_ids = batch[\"input_ids\"].to(model.device)\n",
        "            attention_mask = batch[\"attention_mask\"].to(model.device)\n",
        "            labels = batch[\"labels\"].to(model.device)\n",
        "\n",
        "            outputs = model(input_ids=input_ids, attention_mask=attention_mask, labels=labels)\n",
        "            loss = outputs.loss / args.gradient_accumulation_steps\n",
        "            loss.backward()\n",
        "\n",
        "            total_loss += loss.item() * args.gradient_accumulation_steps\n",
        "\n",
        "            progress_bar.set_postfix({\n",
        "                'loss': f\"{total_loss/(step+1):.5f}\"\n",
        "            })\n",
        "\n",
        "            if (global_step + 1) % args.gradient_accumulation_steps == 0:\n",
        "                torch.nn.utils.clip_grad_norm_(model.parameters(), args.max_grad_norm)\n",
        "                optimizer.step()\n",
        "                scheduler.step()\n",
        "                optimizer.zero_grad()\n",
        "\n",
        "            global_step += 1\n",
        "\n",
        "            if global_step % args.log_steps == 0:\n",
        "                wandb.log({\n",
        "                    \"train_loss\": loss.item(),\n",
        "                    \"lr\": scheduler.get_last_lr()[0]\n",
        "                }, step=global_step)\n",
        "\n",
        "            if global_step % args.eval_steps == 0:\n",
        "                # Call evaluate and receive generated samples\n",
        "                eval_loss, eval_metrics, generated_samples = evaluate(\n",
        "                    model, tokenizer, eval_dataloader, compute_metrics, num_samples=3, max_length=args.max_seq_length\n",
        "                )\n",
        "                wandb.log({\"eval_loss\": eval_loss, **eval_metrics}, step=global_step)\n",
        "\n",
        "                # Print generated samples to console\n",
        "                print(f\"\\n=== Evaluation at step {global_step} ===\")\n",
        "                for idx, sample in enumerate(generated_samples, 1):\n",
        "                    print(f\"Sample {idx}:\")\n",
        "                    print(f\"Prompt: {sample['prompt']}\")\n",
        "                    print(f\"Generated: {sample['generated']}\\n\")\n",
        "\n",
        "                # Log generated samples to wandb as a table\n",
        "                table = wandb.Table(columns=[\"Prompt\", \"Generated\"])\n",
        "                for sample in generated_samples:\n",
        "                    table.add_data(sample[\"prompt\"], sample[\"generated\"])\n",
        "                wandb.log({\"generated_samples\": table}, step=global_step)\n",
        "\n",
        "                model.train()\n",
        "\n",
        "            if global_step % args.save_steps == 0:\n",
        "                model.save_pretrained(f\"{args.output_dir}/checkpoint-{global_step}\")\n",
        "                tokenizer.save_pretrained(f\"{args.output_dir}/checkpoint-{global_step}\")\n",
        "\n",
        "    # Final evaluation\n",
        "    eval_loss, eval_metrics, generated_samples = evaluate(\n",
        "        model, tokenizer, eval_dataloader, compute_metrics, num_samples=3, max_length=args.max_seq_length\n",
        "    )\n",
        "    wandb.log({\"final_eval_loss\": eval_loss, **eval_metrics}, step=global_step)\n",
        "\n",
        "    # Print final generated samples\n",
        "    print(f\"\\n=== Final Evaluation at step {global_step} ===\")\n",
        "    for idx, sample in enumerate(generated_samples, 1):\n",
        "        print(f\"Sample {idx}:\")\n",
        "        print(f\"Prompt: {sample['prompt']}\")\n",
        "        print(f\"Generated: {sample['generated']}\\n\")\n",
        "\n",
        "    # Log final generated samples to wandb\n",
        "    table = wandb.Table(columns=[\"Prompt\", \"Generated\"])\n",
        "    for sample in generated_samples:\n",
        "        table.add_data(sample[\"prompt\"], sample[\"generated\"])\n",
        "    wandb.log({\"final_generated_samples\": table}, step=global_step)\n",
        "\n",
        "    # Save final model\n",
        "    model.save_pretrained(args.output_dir)\n",
        "    tokenizer.save_pretrained(args.output_dir)\n",
        "\n",
        "    # Push to hub if specified\n",
        "    if args.push_to_hub and args.hub_model_id:\n",
        "        model.push_to_hub(args.hub_model_id)\n",
        "        tokenizer.push_to_hub(args.hub_model_id)\n",
        "\n",
        "def evaluate(model, tokenizer, eval_dataloader, compute_metrics, sample_indices=None, num_samples=3, max_length=512):\n",
        "    \"\"\"\n",
        "    Evaluates the model on the evaluation dataset and generates samples.\n",
        "\n",
        "    Args:\n",
        "        model (torch.nn.Module): The model to evaluate.\n",
        "        tokenizer (transformers.PreTrainedTokenizer): Tokenizer instance.\n",
        "        eval_dataloader (DataLoader): DataLoader for evaluation data.\n",
        "        compute_metrics (function): Function to compute metrics.\n",
        "        sample_indices (list, optional): List of indices from the eval_dataset to generate samples.\n",
        "        num_samples (int): Number of random samples to generate.\n",
        "        max_length (int): Maximum generation length.\n",
        "\n",
        "    Returns:\n",
        "        tuple: Average loss, metrics dictionary, and list of generated samples.\n",
        "    \"\"\"\n",
        "    model.eval()\n",
        "    total_loss = 0.0\n",
        "    total_exact_matches = 0\n",
        "    total_examples = 0\n",
        "    all_preds = []\n",
        "    all_labels = []\n",
        "    generated_samples = []\n",
        "\n",
        "    # If sample_indices not provided, randomly select num_samples from eval_dataset\n",
        "    if sample_indices is None:\n",
        "        # Assuming eval_dataloader.dataset supports indexing\n",
        "        dataset_size = len(eval_dataloader.dataset)\n",
        "        sample_indices = random.sample(range(dataset_size), num_samples)\n",
        "\n",
        "    samples_for_generation = [eval_dataloader.dataset[idx] for idx in sample_indices]\n",
        "\n",
        "    # Pre-format the prompts for generation\n",
        "    prompts_for_generation = [\n",
        "        format_instruction(sample, include_response=False)\n",
        "        for sample in samples_for_generation\n",
        "    ]\n",
        "\n",
        "    # Tokenize the prompts for generation\n",
        "    encoded_prompts = tokenizer.batch_encode_plus(\n",
        "        prompts_for_generation,\n",
        "        padding=True,\n",
        "        truncation=True,\n",
        "        max_length=max_length,\n",
        "        return_tensors=\"pt\"\n",
        "    )\n",
        "\n",
        "    generation_input_ids = encoded_prompts[\"input_ids\"].to(model.device)\n",
        "    generation_attention_mask = encoded_prompts[\"attention_mask\"].to(model.device)\n",
        "\n",
        "    # Generate responses for the selected samples\n",
        "    with torch.no_grad():\n",
        "        generated_ids = model.generate(\n",
        "            input_ids=generation_input_ids,\n",
        "            attention_mask=None,\n",
        "            max_length=128,\n",
        "            do_sample=False,\n",
        "            num_return_sequences=1\n",
        "        )\n",
        "    generated_texts = tokenizer.batch_decode(generated_ids, skip_special_tokens=True)\n",
        "\n",
        "    # Extract the generated responses\n",
        "    for prompt, generated_text in zip(prompts_for_generation, generated_texts):\n",
        "        # Extract only the generated response\n",
        "        generated_response = generated_text.split(\"### Response:\\n\")[-1].strip()\n",
        "        generated_samples.append({\"prompt\": prompt, \"generated\": generated_response})\n",
        "\n",
        "    # Now evaluate loss and metrics batch-wise\n",
        "    with torch.no_grad():\n",
        "        for batch in eval_dataloader:\n",
        "            input_ids = batch[\"input_ids\"].to(model.device)\n",
        "            attention_mask = batch[\"attention_mask\"].to(model.device)\n",
        "            labels = batch[\"labels\"].to(model.device)\n",
        "\n",
        "            outputs = model(input_ids=input_ids, attention_mask=attention_mask, labels=labels)\n",
        "            loss = outputs.loss\n",
        "            total_loss += loss.item() * input_ids.size(0)  # Accumulate loss weighted by batch size\n",
        "\n",
        "            # Compute predictions\n",
        "            preds = torch.argmax(outputs.logits, dim=-1)\n",
        "            all_preds.append(preds.cpu())\n",
        "            all_labels.append(labels.cpu())\n",
        "\n",
        "            # Compute exact matches for the batch\n",
        "            decoded_preds = tokenizer.batch_decode(preds, skip_special_tokens=True)\n",
        "            decoded_labels = tokenizer.batch_decode(labels, skip_special_tokens=True)\n",
        "            for pred, label in zip(decoded_preds, decoded_labels):\n",
        "                pred_response = pred.split(\"### Response:\")[-1].strip()\n",
        "                label_response = label.split(\"### Response:\")[-1].strip()\n",
        "                match = recogs_exact_match(label_response, pred_response)\n",
        "                total_exact_matches += int(match)\n",
        "                total_examples += 1\n",
        "\n",
        "    # Compute metrics using the accumulated exact matches\n",
        "    accuracy = total_exact_matches / total_examples if total_examples > 0 else 0.0\n",
        "    metrics = {\"accuracy\": accuracy}\n",
        "\n",
        "    return (total_loss / total_examples, metrics, generated_samples)\n",
        "\n",
        "# Usage example\n",
        "args = TrainingArguments(\n",
        "    model_name=\"meta-llama/Llama-2-7b-hf\",\n",
        "    output_dir=\"llama-7b-hf-int4-recogs\",\n",
        "    num_epochs=3,\n",
        "    batch_size=4,\n",
        "    max_seq_length=128,\n",
        "    learning_rate=2e-4,\n",
        "    max_grad_norm=0.3,\n",
        "    warmup_ratio=0.03,\n",
        "    eval_steps=100,\n",
        "    save_steps=250,\n",
        "    log_steps=32,\n",
        "    lora_rank=2512,\n",
        "    lora_alpha=2512,\n",
        "    lora_dropout=0.5,\n",
        "    lora_bias=\"all\",\n",
        "    gradient_accumulation_steps=2,\n",
        "    push_to_hub=True,\n",
        "    hub_model_id=\"diegomrodrigues/llama-7b-hf-int4-recogs\"\n",
        ")\n",
        "\n",
        "#train(\n",
        "#    args,\n",
        "#    dataset=dataset,\n",
        "#    compute_metrics=compute_metrics,\n",
        "#    format_instruction=format_instruction\n",
        "#)\n"
      ],
      "metadata": {
        "id": "3F9kn_2jgDm-"
      },
      "execution_count": 23,
      "outputs": []
    },
    {
      "cell_type": "code",
      "source": [
        "import torch\n",
        "from torch.utils.data import DataLoader\n",
        "from transformers import LlamaForCausalLM, LlamaTokenizer\n",
        "from peft import PeftModel\n",
        "from tqdm import tqdm\n",
        "\n",
        "def load_and_evaluate_model(checkpoint_path, dataset, batch_size=8, max_length=512):\n",
        "    # Load tokenizer\n",
        "    tokenizer = LlamaTokenizer.from_pretrained(checkpoint_path)\n",
        "    tokenizer.pad_token = tokenizer.eos_token\n",
        "    tokenizer.padding_side = \"right\"\n",
        "\n",
        "    # Load base model\n",
        "    base_model = LlamaForCausalLM.from_pretrained(\n",
        "        checkpoint_path,\n",
        "        load_in_8bit=False,\n",
        "        torch_dtype=torch.float16,\n",
        "        device_map=\"auto\",\n",
        "    )\n",
        "\n",
        "    # Load LoRA weights\n",
        "    model = PeftModel.from_pretrained(base_model, checkpoint_path)\n",
        "    model.eval()\n",
        "\n",
        "    # Prepare evaluation dataset\n",
        "    eval_dataset = dataset['dev']\n",
        "\n",
        "    # Define collate function\n",
        "    def collate_fn_eval(batch):\n",
        "        return collate_fn(batch, tokenizer, max_length=max_length)\n",
        "\n",
        "    eval_dataloader = DataLoader(\n",
        "        eval_dataset,\n",
        "        batch_size=batch_size,\n",
        "        shuffle=False,\n",
        "        collate_fn=collate_fn_eval\n",
        "    )\n",
        "\n",
        "    # Run evaluation\n",
        "    total_loss = 0.0\n",
        "    total_exact_matches = 0\n",
        "    total_examples = 0\n",
        "    all_preds = []\n",
        "    all_labels = []\n",
        "    generated_samples = []\n",
        "\n",
        "    with torch.no_grad():\n",
        "        for batch in tqdm(eval_dataloader, desc=\"Evaluating\"):\n",
        "            input_ids = batch[\"input_ids\"].to(model.device)\n",
        "            attention_mask = batch[\"attention_mask\"].to(model.device)\n",
        "            labels = batch[\"labels\"].to(model.device)\n",
        "\n",
        "            outputs = model(input_ids=input_ids, attention_mask=attention_mask, labels=labels)\n",
        "            loss = outputs.loss\n",
        "            total_loss += loss.item() * input_ids.size(0)\n",
        "\n",
        "            # Compute predictions\n",
        "            preds = torch.argmax(outputs.logits, dim=-1)\n",
        "            all_preds.append(preds.cpu())\n",
        "            all_labels.append(labels.cpu())\n",
        "\n",
        "            # Compute exact matches for the batch\n",
        "            decoded_preds = tokenizer.batch_decode(preds, skip_special_tokens=True)\n",
        "            decoded_labels = tokenizer.batch_decode(labels, skip_special_tokens=True)\n",
        "            for pred, label in zip(decoded_preds, decoded_labels):\n",
        "                pred_response = pred.split(\"### Response:\")[-1].strip()\n",
        "                label_response = label.split(\"### Response:\")[-1].strip()\n",
        "\n",
        "                print(\"\\n\")\n",
        "                print(\"Pred repsonse\", pred_response, \"\\n\")\n",
        "                print(\"Label repsonse\", label_response, \"\\n\")\n",
        "                print(\"\\n\")\n",
        "\n",
        "                match = recogs_exact_match(label_response, pred_response)\n",
        "                total_exact_matches += int(match)\n",
        "                total_examples += 1\n",
        "\n",
        "    # Compute metrics\n",
        "    average_loss = total_loss / total_examples\n",
        "    accuracy = total_exact_matches / total_examples if total_examples > 0 else 0.0\n",
        "\n",
        "    # Generate samples (optional)\n",
        "    num_samples = 15\n",
        "    sample_indices = random.sample(range(len(eval_dataset)), num_samples)\n",
        "    samples_for_generation = [eval_dataset[idx] for idx in sample_indices]\n",
        "    prompts_for_generation = [\n",
        "        format_instruction(sample, include_response=False)\n",
        "        for sample in samples_for_generation\n",
        "    ]\n",
        "\n",
        "    encoded_prompts = tokenizer.batch_encode_plus(\n",
        "        prompts_for_generation,\n",
        "        padding=True,\n",
        "        truncation=True,\n",
        "        max_length=max_length,\n",
        "        return_tensors=\"pt\"\n",
        "    )\n",
        "\n",
        "    generation_input_ids = encoded_prompts[\"input_ids\"].to(model.device)\n",
        "\n",
        "    generated_ids = model.generate(\n",
        "        input_ids=generation_input_ids,\n",
        "        max_length=128,\n",
        "        do_sample=False,\n",
        "        top_p=0.95,\n",
        "        top_k=50,\n",
        "        num_return_sequences=1\n",
        "    )\n",
        "    generated_texts = tokenizer.batch_decode(generated_ids, skip_special_tokens=True)\n",
        "\n",
        "    for prompt, generated_text in zip(prompts_for_generation, generated_texts):\n",
        "        generated_response = generated_text.split(\"### Response:\\n\")[-1].strip()\n",
        "        generated_samples.append({\"prompt\": prompt, \"generated\": generated_response})\n",
        "\n",
        "    # Print results\n",
        "    print(f\"Evaluation Results:\")\n",
        "    print(f\"Average Loss: {average_loss:.4f}\")\n",
        "    print(f\"Accuracy: {accuracy:.4f}\")\n",
        "\n",
        "    print(\"\\nGenerated Samples:\")\n",
        "    for idx, sample in enumerate(generated_samples, 1):\n",
        "        print(f\"Sample {idx}:\")\n",
        "        print(f\"Prompt: {sample['prompt']}\")\n",
        "        print(f\"Generated: {sample['generated']}\\n\")\n",
        "\n",
        "    return average_loss, accuracy, generated_samples\n",
        "\n",
        "checkpoint_path = \"/content/llama-7b-hf-int4-recogs/checkpoint-7500\"\n",
        "\n",
        "#dataset['dev'] = Dataset.from_pandas(dataset['dev'])\n",
        "#loss, accuracy, samples = load_and_evaluate_model(checkpoint_path, dataset)"
      ],
      "metadata": {
        "id": "b9fHP3PVgDqR"
      },
      "execution_count": 24,
      "outputs": []
    },
    {
      "cell_type": "code",
      "source": [
        "from transformers import LlamaForCausalLM, LlamaTokenizer\n",
        "from peft import PeftModel, AutoPeftModelForCausalLM\n",
        "from huggingface_hub import HfApi, create_repo\n",
        "import os\n",
        "\n",
        "def upload_to_huggingface_hub(checkpoint_path, repo_id):\n",
        "    # Load tokenizer\n",
        "    tokenizer = LlamaTokenizer.from_pretrained(checkpoint_path)\n",
        "\n",
        "    # Load base model\n",
        "    base_model =  AutoPeftModelForCausalLM.from_pretrained(\n",
        "        checkpoint_path,\n",
        "        torch_dtype=torch.float16,\n",
        "        device_map=\"auto\",\n",
        "    )\n",
        "\n",
        "    # Load LoRA weights\n",
        "    model = PeftModel.from_pretrained(base_model, checkpoint_path)\n",
        "\n",
        "    # Merge LoRA weights with base model\n",
        "    merged_model = model.merge_and_unload()\n",
        "\n",
        "    # Save the merged model and tokenizer to a temporary directory\n",
        "    temp_save_directory = \"temp_save_directory\"\n",
        "    merged_model.save_pretrained(temp_save_directory)\n",
        "    tokenizer.save_pretrained(temp_save_directory)\n",
        "\n",
        "    # Push the model to the Hugging Face Hub\n",
        "    merged_model.push_to_hub(repo_id)\n",
        "    tokenizer.push_to_hub(repo_id)\n",
        "\n",
        "    print(f\"Model and tokenizer successfully uploaded to {repo_id}\")\n",
        "\n",
        "    # Clean up temporary directory\n",
        "    for root, dirs, files in os.walk(temp_save_directory, topdown=False):\n",
        "        for name in files:\n",
        "            os.remove(os.path.join(root, name))\n",
        "        for name in dirs:\n",
        "            os.rmdir(os.path.join(root, name))\n",
        "    os.rmdir(temp_save_directory)\n",
        "\n",
        "    print(\"Temporary directory cleaned up\")\n",
        "\n",
        "#upload_to_huggingface_hub(checkpoint_path, args.hub_model_id+\"-latest\")"
      ],
      "metadata": {
        "id": "Wc7oB4oG-mg3"
      },
      "execution_count": 25,
      "outputs": []
    },
    {
      "cell_type": "code",
      "source": [
        "import torch\n",
        "from transformers import AutoTokenizer, AutoModelForCausalLM\n",
        "from peft import AutoPeftModelForCausalLM\n",
        "import random\n",
        "from tqdm import tqdm\n",
        "\n",
        "def load_model_and_generate_samples(model_name, dataset, num_samples=15, max_length=128):\n",
        "    # Load tokenizer\n",
        "    tokenizer = AutoTokenizer.from_pretrained(model_name)\n",
        "    tokenizer.pad_token = tokenizer.eos_token\n",
        "    tokenizer.padding_side = \"right\"\n",
        "\n",
        "    # Load model\n",
        "    try:\n",
        "        model = AutoPeftModelForCausalLM.from_pretrained(\n",
        "            model_name,\n",
        "            torch_dtype=torch.float16,\n",
        "            device_map=\"auto\",\n",
        "        )\n",
        "        print(\"Model loaded with AutoPeftModelForCausalLM\")\n",
        "    except Exception as e:\n",
        "        print(f\"Failed to load with AutoPeftModelForCausalLM: {e}\")\n",
        "        print(\"Trying to load with AutoModelForCausalLM...\")\n",
        "        model = AutoModelForCausalLM.from_pretrained(\n",
        "            model_name,\n",
        "            torch_dtype=torch.float16,\n",
        "            device_map=\"auto\",\n",
        "        )\n",
        "        print(\"Model loaded with AutoModelForCausalLM\")\n",
        "\n",
        "    model.eval()\n",
        "\n",
        "    # Select random samples from the dataset\n",
        "    eval_dataset = dataset['dev']\n",
        "    sample_indices = random.sample(range(len(eval_dataset)), num_samples)\n",
        "    samples_for_generation = [eval_dataset[idx] for idx in sample_indices]\n",
        "\n",
        "    generated_samples = []\n",
        "\n",
        "    # Generate samples\n",
        "    for sample in tqdm(samples_for_generation, desc=\"Generating samples\"):\n",
        "        prompt = format_instruction(sample, include_response=False)\n",
        "        inputs = tokenizer(prompt, return_tensors=\"pt\").to(model.device)\n",
        "\n",
        "        # Generate\n",
        "        with torch.no_grad():\n",
        "            generated_ids = model.generate(\n",
        "                **inputs,\n",
        "                max_length=max_length,\n",
        "                num_return_sequences=1,\n",
        "                do_sample=False,\n",
        "                temperature=0.7,\n",
        "            )\n",
        "\n",
        "        generated_text = tokenizer.decode(generated_ids[0], skip_special_tokens=True)\n",
        "        generated_response = generated_text.split(\"### Response:\\n\")[-1].strip()\n",
        "\n",
        "        generated_samples.append({\n",
        "            \"input\": sample['input'],\n",
        "            \"prompt\": prompt,\n",
        "            \"generated\": generated_response,\n",
        "            \"expected\": sample['output']\n",
        "        })\n",
        "\n",
        "    # Compute accuracy\n",
        "    correct = 0\n",
        "    for sample in generated_samples:\n",
        "        if recogs_exact_match(sample['expected'], sample['generated']):\n",
        "            correct += 1\n",
        "    accuracy = correct / len(generated_samples)\n",
        "\n",
        "    # Print results\n",
        "    print(f\"\\n=== Evaluation Results ===\")\n",
        "    print(f\"Accuracy: {accuracy:.4f}\")\n",
        "    print(\"\\nGenerated Samples:\")\n",
        "    for idx, sample in enumerate(generated_samples, 1):\n",
        "        print(f\"Sample {idx}:\")\n",
        "        print(f\"Input: {sample['input']}\")\n",
        "        print(f\"Generated: {sample['generated']}\")\n",
        "        print(f\"Expected: {sample['expected']}\")\n",
        "        print(f\"Exact Match: {recogs_exact_match(sample['expected'], sample['generated'])}\")\n",
        "        print(\"-\" * 50)\n",
        "\n",
        "    return generated_samples, accuracy\n",
        "\n",
        "model_name = \"diegomrodrigues/llama-7b-hf-int4-recogs-latest\"  # Replace with your model name\n",
        "num_samples = 15\n",
        "max_length = 256\n",
        "\n",
        "#samples, accuracy = load_model_and_generate_samples(model_name, dataset, num_samples, max_length)"
      ],
      "metadata": {
        "id": "CUWc0UH-V6ID"
      },
      "execution_count": 26,
      "outputs": []
    },
    {
      "cell_type": "code",
      "source": [
        "bakeoff_df = pd.read_csv(\n",
        "    os.path.join(SRC_DIRNAME, \"cs224u-recogs-test-unlabeled.tsv\"),\n",
        "    sep=\"\\t\", index_col=0)"
      ],
      "metadata": {
        "id": "NtETrcGkTLPI"
      },
      "execution_count": 27,
      "outputs": []
    },
    {
      "cell_type": "code",
      "source": [
        "checkpoint_path = \"/content/llama-7b-hf-int4-recogs/checkpoint-7500\"\n",
        "\n",
        "def make_submission(checkpoint_path, bakeoff_df):\n",
        "    # Load tokenizer\n",
        "    tokenizer = LlamaTokenizer.from_pretrained(checkpoint_path)\n",
        "    tokenizer.pad_token = tokenizer.eos_token\n",
        "    tokenizer.padding_side = \"right\"\n",
        "\n",
        "    # Load base model\n",
        "    base_model = LlamaForCausalLM.from_pretrained(\n",
        "        checkpoint_path,\n",
        "        load_in_8bit=False,\n",
        "        torch_dtype=torch.float16,\n",
        "        device_map=\"auto\",\n",
        "    )\n",
        "\n",
        "    # Load LoRA weights\n",
        "    model = PeftModel.from_pretrained(base_model, checkpoint_path)\n",
        "    model.eval()\n",
        "\n",
        "    # Prepare evaluation dataset\n",
        "    eval_dataset = Dataset.from_pandas(bakeoff_df)\n",
        "\n",
        "    # Define collate function\n",
        "    def collate_fn_eval(batch):\n",
        "        return collate_fn(batch, tokenizer, max_length=max_length)\n",
        "\n",
        "    responses = []\n",
        "\n",
        "    samples_for_generation = [eval_dataset[idx] for idx in range(len(eval_dataset))]\n",
        "\n",
        "    # Generate samples\n",
        "    for sample in tqdm(samples_for_generation, desc=\"Generating samples\"):\n",
        "        prompt = format_instruction(sample, include_response=False)\n",
        "        inputs = tokenizer(prompt, return_tensors=\"pt\").to(model.device)\n",
        "\n",
        "        # Generate\n",
        "        with torch.no_grad():\n",
        "            generated_ids = model.generate(\n",
        "                **inputs,\n",
        "                max_length=max_length,\n",
        "                num_return_sequences=1,\n",
        "                do_sample=False,\n",
        "                temperature=0.7,\n",
        "            )\n",
        "\n",
        "        generated_text = tokenizer.decode(generated_ids[0], skip_special_tokens=True)\n",
        "        generated_response = generated_text.split(\"### Response:\\n\")[-1].strip()\n",
        "\n",
        "        print(\"\\n\")\n",
        "        print(generated_text)\n",
        "        print(\"\\n\")\n",
        "\n",
        "        responses.append(generated_response)\n",
        "\n",
        "    return responses\n"
      ],
      "metadata": {
        "id": "eMWEGqE_dEvo"
      },
      "execution_count": 28,
      "outputs": []
    },
    {
      "cell_type": "code",
      "source": [
        "responses = make_submission(checkpoint_path, bakeoff_df)\n",
        "responses"
      ],
      "metadata": {
        "colab": {
          "base_uri": "https://localhost:8080/",
          "height": 1000,
          "referenced_widgets": [
            "8ce8bea7519e44a4a5cba05bdfb58b9a",
            "514ddeae42e942a88a6f8824b7be7685",
            "a643961b53434bf9a9b82797be756be2",
            "7acf95515d7a40798efbf4e829127450",
            "348507f0373f4ef3a8e6e2396f9aca09",
            "540912b5220e494d806788795493e63f",
            "a9e9cbda2a9446a384fc5eedcd8bf8fe",
            "f69d6e32762246eca08b545e25a4d645",
            "22dea40497e9462ab4e8cb15cef21111",
            "100c502cfda14ed9a07f300c6da8bcf1",
            "95051328adcf4e9c868e293166c9ea60"
          ]
        },
        "id": "SS2L3BxVfMLh",
        "outputId": "37fda6ba-6f0c-4885-ed47-4ecf9da0d379"
      },
      "execution_count": 29,
      "outputs": [
        {
          "output_type": "display_data",
          "data": {
            "text/plain": [
              "Loading checkpoint shards:   0%|          | 0/2 [00:00<?, ?it/s]"
            ],
            "application/vnd.jupyter.widget-view+json": {
              "version_major": 2,
              "version_minor": 0,
              "model_id": "8ce8bea7519e44a4a5cba05bdfb58b9a"
            }
          },
          "metadata": {}
        },
        {
          "output_type": "stream",
          "name": "stderr",
          "text": [
            "\rGenerating samples:   0%|          | 0/420 [00:00<?, ?it/s]/usr/local/lib/python3.10/dist-packages/transformers/generation/configuration_utils.py:567: UserWarning: `do_sample` is set to `False`. However, `temperature` is set to `0.7` -- this flag is only used in sample-based generation modes. You should set `do_sample=True` or unset `temperature`.\n",
            "  warnings.warn(\n",
            "/usr/local/lib/python3.10/dist-packages/transformers/generation/configuration_utils.py:572: UserWarning: `do_sample` is set to `False`. However, `top_p` is set to `0.9` -- this flag is only used in sample-based generation modes. You should set `do_sample=True` or unset `top_p`.\n",
            "  warnings.warn(\n",
            "Generating samples:   0%|          | 1/420 [00:02<19:29,  2.79s/it]"
          ]
        },
        {
          "output_type": "stream",
          "name": "stdout",
          "text": [
            "\n",
            "\n",
            "### Instruction:\n",
            "Translate English sentences into logical form.\n",
            "\n",
            "### Input:\n",
            "A cake was blessed by the wolf .\n",
            "\n",
            "### Response:\n",
            "cake ( 1 ) ; * wolf ( 1 ) ; blend ( 3 ) AND theme ( 3 , 1 ) AND agent ( 3 , 1 )\n",
            "\n",
            "\n",
            "\n"
          ]
        },
        {
          "output_type": "stream",
          "name": "stderr",
          "text": [
            "\rGenerating samples:   0%|          | 2/420 [00:04<15:30,  2.23s/it]"
          ]
        },
        {
          "output_type": "stream",
          "name": "stdout",
          "text": [
            "\n",
            "\n",
            "### Instruction:\n",
            "Translate English sentences into logical form.\n",
            "\n",
            "### Input:\n",
            "A melon was blessed by a boy .\n",
            "\n",
            "### Response:\n",
            "mel melmelon ( 1 ) ; boy ( 1 ) ; bless ( 3 ) AND theme ( 3 , 1 ) AND agent ( 3 , 1 )\n",
            "\n",
            "\n",
            "\n"
          ]
        },
        {
          "output_type": "stream",
          "name": "stderr",
          "text": [
            "\rGenerating samples:   1%|          | 3/420 [00:06<14:01,  2.02s/it]"
          ]
        },
        {
          "output_type": "stream",
          "name": "stdout",
          "text": [
            "\n",
            "\n",
            "### Instruction:\n",
            "Translate English sentences into logical form.\n",
            "\n",
            "### Input:\n",
            "A cake was blessed by Nathan .\n",
            "\n",
            "### Response:\n",
            "cake ( 1 ) ; Nathan ( 1 ) ; blend ( 3 ) AND theme ( 3 , 1 ) AND agent ( 3 , 1 )\n",
            "\n",
            "\n",
            "\n"
          ]
        },
        {
          "output_type": "stream",
          "name": "stderr",
          "text": [
            "\rGenerating samples:   1%|          | 4/420 [00:08<13:25,  1.94s/it]"
          ]
        },
        {
          "output_type": "stream",
          "name": "stdout",
          "text": [
            "\n",
            "\n",
            "### Instruction:\n",
            "Translate English sentences into logical form.\n",
            "\n",
            "### Input:\n",
            "The bowl was blessed by a girl .\n",
            "\n",
            "### Response:\n",
            "* bowl ( 1 ) ; girl ( 1 ) ; blend ( 3 ) AND theme ( 3 , 1 ) AND agent ( 3 , 1 )\n",
            "\n",
            "\n",
            "\n"
          ]
        },
        {
          "output_type": "stream",
          "name": "stderr",
          "text": [
            "\rGenerating samples:   1%|          | 5/420 [00:11<17:12,  2.49s/it]"
          ]
        },
        {
          "output_type": "stream",
          "name": "stdout",
          "text": [
            "\n",
            "\n",
            "### Instruction:\n",
            "Translate English sentences into logical form.\n",
            "\n",
            "### Input:\n",
            "The teacher believed that the toy was blessed by Mia .\n",
            "\n",
            "### Response:\n",
            "* teacher ( 1 ) ; * toy ( 2 ) ; believe ( 3 ) ; believe ( 14 ) AND agent ( 14 , 1 ) AND ccomp ( 14 , 1 ) AND eat ( 1 ) AND theme ( 1 , 2 ) AND recipient ( 1 , 3 )\n",
            "\n",
            "\n",
            "\n"
          ]
        },
        {
          "output_type": "stream",
          "name": "stderr",
          "text": [
            "\rGenerating samples:   1%|▏         | 6/420 [00:12<13:55,  2.02s/it]"
          ]
        },
        {
          "output_type": "stream",
          "name": "stdout",
          "text": [
            "\n",
            "\n",
            "### Instruction:\n",
            "Translate English sentences into logical form.\n",
            "\n",
            "### Input:\n",
            "The radio was blessed .\n",
            "\n",
            "### Response:\n",
            "* radio ( 2 ) ; blend ( 1 ) AND theme ( 1 , 2 )\n",
            "\n",
            "\n",
            "\n"
          ]
        },
        {
          "output_type": "stream",
          "name": "stderr",
          "text": [
            "\rGenerating samples:   2%|▏         | 7/420 [00:14<13:25,  1.95s/it]"
          ]
        },
        {
          "output_type": "stream",
          "name": "stdout",
          "text": [
            "\n",
            "\n",
            "### Instruction:\n",
            "Translate English sentences into logical form.\n",
            "\n",
            "### Input:\n",
            "A raisin was blessed by Sofia .\n",
            "\n",
            "### Response:\n",
            "raisin ( 1 ) ; Sofia ( 1 ) ; blend ( 3 ) AND theme ( 3 , 1 ) AND agent ( 3 , 1 )\n",
            "\n",
            "\n",
            "\n"
          ]
        },
        {
          "output_type": "stream",
          "name": "stderr",
          "text": [
            "\rGenerating samples:   2%|▏         | 8/420 [00:15<11:38,  1.70s/it]"
          ]
        },
        {
          "output_type": "stream",
          "name": "stdout",
          "text": [
            "\n",
            "\n",
            "### Instruction:\n",
            "Translate English sentences into logical form.\n",
            "\n",
            "### Input:\n",
            "A pencil was blessed .\n",
            "\n",
            "### Response:\n",
            "ppencil ( 1 ) ; blend ( 1 ) AND theme ( 1 , 1 )\n",
            "\n",
            "\n",
            "\n"
          ]
        },
        {
          "output_type": "stream",
          "name": "stderr",
          "text": [
            "\rGenerating samples:   2%|▏         | 9/420 [00:17<11:46,  1.72s/it]"
          ]
        },
        {
          "output_type": "stream",
          "name": "stdout",
          "text": [
            "\n",
            "\n",
            "### Instruction:\n",
            "Translate English sentences into logical form.\n",
            "\n",
            "### Input:\n",
            "A donut was blessed by a horse .\n",
            "\n",
            "### Response:\n",
            "donut ( 1 ) ; horse ( 1 ) ; blend ( 3 ) AND theme ( 3 , 1 ) AND agent ( 3 , 1 )\n",
            "\n",
            "\n",
            "\n"
          ]
        },
        {
          "output_type": "stream",
          "name": "stderr",
          "text": [
            "\rGenerating samples:   2%|▏         | 10/420 [00:18<10:18,  1.51s/it]"
          ]
        },
        {
          "output_type": "stream",
          "name": "stdout",
          "text": [
            "\n",
            "\n",
            "### Instruction:\n",
            "Translate English sentences into logical form.\n",
            "\n",
            "### Input:\n",
            "A rose was blessed .\n",
            "\n",
            "### Response:\n",
            "rose ( 1 ) ; blend ( 1 ) AND theme ( 1 , 1 )\n",
            "\n",
            "\n",
            "\n"
          ]
        },
        {
          "output_type": "stream",
          "name": "stderr",
          "text": [
            "\rGenerating samples:   3%|▎         | 11/420 [00:21<14:06,  2.07s/it]"
          ]
        },
        {
          "output_type": "stream",
          "name": "stdout",
          "text": [
            "\n",
            "\n",
            "### Instruction:\n",
            "Translate English sentences into logical form.\n",
            "\n",
            "### Input:\n",
            "Emma said that the drink was blessed by a girl .\n",
            "\n",
            "### Response:\n",
            "Emma ( 1 ) ; * drink ( 3 ) ; girl ( 3 ) ; say ( 1 ) AND agent ( 1 , 1 ) AND ccomp ( 1 , 1 ) AND eat ( 1 ) AND theme ( 1 , 3 ) AND recipient ( 1 , 33 )\n",
            "\n",
            "\n",
            "\n"
          ]
        },
        {
          "output_type": "stream",
          "name": "stderr",
          "text": [
            "\rGenerating samples:   3%|▎         | 12/420 [00:22<12:04,  1.78s/it]"
          ]
        },
        {
          "output_type": "stream",
          "name": "stdout",
          "text": [
            "\n",
            "\n",
            "### Instruction:\n",
            "Translate English sentences into logical form.\n",
            "\n",
            "### Input:\n",
            "The needle was blessed .\n",
            "\n",
            "### Response:\n",
            "* needle ( 1 ) ; eat ( 1 ) AND theme ( 1 , 1 )\n",
            "\n",
            "\n",
            "\n"
          ]
        },
        {
          "output_type": "stream",
          "name": "stderr",
          "text": [
            "\rGenerating samples:   3%|▎         | 13/420 [00:24<12:13,  1.80s/it]"
          ]
        },
        {
          "output_type": "stream",
          "name": "stdout",
          "text": [
            "\n",
            "\n",
            "### Instruction:\n",
            "Translate English sentences into logical form.\n",
            "\n",
            "### Input:\n",
            "The banana was blessed by the dog .\n",
            "\n",
            "### Response:\n",
            "* banana ( 1 ) ; * dog ( 1 ) ; blend ( 3 ) AND theme ( 3 , 1 ) AND agent ( 3 , 1 )\n",
            "\n",
            "\n",
            "\n"
          ]
        },
        {
          "output_type": "stream",
          "name": "stderr",
          "text": [
            "\rGenerating samples:   3%|▎         | 14/420 [00:26<12:17,  1.82s/it]"
          ]
        },
        {
          "output_type": "stream",
          "name": "stdout",
          "text": [
            "\n",
            "\n",
            "### Instruction:\n",
            "Translate English sentences into logical form.\n",
            "\n",
            "### Input:\n",
            "The cake was blessed by a cat .\n",
            "\n",
            "### Response:\n",
            "* cake ( 1 ) ; cat ( 1 ) ; blend ( 3 ) AND theme ( 3 , 1 ) AND agent ( 3 , 1 )\n",
            "\n",
            "\n",
            "\n"
          ]
        },
        {
          "output_type": "stream",
          "name": "stderr",
          "text": [
            "\rGenerating samples:   4%|▎         | 15/420 [00:27<10:46,  1.60s/it]"
          ]
        },
        {
          "output_type": "stream",
          "name": "stdout",
          "text": [
            "\n",
            "\n",
            "### Instruction:\n",
            "Translate English sentences into logical form.\n",
            "\n",
            "### Input:\n",
            "A shoe was blessed .\n",
            "\n",
            "### Response:\n",
            "shoe ( 1 ) ; blend ( 1 ) AND theme ( 1 , 1 )\n",
            "\n",
            "\n",
            "\n"
          ]
        },
        {
          "output_type": "stream",
          "name": "stderr",
          "text": [
            "\rGenerating samples:   4%|▍         | 16/420 [00:29<11:08,  1.66s/it]"
          ]
        },
        {
          "output_type": "stream",
          "name": "stdout",
          "text": [
            "\n",
            "\n",
            "### Instruction:\n",
            "Translate English sentences into logical form.\n",
            "\n",
            "### Input:\n",
            "The box was blessed by Benjamin .\n",
            "\n",
            "### Response:\n",
            "* box ( 1 ) ; Benjamin ( 1 ) ; blend ( 3 ) AND theme ( 3 , 1 ) AND agent ( 3 , 1 )\n",
            "\n",
            "\n",
            "\n"
          ]
        },
        {
          "output_type": "stream",
          "name": "stderr",
          "text": [
            "\rGenerating samples:   4%|▍         | 17/420 [00:31<11:26,  1.70s/it]"
          ]
        },
        {
          "output_type": "stream",
          "name": "stdout",
          "text": [
            "\n",
            "\n",
            "### Instruction:\n",
            "Translate English sentences into logical form.\n",
            "\n",
            "### Input:\n",
            "A melon was blessed by a goose .\n",
            "\n",
            "### Response:\n",
            "melmelmel ( 1 ) ; go ( 1 ) ; blieve ( 1 ) AND theme ( 1 , 1 ) AND agent ( 1 , 1 )\n",
            "\n",
            "\n",
            "\n"
          ]
        },
        {
          "output_type": "stream",
          "name": "stderr",
          "text": [
            "\rGenerating samples:   4%|▍         | 18/420 [00:34<14:38,  2.19s/it]"
          ]
        },
        {
          "output_type": "stream",
          "name": "stdout",
          "text": [
            "\n",
            "\n",
            "### Instruction:\n",
            "Translate English sentences into logical form.\n",
            "\n",
            "### Input:\n",
            "Aria respected that the liver was blessed by Emma .\n",
            "\n",
            "### Response:\n",
            "Aria ( 1 ) ; * liver ( 3 ) ; Emma ( 1 ) ; respect ( 4 ) AND agent ( 4 , 1 ) AND ccomp ( 4 , 1 ) AND blend ( 1 ) AND theme ( 1 , 3 ) AND recipient ( 1 , 1 )\n",
            "\n",
            "\n",
            "\n"
          ]
        },
        {
          "output_type": "stream",
          "name": "stderr",
          "text": [
            "\rGenerating samples:   5%|▍         | 19/420 [00:36<13:50,  2.07s/it]"
          ]
        },
        {
          "output_type": "stream",
          "name": "stdout",
          "text": [
            "\n",
            "\n",
            "### Instruction:\n",
            "Translate English sentences into logical form.\n",
            "\n",
            "### Input:\n",
            "The cake was blessed by Emma .\n",
            "\n",
            "### Response:\n",
            "* cake ( 1 ) ; Emma ( 1 ) ; blend ( 3 ) AND theme ( 3 , 1 ) AND agent ( 3 , 1 )\n",
            "\n",
            "\n",
            "\n"
          ]
        },
        {
          "output_type": "stream",
          "name": "stderr",
          "text": [
            "\rGenerating samples:   5%|▍         | 20/420 [00:38<13:31,  2.03s/it]"
          ]
        },
        {
          "output_type": "stream",
          "name": "stdout",
          "text": [
            "\n",
            "\n",
            "### Instruction:\n",
            "Translate English sentences into logical form.\n",
            "\n",
            "### Input:\n",
            "A rose was blessed by a boy .\n",
            "\n",
            "### Response:\n",
            "rose ( 1 ) ; boy ( 3 ) ; blend ( 19 ) AND theme ( 19 , 1 ) AND agent ( 19 , 33 )\n",
            "\n",
            "\n",
            "\n"
          ]
        },
        {
          "output_type": "stream",
          "name": "stderr",
          "text": [
            "\rGenerating samples:   5%|▌         | 21/420 [00:42<17:26,  2.62s/it]"
          ]
        },
        {
          "output_type": "stream",
          "name": "stdout",
          "text": [
            "\n",
            "\n",
            "### Instruction:\n",
            "Translate English sentences into logical form.\n",
            "\n",
            "### Input:\n",
            "Emma believed that a student liked that a chicken valued that the child proved that Jacob believed that a boy believed that a duck burned a cake .\n",
            "\n",
            "### Response:\n",
            "Emma ( 1 ) ; teacher ( 1 ) ; chow ( 1 ) ; believe ( 2 ) ; believe ( 1 ) ; believe ( 2 ) ; believe ( 1 ) AND agent ( 1 , 1 ) AND ccomp ( 1 , 1 ) AND like ( 1 ) AND theme ( 1 , 1 ) AND recipient ( 1 , 1 )\n",
            "\n",
            "\n",
            "\n"
          ]
        },
        {
          "output_type": "stream",
          "name": "stderr",
          "text": [
            "\rGenerating samples:   5%|▌         | 22/420 [00:46<20:42,  3.12s/it]"
          ]
        },
        {
          "output_type": "stream",
          "name": "stdout",
          "text": [
            "\n",
            "\n",
            "### Instruction:\n",
            "Translate English sentences into logical form.\n",
            "\n",
            "### Input:\n",
            "A chicken believed that Ellie liked that Olivia expected that a boy admired that a cat valued that Emma appreciated that Liam hoped that Ava said that Isaac liked that a creature declared that the dog liked that a cake was fed to a girl .\n",
            "\n",
            "### Response:\n",
            "chah ( 1 ) ; Ell Oliv Olivia ( 1 ) ; Olivia ( 2 ) ; Emma ( 2 ) ; Liam ( 2 ) ; believe ( 1 ) ; believe ( 1 ) ; believe ( 1 ) ; believe ( 1 ) AND agent ( 1 , 1 ) AND theme ( 1 , 1 ) AND expect ( 1 ) AND agent ( 1 , 2 )\n",
            "\n",
            "\n",
            "\n"
          ]
        },
        {
          "output_type": "stream",
          "name": "stderr",
          "text": [
            "\rGenerating samples:   5%|▌         | 23/420 [00:51<23:38,  3.57s/it]"
          ]
        },
        {
          "output_type": "stream",
          "name": "stdout",
          "text": [
            "\n",
            "\n",
            "### Instruction:\n",
            "Translate English sentences into logical form.\n",
            "\n",
            "### Input:\n",
            "The pig liked that Levi liked that the dog supported that Sophia wished that the girl imagined that the cat liked that the baby liked that Logan noticed that the president meant that Emma admired that a horse passed the donut on a carpet on a table to Olivia .\n",
            "\n",
            "### Response:\n",
            "* pig ( 1 ) ; Sopha ( 1 ) ; Sophah ( 1 ) ; Emma ( 1 ) ; girl ( 1 ) ; like ( 1 ) ; like ( 1 ) ; Emma ( 1 ) ; like ( 1 ) AND agent ( 1 , 1 ) AND xcomp ( 1 , 1 ) AND like ( 1 ) AND agent ( 1 , 1 ) AND theme ( 1 , 1 )\n",
            "\n",
            "\n",
            "\n"
          ]
        },
        {
          "output_type": "stream",
          "name": "stderr",
          "text": [
            "\rGenerating samples:   6%|▌         | 24/420 [00:57<28:55,  4.38s/it]"
          ]
        },
        {
          "output_type": "stream",
          "name": "stdout",
          "text": [
            "\n",
            "\n",
            "### Instruction:\n",
            "Translate English sentences into logical form.\n",
            "\n",
            "### Input:\n",
            "Henry said that a cat believed that Lucas noticed that the baby respected that a boy liked that Emma hoped that a child liked that Leah admired that a girl was fed a jar in the house by Noah .\n",
            "\n",
            "### Response:\n",
            "Henry ( 1 ) ; cat ( 1 ) ; Lucas ( 1 ) ; Emma ( 2 ) ; Emma ( 3 ) ; Emma ( 1 ) ; Emma ( 1 ) ; Emma ( 1 ) ; * house ( 3 ) ; Leah ( 1 ) ; say ( 1 ) AND agent ( 1 , 1 ) AND ccomp ( 1 , 1 ) AND say ( 1 ) AND agent ( 1 , 1 ) AND xcomp ( 1 , 3 ) AND believe ( 3 ) AND agent ( 3 , 1 ) AND theme ( 3 , 3 )\n",
            "\n",
            "\n",
            "\n"
          ]
        },
        {
          "output_type": "stream",
          "name": "stderr",
          "text": [
            "\rGenerating samples:   6%|▌         | 25/420 [01:01<28:00,  4.25s/it]"
          ]
        },
        {
          "output_type": "stream",
          "name": "stdout",
          "text": [
            "\n",
            "\n",
            "### Instruction:\n",
            "Translate English sentences into logical form.\n",
            "\n",
            "### Input:\n",
            "The boy meant that the poet liked that a squirrel proved that William respected that a bird hoped that Hannah hoped that Liam liked that the cake changed .\n",
            "\n",
            "### Response:\n",
            "* boy ( 1 ) ; * poet ( 1 ) ; William ( 1 ) ; William ( 1 ) ; William ( 2 ) ; Hannah ( 3 ) ; Liam ( 1 ) ; mean ( 1 ) AND agent ( 1 , 1 ) AND ccomp ( 1 , 1 ) AND eat ( 1 ) AND theme ( 1 , 1 )\n",
            "\n",
            "\n",
            "\n"
          ]
        },
        {
          "output_type": "stream",
          "name": "stderr",
          "text": [
            "\rGenerating samples:   6%|▌         | 26/420 [01:04<25:37,  3.90s/it]"
          ]
        },
        {
          "output_type": "stream",
          "name": "stdout",
          "text": [
            "\n",
            "\n",
            "### Instruction:\n",
            "Translate English sentences into logical form.\n",
            "\n",
            "### Input:\n",
            "Emma thought that Olivia noticed that James noticed that the duke liked that Mila meant that Natalie said that a teacher noticed that Noah hoped that Amelia proved that Audrey liked that a donut was painted by a student .\n",
            "\n",
            "### Response:\n",
            "Emma ( 1 ) ; James ( 1 ) ; James ( 1 ) ; * du ( 1 ) ; think ( 1 ) AND agent ( 18 , 1 ) AND theme ( 18 , 1 ) AND like ( 1 ) AND agent ( 1 , 1 )\n",
            "\n",
            "\n",
            "\n"
          ]
        },
        {
          "output_type": "stream",
          "name": "stderr",
          "text": [
            "\rGenerating samples:   6%|▋         | 27/420 [01:07<23:43,  3.62s/it]"
          ]
        },
        {
          "output_type": "stream",
          "name": "stdout",
          "text": [
            "\n",
            "\n",
            "### Instruction:\n",
            "Translate English sentences into logical form.\n",
            "\n",
            "### Input:\n",
            "Emma liked that the lion liked that Abigail said that Sebastian liked that Matthew hoped that the donut burned .\n",
            "\n",
            "### Response:\n",
            "Emma ( 1 ) ; * liam ( 1 ) ; Abig ( 1 ) ; like ( 1 ) ; like ( 1 ) ; Sebastian ( 1 ) ; like ( 1 ) AND theme ( 1 , 1 ) AND agent ( 1 , 1 )\n",
            "\n",
            "\n",
            "\n"
          ]
        },
        {
          "output_type": "stream",
          "name": "stderr",
          "text": [
            "\rGenerating samples:   7%|▋         | 28/420 [01:16<34:20,  5.26s/it]"
          ]
        },
        {
          "output_type": "stream",
          "name": "stdout",
          "text": [
            "\n",
            "\n",
            "### Instruction:\n",
            "Translate English sentences into logical form.\n",
            "\n",
            "### Input:\n",
            "A boy confessed that the professor imagined that Jacob liked that a girl liked that Liam respected that Ava wanted to sleep .\n",
            "\n",
            "### Response:\n",
            "boy ( 1 ) ; * professor ( 3 ) ; Liam ( 1 ) ; girl ( 2 ) ; confess ( 3 ) ; confess ( 1 ) ; Liam ( 2 ) ; confess ( 1 ) AND agent ( 1 , 1 ) AND ccomp ( 1 , 3 ) AND imagine ( 3 ) AND agent ( 3 , 3 ) AND xcomp ( 3 , 1 ) AND confess ( 1 ) AND agent ( 1 , 3 ) AND confess ( 1 ) AND agent ( 1 , 3 ) AND ccomp ( 1 , 1 ) AND confess ( 1 ) AND agent ( 1 , 3 ) AND confess ( 1 ) AND agent ( 1 , 3 ) AND confess ( 1 ) AND agent ( 1 , 3 ) AND ccomp ( 1 , 1 ) AND confess\n",
            "\n",
            "\n"
          ]
        },
        {
          "output_type": "stream",
          "name": "stderr",
          "text": [
            "\rGenerating samples:   7%|▋         | 29/420 [01:26<42:28,  6.52s/it]"
          ]
        },
        {
          "output_type": "stream",
          "name": "stdout",
          "text": [
            "\n",
            "\n",
            "### Instruction:\n",
            "Translate English sentences into logical form.\n",
            "\n",
            "### Input:\n",
            "Olivia admired that Sophia hoped that Noah expected that the rose was rolled by Emma .\n",
            "\n",
            "### Response:\n",
            "Olivia ( 1 ) ; Sophia ( 1 ) ; Noah ( 1 ) ; * rose ( 3 ) ; Emma ( 2 ) ; admire ( 3 ) AND agent ( 3 , 1 ) AND ccomp ( 3 , 1 ) AND hope ( 1 ) AND agent ( 1 , 1 ) AND xcomp ( 1 , 33 ) AND expect ( 33 ) AND agent ( 33 , 1 ) AND ccomp ( 33 , 1 ) AND admire ( 1 ) AND agent ( 1 , 1 ) AND expect ( 1 ) AND agent ( 1 , 2 ) AND xcomp ( 1 , 19 ) AND admire ( 19 ) AND agent ( 19 , 1 ) AND expect ( 19 ) AND agent ( 19 , 1 ) AND xcomp ( 19 , 1 ) AND admire ( \n",
            "\n",
            "\n"
          ]
        },
        {
          "output_type": "stream",
          "name": "stderr",
          "text": [
            "\rGenerating samples:   7%|▋         | 30/420 [01:31<41:00,  6.31s/it]"
          ]
        },
        {
          "output_type": "stream",
          "name": "stdout",
          "text": [
            "\n",
            "\n",
            "### Instruction:\n",
            "Translate English sentences into logical form.\n",
            "\n",
            "### Input:\n",
            "The scientist declared that William said that Daniel liked that the game was eaten by Aria .\n",
            "\n",
            "### Response:\n",
            "* scientist scientist ( 1 ) ; William ( 1 ) ; Daniel ( 3 ) ; * game ( 49 ) ; Aria ( 1 ) ; declare ( 1 ) AND agent ( 1 , 1 ) AND ccomp ( 1 , 1 ) AND say ( 1 ) AND agent ( 1 , 3 ) AND xcomp ( 1 , 1 ) AND say ( 1 ) AND agent ( 1 , 1 ) AND ccomp ( 1 , 1 ) AND eat ( 1 ) AND agent ( 1 , 3 )\n",
            "\n",
            "\n",
            "\n"
          ]
        },
        {
          "output_type": "stream",
          "name": "stderr",
          "text": [
            "\rGenerating samples:   7%|▋         | 31/420 [01:35<34:46,  5.36s/it]"
          ]
        },
        {
          "output_type": "stream",
          "name": "stdout",
          "text": [
            "\n",
            "\n",
            "### Instruction:\n",
            "Translate English sentences into logical form.\n",
            "\n",
            "### Input:\n",
            "Olivia admired that a girl liked that Ava said that a bee admired that the citizen noticed that William noticed that Noah hoped that Liam confessed that Emma hoped that Lucas appreciated that the tool froze .\n",
            "\n",
            "### Response:\n",
            "Oliv A\n",
            "O\n",
            "Ob ( 1 ) ; A\n",
            " Ay wasnnnn ( 1 ) ; Ay ( 1 ) ; Ay ( 1 ) ; admen ( 1 ) ; admen ( 1 ) ; Ava ( 1 ) ; admn ( 1 ) AND\n",
            "\n",
            "\n"
          ]
        },
        {
          "output_type": "stream",
          "name": "stderr",
          "text": [
            "\rGenerating samples:   8%|▊         | 32/420 [01:44<41:47,  6.46s/it]"
          ]
        },
        {
          "output_type": "stream",
          "name": "stdout",
          "text": [
            "\n",
            "\n",
            "### Instruction:\n",
            "Translate English sentences into logical form.\n",
            "\n",
            "### Input:\n",
            "Elizabeth liked that the girl hoped that Liam thought that a mouse said that a teacher liked that Isabella liked that Emma floated .\n",
            "\n",
            "### Response:\n",
            "Elizabeth ( 1 ) ; * girl ( 1 ) ; Liam ( 3 ) ; Liam ( 2 ) ; teacher ( 1 ) ; Emma ( 3 ) ; teacher ( 1 ) ; like ( 1 ) ; teacher ( 1 ) ; Emma ( 1 ) ; like ( 1 ) AND agent ( 1 , 1 ) AND ccomp ( 1 , 1 ) AND think ( 1 ) AND agent ( 1 , 3 ) AND ccomp ( 1 , 1 ) AND think ( 1 ) AND agent ( 1 , 1 ) AND ccomp ( 1 , 1 ) AND think ( 1 ) AND agent ( 1 , 3 ) AND xcomp ( 1 , 1 ) AND float ( 1 ) AND agent ( 1 , 3 ) AND ccomp ( 1 , 19 ) AND eat ( 19 ) AND agent\n",
            "\n",
            "\n"
          ]
        },
        {
          "output_type": "stream",
          "name": "stderr",
          "text": [
            "\rGenerating samples:   8%|▊         | 33/420 [01:52<44:44,  6.94s/it]"
          ]
        },
        {
          "output_type": "stream",
          "name": "stdout",
          "text": [
            "\n",
            "\n",
            "### Instruction:\n",
            "Translate English sentences into logical form.\n",
            "\n",
            "### Input:\n",
            "A dog confessed that a child said that James said that Victoria hoped that the goose expected that the guard declared that the puppy valued that Benjamin valued that Liam said that the boy believed that a girl noticed that Olivia changed Emma .\n",
            "\n",
            "### Response:\n",
            "dog ( 1 ) ; child ( 1 ) ; James ( 3 ) ; Emma ( 4 ) ; confess ( 3 ) ; * penguin ( 1 ) ; Liam ( 1 ) ; confess ( 1 ) AND agent ( 1 , 1 ) AND ccomp ( 1 , 1 ) AND say ( 1 ) AND agent ( 1 , 3 ) AND xcomp ( 1 , 29 ) AND say ( 29 ) AND agent ( 29 , 1 ) AND ccomp ( 29 , 1 ) AND say ( 1 ) AND agent ( 19 , 3 ) AND ccomp ( 19 , 1 ) AND say ( 19 ) AND agent ( 19 , 1 ) AND ccomp ( 19\n",
            "\n",
            "\n"
          ]
        },
        {
          "output_type": "stream",
          "name": "stderr",
          "text": [
            "\rGenerating samples:   8%|▊         | 34/420 [01:59<44:35,  6.93s/it]"
          ]
        },
        {
          "output_type": "stream",
          "name": "stdout",
          "text": [
            "\n",
            "\n",
            "### Instruction:\n",
            "Translate English sentences into logical form.\n",
            "\n",
            "### Input:\n",
            "Emma believed that the citizen wished that the chicken thought that a girl liked that a butterfly rolled .\n",
            "\n",
            "### Response:\n",
            "Emma ( 1 ) ; * citizen ( 3 ) ; girl ( 4 ) ; girl ( 3 ) ; girl ( 3 ) ; girl ( 1 ) ; believe ( 1 ) ; believe ( 1 ) AND agent ( 1 , 1 ) AND ccomp ( 1 , 1 ) AND think ( 1 ) AND agent ( 1 , 3 ) AND ccomp ( 1 , 1 ) AND think ( 1 ) AND agent ( 1 , 3 ) AND xcomp ( 1 , 1 ) AND run ( 1 ) AND agent ( 1 , 3 ) AND confess ( 1 ) AND agent ( 1 , 3 )\n",
            "\n",
            "\n",
            "\n"
          ]
        },
        {
          "output_type": "stream",
          "name": "stderr",
          "text": [
            "\rGenerating samples:   8%|▊         | 35/420 [02:05<42:56,  6.69s/it]"
          ]
        },
        {
          "output_type": "stream",
          "name": "stdout",
          "text": [
            "\n",
            "\n",
            "### Instruction:\n",
            "Translate English sentences into logical form.\n",
            "\n",
            "### Input:\n",
            "A cat liked that Luna hoped that Emma liked that Olivia liked that Liam appreciated that the bear floated .\n",
            "\n",
            "### Response:\n",
            "cat ( 1 ) ; Luna ( 3 ) ; Emma ( 1 ) ; Olivia ( 4 ) ; Liam ( 3 ) ; Liam ( 1 ) ; Liam ( 2 ) ; like ( 3 ) AND agent ( 3 , 1 ) AND ccomp ( 3 , 1 ) AND like ( 1 ) AND agent ( 1 , 3 ) AND xcomp ( 1 , 1 ) AND eat ( 1 ) AND agent ( 1 , 3 ) AND goal ( 1 , 1 ) AND like ( 1 ) AND agent ( 1 , 3 )\n",
            "\n",
            "\n",
            "\n"
          ]
        },
        {
          "output_type": "stream",
          "name": "stderr",
          "text": [
            "\rGenerating samples:   9%|▊         | 36/420 [02:10<39:15,  6.13s/it]"
          ]
        },
        {
          "output_type": "stream",
          "name": "stdout",
          "text": [
            "\n",
            "\n",
            "### Instruction:\n",
            "Translate English sentences into logical form.\n",
            "\n",
            "### Input:\n",
            "The judge liked that Emma declared that a patient said that Isabella believed that Liam hoped that Olivia liked that the child liked that a girl hoped that Oliver liked that the king was given a cake .\n",
            "\n",
            "### Response:\n",
            "* judge ( 1 ) ; Emma ( 1 ) ; Liam ( 3 ) ; Liam ( 4 ) ; Liam ( 2 ) ; Liam ( 3 ) ; like ( 1 ) AND agent ( 1 , 1 ) AND ccomp ( 1 , 1 ) AND say ( 1 ) AND agent ( 1 , 3 ) AND ccomp ( 1 , 1 ) AND believe ( 1 ) AND theme ( 1 , 3 )\n",
            "\n",
            "\n",
            "\n"
          ]
        },
        {
          "output_type": "stream",
          "name": "stderr",
          "text": [
            "\rGenerating samples:   9%|▉         | 37/420 [02:18<44:13,  6.93s/it]"
          ]
        },
        {
          "output_type": "stream",
          "name": "stdout",
          "text": [
            "\n",
            "\n",
            "### Instruction:\n",
            "Translate English sentences into logical form.\n",
            "\n",
            "### Input:\n",
            "The fly confessed that the cat admired that the customer wished that a priest believed that the baby liked that the bottle was given to a horse by the father .\n",
            "\n",
            "### Response:\n",
            "* fly ( 1 ) ; * cat ( 3 ) ; priest ( 3 ) ; priest ( 49 ) ; confess ( 3 ) ; * baby ( 1 ) ; confess ( 1 ) AND agent ( 1 , 1 ) AND ccomp ( 1 , 3 ) AND wish ( 3 ) AND agent ( 3 , 3 ) AND xcomp ( 3 , 25 ) AND confess ( 25 ) AND agent ( 25 , 3 ) AND ccomp ( 25 , 1 ) AND wish ( 1 ) AND agent ( 1 , 3 ) AND xcomp ( 1 , 25 ) AND confess ( 25 ) AND agent ( 25 , 3 ) AND wish ( 25 ) AND agent ( 25 , 3 ) AND xcomp ( 25 , 1 ) AND\n",
            "\n",
            "\n"
          ]
        },
        {
          "output_type": "stream",
          "name": "stderr",
          "text": [
            "Generating samples:   9%|▉         | 39/420 [02:27<32:31,  5.12s/it]"
          ]
        },
        {
          "output_type": "stream",
          "name": "stdout",
          "text": [
            "\n",
            "\n",
            "### Instruction:\n",
            "Translate English sentences into logical form.\n",
            "\n",
            "### Input:\n",
            "The bear admired that a bird liked that Emma liked that the child proved that Liam liked that Isabella liked that the dog said that Avery hoped that Leah proved that the boy liked that the girl tolerated that a cake froze .\n",
            "\n",
            "### Response:\n",
            "* child ( 1 ) ; Emma ( 1 ) ; Emma ( 1 ) ; Liam ( 1 ) ; Liam ( 2 ) ; Liam ( 1 ) ; Liam ( 1 ) ; Emma ( 1 ) ; Emma ( 1 ) ; Liam ( 1 ) ; Emma ( 1 ) ; Liam ( 1 ) ; Emma ( 1 ) ; Liam ( 1 ) ; Liam ( 1 ) ; Liam ( 1 ) ; Emma ( 1 ) ; Liam ( 1 ) ; Emma ( 1 ) ; Liam ( 1 ) ; Emma ( 1 ) ; Liam ( 1 ) ; Emma ( 1 ) ; Liam ( 1 ) ; Liam ( 1 ) ; Liam ( 1 ) ; Emma ( 1 )\n",
            "\n",
            "\n",
            "\n",
            "\n",
            "### Instruction:\n",
            "Translate English sentences into logical form.\n",
            "\n",
            "### Input:\n",
            "Emma liked that Ella liked that Liam respected that Oliver noticed that a girl imagined that Bella meant that Ava said that a hero was awarded the cake on the truck in the crib in the room .\n",
            "\n",
            "### Response:\n",
            "Em (\n",
            "\n",
            "\n"
          ]
        },
        {
          "output_type": "stream",
          "name": "stderr",
          "text": [
            "\rGenerating samples:  10%|▉         | 40/420 [02:29<28:00,  4.42s/it]"
          ]
        },
        {
          "output_type": "stream",
          "name": "stdout",
          "text": [
            "\n",
            "\n",
            "### Instruction:\n",
            "Translate English sentences into logical form.\n",
            "\n",
            "### Input:\n",
            "Levi liked that Emma declared that the girl wished that a lawyer liked that the turtle imagined that a monkey liked that Charlotte ate .\n",
            "\n",
            "### Response:\n",
            "Levi ( 1 ) ; Emma ( 1 ) ; lawyer ( 1 ) ; lawyer ( 3 ) ; lawyer ( 3 ) ; lawyer ( 3 ) ; like ( 2 ) AND theme ( 2 , 1 ) AND agent ( 2 , 1 )\n",
            "\n",
            "\n",
            "\n"
          ]
        },
        {
          "output_type": "stream",
          "name": "stderr",
          "text": [
            "\rGenerating samples:  10%|▉         | 41/420 [02:33<26:34,  4.21s/it]"
          ]
        },
        {
          "output_type": "stream",
          "name": "stdout",
          "text": [
            "\n",
            "\n",
            "### Instruction:\n",
            "Translate English sentences into logical form.\n",
            "\n",
            "### Input:\n",
            "Noah teleported a lollipop beside the box to a girl .\n",
            "\n",
            "### Response:\n",
            "Noah ( 1 ) ; llipop ( 3 ) ; * box ( 1 ) ; box ( 2 ) ; girl ( 3 ) ; nmod . beside ( 3 , 1 ) AND telephone ( 1 ) AND agent ( 1 , 1 ) AND theme ( 1 , 3 ) AND recipient ( 1 , 3 )\n",
            "\n",
            "\n",
            "\n"
          ]
        },
        {
          "output_type": "stream",
          "name": "stderr",
          "text": [
            "\rGenerating samples:  10%|█         | 42/420 [02:36<24:58,  3.96s/it]"
          ]
        },
        {
          "output_type": "stream",
          "name": "stdout",
          "text": [
            "\n",
            "\n",
            "### Instruction:\n",
            "Translate English sentences into logical form.\n",
            "\n",
            "### Input:\n",
            "The girl teleported the donut in the house to the cat .\n",
            "\n",
            "### Response:\n",
            "* girl ( 1 ) ; * donut ( 3 ) ; * house ( 1 ) ; * cat ( 2 ) ; nmod . in ( 3 , 1 ) AND tele ( 1 ) AND agent ( 1 , 1 ) AND theme ( 1 , 3 ) AND recipient ( 1 , 2 )\n",
            "\n",
            "\n",
            "\n"
          ]
        },
        {
          "output_type": "stream",
          "name": "stderr",
          "text": [
            "\rGenerating samples:  10%|█         | 43/420 [02:39<22:41,  3.61s/it]"
          ]
        },
        {
          "output_type": "stream",
          "name": "stdout",
          "text": [
            "\n",
            "\n",
            "### Instruction:\n",
            "Translate English sentences into logical form.\n",
            "\n",
            "### Input:\n",
            "Emma teleported a cake to a dog .\n",
            "\n",
            "### Response:\n",
            "Emma ( 1 ) ; cake ( 2 ) ; dog ( 1 ) ; telephone ( 38 ) AND agent ( 38 , 1 ) AND theme ( 38 , 2 ) AND recipient ( 38 , 1 )\n",
            "\n",
            "\n",
            "\n"
          ]
        },
        {
          "output_type": "stream",
          "name": "stderr",
          "text": [
            "\rGenerating samples:  10%|█         | 44/420 [02:42<21:12,  3.38s/it]"
          ]
        },
        {
          "output_type": "stream",
          "name": "stdout",
          "text": [
            "\n",
            "\n",
            "### Instruction:\n",
            "Translate English sentences into logical form.\n",
            "\n",
            "### Input:\n",
            "Olivia teleported a mandarin to the cat .\n",
            "\n",
            "### Response:\n",
            "Olivia ( 1 ) ; mandarin ( 3 ) ; * cat ( 1 ) ; telephone ( 49 ) AND agent ( 49 , 1 ) AND theme ( 49 , 3 ) AND recipient ( 49 , 1 )\n",
            "\n",
            "\n",
            "\n"
          ]
        },
        {
          "output_type": "stream",
          "name": "stderr",
          "text": [
            "\rGenerating samples:  11%|█         | 45/420 [02:45<21:02,  3.37s/it]"
          ]
        },
        {
          "output_type": "stream",
          "name": "stdout",
          "text": [
            "\n",
            "\n",
            "### Instruction:\n",
            "Translate English sentences into logical form.\n",
            "\n",
            "### Input:\n",
            "The cat teleported a crown on a table to Emma .\n",
            "\n",
            "### Response:\n",
            "* cat ( 1 ) ; crown ( 1 ) ; table ( 1 ) ; Emma ( 2 ) ; nmod . on ( 1 , 1 ) AND telephone ( 2 ) AND agent ( 2 , 1 ) AND theme ( 2 , 1 ) AND recipient ( 2 , 2 )\n",
            "\n",
            "\n",
            "\n"
          ]
        },
        {
          "output_type": "stream",
          "name": "stderr",
          "text": [
            "\rGenerating samples:  11%|█         | 46/420 [02:49<21:02,  3.38s/it]"
          ]
        },
        {
          "output_type": "stream",
          "name": "stdout",
          "text": [
            "\n",
            "\n",
            "### Instruction:\n",
            "Translate English sentences into logical form.\n",
            "\n",
            "### Input:\n",
            "The child teleported the glue on a tree to Olivia .\n",
            "\n",
            "### Response:\n",
            "* child ( 1 ) ; * glue ( 1 ) ; tree ( 2 ) ; Olivia ( 1 ) ; nmod . on ( 1 , 2 ) AND tele ( 1 ) AND agent ( 1 , 1 ) AND theme ( 1 , 1 ) AND recipient ( 1 , 1 )\n",
            "\n",
            "\n",
            "\n"
          ]
        },
        {
          "output_type": "stream",
          "name": "stderr",
          "text": [
            "\rGenerating samples:  11%|█         | 47/420 [02:53<21:42,  3.49s/it]"
          ]
        },
        {
          "output_type": "stream",
          "name": "stdout",
          "text": [
            "\n",
            "\n",
            "### Instruction:\n",
            "Translate English sentences into logical form.\n",
            "\n",
            "### Input:\n",
            "Joshua teleported the cookie beside the box to a girl .\n",
            "\n",
            "### Response:\n",
            "Joshua ( 1 ) ; * cookie ( 2 ) ; * box ( 1 ) ; box ( 3 ) ; girl ( 3 ) ; nmod . beside ( 2 , 1 ) AND teleport ( 1 ) AND agent ( 1 , 1 ) AND theme ( 1 , 2 ) AND recipient ( 1 , 3 )\n",
            "\n",
            "\n",
            "\n"
          ]
        },
        {
          "output_type": "stream",
          "name": "stderr",
          "text": [
            "\rGenerating samples:  11%|█▏        | 48/420 [02:55<20:08,  3.25s/it]"
          ]
        },
        {
          "output_type": "stream",
          "name": "stdout",
          "text": [
            "\n",
            "\n",
            "### Instruction:\n",
            "Translate English sentences into logical form.\n",
            "\n",
            "### Input:\n",
            "A monkey teleported the cake to Ava .\n",
            "\n",
            "### Response:\n",
            "monkey ( 1 ) ; * cake ( 2 ) ; Ava ( 1 ) ; telepose ( 1 ) AND agent ( 1 , 1 ) AND theme ( 1 , 2 ) AND recipient ( 11 , 1 )\n",
            "\n",
            "\n",
            "\n"
          ]
        },
        {
          "output_type": "stream",
          "name": "stderr",
          "text": [
            "\rGenerating samples:  12%|█▏        | 49/420 [02:59<20:17,  3.28s/it]"
          ]
        },
        {
          "output_type": "stream",
          "name": "stdout",
          "text": [
            "\n",
            "\n",
            "### Instruction:\n",
            "Translate English sentences into logical form.\n",
            "\n",
            "### Input:\n",
            "The dog teleported a cookie on a table to Harper .\n",
            "\n",
            "### Response:\n",
            "* dog ( 1 ) ; cookie ( 3 ) ; table ( 1 ) ; Harper ( 1 ) ; nmod . on ( 3 , 1 ) AND telephone ( 3 ) AND agent ( 3 , 1 ) AND theme ( 3 , 3 ) AND recipient ( 3 , 1 )\n",
            "\n",
            "\n",
            "\n"
          ]
        },
        {
          "output_type": "stream",
          "name": "stderr",
          "text": [
            "\rGenerating samples:  12%|█▏        | 50/420 [03:02<20:18,  3.29s/it]"
          ]
        },
        {
          "output_type": "stream",
          "name": "stdout",
          "text": [
            "\n",
            "\n",
            "### Instruction:\n",
            "Translate English sentences into logical form.\n",
            "\n",
            "### Input:\n",
            "Liam teleported the cookie in a car to a boy .\n",
            "\n",
            "### Response:\n",
            "Liam ( 1 ) ; * cookie ( 3 ) ; car ( 2 ) ; boy ( 1 ) ; nmod . in ( 3 , 2 ) AND telephone ( 1 ) AND agent ( 1 , 1 ) AND theme ( 1 , 3 ) AND recipient ( 1 , 1 )\n",
            "\n",
            "\n",
            "\n"
          ]
        },
        {
          "output_type": "stream",
          "name": "stderr",
          "text": [
            "\rGenerating samples:  12%|█▏        | 51/420 [03:04<18:48,  3.06s/it]"
          ]
        },
        {
          "output_type": "stream",
          "name": "stdout",
          "text": [
            "\n",
            "\n",
            "### Instruction:\n",
            "Translate English sentences into logical form.\n",
            "\n",
            "### Input:\n",
            "Liam teleported the box beside the stage to a tourist .\n",
            "\n",
            "### Response:\n",
            "Liam ( 1 ) ; * box ( 2 ) ; * stage ( 1 ) ; tourist ( 3 ) ; nmod . 2 ) AND theme ( 2 , 2 ) AND recipient ( 2 , 3 )\n",
            "\n",
            "\n",
            "\n"
          ]
        },
        {
          "output_type": "stream",
          "name": "stderr",
          "text": [
            "\rGenerating samples:  12%|█▏        | 52/420 [03:08<19:33,  3.19s/it]"
          ]
        },
        {
          "output_type": "stream",
          "name": "stdout",
          "text": [
            "\n",
            "\n",
            "### Instruction:\n",
            "Translate English sentences into logical form.\n",
            "\n",
            "### Input:\n",
            "Sophia teleported the cake on a table to a girl .\n",
            "\n",
            "### Response:\n",
            "SSS Sophia ( 1 ) ; * cake ( 3 ) ; table ( 2 ) ; girl ( 1 ) ; nmod . on ( 3 , 2 ) AND tele ( 1 ) AND agent ( 1 , 1 ) AND theme ( 1 , 3 ) AND recipient ( 1 , 1 )\n",
            "\n",
            "\n",
            "\n"
          ]
        },
        {
          "output_type": "stream",
          "name": "stderr",
          "text": [
            "\rGenerating samples:  13%|█▎        | 53/420 [03:11<19:52,  3.25s/it]"
          ]
        },
        {
          "output_type": "stream",
          "name": "stdout",
          "text": [
            "\n",
            "\n",
            "### Instruction:\n",
            "Translate English sentences into logical form.\n",
            "\n",
            "### Input:\n",
            "Julian teleported the cookie beside the table to a girl .\n",
            "\n",
            "### Response:\n",
            "Julian ( 1 ) ; * cookie ( 2 ) ; * table ( 3 ) ; girl ( 1 ) ; nmod . beside ( 2 , 3 ) AND teleport ( 1 ) AND agent ( 1 , 1 ) AND theme ( 1 , 2 ) AND recipient ( 1 , 1 )\n",
            "\n",
            "\n",
            "\n"
          ]
        },
        {
          "output_type": "stream",
          "name": "stderr",
          "text": [
            "\rGenerating samples:  13%|█▎        | 54/420 [03:15<19:42,  3.23s/it]"
          ]
        },
        {
          "output_type": "stream",
          "name": "stdout",
          "text": [
            "\n",
            "\n",
            "### Instruction:\n",
            "Translate English sentences into logical form.\n",
            "\n",
            "### Input:\n",
            "Emma teleported the potato beside the stool to the girl .\n",
            "\n",
            "### Response:\n",
            "Emma ( 1 ) ; * toato ( 3 ) ; * stool ( 2 ) ; * stool ( 3 ) ; nmod . beside (  2 , 3 ) AND teleport ( 3 ) AND agent ( 3 , 1 ) AND theme ( 3 , 3 )\n",
            "\n",
            "\n",
            "\n"
          ]
        },
        {
          "output_type": "stream",
          "name": "stderr",
          "text": [
            "\rGenerating samples:  13%|█▎        | 55/420 [03:22<28:14,  4.64s/it]"
          ]
        },
        {
          "output_type": "stream",
          "name": "stdout",
          "text": [
            "\n",
            "\n",
            "### Instruction:\n",
            "Translate English sentences into logical form.\n",
            "\n",
            "### Input:\n",
            "The lawyer hoped that the tourist believed that Ava teleported the cake beside the table to the girl .\n",
            "\n",
            "### Response:\n",
            "* lawyer ( 1 ) ; * tourist ( 3 ) ; Ava ( 3 ) ; Emma ( 1 ) ; * cake ( 3 ) ; * table ( 1 ) ; * girl ( 1 ) ; hope ( 1 ) AND agent ( 1 , 1 ) AND ccomp ( 1 , 1 ) AND believe ( 1 ) AND agent ( 1 , 3 ) AND ccomp ( 1 , 25 ) AND believe ( 25 ) AND agent ( 25 , 1 ) AND ccomp ( 25 , 1 ) AND believe ( 1 ) AND agent ( 1 , 3 ) AND ccomp ( 1 , 19 ) AND believe ( 19 ) AND agent ( 19 , 1 )\n",
            "\n",
            "\n",
            "\n"
          ]
        },
        {
          "output_type": "stream",
          "name": "stderr",
          "text": [
            "\rGenerating samples:  13%|█▎        | 56/420 [03:25<24:45,  4.08s/it]"
          ]
        },
        {
          "output_type": "stream",
          "name": "stdout",
          "text": [
            "\n",
            "\n",
            "### Instruction:\n",
            "Translate English sentences into logical form.\n",
            "\n",
            "### Input:\n",
            "Emma teleported the donut to Benjamin .\n",
            "\n",
            "### Response:\n",
            "Emma ( 1 ) ; * donut ( 3 ) ; Benjamin ( 1 ) ; telephone ( 44 ) AND agent ( 44 , 1 ) AND theme ( 44 , 3 ) AND recipient ( 44 , 1 )\n",
            "\n",
            "\n",
            "\n"
          ]
        },
        {
          "output_type": "stream",
          "name": "stderr",
          "text": [
            "\rGenerating samples:  14%|█▎        | 57/420 [03:28<22:21,  3.69s/it]"
          ]
        },
        {
          "output_type": "stream",
          "name": "stdout",
          "text": [
            "\n",
            "\n",
            "### Instruction:\n",
            "Translate English sentences into logical form.\n",
            "\n",
            "### Input:\n",
            "Luna teleported a cake to Sophia .\n",
            "\n",
            "### Response:\n",
            "Luna ( 1 ) ; cake ( 2 ) ; Sophia ( 1 ) ; telephone ( 14 ) AND agent ( 14 , 1 ) AND theme ( 14 , 2 ) AND recipient ( 14 , 1 )\n",
            "\n",
            "\n",
            "\n"
          ]
        },
        {
          "output_type": "stream",
          "name": "stderr",
          "text": [
            "\rGenerating samples:  14%|█▍        | 58/420 [03:31<21:37,  3.58s/it]"
          ]
        },
        {
          "output_type": "stream",
          "name": "stdout",
          "text": [
            "\n",
            "\n",
            "### Instruction:\n",
            "Translate English sentences into logical form.\n",
            "\n",
            "### Input:\n",
            "The boy teleported a newspaper beside a road to the mouse .\n",
            "\n",
            "### Response:\n",
            "* boy ( 1 ) ; newspaper ( 3 ) ; road ( 1 ) ; * mouse ( 1 ) ; nmod . beside ( 3 , 1 ) AND tele ( 2 ) AND agent ( 2 , 1 ) AND theme ( 2 , 3 ) AND recipient ( 2 , 13 )\n",
            "\n",
            "\n",
            "\n"
          ]
        },
        {
          "output_type": "stream",
          "name": "stderr",
          "text": [
            "\rGenerating samples:  14%|█▍        | 59/420 [03:35<21:09,  3.52s/it]"
          ]
        },
        {
          "output_type": "stream",
          "name": "stdout",
          "text": [
            "\n",
            "\n",
            "### Instruction:\n",
            "Translate English sentences into logical form.\n",
            "\n",
            "### Input:\n",
            "Emma teleported the cake in a room to the boy .\n",
            "\n",
            "### Response:\n",
            "Emma ( 1 ) ; * cake ( 2 ) ; room ( 1 ) ; * boy ( 2 ) ; nmod . in ( 2 , 1 ) AND tele ( 3 ) AND agent ( 3 , 1 ) AND theme ( 3 , 2 ) AND recipient ( 3 , 2 )\n",
            "\n",
            "\n",
            "\n"
          ]
        },
        {
          "output_type": "stream",
          "name": "stderr",
          "text": [
            "\rGenerating samples:  14%|█▍        | 60/420 [03:37<19:43,  3.29s/it]"
          ]
        },
        {
          "output_type": "stream",
          "name": "stdout",
          "text": [
            "\n",
            "\n",
            "### Instruction:\n",
            "Translate English sentences into logical form.\n",
            "\n",
            "### Input:\n",
            "Liam teleported the raisin to a baby .\n",
            "\n",
            "### Response:\n",
            "Liam ( 1 ) ; * raisin ( 3 ) ; baby ( 1 ) ; telephone ( 49 ) AND agent ( 49 , 1 ) AND theme ( 49 , 3 ) AND recipient ( 49 , 1 )\n",
            "\n",
            "\n",
            "\n"
          ]
        },
        {
          "output_type": "stream",
          "name": "stderr",
          "text": [
            "\rGenerating samples:  15%|█▍        | 61/420 [03:40<18:45,  3.14s/it]"
          ]
        },
        {
          "output_type": "stream",
          "name": "stdout",
          "text": [
            "\n",
            "\n",
            "### Instruction:\n",
            "Translate English sentences into logical form.\n",
            "\n",
            "### Input:\n",
            "A cat baked a girl on the desk .\n",
            "\n",
            "### Response:\n",
            "cat ( 1 ) ; girl ( 1 ) ; * desk ( 29 ) ; nmod . on ( 13 , 29 ) AND bake ( 1 ) AND agent ( 1 , 1 ) AND theme ( 1 , 13 )\n",
            "\n",
            "\n",
            "\n"
          ]
        },
        {
          "output_type": "stream",
          "name": "stderr",
          "text": [
            "\rGenerating samples:  15%|█▍        | 62/420 [03:44<19:59,  3.35s/it]"
          ]
        },
        {
          "output_type": "stream",
          "name": "stdout",
          "text": [
            "\n",
            "\n",
            "### Instruction:\n",
            "Translate English sentences into logical form.\n",
            "\n",
            "### Input:\n",
            "Natalie respected that the girl baked the box .\n",
            "\n",
            "### Response:\n",
            "Natalie ( 1 ) ; * girl ( 3 ) ; * box ( 3 ) ; respect ( 1 ) AND agent ( 1 , 1 ) AND ccomp ( 1 , 1 ) AND b ( 1 , 37 ) AND break ( 37 ) AND agent ( 37 , 3 ) AND theme ( 37 , 3 )\n",
            "\n",
            "\n",
            "\n"
          ]
        },
        {
          "output_type": "stream",
          "name": "stderr",
          "text": [
            "\rGenerating samples:  15%|█▌        | 63/420 [03:46<17:19,  2.91s/it]"
          ]
        },
        {
          "output_type": "stream",
          "name": "stdout",
          "text": [
            "\n",
            "\n",
            "### Instruction:\n",
            "Translate English sentences into logical form.\n",
            "\n",
            "### Input:\n",
            "Emma baked the cookie .\n",
            "\n",
            "### Response:\n",
            "Emma ( 19 ) ; * cookie ( 3 ) ; bake ( 1 ) AND agent ( 1 , 19 ) AND theme ( 1 , 3 )\n",
            "\n",
            "\n",
            "\n"
          ]
        },
        {
          "output_type": "stream",
          "name": "stderr",
          "text": [
            "\rGenerating samples:  15%|█▌        | 64/420 [03:48<15:21,  2.59s/it]"
          ]
        },
        {
          "output_type": "stream",
          "name": "stdout",
          "text": [
            "\n",
            "\n",
            "### Instruction:\n",
            "Translate English sentences into logical form.\n",
            "\n",
            "### Input:\n",
            "A sailor baked a cake .\n",
            "\n",
            "### Response:\n",
            "sailor ( 1 ) ; cake ( 1 ) ; bake ( 1 ) AND agent ( 1 , 1 ) AND theme ( 1 , 1 )\n",
            "\n",
            "\n",
            "\n"
          ]
        },
        {
          "output_type": "stream",
          "name": "stderr",
          "text": [
            "\rGenerating samples:  15%|█▌        | 65/420 [03:50<14:02,  2.37s/it]"
          ]
        },
        {
          "output_type": "stream",
          "name": "stdout",
          "text": [
            "\n",
            "\n",
            "### Instruction:\n",
            "Translate English sentences into logical form.\n",
            "\n",
            "### Input:\n",
            "Jackson baked Jayden .\n",
            "\n",
            "### Response:\n",
            "Jackson ( 15 ) ; Jayden ( 1 ) ; bend ( 3 ) AND agent ( 3 , 15 ) AND theme ( 3 , 1 )\n",
            "\n",
            "\n",
            "\n"
          ]
        },
        {
          "output_type": "stream",
          "name": "stderr",
          "text": [
            "\rGenerating samples:  16%|█▌        | 66/420 [03:52<14:21,  2.43s/it]"
          ]
        },
        {
          "output_type": "stream",
          "name": "stdout",
          "text": [
            "\n",
            "\n",
            "### Instruction:\n",
            "Translate English sentences into logical form.\n",
            "\n",
            "### Input:\n",
            "Liam baked a girl on a table .\n",
            "\n",
            "### Response:\n",
            "Liam ( 1 ) ; girl ( 1 ) ; table ( 2 ) ; nmod . on ( 1 , 2 ) AND bake ( 3 ) AND agent ( 3 , 1 ) AND theme ( 3 , 1 )\n",
            "\n",
            "\n",
            "\n"
          ]
        },
        {
          "output_type": "stream",
          "name": "stderr",
          "text": [
            "\rGenerating samples:  16%|█▌        | 67/420 [03:54<13:10,  2.24s/it]"
          ]
        },
        {
          "output_type": "stream",
          "name": "stdout",
          "text": [
            "\n",
            "\n",
            "### Instruction:\n",
            "Translate English sentences into logical form.\n",
            "\n",
            "### Input:\n",
            "Emma baked Christopher .\n",
            "\n",
            "### Response:\n",
            "Emma ( 3 ) ; Christopher ( 1 ) ; bake ( 1 ) AND agent ( 1 , 3 ) AND theme ( 1 , 1 )\n",
            "\n",
            "\n",
            "\n"
          ]
        },
        {
          "output_type": "stream",
          "name": "stderr",
          "text": [
            "\rGenerating samples:  16%|█▌        | 68/420 [03:57<14:06,  2.41s/it]"
          ]
        },
        {
          "output_type": "stream",
          "name": "stdout",
          "text": [
            "\n",
            "\n",
            "### Instruction:\n",
            "Translate English sentences into logical form.\n",
            "\n",
            "### Input:\n",
            "The cat baked the frog on the table .\n",
            "\n",
            "### Response:\n",
            "* cat ( 1 ) ; * frog ( 1 ) ; * table ( 29 ) ; nmod . on ( 1 , 29 ) AND bake ( 3 ) AND agent ( 3 , 1 ) AND theme ( 3 , 1 )\n",
            "\n",
            "\n",
            "\n"
          ]
        },
        {
          "output_type": "stream",
          "name": "stderr",
          "text": [
            "\rGenerating samples:  16%|█▋        | 69/420 [04:00<14:37,  2.50s/it]"
          ]
        },
        {
          "output_type": "stream",
          "name": "stdout",
          "text": [
            "\n",
            "\n",
            "### Instruction:\n",
            "Translate English sentences into logical form.\n",
            "\n",
            "### Input:\n",
            "Emma baked the drink beside the stool .\n",
            "\n",
            "### Response:\n",
            "Emma ( 1 ) ; * drink ( 2 ) ; * stool ( 1 ) ; nmod . beside ( 2 , 1 ) AND bake ( 1 ) AND agent ( 1 , 1 ) AND theme ( 1 , 2 )\n",
            "\n",
            "\n",
            "\n"
          ]
        },
        {
          "output_type": "stream",
          "name": "stderr",
          "text": [
            "\rGenerating samples:  17%|█▋        | 70/420 [04:01<13:22,  2.29s/it]"
          ]
        },
        {
          "output_type": "stream",
          "name": "stdout",
          "text": [
            "\n",
            "\n",
            "### Instruction:\n",
            "Translate English sentences into logical form.\n",
            "\n",
            "### Input:\n",
            "Emma baked Hannah .\n",
            "\n",
            "### Response:\n",
            "Emma ( 1 ) ; Hannah ( 1 ) ; bake ( 3 ) AND agent ( 3 , 1 ) AND theme ( 3 , 1 )\n",
            "\n",
            "\n",
            "\n"
          ]
        },
        {
          "output_type": "stream",
          "name": "stderr",
          "text": [
            "\rGenerating samples:  17%|█▋        | 71/420 [04:04<14:04,  2.42s/it]"
          ]
        },
        {
          "output_type": "stream",
          "name": "stdout",
          "text": [
            "\n",
            "\n",
            "### Instruction:\n",
            "Translate English sentences into logical form.\n",
            "\n",
            "### Input:\n",
            "Olivia baked the tool beside the table .\n",
            "\n",
            "### Response:\n",
            "Olivia ( 1 ) ; * tool ( 2 ) ; * table ( 1 ) ; nmod . beside ( 2 , 1 ) AND bake ( 1 ) AND agent ( 1 , 1 ) AND theme ( 1 , 2 )\n",
            "\n",
            "\n",
            "\n"
          ]
        },
        {
          "output_type": "stream",
          "name": "stderr",
          "text": [
            "\rGenerating samples:  17%|█▋        | 72/420 [04:07<14:34,  2.51s/it]"
          ]
        },
        {
          "output_type": "stream",
          "name": "stdout",
          "text": [
            "\n",
            "\n",
            "### Instruction:\n",
            "Translate English sentences into logical form.\n",
            "\n",
            "### Input:\n",
            "A girl baked the boy in the trap .\n",
            "\n",
            "### Response:\n",
            "girl ( 1 ) ; * boy ( 1 ) ; * trap ( 2 ) ; n nmod . in ( 1 , 2 ) AND bake ( 1 ) AND agent ( 1 , 1 ) AND theme ( 1 , 1 )\n",
            "\n",
            "\n",
            "\n"
          ]
        },
        {
          "output_type": "stream",
          "name": "stderr",
          "text": [
            "\rGenerating samples:  17%|█▋        | 73/420 [04:13<20:31,  3.55s/it]"
          ]
        },
        {
          "output_type": "stream",
          "name": "stdout",
          "text": [
            "\n",
            "\n",
            "### Instruction:\n",
            "Translate English sentences into logical form.\n",
            "\n",
            "### Input:\n",
            "A girl liked that the patient baked a donut on a windowsill .\n",
            "\n",
            "### Response:\n",
            "girl ( 1 ) ; * patient ( 1 ) ; donut ( 1 ) ; window ( 3 ) ; nmod . on ( 1 , 3 ) AND like ( 1 ) AND agent ( 1 , 1 ) AND ccomp ( 1 , 1 ) AND b ( 1 ) AND eat ( 1 ) AND agent ( 1 , 1 ) AND xcomp ( 1 , 1 ) AND b ( 1 ) AND agent ( 1 , 1 ) AND b ( 1 ) AND the ( 1 ) AND agent ( 1 , 3 )\n",
            "\n",
            "\n",
            "\n"
          ]
        },
        {
          "output_type": "stream",
          "name": "stderr",
          "text": [
            "\rGenerating samples:  18%|█▊        | 74/420 [04:18<24:12,  4.20s/it]"
          ]
        },
        {
          "output_type": "stream",
          "name": "stdout",
          "text": [
            "\n",
            "\n",
            "### Instruction:\n",
            "Translate English sentences into logical form.\n",
            "\n",
            "### Input:\n",
            "Benjamin hoped that a teacher baked the boy .\n",
            "\n",
            "### Response:\n",
            "Benjamin ( 1 ) ; teacher ( 1 ) ; * boy ( 3 ) ; hope ( 1 ) AND agent ( 1 , 1 ) AND ccomp ( 1 , 1 ) AND b ( 1 ) AND wish ( 1 ) AND agent ( 1 , 1 ) AND ccomp ( 1 , 1 ) AND b ( 1 ) AND h ( 1 ) AND agent ( 1 , 3 ) AND ccomp ( 1 , 1 ) AND b ( 1 ) AND 1 ) AND agent ( 1 , 3 )\n",
            "\n",
            "\n",
            "\n"
          ]
        },
        {
          "output_type": "stream",
          "name": "stderr",
          "text": [
            "\rGenerating samples:  18%|█▊        | 75/420 [04:20<19:59,  3.48s/it]"
          ]
        },
        {
          "output_type": "stream",
          "name": "stdout",
          "text": [
            "\n",
            "\n",
            "### Instruction:\n",
            "Translate English sentences into logical form.\n",
            "\n",
            "### Input:\n",
            "Aiden baked Liam .\n",
            "\n",
            "### Response:\n",
            "Aiden ( 1 ) ; Liam ( 1 ) ; bake ( 3 ) AND agent ( 3 , 1 ) AND theme ( 3 , 1 )\n",
            "\n",
            "\n",
            "\n"
          ]
        },
        {
          "output_type": "stream",
          "name": "stderr",
          "text": [
            "\rGenerating samples:  18%|█▊        | 76/420 [04:22<17:22,  3.03s/it]"
          ]
        },
        {
          "output_type": "stream",
          "name": "stdout",
          "text": [
            "\n",
            "\n",
            "### Instruction:\n",
            "Translate English sentences into logical form.\n",
            "\n",
            "### Input:\n",
            "The frog baked a cake .\n",
            "\n",
            "### Response:\n",
            "* frog ( 1 ) ; cake ( 3 ) ; bounce ( 14 ) AND agent ( 14 , 1 ) AND theme ( 14 , 3 )\n",
            "\n",
            "\n",
            "\n"
          ]
        },
        {
          "output_type": "stream",
          "name": "stderr",
          "text": [
            "\rGenerating samples:  18%|█▊        | 77/420 [04:25<16:42,  2.92s/it]"
          ]
        },
        {
          "output_type": "stream",
          "name": "stdout",
          "text": [
            "\n",
            "\n",
            "### Instruction:\n",
            "Translate English sentences into logical form.\n",
            "\n",
            "### Input:\n",
            "Emma baked the donut beside a table .\n",
            "\n",
            "### Response:\n",
            "Emma ( 1 ) ; * donut ( 2 ) ; table ( 1 ) ; nmod . beside ( 2 , 1 ) AND bake ( 1 ) AND agent ( 1 , 1 ) AND theme ( 1 , 2 )\n",
            "\n",
            "\n",
            "\n"
          ]
        },
        {
          "output_type": "stream",
          "name": "stderr",
          "text": [
            "\rGenerating samples:  19%|█▊        | 78/420 [04:27<14:41,  2.58s/it]"
          ]
        },
        {
          "output_type": "stream",
          "name": "stdout",
          "text": [
            "\n",
            "\n",
            "### Instruction:\n",
            "Translate English sentences into logical form.\n",
            "\n",
            "### Input:\n",
            "Carter baked Emma .\n",
            "\n",
            "### Response:\n",
            "Carter ( 1 ) ; Emma ( 1 ) ; bounce ( 3 ) AND agent ( 3 , 1 ) AND theme ( 3 , 1 )\n",
            "\n",
            "\n",
            "\n"
          ]
        },
        {
          "output_type": "stream",
          "name": "stderr",
          "text": [
            "\rGenerating samples:  19%|█▉        | 79/420 [04:29<14:45,  2.60s/it]"
          ]
        },
        {
          "output_type": "stream",
          "name": "stdout",
          "text": [
            "\n",
            "\n",
            "### Instruction:\n",
            "Translate English sentences into logical form.\n",
            "\n",
            "### Input:\n",
            "The president baked a cake in a vehicle .\n",
            "\n",
            "### Response:\n",
            "* president ( 1 ) ; cake ( 1 ) ; vehicle ( 2 ) ; nmod . in ( 1 , 2 ) AND bake ( 3 ) AND agent ( 3 , 1 ) AND theme ( 3 , 1 )\n",
            "\n",
            "\n",
            "\n"
          ]
        },
        {
          "output_type": "stream",
          "name": "stderr",
          "text": [
            "\rGenerating samples:  19%|█▉        | 80/420 [04:31<13:30,  2.38s/it]"
          ]
        },
        {
          "output_type": "stream",
          "name": "stdout",
          "text": [
            "\n",
            "\n",
            "### Instruction:\n",
            "Translate English sentences into logical form.\n",
            "\n",
            "### Input:\n",
            "The spokesman baked a pig .\n",
            "\n",
            "### Response:\n",
            "* spokesman ( 1 ) ; pig ( 1 ) ; bake ( 3 ) AND agent ( 3 , 1 ) AND theme ( 3 , 1 )\n",
            "\n",
            "\n",
            "\n"
          ]
        },
        {
          "output_type": "stream",
          "name": "stderr",
          "text": [
            "\rGenerating samples:  19%|█▉        | 81/420 [04:34<14:17,  2.53s/it]"
          ]
        },
        {
          "output_type": "stream",
          "name": "stdout",
          "text": [
            "\n",
            "\n",
            "### Instruction:\n",
            "Translate English sentences into logical form.\n",
            "\n",
            "### Input:\n",
            "A strawberry beside a machine was thrown by a lion on a box .\n",
            "\n",
            "### Response:\n",
            "stst st st st st st st l lion ( 1 ) ; lion ( 3 ) ; box ( 1 ) ; nmod . 3 ) AND throw ( 19 ) AND theme ( 19 , 1 ) AND agent ( 19 , 3 )\n",
            "\n",
            "\n",
            "\n"
          ]
        },
        {
          "output_type": "stream",
          "name": "stderr",
          "text": [
            "\rGenerating samples:  20%|█▉        | 82/420 [04:38<15:48,  2.81s/it]"
          ]
        },
        {
          "output_type": "stream",
          "name": "stdout",
          "text": [
            "\n",
            "\n",
            "### Instruction:\n",
            "Translate English sentences into logical form.\n",
            "\n",
            "### Input:\n",
            "The boy on a towel gave the frog the cake on a booklet .\n",
            "\n",
            "### Response:\n",
            "* boy ( 1 ) ; * frog ( 1 ) ; * cake ( 3 ) ; booklet ( 4 ) ; nmod . on ( 3 , 4 ) AND give ( 1 ) AND agent ( 1 , 1 ) AND recipient ( 1 , 1 ) AND theme ( 1 , 3 )\n",
            "\n",
            "\n",
            "\n"
          ]
        },
        {
          "output_type": "stream",
          "name": "stderr",
          "text": [
            "\rGenerating samples:  20%|█▉        | 83/420 [04:41<17:09,  3.06s/it]"
          ]
        },
        {
          "output_type": "stream",
          "name": "stdout",
          "text": [
            "\n",
            "\n",
            "### Instruction:\n",
            "Translate English sentences into logical form.\n",
            "\n",
            "### Input:\n",
            "The bird in a box was awarded a ball by the girl beside the machine .\n",
            "\n",
            "### Response:\n",
            "* bird ( 1 ) ; box ( 1 ) ; * girl ( 3 ) ; * machine ( 25 ) ; nmod . in ( 133 , 1 ) AND award ( 1 ) AND recipient ( 1 , 1 ) AND theme ( 1 , 13 ) AND agent ( 13 , 35 )\n",
            "\n",
            "\n",
            "\n"
          ]
        },
        {
          "output_type": "stream",
          "name": "stderr",
          "text": [
            "\rGenerating samples:  20%|██        | 84/420 [04:44<16:42,  2.98s/it]"
          ]
        },
        {
          "output_type": "stream",
          "name": "stdout",
          "text": [
            "\n",
            "\n",
            "### Instruction:\n",
            "Translate English sentences into logical form.\n",
            "\n",
            "### Input:\n",
            "A producer on a table was given the pumpkin beside a cabinet .\n",
            "\n",
            "### Response:\n",
            "producer ( 1 ) ; * pumpkin ( 1 ) ; cabinet ( 2 ) ; nmod . beside ( 13 , 2 ) AND give ( 3 ) AND recipient ( 3 , 1 ) AND theme ( 3 , 13 )\n",
            "\n",
            "\n",
            "\n"
          ]
        },
        {
          "output_type": "stream",
          "name": "stderr",
          "text": [
            "\rGenerating samples:  20%|██        | 85/420 [04:48<18:12,  3.26s/it]"
          ]
        },
        {
          "output_type": "stream",
          "name": "stdout",
          "text": [
            "\n",
            "\n",
            "### Instruction:\n",
            "Translate English sentences into logical form.\n",
            "\n",
            "### Input:\n",
            "The friend in a house beside a stage needed to sneeze .\n",
            "\n",
            "### Response:\n",
            "* friend ( 1 ) ; house ( 1 ) ; stage ( 2 ) ; stage ( 3 ) ; nmod . in ( 1 , 2 ) AND need ( 1 ) AND agent ( 1 , 1 ) AND xcomp ( 1 , 1 ) AND eat ( 1 ) AND agent ( 1 , 1 ) AND theme ( 1 , 1 )\n",
            "\n",
            "\n",
            "\n"
          ]
        },
        {
          "output_type": "stream",
          "name": "stderr",
          "text": [
            "\rGenerating samples:  20%|██        | 86/420 [04:51<17:41,  3.18s/it]"
          ]
        },
        {
          "output_type": "stream",
          "name": "stdout",
          "text": [
            "\n",
            "\n",
            "### Instruction:\n",
            "Translate English sentences into logical form.\n",
            "\n",
            "### Input:\n",
            "The cake on the bed was rolled by the girl in a tin .\n",
            "\n",
            "### Response:\n",
            "* cake ( 1 ) ; * bed ( 2 ) ; * girl ( 3 ) ; tin ( 1 ) ; nmod . on ( 1 , 1 ) AND roll ( 1 ) AND theme ( 1 , 1 ) AND agent ( 1 , 3 )\n",
            "\n",
            "\n",
            "\n"
          ]
        },
        {
          "output_type": "stream",
          "name": "stderr",
          "text": [
            "\rGenerating samples:  21%|██        | 87/420 [04:54<17:21,  3.13s/it]"
          ]
        },
        {
          "output_type": "stream",
          "name": "stdout",
          "text": [
            "\n",
            "\n",
            "### Instruction:\n",
            "Translate English sentences into logical form.\n",
            "\n",
            "### Input:\n",
            "The boy in a bush liked Ryan .\n",
            "\n",
            "### Response:\n",
            "* boy ( 1 ) ; bush ( 3 ) ; Ryan ( 1 ) ; nmod . in ( 3 , 3 ) AND sell ( 1 ) AND agent ( 1 , 1 ) AND theme ( 1 , 3 ) AND recipient ( 1 , 1 )\n",
            "\n",
            "\n",
            "\n"
          ]
        },
        {
          "output_type": "stream",
          "name": "stderr",
          "text": [
            "\rGenerating samples:  21%|██        | 88/420 [04:56<15:15,  2.76s/it]"
          ]
        },
        {
          "output_type": "stream",
          "name": "stdout",
          "text": [
            "\n",
            "\n",
            "### Instruction:\n",
            "Translate English sentences into logical form.\n",
            "\n",
            "### Input:\n",
            "The basket on the keyboard was eaten .\n",
            "\n",
            "### Response:\n",
            "* basket ( 1 ) ; * keyboard ( 1 ) ; nmod . on ( 1 , 1 ) AND eat ( 2 ) AND theme ( 2 , 1 )\n",
            "\n",
            "\n",
            "\n"
          ]
        },
        {
          "output_type": "stream",
          "name": "stderr",
          "text": [
            "\rGenerating samples:  21%|██        | 89/420 [04:58<14:25,  2.61s/it]"
          ]
        },
        {
          "output_type": "stream",
          "name": "stdout",
          "text": [
            "\n",
            "\n",
            "### Instruction:\n",
            "Translate English sentences into logical form.\n",
            "\n",
            "### Input:\n",
            "The chief beside the skull rolled Grace .\n",
            "\n",
            "### Response:\n",
            "* chief ( 1 ) ; Grace ( 1 ) ; nmod . beside ( 1 , 1 ) AND roll ( 3 ) AND agent ( 3 , 1 ) AND theme ( 3 , 1 )\n",
            "\n",
            "\n",
            "\n"
          ]
        },
        {
          "output_type": "stream",
          "name": "stderr",
          "text": [
            "\rGenerating samples:  21%|██▏       | 90/420 [05:01<14:24,  2.62s/it]"
          ]
        },
        {
          "output_type": "stream",
          "name": "stdout",
          "text": [
            "\n",
            "\n",
            "### Instruction:\n",
            "Translate English sentences into logical form.\n",
            "\n",
            "### Input:\n",
            "The duck beside a table was served the flag .\n",
            "\n",
            "### Response:\n",
            "* duck ( 1 ) ; table ( 2 ) ; table ( 3 ) ; nmod . beside ( 1 , 3 ) AND serve ( 1 ) AND recipient ( 1 , 1 ) AND theme ( 1 , 1 )\n",
            "\n",
            "\n",
            "\n"
          ]
        },
        {
          "output_type": "stream",
          "name": "stderr",
          "text": [
            "\rGenerating samples:  22%|██▏       | 91/420 [05:04<15:06,  2.76s/it]"
          ]
        },
        {
          "output_type": "stream",
          "name": "stdout",
          "text": [
            "\n",
            "\n",
            "### Instruction:\n",
            "Translate English sentences into logical form.\n",
            "\n",
            "### Input:\n",
            "The moose on the computer liked James .\n",
            "\n",
            "### Response:\n",
            "* moose ( 1 ) ; * computer ( 3 ) ; James ( 2 ) ; nmod . on ( 3 , 3 ) AND like ( 1 ) AND agent ( 1 , 1 ) AND theme ( 1 , 3 ) AND recipient ( 1 , 2 )\n",
            "\n",
            "\n",
            "\n"
          ]
        },
        {
          "output_type": "stream",
          "name": "stderr",
          "text": [
            "\rGenerating samples:  22%|██▏       | 92/420 [05:06<14:55,  2.73s/it]"
          ]
        },
        {
          "output_type": "stream",
          "name": "stdout",
          "text": [
            "\n",
            "\n",
            "### Instruction:\n",
            "Translate English sentences into logical form.\n",
            "\n",
            "### Input:\n",
            "The boy beside a yacht cleaned .\n",
            "\n",
            "### Response:\n",
            "* boy ( 1 ) ; yacht ( 3 ) ; yacht ( 1 ) ; nmod . beside ( 3 , 1 ) AND clean ( 1 ) AND agent ( 1 , 1 ) AND theme ( 1 , 1 )\n",
            "\n",
            "\n",
            "\n"
          ]
        },
        {
          "output_type": "stream",
          "name": "stderr",
          "text": [
            "\rGenerating samples:  22%|██▏       | 93/420 [05:11<17:06,  3.14s/it]"
          ]
        },
        {
          "output_type": "stream",
          "name": "stdout",
          "text": [
            "\n",
            "\n",
            "### Instruction:\n",
            "Translate English sentences into logical form.\n",
            "\n",
            "### Input:\n",
            "A cat on the computer noticed that the teacher beside the book valued the boy .\n",
            "\n",
            "### Response:\n",
            "cat ( 1 ) ; * computer ( 3 ) ; * teacher ( 1 ) ; * book ( 2 ) ; nmod . beside ( 1 , 2 ) AND value ( 1 ) AND agent ( 1 , 1 ) AND ccomp ( 1 , 1 ) AND sell ( 1 ) AND recipient ( 1 , 1 ) AND theme ( 1 , 1 )\n",
            "\n",
            "\n",
            "\n"
          ]
        },
        {
          "output_type": "stream",
          "name": "stderr",
          "text": [
            "\rGenerating samples:  22%|██▏       | 94/420 [05:12<14:13,  2.62s/it]"
          ]
        },
        {
          "output_type": "stream",
          "name": "stdout",
          "text": [
            "\n",
            "\n",
            "### Instruction:\n",
            "Translate English sentences into logical form.\n",
            "\n",
            "### Input:\n",
            "The cake on a bed was rolled .\n",
            "\n",
            "### Response:\n",
            "* cake ( 1 ) ; bed ( 2 ) ; roll ( 1 ) AND theme ( 1 , 1 )\n",
            "\n",
            "\n",
            "\n"
          ]
        },
        {
          "output_type": "stream",
          "name": "stderr",
          "text": [
            "\rGenerating samples:  23%|██▎       | 95/420 [05:14<14:03,  2.60s/it]"
          ]
        },
        {
          "output_type": "stream",
          "name": "stdout",
          "text": [
            "\n",
            "\n",
            "### Instruction:\n",
            "Translate English sentences into logical form.\n",
            "\n",
            "### Input:\n",
            "The cookie beside a bed was disintegrated by a father in the cupboard .\n",
            "\n",
            "### Response:\n",
            "* cookie ( 2 ) ; bed ( 1 ) ; nmod . beside (  2 , 1 ) AND disintegrate ( 15 ) AND theme ( 15 , 2 ) AND agent ( 15 , 1 )\n",
            "\n",
            "\n",
            "\n"
          ]
        },
        {
          "output_type": "stream",
          "name": "stderr",
          "text": [
            "\rGenerating samples:  23%|██▎       | 96/420 [05:17<14:06,  2.61s/it]"
          ]
        },
        {
          "output_type": "stream",
          "name": "stdout",
          "text": [
            "\n",
            "\n",
            "### Instruction:\n",
            "Translate English sentences into logical form.\n",
            "\n",
            "### Input:\n",
            "A rose beside a table was eaten by a king in the house .\n",
            "\n",
            "### Response:\n",
            "rose ( 1 ) ; king ( 1 ) ; * house ( 25 ) ; nmod . in ( 1 , 25 ) AND eat ( 1 ) AND theme ( 1 , 1 ) AND agent ( 1 , 1 )\n",
            "\n",
            "\n",
            "\n"
          ]
        },
        {
          "output_type": "stream",
          "name": "stderr",
          "text": [
            "\rGenerating samples:  23%|██▎       | 97/420 [05:19<13:05,  2.43s/it]"
          ]
        },
        {
          "output_type": "stream",
          "name": "stdout",
          "text": [
            "\n",
            "\n",
            "### Instruction:\n",
            "Translate English sentences into logical form.\n",
            "\n",
            "### Input:\n",
            "The cake in the room was seen .\n",
            "\n",
            "### Response:\n",
            "* cake ( 1 ) ; * room ( 1 ) ; nmod . in ( 1 , 1 ) AND see ( 2 ) AND theme ( 2 , 1 )\n",
            "\n",
            "\n",
            "\n"
          ]
        },
        {
          "output_type": "stream",
          "name": "stderr",
          "text": [
            "\rGenerating samples:  23%|██▎       | 98/420 [05:22<13:35,  2.53s/it]"
          ]
        },
        {
          "output_type": "stream",
          "name": "stdout",
          "text": [
            "\n",
            "\n",
            "### Instruction:\n",
            "Translate English sentences into logical form.\n",
            "\n",
            "### Input:\n",
            "A girl in the house forwarded Victoria a gumball in the shoe .\n",
            "\n",
            "### Response:\n",
            "girl ( 1 ) ; * house ( 1 ) ; nmod . in ( 1 , 1 ) AND offer ( 3 ) AND agent ( 3 , 1 ) AND theme ( 3 , 1 ) AND recipient ( 3 , 1 )\n",
            "\n",
            "\n",
            "\n"
          ]
        },
        {
          "output_type": "stream",
          "name": "stderr",
          "text": [
            "\rGenerating samples:  24%|██▎       | 99/420 [05:25<15:01,  2.81s/it]"
          ]
        },
        {
          "output_type": "stream",
          "name": "stdout",
          "text": [
            "\n",
            "\n",
            "### Instruction:\n",
            "Translate English sentences into logical form.\n",
            "\n",
            "### Input:\n",
            "The raisin beside the table was valued by a bear beside a stage .\n",
            "\n",
            "### Response:\n",
            "* raisin ( 1 ) ; bear ( 2 ) ; William ( 1 ) ; nmod . 1 ) ; stage ( 29 ) ; nmod . beside ( 1 , 29 ) AND value ( 18 ) AND theme ( 18 , 1 ) AND agent ( 18 , 19 )\n",
            "\n",
            "\n",
            "\n"
          ]
        },
        {
          "output_type": "stream",
          "name": "stderr",
          "text": [
            "\rGenerating samples:  24%|██▍       | 100/420 [05:28<14:42,  2.76s/it]"
          ]
        },
        {
          "output_type": "stream",
          "name": "stdout",
          "text": [
            "\n",
            "\n",
            "### Instruction:\n",
            "Translate English sentences into logical form.\n",
            "\n",
            "### Input:\n",
            "A horse in the house was given the hammer beside a bed .\n",
            "\n",
            "### Response:\n",
            "horse ( 1 ) ; * house ( 3 ) ; bed ( 1 ) ; nmod . beside ( 3 , 1 ) AND give ( 1 ) AND recipient ( 1 , 1 ) AND theme ( 1 , 3 )\n",
            "\n",
            "\n",
            "\n"
          ]
        },
        {
          "output_type": "stream",
          "name": "stderr",
          "text": [
            "\rGenerating samples:  24%|██▍       | 101/420 [05:31<14:36,  2.75s/it]"
          ]
        },
        {
          "output_type": "stream",
          "name": "stdout",
          "text": [
            "\n",
            "\n",
            "### Instruction:\n",
            "Translate English sentences into logical form.\n",
            "\n",
            "### Input:\n",
            "A cockroach cleaned the cookie on a sock .\n",
            "\n",
            "### Response:\n",
            "cockrook ( 1 ) ; * cookie ( 2 ) ; sock ( 1 ) ; nmod . on ( 2 , 1 ) AND clean ( 1 ) AND agent ( 1 , 1 ) AND theme ( 1 , 2 )\n",
            "\n",
            "\n",
            "\n"
          ]
        },
        {
          "output_type": "stream",
          "name": "stderr",
          "text": [
            "\rGenerating samples:  24%|██▍       | 102/420 [05:33<13:13,  2.49s/it]"
          ]
        },
        {
          "output_type": "stream",
          "name": "stdout",
          "text": [
            "\n",
            "\n",
            "### Instruction:\n",
            "Translate English sentences into logical form.\n",
            "\n",
            "### Input:\n",
            "The cockroach slid a guest .\n",
            "\n",
            "### Response:\n",
            "* cockroach ( 1 ) ; guest ( 3 ) ; slide ( 1 ) AND theme ( 1 , 1 ) AND recipient ( 1 , 3 )\n",
            "\n",
            "\n",
            "\n"
          ]
        },
        {
          "output_type": "stream",
          "name": "stderr",
          "text": [
            "\rGenerating samples:  25%|██▍       | 103/420 [05:35<13:26,  2.54s/it]"
          ]
        },
        {
          "output_type": "stream",
          "name": "stdout",
          "text": [
            "\n",
            "\n",
            "### Instruction:\n",
            "Translate English sentences into logical form.\n",
            "\n",
            "### Input:\n",
            "The cockroach lended the girl the cake .\n",
            "\n",
            "### Response:\n",
            "* cock ( 1 ) ; * girl ( 1 ) ; * cake ( 3 ) ; lend ( 1 ) AND agent ( 1 , 1 ) AND recipient ( 1 , 1 ) AND theme ( 1 , 3 )\n",
            "\n",
            "\n",
            "\n"
          ]
        },
        {
          "output_type": "stream",
          "name": "stderr",
          "text": [
            "\rGenerating samples:  25%|██▍       | 104/420 [05:37<12:24,  2.36s/it]"
          ]
        },
        {
          "output_type": "stream",
          "name": "stdout",
          "text": [
            "\n",
            "\n",
            "### Instruction:\n",
            "Translate English sentences into logical form.\n",
            "\n",
            "### Input:\n",
            "A cockroach burned the sandwich .\n",
            "\n",
            "### Response:\n",
            "cockrock ( 1 ) ; * sandwich ( 3 ) ; burn ( 1 ) AND agent ( 1 , 1 ) AND theme ( 1 , 3 )\n",
            "\n",
            "\n",
            "\n"
          ]
        },
        {
          "output_type": "stream",
          "name": "stderr",
          "text": [
            "\rGenerating samples:  25%|██▌       | 105/420 [05:40<12:46,  2.43s/it]"
          ]
        },
        {
          "output_type": "stream",
          "name": "stdout",
          "text": [
            "\n",
            "\n",
            "### Instruction:\n",
            "Translate English sentences into logical form.\n",
            "\n",
            "### Input:\n",
            "The cockroach lended the child a cake .\n",
            "\n",
            "### Response:\n",
            "* cock ( 1 ) ; * child ( 3 ) ; cake ( 1 ) ; lend ( 1 ) AND agent ( 1 , 1 ) AND recipient ( 1 , 3 ) AND theme ( 1 , 1 )\n",
            "\n",
            "\n",
            "\n"
          ]
        },
        {
          "output_type": "stream",
          "name": "stderr",
          "text": [
            "\rGenerating samples:  25%|██▌       | 106/420 [05:42<11:55,  2.28s/it]"
          ]
        },
        {
          "output_type": "stream",
          "name": "stdout",
          "text": [
            "\n",
            "\n",
            "### Instruction:\n",
            "Translate English sentences into logical form.\n",
            "\n",
            "### Input:\n",
            "The cockroach split Isabella .\n",
            "\n",
            "### Response:\n",
            "* cockro ( 1 ) ; Isabella ( 1 ) ; split ( 3 ) AND theme ( 3 , 1 ) AND recipient ( 3 , 1 )\n",
            "\n",
            "\n",
            "\n"
          ]
        },
        {
          "output_type": "stream",
          "name": "stderr",
          "text": [
            "\rGenerating samples:  25%|██▌       | 107/420 [05:44<12:21,  2.37s/it]"
          ]
        },
        {
          "output_type": "stream",
          "name": "stdout",
          "text": [
            "\n",
            "\n",
            "### Instruction:\n",
            "Translate English sentences into logical form.\n",
            "\n",
            "### Input:\n",
            "A cockroach fed the girl the cake .\n",
            "\n",
            "### Response:\n",
            "cock ( 1 ) ; * girl ( 1 ) ; * cake ( 3 ) ; feed ( 1 ) AND agent ( 1 , 1 ) AND recipient ( 1 , 1 ) AND theme ( 1 , 3 )\n",
            "\n",
            "\n",
            "\n"
          ]
        },
        {
          "output_type": "stream",
          "name": "stderr",
          "text": [
            "\rGenerating samples:  26%|██▌       | 108/420 [05:47<12:30,  2.40s/it]"
          ]
        },
        {
          "output_type": "stream",
          "name": "stdout",
          "text": [
            "\n",
            "\n",
            "### Instruction:\n",
            "Translate English sentences into logical form.\n",
            "\n",
            "### Input:\n",
            "William hoped that a cockroach ate .\n",
            "\n",
            "### Response:\n",
            "William ( 1 ) ; cock ( 3 ) ; hope ( 1 ) AND agent ( 1 , 1 ) AND ccomp ( 1 , 1 ) AND eat ( 1 ) AND theme ( 1 , 3 )\n",
            "\n",
            "\n",
            "\n"
          ]
        },
        {
          "output_type": "stream",
          "name": "stderr",
          "text": [
            "\rGenerating samples:  26%|██▌       | 109/420 [05:48<10:28,  2.02s/it]"
          ]
        },
        {
          "output_type": "stream",
          "name": "stdout",
          "text": [
            "\n",
            "\n",
            "### Instruction:\n",
            "Translate English sentences into logical form.\n",
            "\n",
            "### Input:\n",
            "A cockroach observed .\n",
            "\n",
            "### Response:\n",
            "cockrock ( 1 ) ; observe ( 1 ) AND theme ( 1 , 1 )\n",
            "\n",
            "\n",
            "\n"
          ]
        },
        {
          "output_type": "stream",
          "name": "stderr",
          "text": [
            "\rGenerating samples:  26%|██▌       | 110/420 [05:52<12:49,  2.48s/it]"
          ]
        },
        {
          "output_type": "stream",
          "name": "stdout",
          "text": [
            "\n",
            "\n",
            "### Instruction:\n",
            "Translate English sentences into logical form.\n",
            "\n",
            "### Input:\n",
            "The cockroach passed a judge the donut on the stage .\n",
            "\n",
            "### Response:\n",
            "* cock ( 1 ) ; judge ( 1 ) ; * donut ( 1 ) ; * stage ( 2 ) ; nmod . on ( 13 , 2 ) AND pass ( 1 ) AND agent ( 1 , 1 ) AND recipient ( 1 , 1 ) AND theme ( 1 , 13 )\n",
            "\n",
            "\n",
            "\n"
          ]
        },
        {
          "output_type": "stream",
          "name": "stderr",
          "text": [
            "\rGenerating samples:  26%|██▋       | 111/420 [05:57<17:12,  3.34s/it]"
          ]
        },
        {
          "output_type": "stream",
          "name": "stdout",
          "text": [
            "\n",
            "\n",
            "### Instruction:\n",
            "Translate English sentences into logical form.\n",
            "\n",
            "### Input:\n",
            "A girl hoped that the cockroach gave a cake beside the bed to a cat .\n",
            "\n",
            "### Response:\n",
            "girl ( 1 ) ; * cock ( 3 ) ; cake ( 1 ) ; * bed ( 2 ) ; cat ( 3 ) ; nmod . beside ( 1 , 2 ) AND hope ( 1 ) AND agent ( 1 , 1 ) AND ccomp ( 1 , 1 ) AND give ( 1 ) AND agent ( 1 , 3 ) AND recipient ( 1 , 3 ) AND theme ( 1 , 1 ) AND recipient ( 1 , 3 )\n",
            "\n",
            "\n",
            "\n"
          ]
        },
        {
          "output_type": "stream",
          "name": "stderr",
          "text": [
            "\rGenerating samples:  27%|██▋       | 112/420 [05:59<14:51,  2.90s/it]"
          ]
        },
        {
          "output_type": "stream",
          "name": "stdout",
          "text": [
            "\n",
            "\n",
            "### Instruction:\n",
            "Translate English sentences into logical form.\n",
            "\n",
            "### Input:\n",
            "A cockroach liked the cake .\n",
            "\n",
            "### Response:\n",
            "cockro ( 1 ) ; * cake ( 3 ) ; like ( 1 ) AND agent ( 1 , 1 ) AND theme ( 1 , 3 )\n",
            "\n",
            "\n",
            "\n"
          ]
        },
        {
          "output_type": "stream",
          "name": "stderr",
          "text": [
            "\rGenerating samples:  27%|██▋       | 113/420 [06:01<14:29,  2.83s/it]"
          ]
        },
        {
          "output_type": "stream",
          "name": "stdout",
          "text": [
            "\n",
            "\n",
            "### Instruction:\n",
            "Translate English sentences into logical form.\n",
            "\n",
            "### Input:\n",
            "The cockroach lended Charlotte the cookie .\n",
            "\n",
            "### Response:\n",
            "* cockroach ( 1 ) ; Charlotte ( 3 ) ; * cookie ( 1 ) ; lend ( 1 ) AND agent ( 1 , 1 ) AND recipient ( 1 , 3 ) AND theme ( 1 , 1 )\n",
            "\n",
            "\n",
            "\n"
          ]
        },
        {
          "output_type": "stream",
          "name": "stderr",
          "text": [
            "\rGenerating samples:  27%|██▋       | 114/420 [06:04<14:10,  2.78s/it]"
          ]
        },
        {
          "output_type": "stream",
          "name": "stdout",
          "text": [
            "\n",
            "\n",
            "### Instruction:\n",
            "Translate English sentences into logical form.\n",
            "\n",
            "### Input:\n",
            "The cockroach passed Emma a cake .\n",
            "\n",
            "### Response:\n",
            "* cockrock ( 1 ) ; Emma ( 3 ) ; cake ( 1 ) ; pass ( 1 ) AND agent ( 1 , 1 ) AND recipient ( 1 , 3 ) AND theme ( 1 , 1 )\n",
            "\n",
            "\n",
            "\n"
          ]
        },
        {
          "output_type": "stream",
          "name": "stderr",
          "text": [
            "\rGenerating samples:  27%|██▋       | 115/420 [06:05<11:41,  2.30s/it]"
          ]
        },
        {
          "output_type": "stream",
          "name": "stdout",
          "text": [
            "\n",
            "\n",
            "### Instruction:\n",
            "Translate English sentences into logical form.\n",
            "\n",
            "### Input:\n",
            "The cockroach studied .\n",
            "\n",
            "### Response:\n",
            "* cockrock ( 1 ) ; study ( 1 ) AND theme ( 1 , 1 )\n",
            "\n",
            "\n",
            "\n"
          ]
        },
        {
          "output_type": "stream",
          "name": "stderr",
          "text": [
            "\rGenerating samples:  28%|██▊       | 116/420 [06:07<10:56,  2.16s/it]"
          ]
        },
        {
          "output_type": "stream",
          "name": "stdout",
          "text": [
            "\n",
            "\n",
            "### Instruction:\n",
            "Translate English sentences into logical form.\n",
            "\n",
            "### Input:\n",
            "A cockroach painted Lucas .\n",
            "\n",
            "### Response:\n",
            "cockrook ( 1 ) ; Lucas ( 1 ) ; paint ( 3 ) AND agent ( 3 , 1 ) AND theme ( 3 , 1 )\n",
            "\n",
            "\n",
            "\n"
          ]
        },
        {
          "output_type": "stream",
          "name": "stderr",
          "text": [
            "\rGenerating samples:  28%|██▊       | 117/420 [06:11<13:12,  2.62s/it]"
          ]
        },
        {
          "output_type": "stream",
          "name": "stdout",
          "text": [
            "\n",
            "\n",
            "### Instruction:\n",
            "Translate English sentences into logical form.\n",
            "\n",
            "### Input:\n",
            "Nora said that the cockroach painted the box on a table .\n",
            "\n",
            "### Response:\n",
            "Nora ( 1 ) ; * cock ( 1 ) ; * box ( 3 ) ; table ( 1 ) ; nmod . on ( 3 , 1 ) AND say ( 1 ) AND agent ( 1 , 1 ) AND ccomp ( 1 , 1 ) AND paint ( 1 ) AND theme ( 1 , 3 )\n",
            "\n",
            "\n",
            "\n"
          ]
        },
        {
          "output_type": "stream",
          "name": "stderr",
          "text": [
            "\rGenerating samples:  28%|██▊       | 118/420 [06:14<14:17,  2.84s/it]"
          ]
        },
        {
          "output_type": "stream",
          "name": "stdout",
          "text": [
            "\n",
            "\n",
            "### Instruction:\n",
            "Translate English sentences into logical form.\n",
            "\n",
            "### Input:\n",
            "Emma liked that the cockroach ate .\n",
            "\n",
            "### Response:\n",
            "Emma ( 1 ) ; * cockroach ( 2 ) ; eat ( 1 ) ; like ( 1 ) AND agent ( 1 , 1 ) AND ccomp ( 1 , 1 ) AND eat ( 1 ) AND theme ( 1 , 2 ) AND recipient ( 1 , 2 )\n",
            "\n",
            "\n",
            "\n"
          ]
        },
        {
          "output_type": "stream",
          "name": "stderr",
          "text": [
            "\rGenerating samples:  28%|██▊       | 119/420 [06:17<13:36,  2.71s/it]"
          ]
        },
        {
          "output_type": "stream",
          "name": "stdout",
          "text": [
            "\n",
            "\n",
            "### Instruction:\n",
            "Translate English sentences into logical form.\n",
            "\n",
            "### Input:\n",
            "A cockroach liked a strawberry on the mattress .\n",
            "\n",
            "### Response:\n",
            "cockro ( 1 ) ; st stoney ( 3 ) ; nmod . on ( 3 , 1 ) AND sell ( 1 ) AND agent ( 1 , 1 ) AND theme ( 1 , 3 )\n",
            "\n",
            "\n",
            "\n"
          ]
        },
        {
          "output_type": "stream",
          "name": "stderr",
          "text": [
            "\rGenerating samples:  29%|██▊       | 120/420 [06:20<15:21,  3.07s/it]"
          ]
        },
        {
          "output_type": "stream",
          "name": "stdout",
          "text": [
            "\n",
            "\n",
            "### Instruction:\n",
            "Translate English sentences into logical form.\n",
            "\n",
            "### Input:\n",
            "The girl said that the cockroach dreamed to read .\n",
            "\n",
            "### Response:\n",
            "* girl ( 1 ) ; * cockroach ( 3 ) ; say ( 1 ) AND agent ( 1 , 1 ) AND ccomp ( 1 , 1 ) AND dream ( 1 ) AND agent ( 1 , 3 ) AND xcomp ( 1 , 33 ) AND dream ( 33 ) AND agent ( 33 , 3 )\n",
            "\n",
            "\n",
            "\n"
          ]
        },
        {
          "output_type": "stream",
          "name": "stderr",
          "text": [
            "\rGenerating samples:  29%|██▉       | 121/420 [06:24<15:52,  3.19s/it]"
          ]
        },
        {
          "output_type": "stream",
          "name": "stdout",
          "text": [
            "\n",
            "\n",
            "### Instruction:\n",
            "Translate English sentences into logical form.\n",
            "\n",
            "### Input:\n",
            "Charlie offered a flag beside a trophy to Liam .\n",
            "\n",
            "### Response:\n",
            "Charlotte ( 1 ) ; flag ( 1 ) ; trophy ( 3 ) ; Liam ( 1 ) ; nmod . beside ( 1 , 3 ) AND offer ( 1 ) AND agent ( 1 , 1 ) AND theme ( 1 , 1 ) AND recipient ( 1 , 13 )\n",
            "\n",
            "\n",
            "\n"
          ]
        },
        {
          "output_type": "stream",
          "name": "stderr",
          "text": [
            "\rGenerating samples:  29%|██▉       | 122/420 [06:27<14:58,  3.02s/it]"
          ]
        },
        {
          "output_type": "stream",
          "name": "stdout",
          "text": [
            "\n",
            "\n",
            "### Instruction:\n",
            "Translate English sentences into logical form.\n",
            "\n",
            "### Input:\n",
            "Charlie studied a shell in the house .\n",
            "\n",
            "### Response:\n",
            "Charlotte ( 1 ) ; shell ( 1 ) ; * house ( 2 ) ; nmod . in ( 1 , 2 ) AND study ( 1 ) AND agent ( 1 , 1 ) AND theme ( 1 , 1 )\n",
            "\n",
            "\n",
            "\n"
          ]
        },
        {
          "output_type": "stream",
          "name": "stderr",
          "text": [
            "\rGenerating samples:  29%|██▉       | 123/420 [06:28<13:12,  2.67s/it]"
          ]
        },
        {
          "output_type": "stream",
          "name": "stdout",
          "text": [
            "\n",
            "\n",
            "### Instruction:\n",
            "Translate English sentences into logical form.\n",
            "\n",
            "### Input:\n",
            "Charlie rolled the doll .\n",
            "\n",
            "### Response:\n",
            "Charlie ( 19 ) ; * doll ( 2 ) ; roll ( 1 ) AND agent ( 1 , 19 ) AND theme ( 1 , 2 )\n",
            "\n",
            "\n",
            "\n"
          ]
        },
        {
          "output_type": "stream",
          "name": "stderr",
          "text": [
            "\rGenerating samples:  30%|██▉       | 124/420 [06:31<13:12,  2.68s/it]"
          ]
        },
        {
          "output_type": "stream",
          "name": "stdout",
          "text": [
            "\n",
            "\n",
            "### Instruction:\n",
            "Translate English sentences into logical form.\n",
            "\n",
            "### Input:\n",
            "Charlie helped a donut on the table .\n",
            "\n",
            "### Response:\n",
            "Charlie ( 1 ) ; donut ( 1 ) ; * table ( 1 ) ; nmod . on ( 13 , 1 ) AND help ( 1 ) AND agent ( 1 , 1 ) AND theme ( 1 , 1 )\n",
            "\n",
            "\n",
            "\n"
          ]
        },
        {
          "output_type": "stream",
          "name": "stderr",
          "text": [
            "\rGenerating samples:  30%|██▉       | 125/420 [06:34<13:04,  2.66s/it]"
          ]
        },
        {
          "output_type": "stream",
          "name": "stdout",
          "text": [
            "\n",
            "\n",
            "### Instruction:\n",
            "Translate English sentences into logical form.\n",
            "\n",
            "### Input:\n",
            "Charlie ate the cookie on a table .\n",
            "\n",
            "### Response:\n",
            "Charlie ( 1 ) ; * cookie ( 2 ) ; table ( 3 ) ; nmod . on ( 2 , 33 ) AND eat ( 1 ) AND agent ( 1 , 1 ) AND theme ( 1 , 2 )\n",
            "\n",
            "\n",
            "\n"
          ]
        },
        {
          "output_type": "stream",
          "name": "stderr",
          "text": [
            "\rGenerating samples:  30%|███       | 126/420 [06:37<14:12,  2.90s/it]"
          ]
        },
        {
          "output_type": "stream",
          "name": "stdout",
          "text": [
            "\n",
            "\n",
            "### Instruction:\n",
            "Translate English sentences into logical form.\n",
            "\n",
            "### Input:\n",
            "Charlie gave the cake on a seat to the girl .\n",
            "\n",
            "### Response:\n",
            "Charlotte ( 1 ) ; * cake ( 3 ) ; seat ( 2 ) ; * girl ( 1 ) ; nmod . on ( 3 , 2 ) AND give ( 1 ) AND agent ( 1 , 1 ) AND theme ( 1 , 3 ) AND recipient ( 1 , 1 )\n",
            "\n",
            "\n",
            "\n"
          ]
        },
        {
          "output_type": "stream",
          "name": "stderr",
          "text": [
            "\rGenerating samples:  30%|███       | 127/420 [06:39<12:33,  2.57s/it]"
          ]
        },
        {
          "output_type": "stream",
          "name": "stdout",
          "text": [
            "\n",
            "\n",
            "### Instruction:\n",
            "Translate English sentences into logical form.\n",
            "\n",
            "### Input:\n",
            "Charlie inflated Lily .\n",
            "\n",
            "### Response:\n",
            "Charlie ( 1 ) ; Lily ( 1 ) ; inflate ( 3 ) AND agent ( 3 , 1 ) AND theme ( 3 , 1 )\n",
            "\n",
            "\n",
            "\n"
          ]
        },
        {
          "output_type": "stream",
          "name": "stderr",
          "text": [
            "\rGenerating samples:  30%|███       | 128/420 [06:42<12:41,  2.61s/it]"
          ]
        },
        {
          "output_type": "stream",
          "name": "stdout",
          "text": [
            "\n",
            "\n",
            "### Instruction:\n",
            "Translate English sentences into logical form.\n",
            "\n",
            "### Input:\n",
            "Charlie gave a cookie to a girl .\n",
            "\n",
            "### Response:\n",
            "Charlotte ( 1 ) ; cookie ( 3 ) ; girl ( 2 ) ; give ( 19 ) AND agent ( 19 , 1 ) AND theme ( 19 , 3 ) AND recipient ( 19 , 2 )\n",
            "\n",
            "\n",
            "\n"
          ]
        },
        {
          "output_type": "stream",
          "name": "stderr",
          "text": [
            "\rGenerating samples:  31%|███       | 129/420 [06:44<12:40,  2.61s/it]"
          ]
        },
        {
          "output_type": "stream",
          "name": "stdout",
          "text": [
            "\n",
            "\n",
            "### Instruction:\n",
            "Translate English sentences into logical form.\n",
            "\n",
            "### Input:\n",
            "Charlie ate the girl on a stage .\n",
            "\n",
            "### Response:\n",
            "Charlotte ( 1 ) ; * girl ( 1 ) ; stage ( 2 ) ; nmod . on ( 1 , 2 ) AND eat ( 1 ) AND agent ( 1 , 1 ) AND theme ( 1 , 1 )\n",
            "\n",
            "\n",
            "\n"
          ]
        },
        {
          "output_type": "stream",
          "name": "stderr",
          "text": [
            "\rGenerating samples:  31%|███       | 130/420 [06:48<13:55,  2.88s/it]"
          ]
        },
        {
          "output_type": "stream",
          "name": "stdout",
          "text": [
            "\n",
            "\n",
            "### Instruction:\n",
            "Translate English sentences into logical form.\n",
            "\n",
            "### Input:\n",
            "Charlie offered Savannah the cake on a bed .\n",
            "\n",
            "### Response:\n",
            "Charlotte ( 1 ) ; Savannah ( 3 ) ; * cake ( 4 ) ; bed ( 1 ) ; nmod . on ( 4 , 1 ) AND offer ( 1 ) AND agent ( 1 , 1 ) AND recipient ( 1 , 3 ) AND theme ( 1 , 4 )\n",
            "\n",
            "\n",
            "\n"
          ]
        },
        {
          "output_type": "stream",
          "name": "stderr",
          "text": [
            "\rGenerating samples:  31%|███       | 131/420 [06:50<12:30,  2.60s/it]"
          ]
        },
        {
          "output_type": "stream",
          "name": "stdout",
          "text": [
            "\n",
            "\n",
            "### Instruction:\n",
            "Translate English sentences into logical form.\n",
            "\n",
            "### Input:\n",
            "Charlie rolled Isabella .\n",
            "\n",
            "### Response:\n",
            "Charlotte ( 1 ) ; Isabella ( 2 ) ; roll ( 19 ) AND agent ( 19 , 1 ) AND theme ( 19 , 2 )\n",
            "\n",
            "\n",
            "\n"
          ]
        },
        {
          "output_type": "stream",
          "name": "stderr",
          "text": [
            "\rGenerating samples:  31%|███▏      | 132/420 [06:52<11:30,  2.40s/it]"
          ]
        },
        {
          "output_type": "stream",
          "name": "stdout",
          "text": [
            "\n",
            "\n",
            "### Instruction:\n",
            "Translate English sentences into logical form.\n",
            "\n",
            "### Input:\n",
            "Charlie liked Harper .\n",
            "\n",
            "### Response:\n",
            "Charlotte ( 1 ) ; Harper ( 3 ) ; like ( 14 ) AND agent ( 14 , 1 ) AND theme ( 14 , 3 )\n",
            "\n",
            "\n",
            "\n"
          ]
        },
        {
          "output_type": "stream",
          "name": "stderr",
          "text": [
            "\rGenerating samples:  32%|███▏      | 133/420 [06:54<11:48,  2.47s/it]"
          ]
        },
        {
          "output_type": "stream",
          "name": "stdout",
          "text": [
            "\n",
            "\n",
            "### Instruction:\n",
            "Translate English sentences into logical form.\n",
            "\n",
            "### Input:\n",
            "Charlie liked the crystal in a car .\n",
            "\n",
            "### Response:\n",
            "Charlotte ( 1 ) ; * crystal ( 3 ) ; car ( 1 ) ; nmod . in ( 3 , 1 ) AND like ( 1 ) AND agent ( 1 , 1 ) AND theme ( 1 , 3 )\n",
            "\n",
            "\n",
            "\n"
          ]
        },
        {
          "output_type": "stream",
          "name": "stderr",
          "text": [
            "\rGenerating samples:  32%|███▏      | 134/420 [06:57<12:04,  2.53s/it]"
          ]
        },
        {
          "output_type": "stream",
          "name": "stdout",
          "text": [
            "\n",
            "\n",
            "### Instruction:\n",
            "Translate English sentences into logical form.\n",
            "\n",
            "### Input:\n",
            "Charlie fed the zebra the nail .\n",
            "\n",
            "### Response:\n",
            "Charlotte ( 1 ) ; * zebra ( 3 ) ; * nail ( 1 ) ; feed ( 3 ) AND agent ( 3 , 1 ) AND recipient ( 3 , 3 ) AND theme ( 3 , 1 )\n",
            "\n",
            "\n",
            "\n"
          ]
        },
        {
          "output_type": "stream",
          "name": "stderr",
          "text": [
            "\rGenerating samples:  32%|███▏      | 135/420 [07:00<12:12,  2.57s/it]"
          ]
        },
        {
          "output_type": "stream",
          "name": "stdout",
          "text": [
            "\n",
            "\n",
            "### Instruction:\n",
            "Translate English sentences into logical form.\n",
            "\n",
            "### Input:\n",
            "Charlie gave the puppy the chemical .\n",
            "\n",
            "### Response:\n",
            "Charlotte ( 1 ) ; * puppy ( 1 ) ; * chemical ( 2 ) ; give ( 1 ) AND agent ( 1 , 1 ) AND recipient ( 1 , 1 ) AND theme ( 1 , 2 )\n",
            "\n",
            "\n",
            "\n"
          ]
        },
        {
          "output_type": "stream",
          "name": "stderr",
          "text": [
            "\rGenerating samples:  32%|███▏      | 136/420 [07:03<13:10,  2.78s/it]"
          ]
        },
        {
          "output_type": "stream",
          "name": "stdout",
          "text": [
            "\n",
            "\n",
            "### Instruction:\n",
            "Translate English sentences into logical form.\n",
            "\n",
            "### Input:\n",
            "Thomas said that Charlie ate the cookie .\n",
            "\n",
            "### Response:\n",
            "Thomas ( 1 ) ; Charlotte ( 2 ) ; * cookie ( 3 ) ; say ( 1 ) AND agent ( 1 , 1 ) AND ccomp ( 1 , 1 ) AND eat ( 1 ) AND agent ( 1 , 2 ) AND theme ( 1 , 33 )\n",
            "\n",
            "\n",
            "\n"
          ]
        },
        {
          "output_type": "stream",
          "name": "stderr",
          "text": [
            "\rGenerating samples:  33%|███▎      | 137/420 [07:06<13:00,  2.76s/it]"
          ]
        },
        {
          "output_type": "stream",
          "name": "stdout",
          "text": [
            "\n",
            "\n",
            "### Instruction:\n",
            "Translate English sentences into logical form.\n",
            "\n",
            "### Input:\n",
            "Charlie inflated the cake on a table .\n",
            "\n",
            "### Response:\n",
            "Charlie ( 1 ) ; * cake ( 2 ) ; table ( 3 ) ; nmod . on ( 2 , 33 ) AND inflate ( 1 ) AND agent ( 1 , 1 ) AND theme ( 1 , 2 )\n",
            "\n",
            "\n",
            "\n"
          ]
        },
        {
          "output_type": "stream",
          "name": "stderr",
          "text": [
            "\rGenerating samples:  33%|███▎      | 138/420 [07:08<12:58,  2.76s/it]"
          ]
        },
        {
          "output_type": "stream",
          "name": "stdout",
          "text": [
            "\n",
            "\n",
            "### Instruction:\n",
            "Translate English sentences into logical form.\n",
            "\n",
            "### Input:\n",
            "Charlie sketched the girl in the car .\n",
            "\n",
            "### Response:\n",
            "Charlotte ( 1 ) ; * girl ( 1 ) ; * car ( 20 ) ; nmod . in ( 13 , 20 ) AND sketch ( 1 ) AND agent ( 1 , 1 ) AND theme ( 1 , 1 )\n",
            "\n",
            "\n",
            "\n"
          ]
        },
        {
          "output_type": "stream",
          "name": "stderr",
          "text": [
            "\rGenerating samples:  33%|███▎      | 139/420 [07:11<12:49,  2.74s/it]"
          ]
        },
        {
          "output_type": "stream",
          "name": "stdout",
          "text": [
            "\n",
            "\n",
            "### Instruction:\n",
            "Translate English sentences into logical form.\n",
            "\n",
            "### Input:\n",
            "Charlie painted a girl beside a table .\n",
            "\n",
            "### Response:\n",
            "Charlie ( 1 ) ; girl ( 1 ) ; table ( 19 ) ; nmod . beside ( 1 , 19 ) AND paint ( 3 ) AND agent ( 3 , 1 ) AND theme ( 3 , 1 )\n",
            "\n",
            "\n",
            "\n"
          ]
        },
        {
          "output_type": "stream",
          "name": "stderr",
          "text": [
            "\rGenerating samples:  33%|███▎      | 140/420 [07:14<12:39,  2.71s/it]"
          ]
        },
        {
          "output_type": "stream",
          "name": "stdout",
          "text": [
            "\n",
            "\n",
            "### Instruction:\n",
            "Translate English sentences into logical form.\n",
            "\n",
            "### Input:\n",
            "Charlie helped a cake beside a beast .\n",
            "\n",
            "### Response:\n",
            "Charlotte ( 1 ) ; cake ( 2 ) ; beast ( 3 ) ; nmod . beside ( 2 , 3 ) AND help ( 1 ) AND agent ( 1 , 1 ) AND theme ( 1 , 2 )\n",
            "\n",
            "\n",
            "\n"
          ]
        },
        {
          "output_type": "stream",
          "name": "stderr",
          "text": [
            "\rGenerating samples:  34%|███▎      | 141/420 [07:16<12:26,  2.67s/it]"
          ]
        },
        {
          "output_type": "stream",
          "name": "stdout",
          "text": [
            "\n",
            "\n",
            "### Instruction:\n",
            "Translate English sentences into logical form.\n",
            "\n",
            "### Input:\n",
            "A coach liked that the cobra rolled .\n",
            "\n",
            "### Response:\n",
            "coach ( 1 ) ; * cobra ( 1 ) ; like ( 1 ) AND agent ( 1 , 1 ) AND ccomp ( 1 , 1 ) AND roll ( 1 ) AND theme ( 1 , 1 )\n",
            "\n",
            "\n",
            "\n"
          ]
        },
        {
          "output_type": "stream",
          "name": "stderr",
          "text": [
            "\rGenerating samples:  34%|███▍      | 142/420 [07:19<12:26,  2.68s/it]"
          ]
        },
        {
          "output_type": "stream",
          "name": "stdout",
          "text": [
            "\n",
            "\n",
            "### Instruction:\n",
            "Translate English sentences into logical form.\n",
            "\n",
            "### Input:\n",
            "Emma declared that a cobra split .\n",
            "\n",
            "### Response:\n",
            "Emma ( 1 ) ; cobra ( 1 ) ; declare ( 14 ) AND agent ( 14 , 1 ) AND ccomp ( 14 , 1 ) AND split ( 1 ) AND theme ( 1 , 1 )\n",
            "\n",
            "\n",
            "\n"
          ]
        },
        {
          "output_type": "stream",
          "name": "stderr",
          "text": [
            "\rGenerating samples:  34%|███▍      | 143/420 [07:24<15:24,  3.34s/it]"
          ]
        },
        {
          "output_type": "stream",
          "name": "stdout",
          "text": [
            "\n",
            "\n",
            "### Instruction:\n",
            "Translate English sentences into logical form.\n",
            "\n",
            "### Input:\n",
            "Lily wished that the cobra floated .\n",
            "\n",
            "### Response:\n",
            "LLLLL* c* cra ( 1 ) ; wish ( 1 ) AND agent ( 1 , 1 ) AND ccomp ( 1 , 1 ) AND wish ( 1 ) AND agent ( 1 , 1 ) AND xcomp ( 1 , 1 ) AND wish ( 1 ) AND agent ( 1 , 1 ) AND ccomp ( 1 , 1 ) AND float ( 1 ) AND agent ( 1 , 1 )\n",
            "\n",
            "\n",
            "\n"
          ]
        },
        {
          "output_type": "stream",
          "name": "stderr",
          "text": [
            "\rGenerating samples:  34%|███▍      | 144/420 [07:27<14:34,  3.17s/it]"
          ]
        },
        {
          "output_type": "stream",
          "name": "stdout",
          "text": [
            "\n",
            "\n",
            "### Instruction:\n",
            "Translate English sentences into logical form.\n",
            "\n",
            "### Input:\n",
            "Amelia supported that the cobra rolled .\n",
            "\n",
            "### Response:\n",
            "Amelia ( 1 ) ; * cobra ( 1 ) ; support ( 14 ) AND agent ( 14 , 1 ) AND ccomp ( 14 , 1 ) AND roll ( 1 ) AND theme ( 1 , 1 )\n",
            "\n",
            "\n",
            "\n"
          ]
        },
        {
          "output_type": "stream",
          "name": "stderr",
          "text": [
            "\rGenerating samples:  35%|███▍      | 145/420 [07:29<13:45,  3.00s/it]"
          ]
        },
        {
          "output_type": "stream",
          "name": "stdout",
          "text": [
            "\n",
            "\n",
            "### Instruction:\n",
            "Translate English sentences into logical form.\n",
            "\n",
            "### Input:\n",
            "Emily confessed that a cobra burned .\n",
            "\n",
            "### Response:\n",
            "Emily ( 1 ) ; cobra ( 2 ) ; confess ( 3 ) AND agent ( 3 , 1 ) AND ccomp ( 3 , 1 ) AND burn ( 1 ) AND theme ( 1 , 2 )\n",
            "\n",
            "\n",
            "\n"
          ]
        },
        {
          "output_type": "stream",
          "name": "stderr",
          "text": [
            "\rGenerating samples:  35%|███▍      | 146/420 [07:32<13:15,  2.90s/it]"
          ]
        },
        {
          "output_type": "stream",
          "name": "stdout",
          "text": [
            "\n",
            "\n",
            "### Instruction:\n",
            "Translate English sentences into logical form.\n",
            "\n",
            "### Input:\n",
            "The dog tolerated that the cobra rolled .\n",
            "\n",
            "### Response:\n",
            "* dog ( 1 ) ; * cobra ( 1 ) ; tolerate ( 3 ) AND agent ( 3 , 1 ) AND ccomp ( 3 , 1 ) AND roll ( 1 ) AND theme ( 1 , 1 )\n",
            "\n",
            "\n",
            "\n"
          ]
        },
        {
          "output_type": "stream",
          "name": "stderr",
          "text": [
            "\rGenerating samples:  35%|███▌      | 147/420 [07:35<12:48,  2.82s/it]"
          ]
        },
        {
          "output_type": "stream",
          "name": "stdout",
          "text": [
            "\n",
            "\n",
            "### Instruction:\n",
            "Translate English sentences into logical form.\n",
            "\n",
            "### Input:\n",
            "Ella dreamed that the cobra slid .\n",
            "\n",
            "### Response:\n",
            "Ella ( 1 ) ; * cobra ( 1 ) ; dream ( 3 ) AND agent ( 3 , 1 ) AND ccomp ( 3 , 1 ) AND slide ( 1 ) AND theme ( 1 , 1 )\n",
            "\n",
            "\n",
            "\n"
          ]
        },
        {
          "output_type": "stream",
          "name": "stderr",
          "text": [
            "\rGenerating samples:  35%|███▌      | 148/420 [07:37<12:26,  2.74s/it]"
          ]
        },
        {
          "output_type": "stream",
          "name": "stdout",
          "text": [
            "\n",
            "\n",
            "### Instruction:\n",
            "Translate English sentences into logical form.\n",
            "\n",
            "### Input:\n",
            "A girl respected that the cobra rolled .\n",
            "\n",
            "### Response:\n",
            "girl ( 1 ) ; * cobra ( 1 ) ; respect ( 1 ) AND agent ( 1 , 1 ) AND ccomp ( 1 , 1 ) AND roll ( 1 ) AND theme ( 1 , 1 )\n",
            "\n",
            "\n",
            "\n"
          ]
        },
        {
          "output_type": "stream",
          "name": "stderr",
          "text": [
            "\rGenerating samples:  35%|███▌      | 149/420 [07:40<12:26,  2.76s/it]"
          ]
        },
        {
          "output_type": "stream",
          "name": "stdout",
          "text": [
            "\n",
            "\n",
            "### Instruction:\n",
            "Translate English sentences into logical form.\n",
            "\n",
            "### Input:\n",
            "Elijah wished that the cobra froze .\n",
            "\n",
            "### Response:\n",
            "Elijah ( 1 ) ; * cobra ( 1 ) ; wish ( 14 ) AND agent ( 14 , 1 ) AND ccomp ( 14 , 1 ) AND freeze ( 1 ) AND theme ( 1 , 1 )\n",
            "\n",
            "\n",
            "\n"
          ]
        },
        {
          "output_type": "stream",
          "name": "stderr",
          "text": [
            "\rGenerating samples:  36%|███▌      | 150/420 [07:42<12:05,  2.69s/it]"
          ]
        },
        {
          "output_type": "stream",
          "name": "stdout",
          "text": [
            "\n",
            "\n",
            "### Instruction:\n",
            "Translate English sentences into logical form.\n",
            "\n",
            "### Input:\n",
            "A governor believed that a cobra burned .\n",
            "\n",
            "### Response:\n",
            "govern ( 1 ) ; cobra ( 1 ) ; believe ( 2 ) AND agent ( 2 , 1 ) AND ccomp ( 2 , 1 ) AND burn ( 1 ) AND theme ( 1 , 1 )\n",
            "\n",
            "\n",
            "\n"
          ]
        },
        {
          "output_type": "stream",
          "name": "stderr",
          "text": [
            "\rGenerating samples:  36%|███▌      | 151/420 [07:45<11:57,  2.67s/it]"
          ]
        },
        {
          "output_type": "stream",
          "name": "stdout",
          "text": [
            "\n",
            "\n",
            "### Instruction:\n",
            "Translate English sentences into logical form.\n",
            "\n",
            "### Input:\n",
            "The coach liked that the cobra froze .\n",
            "\n",
            "### Response:\n",
            "* coach ( 1 ) ; * cobra ( 1 ) ; like ( 1 ) AND agent ( 1 , 1 ) AND ccomp ( 1 , 1 ) AND freeze ( 1 ) AND theme ( 1 , 1 )\n",
            "\n",
            "\n",
            "\n"
          ]
        },
        {
          "output_type": "stream",
          "name": "stderr",
          "text": [
            "\rGenerating samples:  36%|███▌      | 152/420 [07:48<11:50,  2.65s/it]"
          ]
        },
        {
          "output_type": "stream",
          "name": "stdout",
          "text": [
            "\n",
            "\n",
            "### Instruction:\n",
            "Translate English sentences into logical form.\n",
            "\n",
            "### Input:\n",
            "The girl liked that a cobra froze .\n",
            "\n",
            "### Response:\n",
            "* girl ( 1 ) ; cobra ( 1 ) ; like ( 1 ) AND agent ( 1 , 1 ) AND ccomp ( 1 , 1 ) AND freeze ( 1 ) AND theme ( 1 , 1 )\n",
            "\n",
            "\n",
            "\n"
          ]
        },
        {
          "output_type": "stream",
          "name": "stderr",
          "text": [
            "\rGenerating samples:  36%|███▋      | 153/420 [07:49<09:42,  2.18s/it]"
          ]
        },
        {
          "output_type": "stream",
          "name": "stdout",
          "text": [
            "\n",
            "\n",
            "### Instruction:\n",
            "Translate English sentences into logical form.\n",
            "\n",
            "### Input:\n",
            "A cobra burned .\n",
            "\n",
            "### Response:\n",
            "cobra ( 1 ) ; burn ( 1 ) AND theme ( 1 , 1 )\n",
            "\n",
            "\n",
            "\n"
          ]
        },
        {
          "output_type": "stream",
          "name": "stderr",
          "text": [
            "\rGenerating samples:  37%|███▋      | 154/420 [07:51<10:25,  2.35s/it]"
          ]
        },
        {
          "output_type": "stream",
          "name": "stdout",
          "text": [
            "\n",
            "\n",
            "### Instruction:\n",
            "Translate English sentences into logical form.\n",
            "\n",
            "### Input:\n",
            "Olivia hoped that a cobra froze .\n",
            "\n",
            "### Response:\n",
            "Olivia ( 1 ) ; cobra ( 1 ) ; hope ( 14 ) AND agent ( 14 , 1 ) AND ccomp ( 14 , 1 ) AND freeze ( 1 ) AND theme ( 1 , 1 )\n",
            "\n",
            "\n",
            "\n"
          ]
        },
        {
          "output_type": "stream",
          "name": "stderr",
          "text": [
            "\rGenerating samples:  37%|███▋      | 155/420 [07:54<10:35,  2.40s/it]"
          ]
        },
        {
          "output_type": "stream",
          "name": "stdout",
          "text": [
            "\n",
            "\n",
            "### Instruction:\n",
            "Translate English sentences into logical form.\n",
            "\n",
            "### Input:\n",
            "A girl liked that a cobra burned .\n",
            "\n",
            "### Response:\n",
            "girl ( 1 ) ; cobra ( 3 ) ; like ( 1 ) AND agent ( 1 , 1 ) AND ccomp ( 1 , 1 ) AND burn ( 1 ) AND theme ( 1 , 3 )\n",
            "\n",
            "\n",
            "\n"
          ]
        },
        {
          "output_type": "stream",
          "name": "stderr",
          "text": [
            "\rGenerating samples:  37%|███▋      | 156/420 [07:56<09:33,  2.17s/it]"
          ]
        },
        {
          "output_type": "stream",
          "name": "stdout",
          "text": [
            "\n",
            "\n",
            "### Instruction:\n",
            "Translate English sentences into logical form.\n",
            "\n",
            "### Input:\n",
            "Savannah liked that a cobra burned .\n",
            "\n",
            "### Response:\n",
            "SSSSSS 17 ) ; cobra ( 1 ) ; like ( 1 ) AND agent ( 1 , 17 )\n",
            "\n",
            "\n",
            "\n"
          ]
        },
        {
          "output_type": "stream",
          "name": "stderr",
          "text": [
            "\rGenerating samples:  37%|███▋      | 157/420 [07:58<10:06,  2.31s/it]"
          ]
        },
        {
          "output_type": "stream",
          "name": "stdout",
          "text": [
            "\n",
            "\n",
            "### Instruction:\n",
            "Translate English sentences into logical form.\n",
            "\n",
            "### Input:\n",
            "Emma admired that a cobra decomposed .\n",
            "\n",
            "### Response:\n",
            "Emma ( 1 ) ; cobra ( 1 ) ; admire ( 3 ) AND agent ( 3 , 1 ) AND ccomp ( 3 , 1 ) AND decompose ( 1 ) AND theme ( 1 , 1 )\n",
            "\n",
            "\n",
            "\n"
          ]
        },
        {
          "output_type": "stream",
          "name": "stderr",
          "text": [
            "\rGenerating samples:  38%|███▊      | 158/420 [08:01<10:23,  2.38s/it]"
          ]
        },
        {
          "output_type": "stream",
          "name": "stdout",
          "text": [
            "\n",
            "\n",
            "### Instruction:\n",
            "Translate English sentences into logical form.\n",
            "\n",
            "### Input:\n",
            "Emma said that a cobra froze .\n",
            "\n",
            "### Response:\n",
            "Emma ( 1 ) ; cobra ( 1 ) ; say ( 1 ) AND agent ( 1 , 1 ) AND ccomp ( 1 , 1 ) AND freeze ( 1 ) AND theme ( 1 , 1 )\n",
            "\n",
            "\n",
            "\n"
          ]
        },
        {
          "output_type": "stream",
          "name": "stderr",
          "text": [
            "\rGenerating samples:  38%|███▊      | 159/420 [08:03<10:30,  2.42s/it]"
          ]
        },
        {
          "output_type": "stream",
          "name": "stdout",
          "text": [
            "\n",
            "\n",
            "### Instruction:\n",
            "Translate English sentences into logical form.\n",
            "\n",
            "### Input:\n",
            "A girl supported that a cobra collapsed .\n",
            "\n",
            "### Response:\n",
            "girl ( 1 ) ; cobra ( 1 ) ; support ( 1 ) AND agent ( 1 , 1 ) AND ccomp ( 1 , 1 ) AND collapse ( 1 ) AND theme ( 1 , 1 )\n",
            "\n",
            "\n",
            "\n"
          ]
        },
        {
          "output_type": "stream",
          "name": "stderr",
          "text": [
            "\rGenerating samples:  38%|███▊      | 160/420 [08:06<10:40,  2.46s/it]"
          ]
        },
        {
          "output_type": "stream",
          "name": "stdout",
          "text": [
            "\n",
            "\n",
            "### Instruction:\n",
            "Translate English sentences into logical form.\n",
            "\n",
            "### Input:\n",
            "Liam noticed that a cobra froze .\n",
            "\n",
            "### Response:\n",
            "Liam ( 1 ) ; cobra ( 1 ) ; notice ( 2 ) AND agent ( 2 , 1 ) AND ccomp ( 2 , 1 ) AND freeze ( 1 ) AND theme ( 1 , 1 )\n",
            "\n",
            "\n",
            "\n"
          ]
        },
        {
          "output_type": "stream",
          "name": "stderr",
          "text": [
            "\rGenerating samples:  38%|███▊      | 161/420 [08:08<10:41,  2.48s/it]"
          ]
        },
        {
          "output_type": "stream",
          "name": "stdout",
          "text": [
            "\n",
            "\n",
            "### Instruction:\n",
            "Translate English sentences into logical form.\n",
            "\n",
            "### Input:\n",
            "Claire hoped that the hippo drew .\n",
            "\n",
            "### Response:\n",
            "Claire ( 1 ) ; * hi ( 1 ) ; hope ( 2 ) AND agent ( 2 , 1 ) AND ccomp ( 2 , 1 ) AND draw ( 1 ) AND theme ( 1 , 1 )\n",
            "\n",
            "\n",
            "\n"
          ]
        },
        {
          "output_type": "stream",
          "name": "stderr",
          "text": [
            "\rGenerating samples:  39%|███▊      | 162/420 [08:13<13:35,  3.16s/it]"
          ]
        },
        {
          "output_type": "stream",
          "name": "stdout",
          "text": [
            "\n",
            "\n",
            "### Instruction:\n",
            "Translate English sentences into logical form.\n",
            "\n",
            "### Input:\n",
            "A girl said that the hippo sketched .\n",
            "\n",
            "### Response:\n",
            "girl ( 1 ) ; * hi ( 1 ) ; say ( 1 ) AND agent ( 1 , 1 ) AND ccomp ( 1 , 1 ) AND say ( 1 ) AND agent ( 1 , 1 ) AND xcomp ( 1 , 1 ) AND say ( 1 ) AND agent ( 1 , 1 ) AND ccomp ( 1 , 1 ) AND sketch ( 1 ) AND agent ( 1 , 1 )\n",
            "\n",
            "\n",
            "\n"
          ]
        },
        {
          "output_type": "stream",
          "name": "stderr",
          "text": [
            "\rGenerating samples:  39%|███▉      | 163/420 [08:18<15:34,  3.64s/it]"
          ]
        },
        {
          "output_type": "stream",
          "name": "stdout",
          "text": [
            "\n",
            "\n",
            "### Instruction:\n",
            "Translate English sentences into logical form.\n",
            "\n",
            "### Input:\n",
            "A baby hoped that a hippo sketched .\n",
            "\n",
            "### Response:\n",
            "baby ( 1 ) ; hiw ( 3 ) ; hope ( 1 ) AND agent ( 1 , 1 ) AND ccomp ( 1 , 1 ) AND wish ( 1 ) AND agent ( 1 , 3 ) AND ccomp ( 1 , 1 ) AND sketch ( 1 ) AND agent ( 1 , 3 ) AND ccomp ( 1 , 1 ) AND sketch ( 1 ) AND agent ( 1 , 3 )\n",
            "\n",
            "\n",
            "\n"
          ]
        },
        {
          "output_type": "stream",
          "name": "stderr",
          "text": [
            "\rGenerating samples:  39%|███▉      | 164/420 [08:20<13:54,  3.26s/it]"
          ]
        },
        {
          "output_type": "stream",
          "name": "stdout",
          "text": [
            "\n",
            "\n",
            "### Instruction:\n",
            "Translate English sentences into logical form.\n",
            "\n",
            "### Input:\n",
            "The cat liked that a hippo called .\n",
            "\n",
            "### Response:\n",
            "* cat ( 1 ) ; hi ( 1 ) ; like ( 1 ) AND agent ( 1 , 1 ) AND ccomp ( 1 , 1 ) AND call ( 1 ) AND theme ( 1 , 1 )\n",
            "\n",
            "\n",
            "\n"
          ]
        },
        {
          "output_type": "stream",
          "name": "stderr",
          "text": [
            "\rGenerating samples:  39%|███▉      | 165/420 [08:23<12:50,  3.02s/it]"
          ]
        },
        {
          "output_type": "stream",
          "name": "stdout",
          "text": [
            "\n",
            "\n",
            "### Instruction:\n",
            "Translate English sentences into logical form.\n",
            "\n",
            "### Input:\n",
            "A puppy noticed that a hippo painted .\n",
            "\n",
            "### Response:\n",
            "puppy ( 1 ) ; hi ( 1 ) ; notice ( 3 ) AND agent ( 3 , 1 ) AND ccomp ( 3 , 1 ) AND paint ( 1 ) AND theme ( 1 , 1 )\n",
            "\n",
            "\n",
            "\n"
          ]
        },
        {
          "output_type": "stream",
          "name": "stderr",
          "text": [
            "\rGenerating samples:  40%|███▉      | 166/420 [08:25<12:08,  2.87s/it]"
          ]
        },
        {
          "output_type": "stream",
          "name": "stdout",
          "text": [
            "\n",
            "\n",
            "### Instruction:\n",
            "Translate English sentences into logical form.\n",
            "\n",
            "### Input:\n",
            "The hero imagined that a hippo cooked .\n",
            "\n",
            "### Response:\n",
            "* hero ( 1 ) ; hiwi ( 1 ) ; imagine ( 3 ) AND agent ( 3 , 1 ) AND ccomp ( 3 , 1 ) AND cook ( 1 ) AND theme ( 1 , 1 )\n",
            "\n",
            "\n",
            "\n"
          ]
        },
        {
          "output_type": "stream",
          "name": "stderr",
          "text": [
            "\rGenerating samples:  40%|███▉      | 167/420 [08:28<11:40,  2.77s/it]"
          ]
        },
        {
          "output_type": "stream",
          "name": "stdout",
          "text": [
            "\n",
            "\n",
            "### Instruction:\n",
            "Translate English sentences into logical form.\n",
            "\n",
            "### Input:\n",
            "Emma admired that a hippo packed .\n",
            "\n",
            "### Response:\n",
            "Emma ( 1 ) ; hi ( 1 ) ; admore ( 3 ) AND agent ( 3 , 1 ) AND ccomp ( 3 , 1 ) AND admire ( 1 ) AND theme ( 1 , 1 )\n",
            "\n",
            "\n",
            "\n"
          ]
        },
        {
          "output_type": "stream",
          "name": "stderr",
          "text": [
            "\rGenerating samples:  40%|████      | 168/420 [08:32<12:51,  3.06s/it]"
          ]
        },
        {
          "output_type": "stream",
          "name": "stdout",
          "text": [
            "\n",
            "\n",
            "### Instruction:\n",
            "Translate English sentences into logical form.\n",
            "\n",
            "### Input:\n",
            "The journalist believed that the hippo ate .\n",
            "\n",
            "### Response:\n",
            "* journalist ( 1 ) ; * hi ( 1 ) ; believe ( 3 ) AND agent ( 3 , 1 ) AND ccomp ( 3 , 1 ) AND eat ( 1 ) AND agent ( 1 , 1 ) AND xcomp ( 1 , 29 ) AND eat ( 29 ) AND agent ( 29 , 1 )\n",
            "\n",
            "\n",
            "\n"
          ]
        },
        {
          "output_type": "stream",
          "name": "stderr",
          "text": [
            "\rGenerating samples:  40%|████      | 169/420 [08:34<12:13,  2.92s/it]"
          ]
        },
        {
          "output_type": "stream",
          "name": "stdout",
          "text": [
            "\n",
            "\n",
            "### Instruction:\n",
            "Translate English sentences into logical form.\n",
            "\n",
            "### Input:\n",
            "The child hoped that the hippo investigated .\n",
            "\n",
            "### Response:\n",
            "* child ( 1 ) ; * hippo ( 3 ) ; hope ( 1 ) AND agent ( 1 , 1 ) AND ccomp ( 1 , 1 ) AND investigate ( 1 ) AND theme ( 1 , 3 )\n",
            "\n",
            "\n",
            "\n"
          ]
        },
        {
          "output_type": "stream",
          "name": "stderr",
          "text": [
            "\rGenerating samples:  40%|████      | 170/420 [08:38<13:08,  3.16s/it]"
          ]
        },
        {
          "output_type": "stream",
          "name": "stdout",
          "text": [
            "\n",
            "\n",
            "### Instruction:\n",
            "Translate English sentences into logical form.\n",
            "\n",
            "### Input:\n",
            "The teacher liked that a hippo ate .\n",
            "\n",
            "### Response:\n",
            "* teacher ( 1 ) ; hi ( 1 ) ; like ( 1 ) AND agent ( 1 , 1 ) AND ccomp ( 1 , 1 ) AND eat ( 1 ) AND agent ( 1 , 1 ) AND xcomp ( 1 , 20 ) AND eat ( 20 ) AND agent ( 20 , 1 )\n",
            "\n",
            "\n",
            "\n"
          ]
        },
        {
          "output_type": "stream",
          "name": "stderr",
          "text": [
            "\rGenerating samples:  41%|████      | 171/420 [08:41<13:38,  3.29s/it]"
          ]
        },
        {
          "output_type": "stream",
          "name": "stdout",
          "text": [
            "\n",
            "\n",
            "### Instruction:\n",
            "Translate English sentences into logical form.\n",
            "\n",
            "### Input:\n",
            "Mia wished that the hippo ate .\n",
            "\n",
            "### Response:\n",
            "Mia ( 1 ) ; * hi ( 2 ) ; wish ( 3 ) AND agent ( 3 , 1 ) AND ccomp ( 3 , 1 ) AND wish ( 1 ) AND agent ( 1 , 2 ) AND xcomp ( 1 , 1 ) AND dance ( 1 ) AND agent ( 1 , 3 )\n",
            "\n",
            "\n",
            "\n"
          ]
        },
        {
          "output_type": "stream",
          "name": "stderr",
          "text": [
            "\rGenerating samples:  41%|████      | 172/420 [08:45<14:14,  3.44s/it]"
          ]
        },
        {
          "output_type": "stream",
          "name": "stdout",
          "text": [
            "\n",
            "\n",
            "### Instruction:\n",
            "Translate English sentences into logical form.\n",
            "\n",
            "### Input:\n",
            "Olivia dreamed that the hippo ate .\n",
            "\n",
            "### Response:\n",
            "Olivia ( 19 ) ; * hi ( 1 ) ; eat ( 3 ) AND agent ( 3 , 19 ) AND ccomp ( 3 , 1 ) AND eat ( 1 ) AND agent ( 1 , 19 ) AND xcomp ( 1 , 2 ) AND eat ( 2 ) AND agent ( 2 , 19 )\n",
            "\n",
            "\n",
            "\n"
          ]
        },
        {
          "output_type": "stream",
          "name": "stderr",
          "text": [
            "\rGenerating samples:  41%|████      | 173/420 [08:48<12:59,  3.15s/it]"
          ]
        },
        {
          "output_type": "stream",
          "name": "stdout",
          "text": [
            "\n",
            "\n",
            "### Instruction:\n",
            "Translate English sentences into logical form.\n",
            "\n",
            "### Input:\n",
            "The boy noticed that a hippo painted .\n",
            "\n",
            "### Response:\n",
            "* boy ( 1 ) ; hippo ( 1 ) ; notice ( 1 ) AND agent ( 1 , 1 ) AND ccomp ( 1 , 1 ) AND paint ( 1 ) AND theme ( 1 , 1 )\n",
            "\n",
            "\n",
            "\n"
          ]
        },
        {
          "output_type": "stream",
          "name": "stderr",
          "text": [
            "\rGenerating samples:  41%|████▏     | 174/420 [08:49<10:30,  2.56s/it]"
          ]
        },
        {
          "output_type": "stream",
          "name": "stdout",
          "text": [
            "\n",
            "\n",
            "### Instruction:\n",
            "Translate English sentences into logical form.\n",
            "\n",
            "### Input:\n",
            "A hippo juggled .\n",
            "\n",
            "### Response:\n",
            "hippo ( 1 ) ; juggle ( 19 ) AND theme ( 19 , 1 )\n",
            "\n",
            "\n",
            "\n"
          ]
        },
        {
          "output_type": "stream",
          "name": "stderr",
          "text": [
            "\rGenerating samples:  42%|████▏     | 175/420 [08:52<10:54,  2.67s/it]"
          ]
        },
        {
          "output_type": "stream",
          "name": "stdout",
          "text": [
            "\n",
            "\n",
            "### Instruction:\n",
            "Translate English sentences into logical form.\n",
            "\n",
            "### Input:\n",
            "The boy admired that a hippo ate .\n",
            "\n",
            "### Response:\n",
            "* boy ( 1 ) ; hippo ( 1 ) ; admire ( 1 ) AND agent ( 1 , 1 ) AND ccomp ( 1 , 1 ) AND eat ( 1 ) AND theme ( 1 , 1 ) AND recipient ( 1 , 1 )\n",
            "\n",
            "\n",
            "\n"
          ]
        },
        {
          "output_type": "stream",
          "name": "stderr",
          "text": [
            "\rGenerating samples:  42%|████▏     | 176/420 [08:54<10:41,  2.63s/it]"
          ]
        },
        {
          "output_type": "stream",
          "name": "stdout",
          "text": [
            "\n",
            "\n",
            "### Instruction:\n",
            "Translate English sentences into logical form.\n",
            "\n",
            "### Input:\n",
            "Isabella confessed that a hippo painted .\n",
            "\n",
            "### Response:\n",
            "Isabella ( 1 ) ; hi ( 1 ) ; confess ( 3 ) AND agent ( 3 , 1 ) AND ccomp ( 3 , 1 ) AND paint ( 1 ) AND theme ( 1 , 1 )\n",
            "\n",
            "\n",
            "\n"
          ]
        },
        {
          "output_type": "stream",
          "name": "stderr",
          "text": [
            "\rGenerating samples:  42%|████▏     | 177/420 [08:59<13:12,  3.26s/it]"
          ]
        },
        {
          "output_type": "stream",
          "name": "stdout",
          "text": [
            "\n",
            "\n",
            "### Instruction:\n",
            "Translate English sentences into logical form.\n",
            "\n",
            "### Input:\n",
            "Mia said that a hippo packed .\n",
            "\n",
            "### Response:\n",
            "Mia ( 1 ) ; hi ( 1 ) ; say ( 1 ) AND agent ( 1 , 1 ) AND ccomp ( 1 , 1 ) AND say ( 1 ) AND agent ( 1 , 1 ) AND xcomp ( 1 , 1 ) AND say ( 1 ) AND agent ( 1 , 1 ) AND ccomp ( 1 , 1 ) AND hunt ( 1 ) AND agent ( 1 , 1 )\n",
            "\n",
            "\n",
            "\n"
          ]
        },
        {
          "output_type": "stream",
          "name": "stderr",
          "text": [
            "\rGenerating samples:  42%|████▏     | 178/420 [09:01<12:07,  3.01s/it]"
          ]
        },
        {
          "output_type": "stream",
          "name": "stdout",
          "text": [
            "\n",
            "\n",
            "### Instruction:\n",
            "Translate English sentences into logical form.\n",
            "\n",
            "### Input:\n",
            "Emma liked that a hippo noticed .\n",
            "\n",
            "### Response:\n",
            "Emma ( 1 ) ; hi ( 1 ) ; like ( 4 ) AND agent ( 4 , 1 ) AND ccomp ( 4 , 1 ) AND eat ( 1 ) AND theme ( 1 , 1 )\n",
            "\n",
            "\n",
            "\n"
          ]
        },
        {
          "output_type": "stream",
          "name": "stderr",
          "text": [
            "\rGenerating samples:  43%|████▎     | 179/420 [09:05<13:04,  3.26s/it]"
          ]
        },
        {
          "output_type": "stream",
          "name": "stdout",
          "text": [
            "\n",
            "\n",
            "### Instruction:\n",
            "Translate English sentences into logical form.\n",
            "\n",
            "### Input:\n",
            "Noah liked that Liam meant that the hippo packed .\n",
            "\n",
            "### Response:\n",
            "Noah ( 1 ) ; Liam ( 1 ) ; * hi ( 1 ) ; like ( 4 ) AND agent ( 4 , 1 ) AND ccomp ( 4 , 1 ) AND eat ( 1 ) AND agent ( 1 , 1 ) AND xcomp ( 1 , 1 ) AND eat ( 1 ) AND agent ( 1 , 1 )\n",
            "\n",
            "\n",
            "\n"
          ]
        },
        {
          "output_type": "stream",
          "name": "stderr",
          "text": [
            "\rGenerating samples:  43%|████▎     | 180/420 [09:07<10:36,  2.65s/it]"
          ]
        },
        {
          "output_type": "stream",
          "name": "stdout",
          "text": [
            "\n",
            "\n",
            "### Instruction:\n",
            "Translate English sentences into logical form.\n",
            "\n",
            "### Input:\n",
            "A bird liked that a hippo nursed .\n",
            "\n",
            "### Response:\n",
            "bird ( 1 ) ; hi ( 2 ) ; like ( 1 ) AND agent ( 1 , 1 )\n",
            "\n",
            "\n",
            "\n"
          ]
        },
        {
          "output_type": "stream",
          "name": "stderr",
          "text": [
            "\rGenerating samples:  43%|████▎     | 181/420 [09:10<11:39,  2.93s/it]"
          ]
        },
        {
          "output_type": "stream",
          "name": "stdout",
          "text": [
            "\n",
            "\n",
            "### Instruction:\n",
            "Translate English sentences into logical form.\n",
            "\n",
            "### Input:\n",
            "Liam liked that the hippo walked .\n",
            "\n",
            "### Response:\n",
            "Liam ( 1 ) ; * hi ( 2 ) ; like ( 1 ) AND agent ( 1 , 1 ) AND ccomp ( 1 , 1 ) AND like ( 1 ) AND agent ( 1 , 2 ) AND xcomp ( 1 , 1 ) AND run ( 1 ) AND agent ( 1 , 2 )\n",
            "\n",
            "\n",
            "\n"
          ]
        },
        {
          "output_type": "stream",
          "name": "stderr",
          "text": [
            "\rGenerating samples:  43%|████▎     | 182/420 [09:12<09:45,  2.46s/it]"
          ]
        },
        {
          "output_type": "stream",
          "name": "stdout",
          "text": [
            "\n",
            "\n",
            "### Instruction:\n",
            "Translate English sentences into logical form.\n",
            "\n",
            "### Input:\n",
            "A girl proved that a hippo stuttered .\n",
            "\n",
            "### Response:\n",
            "girl ( 1 ) ; hippo ( 1 ) ; prove ( 3 ) AND agent ( 3 , 1 )\n",
            "\n",
            "\n",
            "\n"
          ]
        },
        {
          "output_type": "stream",
          "name": "stderr",
          "text": [
            "\rGenerating samples:  44%|████▎     | 183/420 [09:16<12:21,  3.13s/it]"
          ]
        },
        {
          "output_type": "stream",
          "name": "stdout",
          "text": [
            "\n",
            "\n",
            "### Instruction:\n",
            "Translate English sentences into logical form.\n",
            "\n",
            "### Input:\n",
            "A boy noticed that the hippo talked .\n",
            "\n",
            "### Response:\n",
            "boy ( 1 ) ; * hippo ( 3 ) ; notice ( 1 ) AND agent ( 1 , 1 ) AND ccomp ( 1 , 1 ) AND talk ( 1 ) AND agent ( 1 , 3 ) AND xcomp ( 1 , 1 ) AND talk ( 1 ) AND agent ( 1 , 3 ) AND ccomp ( 1 , 1 ) AND talk ( 1 ) AND agent ( 1 , 3 )\n",
            "\n",
            "\n",
            "\n"
          ]
        },
        {
          "output_type": "stream",
          "name": "stderr",
          "text": [
            "\rGenerating samples:  44%|████▍     | 184/420 [09:19<11:31,  2.93s/it]"
          ]
        },
        {
          "output_type": "stream",
          "name": "stdout",
          "text": [
            "\n",
            "\n",
            "### Instruction:\n",
            "Translate English sentences into logical form.\n",
            "\n",
            "### Input:\n",
            "Emma supported that the hippo talked .\n",
            "\n",
            "### Response:\n",
            "Emma ( 1 ) ; * hi ( 2 ) ; support ( 1 ) AND agent ( 1 , 1 ) AND ccomp ( 1 , 1 ) AND talk ( 1 ) AND theme ( 1 , 2 )\n",
            "\n",
            "\n",
            "\n"
          ]
        },
        {
          "output_type": "stream",
          "name": "stderr",
          "text": [
            "\rGenerating samples:  44%|████▍     | 185/420 [09:21<10:59,  2.81s/it]"
          ]
        },
        {
          "output_type": "stream",
          "name": "stdout",
          "text": [
            "\n",
            "\n",
            "### Instruction:\n",
            "Translate English sentences into logical form.\n",
            "\n",
            "### Input:\n",
            "A girl valued that the hippo slept .\n",
            "\n",
            "### Response:\n",
            "girl ( 1 ) ; * hippo ( 1 ) ; value ( 1 ) AND agent ( 1 , 1 ) AND ccomp ( 1 , 1 ) AND sleep ( 1 ) AND agent ( 1 , 1 )\n",
            "\n",
            "\n",
            "\n"
          ]
        },
        {
          "output_type": "stream",
          "name": "stderr",
          "text": [
            "\rGenerating samples:  44%|████▍     | 186/420 [09:24<10:44,  2.75s/it]"
          ]
        },
        {
          "output_type": "stream",
          "name": "stdout",
          "text": [
            "\n",
            "\n",
            "### Instruction:\n",
            "Translate English sentences into logical form.\n",
            "\n",
            "### Input:\n",
            "Isabella proved that a hippo sneezed .\n",
            "\n",
            "### Response:\n",
            "Isabella ( 1 ) ; hi ( 1 ) ; prove ( 2 ) AND agent ( 2 , 1 ) AND ccomp ( 2 , 1 ) AND sneeze ( 1 ) AND theme ( 1 , 1 )\n",
            "\n",
            "\n",
            "\n"
          ]
        },
        {
          "output_type": "stream",
          "name": "stderr",
          "text": [
            "\rGenerating samples:  45%|████▍     | 187/420 [09:26<10:26,  2.69s/it]"
          ]
        },
        {
          "output_type": "stream",
          "name": "stdout",
          "text": [
            "\n",
            "\n",
            "### Instruction:\n",
            "Translate English sentences into logical form.\n",
            "\n",
            "### Input:\n",
            "Olivia liked that a hippo screamed .\n",
            "\n",
            "### Response:\n",
            "Olivia ( 1 ) ; hirose ( 1 ) ; like ( 1 ) AND agent ( 1 , 1 ) AND ccomp ( 1 , 1 ) AND like ( 1 ) AND agent ( 1 , 1 )\n",
            "\n",
            "\n",
            "\n"
          ]
        },
        {
          "output_type": "stream",
          "name": "stderr",
          "text": [
            "\rGenerating samples:  45%|████▍     | 188/420 [09:32<14:09,  3.66s/it]"
          ]
        },
        {
          "output_type": "stream",
          "name": "stdout",
          "text": [
            "\n",
            "\n",
            "### Instruction:\n",
            "Translate English sentences into logical form.\n",
            "\n",
            "### Input:\n",
            "A professor believed that a hippo cried .\n",
            "\n",
            "### Response:\n",
            "professor ( 1 ) ; hiri ( 1 ) ; believe ( 1 ) AND agent ( 1 , 1 ) AND ccomp ( 1 , 1 ) AND cry ( 1 ) AND agent ( 1 , 1 ) AND xcomp ( 1 , 1 ) AND cry ( 1 ) AND agent ( 1 , 1 ) AND ccomp ( 1 , 1 ) AND cry ( 1 ) AND agent ( 1 , 1 ) AND xcomp ( 1 , 25 ) AND cry ( 25 ) AND agent ( 25 , 1 )\n",
            "\n",
            "\n",
            "\n"
          ]
        },
        {
          "output_type": "stream",
          "name": "stderr",
          "text": [
            "\rGenerating samples:  45%|████▌     | 189/420 [09:35<12:45,  3.31s/it]"
          ]
        },
        {
          "output_type": "stream",
          "name": "stdout",
          "text": [
            "\n",
            "\n",
            "### Instruction:\n",
            "Translate English sentences into logical form.\n",
            "\n",
            "### Input:\n",
            "Emma appreciated that the hippo scoffed .\n",
            "\n",
            "### Response:\n",
            "Emma ( 1 ) ; * hi ( 1 ) ; appreciate ( 1 ) AND agent ( 1 , 1 ) AND ccomp ( 1 , 1 ) AND eat ( 1 ) AND theme ( 1 , 1 )\n",
            "\n",
            "\n",
            "\n"
          ]
        },
        {
          "output_type": "stream",
          "name": "stderr",
          "text": [
            "\rGenerating samples:  45%|████▌     | 190/420 [09:37<11:42,  3.06s/it]"
          ]
        },
        {
          "output_type": "stream",
          "name": "stdout",
          "text": [
            "\n",
            "\n",
            "### Instruction:\n",
            "Translate English sentences into logical form.\n",
            "\n",
            "### Input:\n",
            "The dog noticed that a hippo ran .\n",
            "\n",
            "### Response:\n",
            "* dog ( 1 ) ; hi ( 1 ) ; notice ( 1 ) AND agent ( 1 , 1 ) AND ccomp ( 1 , 1 ) AND run ( 1 ) AND theme ( 1 , 1 )\n",
            "\n",
            "\n",
            "\n"
          ]
        },
        {
          "output_type": "stream",
          "name": "stderr",
          "text": [
            "\rGenerating samples:  45%|████▌     | 191/420 [09:42<13:44,  3.60s/it]"
          ]
        },
        {
          "output_type": "stream",
          "name": "stdout",
          "text": [
            "\n",
            "\n",
            "### Instruction:\n",
            "Translate English sentences into logical form.\n",
            "\n",
            "### Input:\n",
            "Liam said that the hippo sneezed .\n",
            "\n",
            "### Response:\n",
            "Liam ( 1 ) ; * hi ( 1 ) ; say ( 2 ) AND agent ( 2 , 1 ) AND ccomp ( 2 , 1 ) AND say ( 1 ) AND agent ( 1 , 1 ) AND xcomp ( 1 , 1 ) AND say ( 1 ) AND agent ( 1 , 1 ) AND ccomp ( 1 , 1 ) AND sneeze ( 1 ) AND agent ( 1 , 1 )\n",
            "\n",
            "\n",
            "\n"
          ]
        },
        {
          "output_type": "stream",
          "name": "stderr",
          "text": [
            "\rGenerating samples:  46%|████▌     | 192/420 [09:45<12:21,  3.25s/it]"
          ]
        },
        {
          "output_type": "stream",
          "name": "stdout",
          "text": [
            "\n",
            "\n",
            "### Instruction:\n",
            "Translate English sentences into logical form.\n",
            "\n",
            "### Input:\n",
            "A girl hoped that a hippo slept .\n",
            "\n",
            "### Response:\n",
            "girl ( 1 ) ; hi ( 1 ) ; hope ( 1 ) AND agent ( 1 , 1 ) AND ccomp ( 1 , 1 ) AND sleep ( 1 ) AND agent ( 1 , 1 )\n",
            "\n",
            "\n",
            "\n"
          ]
        },
        {
          "output_type": "stream",
          "name": "stderr",
          "text": [
            "\rGenerating samples:  46%|████▌     | 193/420 [09:47<11:25,  3.02s/it]"
          ]
        },
        {
          "output_type": "stream",
          "name": "stdout",
          "text": [
            "\n",
            "\n",
            "### Instruction:\n",
            "Translate English sentences into logical form.\n",
            "\n",
            "### Input:\n",
            "A prisoner believed that the hippo slept .\n",
            "\n",
            "### Response:\n",
            "priser ( 1 ) ; * hi ( 1 ) ; believe ( 3 ) AND agent ( 3 , 1 ) AND ccomp ( 3 , 1 ) AND sleep ( 1 ) AND agent ( 1 , 1 )\n",
            "\n",
            "\n",
            "\n"
          ]
        },
        {
          "output_type": "stream",
          "name": "stderr",
          "text": [
            "\rGenerating samples:  46%|████▌     | 194/420 [09:49<10:44,  2.85s/it]"
          ]
        },
        {
          "output_type": "stream",
          "name": "stdout",
          "text": [
            "\n",
            "\n",
            "### Instruction:\n",
            "Translate English sentences into logical form.\n",
            "\n",
            "### Input:\n",
            "Noah liked that a hippo smiled .\n",
            "\n",
            "### Response:\n",
            "Noah ( 1 ) ; hi ( 1 ) ; like ( 1 ) AND agent ( 1 , 1 ) AND ccomp ( 1 , 1 ) AND smile ( 1 ) AND agent ( 1 , 1 )\n",
            "\n",
            "\n",
            "\n"
          ]
        },
        {
          "output_type": "stream",
          "name": "stderr",
          "text": [
            "\rGenerating samples:  46%|████▋     | 195/420 [09:53<11:43,  3.13s/it]"
          ]
        },
        {
          "output_type": "stream",
          "name": "stdout",
          "text": [
            "\n",
            "\n",
            "### Instruction:\n",
            "Translate English sentences into logical form.\n",
            "\n",
            "### Input:\n",
            "The girl expected that a hippo snoozed .\n",
            "\n",
            "### Response:\n",
            "* girl ( 1 ) ; hirose ( 1 ) ; expect ( 1 ) AND agent ( 1 , 1 ) AND ccomp ( 1 , 1 ) AND expect ( 1 ) AND agent ( 1 , 1 ) AND xcomp ( 1 , 1 ) AND sneeze ( 1 ) AND agent ( 1 , 1 )\n",
            "\n",
            "\n",
            "\n"
          ]
        },
        {
          "output_type": "stream",
          "name": "stderr",
          "text": [
            "\rGenerating samples:  47%|████▋     | 196/420 [09:56<10:53,  2.92s/it]"
          ]
        },
        {
          "output_type": "stream",
          "name": "stdout",
          "text": [
            "\n",
            "\n",
            "### Instruction:\n",
            "Translate English sentences into logical form.\n",
            "\n",
            "### Input:\n",
            "A boy appreciated that the hippo slept .\n",
            "\n",
            "### Response:\n",
            "boy ( 1 ) ; * hi ( 1 ) ; appreciate ( 1 ) AND agent ( 1 , 1 ) AND ccomp ( 1 , 1 ) AND sleep ( 1 ) AND agent ( 1 , 1 )\n",
            "\n",
            "\n",
            "\n"
          ]
        },
        {
          "output_type": "stream",
          "name": "stderr",
          "text": [
            "\rGenerating samples:  47%|████▋     | 197/420 [09:58<10:28,  2.82s/it]"
          ]
        },
        {
          "output_type": "stream",
          "name": "stdout",
          "text": [
            "\n",
            "\n",
            "### Instruction:\n",
            "Translate English sentences into logical form.\n",
            "\n",
            "### Input:\n",
            "Jacob noticed that the hippo smiled .\n",
            "\n",
            "### Response:\n",
            "Jacob ( 19 ) ; * hi ( 2 ) ; notice ( 3 ) AND agent ( 3 , 19 ) AND ccomp ( 3 , 1 ) AND smile ( 1 ) AND agent ( 1 , 2 )\n",
            "\n",
            "\n",
            "\n"
          ]
        },
        {
          "output_type": "stream",
          "name": "stderr",
          "text": [
            "\rGenerating samples:  47%|████▋     | 198/420 [10:02<11:15,  3.04s/it]"
          ]
        },
        {
          "output_type": "stream",
          "name": "stdout",
          "text": [
            "\n",
            "\n",
            "### Instruction:\n",
            "Translate English sentences into logical form.\n",
            "\n",
            "### Input:\n",
            "A girl believed that a hippo jogged .\n",
            "\n",
            "### Response:\n",
            "girl ( 1 ) ; hi ( 1 ) ; believe ( 1 ) AND agent ( 1 , 1 ) AND ccomp ( 1 , 1 ) AND believe ( 1 ) AND agent ( 1 , 1 ) AND xcomp ( 1 , 1 ) AND eat ( 1 ) AND agent ( 1 , 1 )\n",
            "\n",
            "\n",
            "\n"
          ]
        },
        {
          "output_type": "stream",
          "name": "stderr",
          "text": [
            "\rGenerating samples:  47%|████▋     | 199/420 [10:04<10:36,  2.88s/it]"
          ]
        },
        {
          "output_type": "stream",
          "name": "stdout",
          "text": [
            "\n",
            "\n",
            "### Instruction:\n",
            "Translate English sentences into logical form.\n",
            "\n",
            "### Input:\n",
            "The doctor liked that a hippo jogged .\n",
            "\n",
            "### Response:\n",
            "* doctor ( 1 ) ; hiwi ( 3 ) ; like ( 1 ) AND agent ( 1 , 1 ) AND ccomp ( 1 , 1 ) AND eat ( 1 ) AND theme ( 1 , 3 )\n",
            "\n",
            "\n",
            "\n"
          ]
        },
        {
          "output_type": "stream",
          "name": "stderr",
          "text": [
            "\rGenerating samples:  48%|████▊     | 200/420 [10:07<10:07,  2.76s/it]"
          ]
        },
        {
          "output_type": "stream",
          "name": "stdout",
          "text": [
            "\n",
            "\n",
            "### Instruction:\n",
            "Translate English sentences into logical form.\n",
            "\n",
            "### Input:\n",
            "The dog expected that a hippo slept .\n",
            "\n",
            "### Response:\n",
            "* dog ( 1 ) ; hippo ( 1 ) ; expect ( 1 ) AND agent ( 1 , 1 ) AND ccomp ( 1 , 1 ) AND sleep ( 1 ) AND agent ( 1 , 1 )\n",
            "\n",
            "\n",
            "\n"
          ]
        },
        {
          "output_type": "stream",
          "name": "stderr",
          "text": [
            "\rGenerating samples:  48%|████▊     | 201/420 [10:09<09:07,  2.50s/it]"
          ]
        },
        {
          "output_type": "stream",
          "name": "stdout",
          "text": [
            "\n",
            "\n",
            "### Instruction:\n",
            "Translate English sentences into logical form.\n",
            "\n",
            "### Input:\n",
            "Emma squeezed a donut .\n",
            "\n",
            "### Response:\n",
            "Emma ( 1 ) ; donut ( 1 ) ; squeeze ( 1 ) AND agent ( 1 , 1 ) AND theme ( 1 , 1 )\n",
            "\n",
            "\n",
            "\n"
          ]
        },
        {
          "output_type": "stream",
          "name": "stderr",
          "text": [
            "\rGenerating samples:  48%|████▊     | 202/420 [10:15<13:23,  3.69s/it]"
          ]
        },
        {
          "output_type": "stream",
          "name": "stdout",
          "text": [
            "\n",
            "\n",
            "### Instruction:\n",
            "Translate English sentences into logical form.\n",
            "\n",
            "### Input:\n",
            "Mason liked that Emma squeezed the cake beside a book .\n",
            "\n",
            "### Response:\n",
            "MMM Emma ( 1 ) ; Emma ( 3 ) ; * cake ( 2 ) ; book ( 3 ) ; nmod . beside ( 2 , 3 ) AND like ( 1 ) AND agent ( 1 , 1 ) AND ccomp ( 1 , 1 ) AND sneeze ( 1 ) AND agent ( 1 , 3 ) AND ccomp ( 1 , 1 ) AND sneeze ( 1 ) AND agent ( 1 , 1 ) AND xcomp ( 1 , 25 ) AND sneeze ( 25 ) AND agent ( 25 , 3 )\n",
            "\n",
            "\n",
            "\n"
          ]
        },
        {
          "output_type": "stream",
          "name": "stderr",
          "text": [
            "\rGenerating samples:  48%|████▊     | 203/420 [10:19<13:48,  3.82s/it]"
          ]
        },
        {
          "output_type": "stream",
          "name": "stdout",
          "text": [
            "\n",
            "\n",
            "### Instruction:\n",
            "Translate English sentences into logical form.\n",
            "\n",
            "### Input:\n",
            "Leah meant that Emma squeezed the rose beside the piano .\n",
            "\n",
            "### Response:\n",
            "Leah ( 1 ) ; Emma ( 1 ) ; * rose ( 3 ) ; * piano ( 2 ) ; nmod . beside ( 3 , 2 ) AND mean ( 1 ) AND agent ( 1 , 1 ) AND ccomp ( 1 , 1 ) AND snee ( 1 ) AND recipient ( 1 , 1 ) AND theme ( 1 , 3 )\n",
            "\n",
            "\n",
            "\n"
          ]
        },
        {
          "output_type": "stream",
          "name": "stderr",
          "text": [
            "\rGenerating samples:  49%|████▊     | 204/420 [10:21<11:34,  3.22s/it]"
          ]
        },
        {
          "output_type": "stream",
          "name": "stdout",
          "text": [
            "\n",
            "\n",
            "### Instruction:\n",
            "Translate English sentences into logical form.\n",
            "\n",
            "### Input:\n",
            "Nora squeezed Benjamin .\n",
            "\n",
            "### Response:\n",
            "Nora ( 1 ) ; Benjamin ( 1 ) ; squee ( 3 ) AND agent ( 3 , 1 ) AND theme ( 3 , 1 )\n",
            "\n",
            "\n",
            "\n"
          ]
        },
        {
          "output_type": "stream",
          "name": "stderr",
          "text": [
            "\rGenerating samples:  49%|████▉     | 205/420 [10:24<10:52,  3.03s/it]"
          ]
        },
        {
          "output_type": "stream",
          "name": "stdout",
          "text": [
            "\n",
            "\n",
            "### Instruction:\n",
            "Translate English sentences into logical form.\n",
            "\n",
            "### Input:\n",
            "The girl squeezed a book on a table .\n",
            "\n",
            "### Response:\n",
            "* girl ( 1 ) ; book ( 1 ) ; table ( 1 ) ; nmod . on ( 1 , 1 ) AND squeeze ( 1 ) AND agent ( 1 , 1 ) AND theme ( 1 , 1 )\n",
            "\n",
            "\n",
            "\n"
          ]
        },
        {
          "output_type": "stream",
          "name": "stderr",
          "text": [
            "\rGenerating samples:  49%|████▉     | 206/420 [10:26<09:31,  2.67s/it]"
          ]
        },
        {
          "output_type": "stream",
          "name": "stdout",
          "text": [
            "\n",
            "\n",
            "### Instruction:\n",
            "Translate English sentences into logical form.\n",
            "\n",
            "### Input:\n",
            "The frog squeezed Emma .\n",
            "\n",
            "### Response:\n",
            "* frog ( 1 ) ; Emma ( 3 ) ; squee ( 1 ) AND agent ( 1 , 1 ) AND theme ( 1 , 3 )\n",
            "\n",
            "\n",
            "\n"
          ]
        },
        {
          "output_type": "stream",
          "name": "stderr",
          "text": [
            "\rGenerating samples:  49%|████▉     | 207/420 [10:27<08:33,  2.41s/it]"
          ]
        },
        {
          "output_type": "stream",
          "name": "stdout",
          "text": [
            "\n",
            "\n",
            "### Instruction:\n",
            "Translate English sentences into logical form.\n",
            "\n",
            "### Input:\n",
            "A cat squeezed Amelia .\n",
            "\n",
            "### Response:\n",
            "cat ( 1 ) ; Amelia ( 1 ) ; squee ( 3 ) AND agent ( 3 , 1 ) AND theme ( 3 , 1 )\n",
            "\n",
            "\n",
            "\n"
          ]
        },
        {
          "output_type": "stream",
          "name": "stderr",
          "text": [
            "\rGenerating samples:  50%|████▉     | 208/420 [10:29<07:51,  2.22s/it]"
          ]
        },
        {
          "output_type": "stream",
          "name": "stdout",
          "text": [
            "\n",
            "\n",
            "### Instruction:\n",
            "Translate English sentences into logical form.\n",
            "\n",
            "### Input:\n",
            "A monkey squeezed Emma .\n",
            "\n",
            "### Response:\n",
            "monkey ( 1 ) ; Emma ( 1 ) ; squee ( 3 ) AND agent ( 3 , 1 ) AND theme ( 3 , 1 )\n",
            "\n",
            "\n",
            "\n"
          ]
        },
        {
          "output_type": "stream",
          "name": "stderr",
          "text": [
            "\rGenerating samples:  50%|████▉     | 209/420 [10:32<08:30,  2.42s/it]"
          ]
        },
        {
          "output_type": "stream",
          "name": "stdout",
          "text": [
            "\n",
            "\n",
            "### Instruction:\n",
            "Translate English sentences into logical form.\n",
            "\n",
            "### Input:\n",
            "Olivia squeezed a fish on the crack .\n",
            "\n",
            "### Response:\n",
            "Olivia ( 15 ) ; fish ( 1 ) ; * crack ( 3 ) ; nmod . on ( 1 , 3 ) AND squeeze ( 1 ) AND agent ( 1 , 15 ) AND theme ( 1 , 1 )\n",
            "\n",
            "\n",
            "\n"
          ]
        },
        {
          "output_type": "stream",
          "name": "stderr",
          "text": [
            "\rGenerating samples:  50%|█████     | 210/420 [10:34<08:02,  2.30s/it]"
          ]
        },
        {
          "output_type": "stream",
          "name": "stdout",
          "text": [
            "\n",
            "\n",
            "### Instruction:\n",
            "Translate English sentences into logical form.\n",
            "\n",
            "### Input:\n",
            "Amelia squeezed a beer .\n",
            "\n",
            "### Response:\n",
            "Amelia ( 19 ) ; beer ( 3 ) ; sneeze ( 1 ) AND agent ( 1 , 19 ) AND theme ( 1 , 3 )\n",
            "\n",
            "\n",
            "\n"
          ]
        },
        {
          "output_type": "stream",
          "name": "stderr",
          "text": [
            "\rGenerating samples:  50%|█████     | 211/420 [10:37<08:31,  2.45s/it]"
          ]
        },
        {
          "output_type": "stream",
          "name": "stdout",
          "text": [
            "\n",
            "\n",
            "### Instruction:\n",
            "Translate English sentences into logical form.\n",
            "\n",
            "### Input:\n",
            "Ethan squeezed the girl in the garden .\n",
            "\n",
            "### Response:\n",
            "Ethan ( 1 ) ; * girl ( 1 ) ; * garden ( 29 ) ; nmod . in ( 1 , 29 ) AND squee ( 1 ) AND agent ( 1 , 1 ) AND theme ( 1 , 1 )\n",
            "\n",
            "\n",
            "\n"
          ]
        },
        {
          "output_type": "stream",
          "name": "stderr",
          "text": [
            "\rGenerating samples:  50%|█████     | 212/420 [10:39<07:54,  2.28s/it]"
          ]
        },
        {
          "output_type": "stream",
          "name": "stdout",
          "text": [
            "\n",
            "\n",
            "### Instruction:\n",
            "Translate English sentences into logical form.\n",
            "\n",
            "### Input:\n",
            "The dog squeezed a box .\n",
            "\n",
            "### Response:\n",
            "* dog ( 1 ) ; box ( 1 ) ; squeeze ( 1 ) AND agent ( 1 , 1 ) AND theme ( 1 , 1 )\n",
            "\n",
            "\n",
            "\n"
          ]
        },
        {
          "output_type": "stream",
          "name": "stderr",
          "text": [
            "\rGenerating samples:  51%|█████     | 213/420 [10:41<07:24,  2.15s/it]"
          ]
        },
        {
          "output_type": "stream",
          "name": "stdout",
          "text": [
            "\n",
            "\n",
            "### Instruction:\n",
            "Translate English sentences into logical form.\n",
            "\n",
            "### Input:\n",
            "A dog squeezed Liam .\n",
            "\n",
            "### Response:\n",
            "dog ( 1 ) ; Liam ( 1 ) ; squeze ( 3 ) AND agent ( 3 , 1 ) AND theme ( 3 , 1 )\n",
            "\n",
            "\n",
            "\n"
          ]
        },
        {
          "output_type": "stream",
          "name": "stderr",
          "text": [
            "\rGenerating samples:  51%|█████     | 214/420 [10:44<08:30,  2.48s/it]"
          ]
        },
        {
          "output_type": "stream",
          "name": "stdout",
          "text": [
            "\n",
            "\n",
            "### Instruction:\n",
            "Translate English sentences into logical form.\n",
            "\n",
            "### Input:\n",
            "Ella squeezed a rose on a chair on the speaker .\n",
            "\n",
            "### Response:\n",
            "Ella ( 1 ) ; rose ( 1 ) ; chair ( 2 ) ; chair ( 3 ) ; * speaker ( 3 ) ; nmod . on ( 1 , 2 ) AND squee ( 1 ) AND agent ( 1 , 1 ) AND theme ( 1 , 1 )\n",
            "\n",
            "\n",
            "\n"
          ]
        },
        {
          "output_type": "stream",
          "name": "stderr",
          "text": [
            "\rGenerating samples:  51%|█████     | 215/420 [10:47<09:04,  2.66s/it]"
          ]
        },
        {
          "output_type": "stream",
          "name": "stdout",
          "text": [
            "\n",
            "\n",
            "### Instruction:\n",
            "Translate English sentences into logical form.\n",
            "\n",
            "### Input:\n",
            "William squeezed the cake on a stool beside the chair .\n",
            "\n",
            "### Response:\n",
            "William ( 1 ) ; * cake ( 3 ) ; stool ( 1 ) ; stool ( 3 ) ; nmod . on ( 3 , 1 ) AND squee ( 1 ) AND agent ( 1 , 1 ) AND theme ( 1 , 3 )\n",
            "\n",
            "\n",
            "\n"
          ]
        },
        {
          "output_type": "stream",
          "name": "stderr",
          "text": [
            "\rGenerating samples:  51%|█████▏    | 216/420 [10:51<10:08,  2.98s/it]"
          ]
        },
        {
          "output_type": "stream",
          "name": "stdout",
          "text": [
            "\n",
            "\n",
            "### Instruction:\n",
            "Translate English sentences into logical form.\n",
            "\n",
            "### Input:\n",
            "Elizabeth squeezed the strawberry beside a crystal .\n",
            "\n",
            "### Response:\n",
            "Elelizabeth ( 1 ) ; * st st st st strawry ( 3 ) ; crystal ( 1 ) ; crystal ( 3 ) ; crystal ( 4 ) ; nmod . beside ( 3 , 1 ) AND sneeze ( 1 ) AND agent ( 1 , 1 ) AND theme ( 1 , 3 )\n",
            "\n",
            "\n",
            "\n"
          ]
        },
        {
          "output_type": "stream",
          "name": "stderr",
          "text": [
            "\rGenerating samples:  52%|█████▏    | 217/420 [10:52<08:52,  2.62s/it]"
          ]
        },
        {
          "output_type": "stream",
          "name": "stdout",
          "text": [
            "\n",
            "\n",
            "### Instruction:\n",
            "Translate English sentences into logical form.\n",
            "\n",
            "### Input:\n",
            "A boy squeezed a box .\n",
            "\n",
            "### Response:\n",
            "boy ( 1 ) ; box ( 3 ) ; squeaze ( 1 ) AND agent ( 1 , 1 ) AND theme ( 1 , 3 )\n",
            "\n",
            "\n",
            "\n"
          ]
        },
        {
          "output_type": "stream",
          "name": "stderr",
          "text": [
            "\rGenerating samples:  52%|█████▏    | 218/420 [10:54<07:58,  2.37s/it]"
          ]
        },
        {
          "output_type": "stream",
          "name": "stdout",
          "text": [
            "\n",
            "\n",
            "### Instruction:\n",
            "Translate English sentences into logical form.\n",
            "\n",
            "### Input:\n",
            "Carter squeezed Emma .\n",
            "\n",
            "### Response:\n",
            "Carter ( 1 ) ; Emma ( 1 ) ; squeen ( 3 ) AND agent ( 3 , 1 ) AND theme ( 3 , 1 )\n",
            "\n",
            "\n",
            "\n"
          ]
        },
        {
          "output_type": "stream",
          "name": "stderr",
          "text": [
            "\rGenerating samples:  52%|█████▏    | 219/420 [10:57<08:15,  2.46s/it]"
          ]
        },
        {
          "output_type": "stream",
          "name": "stdout",
          "text": [
            "\n",
            "\n",
            "### Instruction:\n",
            "Translate English sentences into logical form.\n",
            "\n",
            "### Input:\n",
            "Emma squeezed a girl on a stool .\n",
            "\n",
            "### Response:\n",
            "Emma ( 1 ) ; girl ( 1 ) ; stool ( 3 ) ; nmod . on ( 1 , 3 ) AND sneeze ( 1 ) AND agent ( 1 , 1 ) AND theme ( 1 , 1 )\n",
            "\n",
            "\n",
            "\n"
          ]
        },
        {
          "output_type": "stream",
          "name": "stderr",
          "text": [
            "\rGenerating samples:  52%|█████▏    | 220/420 [10:59<07:33,  2.27s/it]"
          ]
        },
        {
          "output_type": "stream",
          "name": "stdout",
          "text": [
            "\n",
            "\n",
            "### Instruction:\n",
            "Translate English sentences into logical form.\n",
            "\n",
            "### Input:\n",
            "The girl squeezed Jacob .\n",
            "\n",
            "### Response:\n",
            "* girl ( 1 ) ; Jacob ( 1 ) ; squee ( 3 ) AND agent ( 3 , 1 ) AND theme ( 3 , 1 )\n",
            "\n",
            "\n",
            "\n"
          ]
        },
        {
          "output_type": "stream",
          "name": "stderr",
          "text": [
            "\rGenerating samples:  53%|█████▎    | 221/420 [11:02<08:33,  2.58s/it]"
          ]
        },
        {
          "output_type": "stream",
          "name": "stdout",
          "text": [
            "\n",
            "\n",
            "### Instruction:\n",
            "Translate English sentences into logical form.\n",
            "\n",
            "### Input:\n",
            "Jackson shipped a friend the tool on a tree .\n",
            "\n",
            "### Response:\n",
            "Jackson ( 1 ) ; friend ( 3 ) ; * tool ( 2 ) ; tree ( 1 ) ; nmod . on ( 2 , 1 ) AND shift ( 1 ) AND agent ( 1 , 1 ) AND recipient ( 1 , 3 ) AND theme ( 1 , 2 )\n",
            "\n",
            "\n",
            "\n"
          ]
        },
        {
          "output_type": "stream",
          "name": "stderr",
          "text": [
            "\rGenerating samples:  53%|█████▎    | 222/420 [11:05<09:20,  2.83s/it]"
          ]
        },
        {
          "output_type": "stream",
          "name": "stdout",
          "text": [
            "\n",
            "\n",
            "### Instruction:\n",
            "Translate English sentences into logical form.\n",
            "\n",
            "### Input:\n",
            "Olivia shipped Emma the rose in a tin .\n",
            "\n",
            "### Response:\n",
            "Olivia ( 15 ) ; Emma ( 2 ) ; rose ( 3 ) ; tin ( 1 ) ; nmod . in ( 3 , 1 ) AND shift ( 1 ) AND agent ( 1 , 15 ) AND recipient ( 1 , 2 ) AND theme ( 1 , 3 )\n",
            "\n",
            "\n",
            "\n"
          ]
        },
        {
          "output_type": "stream",
          "name": "stderr",
          "text": [
            "\rGenerating samples:  53%|█████▎    | 223/420 [11:09<09:55,  3.02s/it]"
          ]
        },
        {
          "output_type": "stream",
          "name": "stdout",
          "text": [
            "\n",
            "\n",
            "### Instruction:\n",
            "Translate English sentences into logical form.\n",
            "\n",
            "### Input:\n",
            "The citizen shipped Liam a cake in a house .\n",
            "\n",
            "### Response:\n",
            "* citizen ( 1 ) ; Liam ( 1 ) ; cake ( 3 ) ; house ( 29 ) ; nmod . in ( 3 , 29 ) AND shipped ( 1 ) AND agent ( 1 , 1 ) AND recipient ( 1 , 1 ) AND theme ( 1 , 3 )\n",
            "\n",
            "\n",
            "\n"
          ]
        },
        {
          "output_type": "stream",
          "name": "stderr",
          "text": [
            "\rGenerating samples:  53%|█████▎    | 224/420 [11:11<09:28,  2.90s/it]"
          ]
        },
        {
          "output_type": "stream",
          "name": "stdout",
          "text": [
            "\n",
            "\n",
            "### Instruction:\n",
            "Translate English sentences into logical form.\n",
            "\n",
            "### Input:\n",
            "A girl shipped Oliver the clock .\n",
            "\n",
            "### Response:\n",
            "girl ( 19 ) ; Oliver ( 3 ) ; * clock ( 2 ) ; shelve ( 1 ) AND agent ( 1 , 19 ) AND recipient ( 1 , 3 ) AND theme ( 1 , 2 )\n",
            "\n",
            "\n",
            "\n"
          ]
        },
        {
          "output_type": "stream",
          "name": "stderr",
          "text": [
            "\rGenerating samples:  54%|█████▎    | 225/420 [11:14<09:13,  2.84s/it]"
          ]
        },
        {
          "output_type": "stream",
          "name": "stdout",
          "text": [
            "\n",
            "\n",
            "### Instruction:\n",
            "Translate English sentences into logical form.\n",
            "\n",
            "### Input:\n",
            "The coach shipped Emma the seed .\n",
            "\n",
            "### Response:\n",
            "* coach ( 1 ) ; Emma ( 1 ) ; * seed ( 2 ) ; shave ( 19 ) AND agent ( 19 , 1 ) AND recipient ( 19 , 1 ) AND theme ( 19 , 2 )\n",
            "\n",
            "\n",
            "\n"
          ]
        },
        {
          "output_type": "stream",
          "name": "stderr",
          "text": [
            "\rGenerating samples:  54%|█████▍    | 226/420 [11:16<08:33,  2.65s/it]"
          ]
        },
        {
          "output_type": "stream",
          "name": "stdout",
          "text": [
            "\n",
            "\n",
            "### Instruction:\n",
            "Translate English sentences into logical form.\n",
            "\n",
            "### Input:\n",
            "Grayson shipped the boy a bell .\n",
            "\n",
            "### Response:\n",
            "Grayson ( 1 ) ; * boy ( 1 ) ; shirt ( 3 ) ; shake ( 1 ) AND agent ( 1 , 1 ) AND theme ( 1 , 1 )\n",
            "\n",
            "\n",
            "\n"
          ]
        },
        {
          "output_type": "stream",
          "name": "stderr",
          "text": [
            "\rGenerating samples:  54%|█████▍    | 227/420 [11:19<08:26,  2.62s/it]"
          ]
        },
        {
          "output_type": "stream",
          "name": "stdout",
          "text": [
            "\n",
            "\n",
            "### Instruction:\n",
            "Translate English sentences into logical form.\n",
            "\n",
            "### Input:\n",
            "The coach shipped a dog a cake .\n",
            "\n",
            "### Response:\n",
            "* coach ( 1 ) ; dog ( 1 ) ; cake ( 3 ) ; shave ( 1 ) AND agent ( 1 , 1 ) AND recipient ( 1 , 1 ) AND theme ( 1 , 3 )\n",
            "\n",
            "\n",
            "\n"
          ]
        },
        {
          "output_type": "stream",
          "name": "stderr",
          "text": [
            "\rGenerating samples:  54%|█████▍    | 228/420 [11:22<08:24,  2.63s/it]"
          ]
        },
        {
          "output_type": "stream",
          "name": "stdout",
          "text": [
            "\n",
            "\n",
            "### Instruction:\n",
            "Translate English sentences into logical form.\n",
            "\n",
            "### Input:\n",
            "A passenger shipped Riley the cake .\n",
            "\n",
            "### Response:\n",
            "passpass passenger ( 1 ) ; Riley ( 1 ) ; * cake ( 3 ) ; shave ( 1 ) AND agent ( 1 , 1 ) AND recipient ( 1 , 1 ) AND theme ( 1 , 3 )\n",
            "\n",
            "\n",
            "\n"
          ]
        },
        {
          "output_type": "stream",
          "name": "stderr",
          "text": [
            "\rGenerating samples:  55%|█████▍    | 229/420 [11:29<13:10,  4.14s/it]"
          ]
        },
        {
          "output_type": "stream",
          "name": "stdout",
          "text": [
            "\n",
            "\n",
            "### Instruction:\n",
            "Translate English sentences into logical form.\n",
            "\n",
            "### Input:\n",
            "A girl liked that Scarlett declared that the prince shipped Olivia a sandwich in a house .\n",
            "\n",
            "### Response:\n",
            "girl ( 1 ) ; Sclett ( 3 ) ; Olivia ( 1 ) ; Olivia ( 1 ) ; Olivia ( 3 ) ; Olivia ( 1 ) ; Olivia ( 2 ) ; Olivia ( 1 ) ; house ( 1 ) ; house ( 20 ) ; house ( 3 ) ; nmod . in ( 3 , 20 ) AND like ( 1 ) AND agent ( 1 , 1 ) AND ccomp ( 1 , 1 ) AND declare ( 1 ) AND agent ( 1 , 3 ) AND xcomp ( 1 , 3 ) AND eat ( 3 ) AND agent ( 3 , 1 ) AND clean ( 3 ) AND agent ( 3 , 1 )\n",
            "\n",
            "\n",
            "\n"
          ]
        },
        {
          "output_type": "stream",
          "name": "stderr",
          "text": [
            "\rGenerating samples:  55%|█████▍    | 230/420 [11:33<12:21,  3.90s/it]"
          ]
        },
        {
          "output_type": "stream",
          "name": "stdout",
          "text": [
            "\n",
            "\n",
            "### Instruction:\n",
            "Translate English sentences into logical form.\n",
            "\n",
            "### Input:\n",
            "A girl shipped the boy a chalk in a garden .\n",
            "\n",
            "### Response:\n",
            "girl ( 1 ) ; * boy ( 1 ) ; chalk ( 3 ) ; garden ( 1 ) ; nmod . in ( 3 , 1 ) AND ship ( 1 ) AND agent ( 1 , 1 ) AND recipient ( 1 , 1 ) AND theme ( 1 , 3 )\n",
            "\n",
            "\n",
            "\n"
          ]
        },
        {
          "output_type": "stream",
          "name": "stderr",
          "text": [
            "\rGenerating samples:  55%|█████▌    | 231/420 [11:35<11:05,  3.52s/it]"
          ]
        },
        {
          "output_type": "stream",
          "name": "stdout",
          "text": [
            "\n",
            "\n",
            "### Instruction:\n",
            "Translate English sentences into logical form.\n",
            "\n",
            "### Input:\n",
            "Skylar shipped Scarlett a bucket .\n",
            "\n",
            "### Response:\n",
            "Skylar ( 1 ) ; Scarlett ( 1 ) ; bucket ( 3 ) ; shave ( 1 ) AND agent ( 1 , 1 ) AND recipient ( 1 , 1 ) AND theme ( 1 , 3 )\n",
            "\n",
            "\n",
            "\n"
          ]
        },
        {
          "output_type": "stream",
          "name": "stderr",
          "text": [
            "\rGenerating samples:  55%|█████▌    | 232/420 [11:39<10:55,  3.48s/it]"
          ]
        },
        {
          "output_type": "stream",
          "name": "stdout",
          "text": [
            "\n",
            "\n",
            "### Instruction:\n",
            "Translate English sentences into logical form.\n",
            "\n",
            "### Input:\n",
            "Emma shipped Alexander a box on the stage .\n",
            "\n",
            "### Response:\n",
            "Emma ( 1 ) ; Alexander ( 1 ) ; box ( 3 ) ; * stage ( 2 ) ; nmod . on ( 31 , 2 ) AND shine ( 1 ) AND agent ( 1 , 1 ) AND recipient ( 1 , 1 ) AND theme ( 1 , 3 )\n",
            "\n",
            "\n",
            "\n"
          ]
        },
        {
          "output_type": "stream",
          "name": "stderr",
          "text": [
            "\rGenerating samples:  55%|█████▌    | 233/420 [11:42<10:44,  3.45s/it]"
          ]
        },
        {
          "output_type": "stream",
          "name": "stdout",
          "text": [
            "\n",
            "\n",
            "### Instruction:\n",
            "Translate English sentences into logical form.\n",
            "\n",
            "### Input:\n",
            "A father shipped Liam the rose on a table .\n",
            "\n",
            "### Response:\n",
            "father ( 1 ) ; Liam ( 1 ) ; * rose ( 2 ) ; table ( 1 ) ; nmod . on ( 2 , 1 ) AND ship ( 3 ) AND agent ( 3 , 1 ) AND recipient ( 3 , 1 ) AND theme ( 3 , 2 )\n",
            "\n",
            "\n",
            "\n"
          ]
        },
        {
          "output_type": "stream",
          "name": "stderr",
          "text": [
            "\rGenerating samples:  56%|█████▌    | 234/420 [11:45<09:58,  3.22s/it]"
          ]
        },
        {
          "output_type": "stream",
          "name": "stdout",
          "text": [
            "\n",
            "\n",
            "### Instruction:\n",
            "Translate English sentences into logical form.\n",
            "\n",
            "### Input:\n",
            "Emma shipped a girl the cake .\n",
            "\n",
            "### Response:\n",
            "Emma ( 1 ) ; girl ( 1 ) ; * cake ( 33 ) ; shake ( 1 ) AND agent ( 1 , 1 ) AND recipient ( 1 , 1 ) AND theme ( 1 , 33 )\n",
            "\n",
            "\n",
            "\n"
          ]
        },
        {
          "output_type": "stream",
          "name": "stderr",
          "text": [
            "\rGenerating samples:  56%|█████▌    | 235/420 [11:52<13:19,  4.32s/it]"
          ]
        },
        {
          "output_type": "stream",
          "name": "stdout",
          "text": [
            "\n",
            "\n",
            "### Instruction:\n",
            "Translate English sentences into logical form.\n",
            "\n",
            "### Input:\n",
            "The boy respected that Samuel shipped Olivia the box in the room .\n",
            "\n",
            "### Response:\n",
            "* boy ( 1 ) ; Samuel ( 1 ) ; Olivia ( 1 ) ; Olivia ( 1 ) ; * box ( 3 ) ; * room ( 1 ) ; nmod . in ( 3 , 1 ) AND respect ( 1 ) AND agent ( 1 , 1 ) AND ccomp ( 1 , 1 ) AND shipped ( 1 ) AND agent ( 1 , 1 ) AND xcomp ( 1 , 25 ) AND shipped ( 25 ) AND agent ( 25 , 1 ) AND recipient ( 25 , 1 ) AND shipped ( 25 ) AND theme ( 25 , 3 )\n",
            "\n",
            "\n",
            "\n"
          ]
        },
        {
          "output_type": "stream",
          "name": "stderr",
          "text": [
            "\rGenerating samples:  56%|█████▌    | 236/420 [11:55<12:27,  4.06s/it]"
          ]
        },
        {
          "output_type": "stream",
          "name": "stdout",
          "text": [
            "\n",
            "\n",
            "### Instruction:\n",
            "Translate English sentences into logical form.\n",
            "\n",
            "### Input:\n",
            "Eleanor shipped Joseph a cake beside the table .\n",
            "\n",
            "### Response:\n",
            "Eleanor ( 1 ) ; Joseph ( 1 ) ; cake ( 1 ) ; * table ( 2 ) ; nmod . beside ( 1 , 2 ) AND shift ( 1 ) AND agent ( 1 , 1 ) AND recipient ( 1 , 1 ) AND theme ( 1 , 1 )\n",
            "\n",
            "\n",
            "\n"
          ]
        },
        {
          "output_type": "stream",
          "name": "stderr",
          "text": [
            "\rGenerating samples:  56%|█████▋    | 237/420 [11:58<11:03,  3.62s/it]"
          ]
        },
        {
          "output_type": "stream",
          "name": "stdout",
          "text": [
            "\n",
            "\n",
            "### Instruction:\n",
            "Translate English sentences into logical form.\n",
            "\n",
            "### Input:\n",
            "A lion shipped Mateo the cake .\n",
            "\n",
            "### Response:\n",
            "lion ( 1 ) ; Mateo ( 1 ) ; * cake ( 3 ) ; shave ( 1 ) AND agent ( 1 , 1 ) AND recipient ( 1 , 1 ) AND theme ( 1 , 3 )\n",
            "\n",
            "\n",
            "\n"
          ]
        },
        {
          "output_type": "stream",
          "name": "stderr",
          "text": [
            "\rGenerating samples:  57%|█████▋    | 238/420 [12:00<10:08,  3.34s/it]"
          ]
        },
        {
          "output_type": "stream",
          "name": "stdout",
          "text": [
            "\n",
            "\n",
            "### Instruction:\n",
            "Translate English sentences into logical form.\n",
            "\n",
            "### Input:\n",
            "Hannah shipped Brooklyn the cake .\n",
            "\n",
            "### Response:\n",
            "Hannah ( 1 ) ; Brooklyn ( 1 ) ; * cake ( 3 ) ; shave ( 1 ) AND agent ( 1 , 1 ) AND recipient ( 1 , 1 ) AND theme ( 1 , 3 )\n",
            "\n",
            "\n",
            "\n"
          ]
        },
        {
          "output_type": "stream",
          "name": "stderr",
          "text": [
            "\rGenerating samples:  57%|█████▋    | 239/420 [12:04<10:07,  3.36s/it]"
          ]
        },
        {
          "output_type": "stream",
          "name": "stdout",
          "text": [
            "\n",
            "\n",
            "### Instruction:\n",
            "Translate English sentences into logical form.\n",
            "\n",
            "### Input:\n",
            "A boy shipped a frog the sandwich in the garden .\n",
            "\n",
            "### Response:\n",
            "boy ( 1 ) ; frog ( 1 ) ; * sandwich ( 2 ) ; * garden ( 3 ) ; nmod . in ( 2 , 3 ) AND ship ( 1 ) AND agent ( 1 , 1 ) AND recipient ( 1 , 1 ) AND theme ( 1 , 2 )\n",
            "\n",
            "\n",
            "\n"
          ]
        },
        {
          "output_type": "stream",
          "name": "stderr",
          "text": [
            "\rGenerating samples:  57%|█████▋    | 240/420 [12:06<09:24,  3.14s/it]"
          ]
        },
        {
          "output_type": "stream",
          "name": "stdout",
          "text": [
            "\n",
            "\n",
            "### Instruction:\n",
            "Translate English sentences into logical form.\n",
            "\n",
            "### Input:\n",
            "The donkey shipped Noah a donut .\n",
            "\n",
            "### Response:\n",
            "* donkey ( 1 ) ; Noah ( 1 ) ; donut ( 3 ) ; shave ( 1 ) AND agent ( 1 , 1 ) AND recipient ( 1 , 1 ) AND theme ( 1 , 3 )\n",
            "\n",
            "\n",
            "\n"
          ]
        },
        {
          "output_type": "stream",
          "name": "stderr",
          "text": [
            "\rGenerating samples:  57%|█████▋    | 241/420 [12:10<10:06,  3.39s/it]"
          ]
        },
        {
          "output_type": "stream",
          "name": "stdout",
          "text": [
            "\n",
            "\n",
            "### Instruction:\n",
            "Translate English sentences into logical form.\n",
            "\n",
            "### Input:\n",
            "Logan slipped a donut on the bun beside the bed beside the table in a cup beside a tree to Emily .\n",
            "\n",
            "### Response:\n",
            "Logan ( 1 ) ; donut ( 1 ) ; * bunny ( 2 ) ; * bed ( 3 ) ; Emily ( 1 ) ; Logan ( 1 ) ; Emily ( 1 ) ; nmod . on ( 1 , 3 ) AND slip ( 3 ) AND agent ( 3 , 1 ) AND theme ( 3 , 1 )\n",
            "\n",
            "\n",
            "\n"
          ]
        },
        {
          "output_type": "stream",
          "name": "stderr",
          "text": [
            "\rGenerating samples:  58%|█████▊    | 242/420 [12:14<10:35,  3.57s/it]"
          ]
        },
        {
          "output_type": "stream",
          "name": "stdout",
          "text": [
            "\n",
            "\n",
            "### Instruction:\n",
            "Translate English sentences into logical form.\n",
            "\n",
            "### Input:\n",
            "A judge poked the donut in a cupboard beside the bin beside the seat in a taxi beside a bed in a house beside a stage in a garden on a rock beside a table .\n",
            "\n",
            "### Response:\n",
            "jud ( 1 ) ; * donut ( 1 ) ; cupboard ( 2 ) ; cup ( 3 ) ; * bin ( 49 ) ; taxi ( 1 ) ; rock ( 1 ) ; nmod . in ( 13 , 1 ) AND poke ( 1 ) AND agent ( 1 , 1 ) AND theme ( 1 , 13 )\n",
            "\n",
            "\n",
            "\n"
          ]
        },
        {
          "output_type": "stream",
          "name": "stderr",
          "text": [
            "\rGenerating samples:  58%|█████▊    | 243/420 [12:18<10:20,  3.51s/it]"
          ]
        },
        {
          "output_type": "stream",
          "name": "stdout",
          "text": [
            "\n",
            "\n",
            "### Instruction:\n",
            "Translate English sentences into logical form.\n",
            "\n",
            "### Input:\n",
            "A cat served a box on the napkin beside a log on a bed beside the bike on a TV to the prince .\n",
            "\n",
            "### Response:\n",
            "cat ( 1 ) ; box ( 3 ) ; logkin ( 2 ) ; log ( 1 ) ; log ( 3 ) ; log ( 1 ) ; nmod . on ( 3 , 1 ) AND serve ( 1 ) AND agent ( 1 , 1 ) AND theme ( 1 , 3 )\n",
            "\n",
            "\n",
            "\n"
          ]
        },
        {
          "output_type": "stream",
          "name": "stderr",
          "text": [
            "\rGenerating samples:  58%|█████▊    | 244/420 [12:21<09:57,  3.39s/it]"
          ]
        },
        {
          "output_type": "stream",
          "name": "stdout",
          "text": [
            "\n",
            "\n",
            "### Instruction:\n",
            "Translate English sentences into logical form.\n",
            "\n",
            "### Input:\n",
            "Liam liked the soldier beside a bottle on the road beside a cup in a room on a sock in a well on the chair in a basin .\n",
            "\n",
            "### Response:\n",
            "Liam ( 1 ) ; * soldier ( 2 ) ; bottle ( 1 ) ; road ( 3 ) ; cup ( 2 ) ; nmod . beside ( 2 , 1 ) AND like ( 1 ) AND agent ( 1 , 1 ) AND theme ( 1 , 2 )\n",
            "\n",
            "\n",
            "\n"
          ]
        },
        {
          "output_type": "stream",
          "name": "stderr",
          "text": [
            "\rGenerating samples:  58%|█████▊    | 245/420 [12:26<11:15,  3.86s/it]"
          ]
        },
        {
          "output_type": "stream",
          "name": "stdout",
          "text": [
            "\n",
            "\n",
            "### Instruction:\n",
            "Translate English sentences into logical form.\n",
            "\n",
            "### Input:\n",
            "Emma appreciated that the cat snapped the dealer in the cage beside the book in a house beside a sink beside the cup beside a chair beside the bin on the bed .\n",
            "\n",
            "### Response:\n",
            "Emma ( 1 ) ; * cat ( 3 ) ; * dealer ( 1 ) ; * cage ( 1 ) ; house ( 3 ) ; house ( 4 ) ; house ( 1 ) ; nmod . in ( 1 , 4 ) AND appreciate ( 1 ) AND agent ( 1 , 1 ) AND ccomp ( 1 , 1 ) AND snap ( 1 ) AND agent ( 1 , 3 ) AND theme ( 1 , 1 )\n",
            "\n",
            "\n",
            "\n"
          ]
        },
        {
          "output_type": "stream",
          "name": "stderr",
          "text": [
            "\rGenerating samples:  59%|█████▊    | 246/420 [12:30<11:49,  4.08s/it]"
          ]
        },
        {
          "output_type": "stream",
          "name": "stdout",
          "text": [
            "\n",
            "\n",
            "### Instruction:\n",
            "Translate English sentences into logical form.\n",
            "\n",
            "### Input:\n",
            "Liam liked a donut in the garden in the well on a bike in the house on a bowl in a pod .\n",
            "\n",
            "### Response:\n",
            "Liam ( 1 ) ; donut ( 1 ) ; * garden ( 3 ) ; * garden ( 49 ) ; bike ( 1 ) ; bowl ( 3 ) ; bowl ( 1 ) ; bowl ( 2 ) ; bowl ( 3 ) ; nmod . in ( 1 , 3 ) AND like ( 1 ) AND agent ( 1 , 1 ) AND theme ( 1 , 1 )\n",
            "\n",
            "\n",
            "\n"
          ]
        },
        {
          "output_type": "stream",
          "name": "stderr",
          "text": [
            "\rGenerating samples:  59%|█████▉    | 247/420 [12:33<10:54,  3.78s/it]"
          ]
        },
        {
          "output_type": "stream",
          "name": "stdout",
          "text": [
            "\n",
            "\n",
            "### Instruction:\n",
            "Translate English sentences into logical form.\n",
            "\n",
            "### Input:\n",
            "A cat froze a chicken on a chair in a garden on a table in a dumpster beside the monk beside a bed .\n",
            "\n",
            "### Response:\n",
            "cat ( 1 ) ; chicken ( 3 ) ; chair ( 2 ) ; chair ( 3 ) ; chair ( 4 ) ; nmod . on ( 3 , 2 ) AND freeze ( 1 ) AND agent ( 1 , 1 ) AND theme ( 1 , 3 )\n",
            "\n",
            "\n",
            "\n"
          ]
        },
        {
          "output_type": "stream",
          "name": "stderr",
          "text": [
            "\rGenerating samples:  59%|█████▉    | 248/420 [12:37<10:19,  3.60s/it]"
          ]
        },
        {
          "output_type": "stream",
          "name": "stdout",
          "text": [
            "\n",
            "\n",
            "### Instruction:\n",
            "Translate English sentences into logical form.\n",
            "\n",
            "### Input:\n",
            "The girl sketched the cat in a house on a seat beside a table beside a dragon on the notebook in a jar in the room .\n",
            "\n",
            "### Response:\n",
            "* girl ( 1 ) ; * cat ( 1 ) ; house ( 3 ) ; seat ( 49 ) ; seat ( 3 ) ; nmod . in ( 13 , 3 ) AND sketch ( 1 ) AND agent ( 1 , 1 ) AND theme ( 1 , 1 )\n",
            "\n",
            "\n",
            "\n"
          ]
        },
        {
          "output_type": "stream",
          "name": "stderr",
          "text": [
            "\rGenerating samples:  59%|█████▉    | 249/420 [12:41<10:37,  3.73s/it]"
          ]
        },
        {
          "output_type": "stream",
          "name": "stdout",
          "text": [
            "\n",
            "\n",
            "### Instruction:\n",
            "Translate English sentences into logical form.\n",
            "\n",
            "### Input:\n",
            "The boy ate the monster in the cabinet in a envelope on the tiger beside the painting beside a cat on a box beside a table on a surface in the house in the cup beside the stage .\n",
            "\n",
            "### Response:\n",
            "* boy ( 1 ) ; * mon ( 1 ) ; * cabinet ( 3 ) ; envelope ( 4 ) ; cat ( 2 ) ; cat ( 1 ) ; cat ( 1 ) ; cat ( 3 ) ; nmod . in ( 3 , 3 ) AND eat ( 1 ) AND agent ( 1 , 1 ) AND theme ( 1 , 3 )\n",
            "\n",
            "\n",
            "\n"
          ]
        },
        {
          "output_type": "stream",
          "name": "stderr",
          "text": [
            "\rGenerating samples:  60%|█████▉    | 250/420 [12:44<10:33,  3.72s/it]"
          ]
        },
        {
          "output_type": "stream",
          "name": "stdout",
          "text": [
            "\n",
            "\n",
            "### Instruction:\n",
            "Translate English sentences into logical form.\n",
            "\n",
            "### Input:\n",
            "Emily admired a girl beside the monkey on the bible in the car in a palace on a surface on a desk on a cupboard on the table .\n",
            "\n",
            "### Response:\n",
            "Emily ( 1 ) ; girl ( 1 ) ; * monkey ( 3 ) ; * bible ( 1 ) ; * bible ( 2 ) ; cup ( 3 ) ; nmod . beside ( 1 , 3 ) AND admire ( 1 ) AND agent ( 1 , 1 ) AND theme ( 1 , 1 )\n",
            "\n",
            "\n",
            "\n"
          ]
        },
        {
          "output_type": "stream",
          "name": "stderr",
          "text": [
            "\rGenerating samples:  60%|█████▉    | 251/420 [12:47<10:00,  3.56s/it]"
          ]
        },
        {
          "output_type": "stream",
          "name": "stdout",
          "text": [
            "\n",
            "\n",
            "### Instruction:\n",
            "Translate English sentences into logical form.\n",
            "\n",
            "### Input:\n",
            "A tenant liked the teacher in a glass on a stage in a house .\n",
            "\n",
            "### Response:\n",
            "tenant ( 1 ) ; * teacher ( 3 ) ; glass ( 1 ) ; stage ( 20 ) ; stage ( 3 ) ; nmod . in ( 3 , 2 ) AND like ( 1 ) AND agent ( 1 , 1 ) AND theme ( 1 , 3 )\n",
            "\n",
            "\n",
            "\n"
          ]
        },
        {
          "output_type": "stream",
          "name": "stderr",
          "text": [
            "\rGenerating samples:  60%|██████    | 252/420 [12:50<09:21,  3.34s/it]"
          ]
        },
        {
          "output_type": "stream",
          "name": "stdout",
          "text": [
            "\n",
            "\n",
            "### Instruction:\n",
            "Translate English sentences into logical form.\n",
            "\n",
            "### Input:\n",
            "Eleanor painted a teacher in a house beside the stage on the table in a room .\n",
            "\n",
            "### Response:\n",
            "Eleanor ( 1 ) ; teacher ( 1 ) ; house ( 2 ) ; house ( 3 ) ; nmod . in ( 1 , 2 ) AND paint ( 1 ) AND agent ( 1 , 1 ) AND theme ( 1 , 1 )\n",
            "\n",
            "\n",
            "\n"
          ]
        },
        {
          "output_type": "stream",
          "name": "stderr",
          "text": [
            "\rGenerating samples:  60%|██████    | 253/420 [12:54<09:34,  3.44s/it]"
          ]
        },
        {
          "output_type": "stream",
          "name": "stdout",
          "text": [
            "\n",
            "\n",
            "### Instruction:\n",
            "Translate English sentences into logical form.\n",
            "\n",
            "### Input:\n",
            "A teacher sold a bat beside a machine in the house on the chair in a room beside the sword on a seat on the table to a goose .\n",
            "\n",
            "### Response:\n",
            "teacher ( 1 ) ; bat ( 1 ) ; machine ( 3 ) ; * house ( 3 ) ; * chair ( 4 ) ; nmod . beside ( 13 , 3 ) AND sell ( 1 ) AND agent ( 1 , 1 ) AND theme ( 1 , 1 ) AND recipient ( 1 , 3 )\n",
            "\n",
            "\n",
            "\n"
          ]
        },
        {
          "output_type": "stream",
          "name": "stderr",
          "text": [
            "\rGenerating samples:  60%|██████    | 254/420 [12:57<09:27,  3.42s/it]"
          ]
        },
        {
          "output_type": "stream",
          "name": "stdout",
          "text": [
            "\n",
            "\n",
            "### Instruction:\n",
            "Translate English sentences into logical form.\n",
            "\n",
            "### Input:\n",
            "A dog painted the girl beside the chair in a house beside a road on a dish .\n",
            "\n",
            "### Response:\n",
            "dog ( 1 ) ; * girl ( 1 ) ; house ( 3 ) ; house ( 3 ) ; house ( 2 ) ; road ( 3 ) ; nmod . beside ( 1 , 3 ) AND paint ( 1 ) AND agent ( 1 , 1 ) AND theme ( 1 , 1 )\n",
            "\n",
            "\n",
            "\n"
          ]
        },
        {
          "output_type": "stream",
          "name": "stderr",
          "text": [
            "\rGenerating samples:  61%|██████    | 255/420 [13:01<09:57,  3.62s/it]"
          ]
        },
        {
          "output_type": "stream",
          "name": "stdout",
          "text": [
            "\n",
            "\n",
            "### Instruction:\n",
            "Translate English sentences into logical form.\n",
            "\n",
            "### Input:\n",
            "The baby returned James the donut on the tree in the house on the bed in a bag .\n",
            "\n",
            "### Response:\n",
            "* baby ( 1 ) ; James ( 1 ) ; * donut ( 1 ) ; * tree ( 3 ) ; * house ( 2 ) ; * house ( 3 ) ; nmod . on ( 13 , 3 ) AND return ( 1 ) AND agent ( 1 , 1 ) AND recipient ( 1 , 1 ) AND theme ( 1 , 13 )\n",
            "\n",
            "\n",
            "\n"
          ]
        },
        {
          "output_type": "stream",
          "name": "stderr",
          "text": [
            "\rGenerating samples:  61%|██████    | 256/420 [13:06<10:31,  3.85s/it]"
          ]
        },
        {
          "output_type": "stream",
          "name": "stdout",
          "text": [
            "\n",
            "\n",
            "### Instruction:\n",
            "Translate English sentences into logical form.\n",
            "\n",
            "### Input:\n",
            "The boy sold the cake on the boat on the leaflet in the haystack on a bed on a stage on a block in a garden on the chair to the president .\n",
            "\n",
            "### Response:\n",
            "* boy ( 1 ) ; * cake ( 2 ) ; * boat ( 1 ) ; * leaflet ( 3 ) ; * hay ( 4 ) ; stage ( 1 ) ; * president ( 1 ) ; nmod . on ( 2 , 1 ) AND sell ( 1 ) AND agent ( 1 , 1 ) AND theme ( 1 , 2 ) AND recipient ( 1 , 1 )\n",
            "\n",
            "\n",
            "\n"
          ]
        },
        {
          "output_type": "stream",
          "name": "stderr",
          "text": [
            "\rGenerating samples:  61%|██████    | 257/420 [13:09<10:00,  3.68s/it]"
          ]
        },
        {
          "output_type": "stream",
          "name": "stdout",
          "text": [
            "\n",
            "\n",
            "### Instruction:\n",
            "Translate English sentences into logical form.\n",
            "\n",
            "### Input:\n",
            "The girl cleaned a cat beside a table in a storage on a rock beside the bed in a house on the desk in the garden beside a car .\n",
            "\n",
            "### Response:\n",
            "* girl ( 1 ) ; cat ( 1 ) ; table ( 3 ) ; rock ( 49 ) ; rock ( 3 ) ; nmod . beside ( 13 , 3 ) AND clean ( 1 ) AND agent ( 1 , 1 ) AND theme ( 1 , 13 )\n",
            "\n",
            "\n",
            "\n"
          ]
        },
        {
          "output_type": "stream",
          "name": "stderr",
          "text": [
            "\rGenerating samples:  61%|██████▏   | 258/420 [13:13<10:26,  3.87s/it]"
          ]
        },
        {
          "output_type": "stream",
          "name": "stdout",
          "text": [
            "\n",
            "\n",
            "### Instruction:\n",
            "Translate English sentences into logical form.\n",
            "\n",
            "### Input:\n",
            "A girl handed the block beside a mirror beside a book in a vessel in the room in a house in the box beside the bag beside a log in the saucepan in the car beside the table to Liam .\n",
            "\n",
            "### Response:\n",
            "girl ( 1 ) ; * block ( 2 ) ; mirror ( 3 ) ; mirror ( 1 ) ; vessel ( 2 ) ; vessel ( 3 ) ; house ( 1 ) ; nmod . beside ( 3 , 1 ) AND hand ( 15 ) AND agent ( 15 , 1 ) AND theme ( 15 , 3 ) AND recipient ( 15 , 3 )\n",
            "\n",
            "\n",
            "\n"
          ]
        },
        {
          "output_type": "stream",
          "name": "stderr",
          "text": [
            "\rGenerating samples:  62%|██████▏   | 259/420 [13:18<10:43,  4.00s/it]"
          ]
        },
        {
          "output_type": "stream",
          "name": "stdout",
          "text": [
            "\n",
            "\n",
            "### Instruction:\n",
            "Translate English sentences into logical form.\n",
            "\n",
            "### Input:\n",
            "Liam ate the cookie in a penthouse beside the book in the house in the stadium on a bible beside the car in a bakery beside the table beside the machine in the container .\n",
            "\n",
            "### Response:\n",
            "Liam ( 1 ) ; * cookie ( 3 ) ; pent ( 2 ) ; * book ( 1 ) ; * house ( 3 ) ; bible ( 4 ) ; nbakley ( 1 ) ; bakley ( 3 ) ; nmod . in ( 3 , 4 ) AND eat ( 1 ) AND agent ( 1 , 1 ) AND theme ( 1 , 3 )\n",
            "\n",
            "\n",
            "\n"
          ]
        },
        {
          "output_type": "stream",
          "name": "stderr",
          "text": [
            "\rGenerating samples:  62%|██████▏   | 260/420 [13:21<10:22,  3.89s/it]"
          ]
        },
        {
          "output_type": "stream",
          "name": "stdout",
          "text": [
            "\n",
            "\n",
            "### Instruction:\n",
            "Translate English sentences into logical form.\n",
            "\n",
            "### Input:\n",
            "William helped a boy beside the table on a truck beside the tree on the yacht beside a bed in a car beside a boat beside a chair on a seat in a envelope on a shelf .\n",
            "\n",
            "### Response:\n",
            "William ( 1 ) ; boy ( 1 ) ; * table ( 35 ) ; truck ( 4 ) ; * yacht ( 1 ) ; chair ( 3 ) ; nmod . beside ( 1 , 35 ) AND help ( 1 ) AND agent ( 1 , 1 ) AND theme ( 1 , 1 )\n",
            "\n",
            "\n",
            "\n"
          ]
        },
        {
          "output_type": "stream",
          "name": "stderr",
          "text": [
            "\rGenerating samples:  62%|██████▏   | 261/420 [13:24<08:58,  3.39s/it]"
          ]
        },
        {
          "output_type": "stream",
          "name": "stdout",
          "text": [
            "\n",
            "\n",
            "### Instruction:\n",
            "Translate English sentences into logical form.\n",
            "\n",
            "### Input:\n",
            "The lion preferred to crawl .\n",
            "\n",
            "### Response:\n",
            "* lion ( 1 ) ; prefer ( 1 ) AND agent ( 1 , 1 ) AND xcomp ( 1 , 1 ) AND craw ( 1 ) AND agent ( 1 , 1 )\n",
            "\n",
            "\n",
            "\n"
          ]
        },
        {
          "output_type": "stream",
          "name": "stderr",
          "text": [
            "\rGenerating samples:  62%|██████▏   | 262/420 [13:26<08:00,  3.04s/it]"
          ]
        },
        {
          "output_type": "stream",
          "name": "stdout",
          "text": [
            "\n",
            "\n",
            "### Instruction:\n",
            "Translate English sentences into logical form.\n",
            "\n",
            "### Input:\n",
            "Elijah wanted to crawl .\n",
            "\n",
            "### Response:\n",
            "Elijah ( 1 ) ; want ( 1 ) AND agent ( 1 , 1 ) AND xcomp ( 1 , 1 ) AND craw ( 1 ) AND agent ( 1 , 1 )\n",
            "\n",
            "\n",
            "\n"
          ]
        },
        {
          "output_type": "stream",
          "name": "stderr",
          "text": [
            "\rGenerating samples:  63%|██████▎   | 263/420 [13:28<07:13,  2.76s/it]"
          ]
        },
        {
          "output_type": "stream",
          "name": "stdout",
          "text": [
            "\n",
            "\n",
            "### Instruction:\n",
            "Translate English sentences into logical form.\n",
            "\n",
            "### Input:\n",
            "A student wanted to crawl .\n",
            "\n",
            "### Response:\n",
            "student ( 1 ) ; want ( 1 ) AND agent ( 1 , 1 ) AND xcomp ( 1 , 1 ) AND craw ( 1 ) AND agent ( 1 , 1 )\n",
            "\n",
            "\n",
            "\n"
          ]
        },
        {
          "output_type": "stream",
          "name": "stderr",
          "text": [
            "\rGenerating samples:  63%|██████▎   | 264/420 [13:29<05:50,  2.25s/it]"
          ]
        },
        {
          "output_type": "stream",
          "name": "stdout",
          "text": [
            "\n",
            "\n",
            "### Instruction:\n",
            "Translate English sentences into logical form.\n",
            "\n",
            "### Input:\n",
            "Liam dreamed to crawl .\n",
            "\n",
            "### Response:\n",
            "Liam ( 1 ) ; dream ( 1 ) AND agent ( 1 , 1 )\n",
            "\n",
            "\n",
            "\n"
          ]
        },
        {
          "output_type": "stream",
          "name": "stderr",
          "text": [
            "\rGenerating samples:  63%|██████▎   | 265/420 [13:32<06:08,  2.38s/it]"
          ]
        },
        {
          "output_type": "stream",
          "name": "stdout",
          "text": [
            "\n",
            "\n",
            "### Instruction:\n",
            "Translate English sentences into logical form.\n",
            "\n",
            "### Input:\n",
            "A butterfly hoped that Ava wanted to crawl .\n",
            "\n",
            "### Response:\n",
            "butbutbutta Ava ( 1 ) ; Ava ( 1 ) ; hope ( 1 ) AND agent ( 1 , 2 ) AND xcomp ( 1 , 1 ) AND want ( 1 ) AND agent ( 1 , 1 )\n",
            "\n",
            "\n",
            "\n"
          ]
        },
        {
          "output_type": "stream",
          "name": "stderr",
          "text": [
            "\rGenerating samples:  63%|██████▎   | 266/420 [13:33<05:04,  1.98s/it]"
          ]
        },
        {
          "output_type": "stream",
          "name": "stdout",
          "text": [
            "\n",
            "\n",
            "### Instruction:\n",
            "Translate English sentences into logical form.\n",
            "\n",
            "### Input:\n",
            "Avery wanted to crawl .\n",
            "\n",
            "### Response:\n",
            "Avery ( 1 ) ; want ( 1 ) AND agent ( 1 , 1 )\n",
            "\n",
            "\n",
            "\n"
          ]
        },
        {
          "output_type": "stream",
          "name": "stderr",
          "text": [
            "\rGenerating samples:  64%|██████▎   | 267/420 [13:35<05:08,  2.02s/it]"
          ]
        },
        {
          "output_type": "stream",
          "name": "stdout",
          "text": [
            "\n",
            "\n",
            "### Instruction:\n",
            "Translate English sentences into logical form.\n",
            "\n",
            "### Input:\n",
            "A manager preferred to crawl .\n",
            "\n",
            "### Response:\n",
            "manager ( 1 ) ; prefer ( 1 ) AND agent ( 1 , 1 ) AND xcomp ( 1 , 1 ) AND craw ( 1 ) AND agent ( 1 , 1 )\n",
            "\n",
            "\n",
            "\n"
          ]
        },
        {
          "output_type": "stream",
          "name": "stderr",
          "text": [
            "\rGenerating samples:  64%|██████▍   | 268/420 [13:37<05:16,  2.08s/it]"
          ]
        },
        {
          "output_type": "stream",
          "name": "stdout",
          "text": [
            "\n",
            "\n",
            "### Instruction:\n",
            "Translate English sentences into logical form.\n",
            "\n",
            "### Input:\n",
            "Ava wanted to crawl .\n",
            "\n",
            "### Response:\n",
            "Ava ( 1 ) ; want ( 1 ) AND agent ( 1 , 1 ) AND xcomp ( 1 , 1 ) AND hunt ( 1 ) AND agent ( 1 , 1 )\n",
            "\n",
            "\n",
            "\n"
          ]
        },
        {
          "output_type": "stream",
          "name": "stderr",
          "text": [
            "\rGenerating samples:  64%|██████▍   | 269/420 [13:38<04:27,  1.77s/it]"
          ]
        },
        {
          "output_type": "stream",
          "name": "stdout",
          "text": [
            "\n",
            "\n",
            "### Instruction:\n",
            "Translate English sentences into logical form.\n",
            "\n",
            "### Input:\n",
            "The girl longed to crawl .\n",
            "\n",
            "### Response:\n",
            "* girl ( 1 ) ; long ( 1 ) AND agent ( 1 , 1 )\n",
            "\n",
            "\n",
            "\n"
          ]
        },
        {
          "output_type": "stream",
          "name": "stderr",
          "text": [
            "\rGenerating samples:  64%|██████▍   | 270/420 [13:39<03:51,  1.54s/it]"
          ]
        },
        {
          "output_type": "stream",
          "name": "stdout",
          "text": [
            "\n",
            "\n",
            "### Instruction:\n",
            "Translate English sentences into logical form.\n",
            "\n",
            "### Input:\n",
            "A guard liked to crawl .\n",
            "\n",
            "### Response:\n",
            "guard ( 1 ) ; like ( 1 ) AND agent ( 1 , 1 )\n",
            "\n",
            "\n",
            "\n"
          ]
        },
        {
          "output_type": "stream",
          "name": "stderr",
          "text": [
            "\rGenerating samples:  65%|██████▍   | 271/420 [13:41<04:16,  1.72s/it]"
          ]
        },
        {
          "output_type": "stream",
          "name": "stdout",
          "text": [
            "\n",
            "\n",
            "### Instruction:\n",
            "Translate English sentences into logical form.\n",
            "\n",
            "### Input:\n",
            "A hen expected to crawl .\n",
            "\n",
            "### Response:\n",
            "hen ( 1 ) ; expect ( 1 ) AND agent ( 1 , 1 ) AND xcomp ( 1 , 1 ) AND craw ( 1 ) AND agent ( 1 , 1 )\n",
            "\n",
            "\n",
            "\n"
          ]
        },
        {
          "output_type": "stream",
          "name": "stderr",
          "text": [
            "\rGenerating samples:  65%|██████▍   | 272/420 [13:44<04:41,  1.90s/it]"
          ]
        },
        {
          "output_type": "stream",
          "name": "stdout",
          "text": [
            "\n",
            "\n",
            "### Instruction:\n",
            "Translate English sentences into logical form.\n",
            "\n",
            "### Input:\n",
            "The frog yearned to crawl .\n",
            "\n",
            "### Response:\n",
            "* frog ( 1 ) ; want ( 1 ) AND agent ( 1 , 1 ) AND xcomp ( 1 , 1 ) AND snee ( 1 ) AND agent ( 1 , 1 )\n",
            "\n",
            "\n",
            "\n"
          ]
        },
        {
          "output_type": "stream",
          "name": "stderr",
          "text": [
            "\rGenerating samples:  65%|██████▌   | 273/420 [13:45<04:14,  1.73s/it]"
          ]
        },
        {
          "output_type": "stream",
          "name": "stdout",
          "text": [
            "\n",
            "\n",
            "### Instruction:\n",
            "Translate English sentences into logical form.\n",
            "\n",
            "### Input:\n",
            "Emma liked that Noah wanted to crawl .\n",
            "\n",
            "### Response:\n",
            "Emma ( 1 ) ; Noah ( 1 ) ; like ( 1 ) AND agent ( 1 , 1 )\n",
            "\n",
            "\n",
            "\n"
          ]
        },
        {
          "output_type": "stream",
          "name": "stderr",
          "text": [
            "\rGenerating samples:  65%|██████▌   | 274/420 [13:48<05:23,  2.22s/it]"
          ]
        },
        {
          "output_type": "stream",
          "name": "stdout",
          "text": [
            "\n",
            "\n",
            "### Instruction:\n",
            "Translate English sentences into logical form.\n",
            "\n",
            "### Input:\n",
            "A child planned to crawl .\n",
            "\n",
            "### Response:\n",
            "child ( 1 ) ; plan ( 1 ) ; plan ( 1 ) ; plan ( 1 ) AND agent ( 1 , 1 ) AND xcomp ( 1 , 1 ) AND craw ( 1 ) AND agent ( 1 , 1 ) AND slip ( 1 ) AND theme ( 1 , 1 )\n",
            "\n",
            "\n",
            "\n"
          ]
        },
        {
          "output_type": "stream",
          "name": "stderr",
          "text": [
            "\rGenerating samples:  65%|██████▌   | 275/420 [13:52<06:07,  2.54s/it]"
          ]
        },
        {
          "output_type": "stream",
          "name": "stdout",
          "text": [
            "\n",
            "\n",
            "### Instruction:\n",
            "Translate English sentences into logical form.\n",
            "\n",
            "### Input:\n",
            "A chicken longed to crawl .\n",
            "\n",
            "### Response:\n",
            "chicken ( 1 ) ; cry ( 3 ) ; shorten ( 1 ) AND agent ( 1 , 1 ) AND xcomp ( 1 , 1 ) AND call ( 1 ) AND agent ( 1 , 1 ) AND sneeze ( 1 ) AND agent ( 1 , 1 )\n",
            "\n",
            "\n",
            "\n"
          ]
        },
        {
          "output_type": "stream",
          "name": "stderr",
          "text": [
            "\rGenerating samples:  66%|██████▌   | 276/420 [13:54<05:59,  2.50s/it]"
          ]
        },
        {
          "output_type": "stream",
          "name": "stdout",
          "text": [
            "\n",
            "\n",
            "### Instruction:\n",
            "Translate English sentences into logical form.\n",
            "\n",
            "### Input:\n",
            "The dog yearned to crawl .\n",
            "\n",
            "### Response:\n",
            "* dog ( 1 ) ; yearn ( 3 ) AND agent ( 3 , 1 ) AND xcomp ( 3 , 20 ) AND crawl ( 20 ) AND agent ( 20 , 1 )\n",
            "\n",
            "\n",
            "\n"
          ]
        },
        {
          "output_type": "stream",
          "name": "stderr",
          "text": [
            "\rGenerating samples:  66%|██████▌   | 277/420 [13:55<04:55,  2.07s/it]"
          ]
        },
        {
          "output_type": "stream",
          "name": "stdout",
          "text": [
            "\n",
            "\n",
            "### Instruction:\n",
            "Translate English sentences into logical form.\n",
            "\n",
            "### Input:\n",
            "The scientist wanted to crawl .\n",
            "\n",
            "### Response:\n",
            "* scientist ( 1 ) ; want ( 1 ) AND agent ( 1 , 1 )\n",
            "\n",
            "\n",
            "\n"
          ]
        },
        {
          "output_type": "stream",
          "name": "stderr",
          "text": [
            "\rGenerating samples:  66%|██████▌   | 278/420 [13:57<04:59,  2.11s/it]"
          ]
        },
        {
          "output_type": "stream",
          "name": "stdout",
          "text": [
            "\n",
            "\n",
            "### Instruction:\n",
            "Translate English sentences into logical form.\n",
            "\n",
            "### Input:\n",
            "Madison wanted to crawl .\n",
            "\n",
            "### Response:\n",
            "Madison ( 1 ) ; want ( 1 ) AND agent ( 1 , 1 ) AND xcomp ( 1 , 1 ) AND craw ( 1 ) AND agent ( 1 , 1 )\n",
            "\n",
            "\n",
            "\n"
          ]
        },
        {
          "output_type": "stream",
          "name": "stderr",
          "text": [
            "\rGenerating samples:  66%|██████▋   | 279/420 [14:00<05:15,  2.23s/it]"
          ]
        },
        {
          "output_type": "stream",
          "name": "stdout",
          "text": [
            "\n",
            "\n",
            "### Instruction:\n",
            "Translate English sentences into logical form.\n",
            "\n",
            "### Input:\n",
            "A lion itched to crawl .\n",
            "\n",
            "### Response:\n",
            "lion ( 1 ) ; itch ( 1 ) ; eat ( 1 ) AND agent ( 1 , 1 ) AND xcomp ( 1 , 1 ) AND hunt ( 1 ) AND agent ( 1 , 1 )\n",
            "\n",
            "\n",
            "\n"
          ]
        },
        {
          "output_type": "stream",
          "name": "stderr",
          "text": [
            "\rGenerating samples:  67%|██████▋   | 280/420 [14:02<05:11,  2.22s/it]"
          ]
        },
        {
          "output_type": "stream",
          "name": "stdout",
          "text": [
            "\n",
            "\n",
            "### Instruction:\n",
            "Translate English sentences into logical form.\n",
            "\n",
            "### Input:\n",
            "Logan wanted to crawl .\n",
            "\n",
            "### Response:\n",
            "Logan ( 1 ) ; want ( 1 ) AND agent ( 1 , 1 ) AND xcomp ( 1 , 1 ) AND hunt ( 1 ) AND agent ( 1 , 1 )\n",
            "\n",
            "\n",
            "\n"
          ]
        },
        {
          "output_type": "stream",
          "name": "stderr",
          "text": [
            "\rGenerating samples:  67%|██████▋   | 281/420 [14:05<06:02,  2.61s/it]"
          ]
        },
        {
          "output_type": "stream",
          "name": "stdout",
          "text": [
            "\n",
            "\n",
            "### Instruction:\n",
            "Translate English sentences into logical form.\n",
            "\n",
            "### Input:\n",
            "Owen rented Olivia the shark beside the stool .\n",
            "\n",
            "### Response:\n",
            "Owen ( 1 ) ; Olivia ( 2 ) ; * shark ( 1 ) ; * stool ( 3 ) ; nmod . beside ( 1 , 3 ) AND rent ( 1 ) AND agent ( 1 , 1 ) AND recipient ( 1 , 2 ) AND theme ( 1 , 1 )\n",
            "\n",
            "\n",
            "\n"
          ]
        },
        {
          "output_type": "stream",
          "name": "stderr",
          "text": [
            "\rGenerating samples:  67%|██████▋   | 282/420 [14:08<06:01,  2.62s/it]"
          ]
        },
        {
          "output_type": "stream",
          "name": "stdout",
          "text": [
            "\n",
            "\n",
            "### Instruction:\n",
            "Translate English sentences into logical form.\n",
            "\n",
            "### Input:\n",
            "A bear gave Claire a shark .\n",
            "\n",
            "### Response:\n",
            "bear ( 1 ) ; Claire ( 1 ) ; shark ( 25 ) ; give ( 1 ) AND agent ( 1 , 1 ) AND recipient ( 1 , 1 ) AND theme ( 1 , 25 )\n",
            "\n",
            "\n",
            "\n"
          ]
        },
        {
          "output_type": "stream",
          "name": "stderr",
          "text": [
            "\rGenerating samples:  67%|██████▋   | 283/420 [14:11<06:31,  2.86s/it]"
          ]
        },
        {
          "output_type": "stream",
          "name": "stdout",
          "text": [
            "\n",
            "\n",
            "### Instruction:\n",
            "Translate English sentences into logical form.\n",
            "\n",
            "### Input:\n",
            "A cat posted the shark on the desk to Sophia .\n",
            "\n",
            "### Response:\n",
            "cat ( 1 ) ; * shark ( 1 ) ; * desk ( 3 ) ; Sophia ( 1 ) ; nmod . on ( 1 , 3 ) AND post ( 1 ) AND agent ( 1 , 1 ) AND theme ( 1 , 1 ) AND recipient ( 1 , 1 )\n",
            "\n",
            "\n",
            "\n"
          ]
        },
        {
          "output_type": "stream",
          "name": "stderr",
          "text": [
            "\rGenerating samples:  68%|██████▊   | 284/420 [14:14<06:15,  2.76s/it]"
          ]
        },
        {
          "output_type": "stream",
          "name": "stdout",
          "text": [
            "\n",
            "\n",
            "### Instruction:\n",
            "Translate English sentences into logical form.\n",
            "\n",
            "### Input:\n",
            "Liam sold the shark to Emma .\n",
            "\n",
            "### Response:\n",
            "Liam ( 1 ) ; * shark ( 3 ) ; Emma ( 1 ) ; sell ( 1 ) AND agent ( 1 , 1 ) AND theme ( 1 , 3 ) AND recipient ( 1 , 1 )\n",
            "\n",
            "\n",
            "\n"
          ]
        },
        {
          "output_type": "stream",
          "name": "stderr",
          "text": [
            "\rGenerating samples:  68%|██████▊   | 285/420 [14:16<05:30,  2.45s/it]"
          ]
        },
        {
          "output_type": "stream",
          "name": "stdout",
          "text": [
            "\n",
            "\n",
            "### Instruction:\n",
            "Translate English sentences into logical form.\n",
            "\n",
            "### Input:\n",
            "A tiger rolled a shark .\n",
            "\n",
            "### Response:\n",
            "tiger ( 1 ) ; shark ( 1 ) ; roll ( 3 ) AND agent ( 3 , 1 ) AND theme ( 3 , 1 )\n",
            "\n",
            "\n",
            "\n"
          ]
        },
        {
          "output_type": "stream",
          "name": "stderr",
          "text": [
            "\rGenerating samples:  68%|██████▊   | 286/420 [14:17<04:58,  2.23s/it]"
          ]
        },
        {
          "output_type": "stream",
          "name": "stdout",
          "text": [
            "\n",
            "\n",
            "### Instruction:\n",
            "Translate English sentences into logical form.\n",
            "\n",
            "### Input:\n",
            "James drew a shark .\n",
            "\n",
            "### Response:\n",
            "James ( 1 ) ; shark ( 1 ) ; draw ( 1 ) AND agent ( 1 , 1 ) AND theme ( 1 , 1 )\n",
            "\n",
            "\n",
            "\n"
          ]
        },
        {
          "output_type": "stream",
          "name": "stderr",
          "text": [
            "\rGenerating samples:  68%|██████▊   | 287/420 [14:21<05:44,  2.59s/it]"
          ]
        },
        {
          "output_type": "stream",
          "name": "stdout",
          "text": [
            "\n",
            "\n",
            "### Instruction:\n",
            "Translate English sentences into logical form.\n",
            "\n",
            "### Input:\n",
            "Isabella gave the shark in the car to Emma .\n",
            "\n",
            "### Response:\n",
            "Isabella ( 1 ) ; * shark ( 1 ) ; * car ( 3 ) ; Emma ( 1 ) ; nmod . in ( 1 , 3 ) AND give ( 1 ) AND agent ( 1 , 1 ) AND theme ( 1 , 1 ) AND recipient ( 1 , 1 )\n",
            "\n",
            "\n",
            "\n"
          ]
        },
        {
          "output_type": "stream",
          "name": "stderr",
          "text": [
            "\rGenerating samples:  69%|██████▊   | 288/420 [14:24<05:57,  2.71s/it]"
          ]
        },
        {
          "output_type": "stream",
          "name": "stdout",
          "text": [
            "\n",
            "\n",
            "### Instruction:\n",
            "Translate English sentences into logical form.\n",
            "\n",
            "### Input:\n",
            "Emma rolled a shark on the notebook .\n",
            "\n",
            "### Response:\n",
            "Emma ( 1 ) ; shark ( 3 ) ; * not ( 1 ) ; * notebook ( 3 ) ; nmod . on ( 3 , 1 ) AND roll ( 1 ) AND agent ( 1 , 1 ) AND theme ( 1 , 3 )\n",
            "\n",
            "\n",
            "\n"
          ]
        },
        {
          "output_type": "stream",
          "name": "stderr",
          "text": [
            "\rGenerating samples:  69%|██████▉   | 289/420 [14:26<05:23,  2.47s/it]"
          ]
        },
        {
          "output_type": "stream",
          "name": "stdout",
          "text": [
            "\n",
            "\n",
            "### Instruction:\n",
            "Translate English sentences into logical form.\n",
            "\n",
            "### Input:\n",
            "Ethan crumpled the shark .\n",
            "\n",
            "### Response:\n",
            "Ethan ( 1 ) ; * shark ( 1 ) ; crumple ( 3 ) AND agent ( 3 , 1 ) AND theme ( 3 , 1 )\n",
            "\n",
            "\n",
            "\n"
          ]
        },
        {
          "output_type": "stream",
          "name": "stderr",
          "text": [
            "\rGenerating samples:  69%|██████▉   | 290/420 [14:29<05:55,  2.73s/it]"
          ]
        },
        {
          "output_type": "stream",
          "name": "stdout",
          "text": [
            "\n",
            "\n",
            "### Instruction:\n",
            "Translate English sentences into logical form.\n",
            "\n",
            "### Input:\n",
            "The girl passed a donkey a shark on a speaker .\n",
            "\n",
            "### Response:\n",
            "* girl ( 1 ) ; donkey ( 3 ) ; shark ( 2 ) ; speaker ( 3 ) ; nmod . on ( 2 , 3 ) AND pass ( 1 ) AND agent ( 1 , 1 ) AND recipient ( 1 , 3 ) AND theme ( 1 , 2 )\n",
            "\n",
            "\n",
            "\n"
          ]
        },
        {
          "output_type": "stream",
          "name": "stderr",
          "text": [
            "\rGenerating samples:  69%|██████▉   | 291/420 [14:33<06:25,  2.99s/it]"
          ]
        },
        {
          "output_type": "stream",
          "name": "stdout",
          "text": [
            "\n",
            "\n",
            "### Instruction:\n",
            "Translate English sentences into logical form.\n",
            "\n",
            "### Input:\n",
            "Michael thought that Elizabeth awarded the boy a shark .\n",
            "\n",
            "### Response:\n",
            "Michael ( 1 ) ; Elizabeth ( 1 ) ; shark ( 3 ) ; think ( 1 ) AND agent ( 1 , 1 ) AND ccomp ( 1 , 1 ) AND offer ( 1 ) AND agent ( 1 , 1 ) AND recipient ( 1 , 1 ) AND theme ( 1 , 3 )\n",
            "\n",
            "\n",
            "\n"
          ]
        },
        {
          "output_type": "stream",
          "name": "stderr",
          "text": [
            "\rGenerating samples:  70%|██████▉   | 292/420 [14:35<06:03,  2.84s/it]"
          ]
        },
        {
          "output_type": "stream",
          "name": "stdout",
          "text": [
            "\n",
            "\n",
            "### Instruction:\n",
            "Translate English sentences into logical form.\n",
            "\n",
            "### Input:\n",
            "A cat gave Emma a shark .\n",
            "\n",
            "### Response:\n",
            "cat ( 1 ) ; Emma ( 3 ) ; shark ( 1 ) ; give ( 3 ) AND agent ( 3 , 1 ) AND recipient ( 3 , 3 ) AND theme ( 3 , 1 )\n",
            "\n",
            "\n",
            "\n"
          ]
        },
        {
          "output_type": "stream",
          "name": "stderr",
          "text": [
            "\rGenerating samples:  70%|██████▉   | 293/420 [14:37<05:19,  2.52s/it]"
          ]
        },
        {
          "output_type": "stream",
          "name": "stdout",
          "text": [
            "\n",
            "\n",
            "### Instruction:\n",
            "Translate English sentences into logical form.\n",
            "\n",
            "### Input:\n",
            "The priest ate a shark .\n",
            "\n",
            "### Response:\n",
            "* priest ( 1 ) ; shark ( 1 ) ; eat ( 1 ) AND agent ( 1 , 1 ) AND theme ( 1 , 1 )\n",
            "\n",
            "\n",
            "\n"
          ]
        },
        {
          "output_type": "stream",
          "name": "stderr",
          "text": [
            "\rGenerating samples:  70%|███████   | 294/420 [14:40<05:52,  2.80s/it]"
          ]
        },
        {
          "output_type": "stream",
          "name": "stdout",
          "text": [
            "\n",
            "\n",
            "### Instruction:\n",
            "Translate English sentences into logical form.\n",
            "\n",
            "### Input:\n",
            "A boy gave the lion a shark beside the table .\n",
            "\n",
            "### Response:\n",
            "boy ( 1 ) ; * lion ( 1 ) ; shark ( 1 ) ; * table ( 2 ) ; nmod . beside ( 1 , 2 ) AND give ( 1 ) AND agent ( 1 , 1 ) AND recipient ( 11 , 1 ) AND theme ( 11 , 1 )\n",
            "\n",
            "\n",
            "\n"
          ]
        },
        {
          "output_type": "stream",
          "name": "stderr",
          "text": [
            "\rGenerating samples:  70%|███████   | 295/420 [14:42<05:14,  2.51s/it]"
          ]
        },
        {
          "output_type": "stream",
          "name": "stdout",
          "text": [
            "\n",
            "\n",
            "### Instruction:\n",
            "Translate English sentences into logical form.\n",
            "\n",
            "### Input:\n",
            "Benjamin ate the shark .\n",
            "\n",
            "### Response:\n",
            "Benjamin ( 1 ) ; * shark ( 1 ) ; eat ( 1 ) AND agent ( 1 , 1 ) AND theme ( 1 , 1 )\n",
            "\n",
            "\n",
            "\n"
          ]
        },
        {
          "output_type": "stream",
          "name": "stderr",
          "text": [
            "\rGenerating samples:  70%|███████   | 296/420 [14:45<05:16,  2.55s/it]"
          ]
        },
        {
          "output_type": "stream",
          "name": "stdout",
          "text": [
            "\n",
            "\n",
            "### Instruction:\n",
            "Translate English sentences into logical form.\n",
            "\n",
            "### Input:\n",
            "Liam ate a shark on the rock .\n",
            "\n",
            "### Response:\n",
            "Liam ( 1 ) ; shark ( 1 ) ; * rock ( 2 ) ; nmod . on ( 1 , 2 ) AND eat ( 1 ) AND agent ( 1 , 1 ) AND theme ( 1 , 1 )\n",
            "\n",
            "\n",
            "\n"
          ]
        },
        {
          "output_type": "stream",
          "name": "stderr",
          "text": [
            "\rGenerating samples:  71%|███████   | 297/420 [14:51<07:21,  3.59s/it]"
          ]
        },
        {
          "output_type": "stream",
          "name": "stdout",
          "text": [
            "\n",
            "\n",
            "### Instruction:\n",
            "Translate English sentences into logical form.\n",
            "\n",
            "### Input:\n",
            "Benjamin liked that Emma admired that Liam loaned a shark to the dog .\n",
            "\n",
            "### Response:\n",
            "Benjamin ( 1 ) ; Emma ( 1 ) ; Liam ( 3 ) ; Liam ( 1 ) ; Liam ( 1 ) ; like ( 1 ) AND agent ( 1 , 1 ) AND ccomp ( 1 , 1 ) AND loan ( 1 ) AND agent ( 1 , 1 ) AND xcomp ( 1 , 33 ) AND loan ( 33 ) AND agent ( 33 , 1 ) AND recipient ( 33 , 3 ) AND loan ( 33 ) AND agent ( 33 , 1 )\n",
            "\n",
            "\n",
            "\n"
          ]
        },
        {
          "output_type": "stream",
          "name": "stderr",
          "text": [
            "\rGenerating samples:  71%|███████   | 298/420 [14:55<07:33,  3.72s/it]"
          ]
        },
        {
          "output_type": "stream",
          "name": "stdout",
          "text": [
            "\n",
            "\n",
            "### Instruction:\n",
            "Translate English sentences into logical form.\n",
            "\n",
            "### Input:\n",
            "A teacher hoped that a girl ate a shark on the table .\n",
            "\n",
            "### Response:\n",
            "teacher ( 1 ) ; girl ( 1 ) ; shark ( 2 ) ; * table ( 3 ) ; nmod . on ( 2 , 3 ) AND hope ( 1 ) AND agent ( 1 , 1 ) AND ccomp ( 1 , 1 ) AND eat ( 1 ) AND agent ( 1 , 1 ) AND theme ( 1 , 2 )\n",
            "\n",
            "\n",
            "\n"
          ]
        },
        {
          "output_type": "stream",
          "name": "stderr",
          "text": [
            "\rGenerating samples:  71%|███████   | 299/420 [15:00<08:23,  4.16s/it]"
          ]
        },
        {
          "output_type": "stream",
          "name": "stdout",
          "text": [
            "\n",
            "\n",
            "### Instruction:\n",
            "Translate English sentences into logical form.\n",
            "\n",
            "### Input:\n",
            "Noah liked that a cat helped the shark beside a table .\n",
            "\n",
            "### Response:\n",
            "Noah ( 1 ) ; cat ( 1 ) ; table ( 3 ) ; table ( 49 ) ; nmod . beside ( 1 , 39 ) AND like ( 1 ) AND agent ( 1 , 1 ) AND ccomp ( 1 , 1 ) AND like ( 1 ) AND agent ( 1 , 1 ) AND xcomp ( 1 , 1 ) AND help ( 1 ) AND agent ( 1 , 1 ) AND theme ( 1 , 1 )\n",
            "\n",
            "\n",
            "\n"
          ]
        },
        {
          "output_type": "stream",
          "name": "stderr",
          "text": [
            "\rGenerating samples:  71%|███████▏  | 300/420 [15:03<07:27,  3.73s/it]"
          ]
        },
        {
          "output_type": "stream",
          "name": "stdout",
          "text": [
            "\n",
            "\n",
            "### Instruction:\n",
            "Translate English sentences into logical form.\n",
            "\n",
            "### Input:\n",
            "Emily ate the shark in the house .\n",
            "\n",
            "### Response:\n",
            "Emily ( 1 ) ; * shark ( 1 ) ; * house ( 1 ) ; nmod . in ( 1 , 1 ) AND eat ( 3 ) AND agent ( 3 , 1 ) AND theme ( 3 , 1 )\n",
            "\n",
            "\n",
            "\n"
          ]
        },
        {
          "output_type": "stream",
          "name": "stderr",
          "text": [
            "\rGenerating samples:  72%|███████▏  | 301/420 [15:05<06:14,  3.14s/it]"
          ]
        },
        {
          "output_type": "stream",
          "name": "stdout",
          "text": [
            "\n",
            "\n",
            "### Instruction:\n",
            "Translate English sentences into logical form.\n",
            "\n",
            "### Input:\n",
            "Theodore changed Paula .\n",
            "\n",
            "### Response:\n",
            "*odore ( 1 ) ; Paula ( 1 ) ; change ( 1 ) AND agent ( 1 , 1 ) AND theme ( 1 , 1 )\n",
            "\n",
            "\n",
            "\n"
          ]
        },
        {
          "output_type": "stream",
          "name": "stderr",
          "text": [
            "\rGenerating samples:  72%|███████▏  | 302/420 [15:06<05:22,  2.73s/it]"
          ]
        },
        {
          "output_type": "stream",
          "name": "stdout",
          "text": [
            "\n",
            "\n",
            "### Instruction:\n",
            "Translate English sentences into logical form.\n",
            "\n",
            "### Input:\n",
            "A tiger rolled Paula .\n",
            "\n",
            "### Response:\n",
            "tiger ( 1 ) ; Paula ( 1 ) ; roll ( 3 ) AND agent ( 3 , 1 ) AND theme ( 3 , 1 )\n",
            "\n",
            "\n",
            "\n"
          ]
        },
        {
          "output_type": "stream",
          "name": "stderr",
          "text": [
            "\rGenerating samples:  72%|███████▏  | 303/420 [15:09<05:11,  2.66s/it]"
          ]
        },
        {
          "output_type": "stream",
          "name": "stdout",
          "text": [
            "\n",
            "\n",
            "### Instruction:\n",
            "Translate English sentences into logical form.\n",
            "\n",
            "### Input:\n",
            "Sophia sent Ava Paula .\n",
            "\n",
            "### Response:\n",
            "SSSSSSAah ( 1 ) ; Ava ( 1 ) ; send ( 1 ) AND agent ( 1 , 1 ) AND recipient ( 1 , 1 ) AND theme ( 1 , 1 )\n",
            "\n",
            "\n",
            "\n"
          ]
        },
        {
          "output_type": "stream",
          "name": "stderr",
          "text": [
            "\rGenerating samples:  72%|███████▏  | 304/420 [15:11<04:39,  2.41s/it]"
          ]
        },
        {
          "output_type": "stream",
          "name": "stdout",
          "text": [
            "\n",
            "\n",
            "### Instruction:\n",
            "Translate English sentences into logical form.\n",
            "\n",
            "### Input:\n",
            "Noah liked Paula .\n",
            "\n",
            "### Response:\n",
            "Noah ( 1 ) ; Paula ( 1 ) ; like ( 1 ) AND agent ( 1 , 1 ) AND theme ( 1 , 1 )\n",
            "\n",
            "\n",
            "\n"
          ]
        },
        {
          "output_type": "stream",
          "name": "stderr",
          "text": [
            "\rGenerating samples:  73%|███████▎  | 305/420 [15:13<04:19,  2.25s/it]"
          ]
        },
        {
          "output_type": "stream",
          "name": "stdout",
          "text": [
            "\n",
            "\n",
            "### Instruction:\n",
            "Translate English sentences into logical form.\n",
            "\n",
            "### Input:\n",
            "The student helped Paula .\n",
            "\n",
            "### Response:\n",
            "* student ( 1 ) ; Paula ( 1 ) ; help ( 14 ) AND agent ( 14 , 1 ) AND theme ( 14 , 1 )\n",
            "\n",
            "\n",
            "\n"
          ]
        },
        {
          "output_type": "stream",
          "name": "stderr",
          "text": [
            "\rGenerating samples:  73%|███████▎  | 306/420 [15:16<04:52,  2.56s/it]"
          ]
        },
        {
          "output_type": "stream",
          "name": "stdout",
          "text": [
            "\n",
            "\n",
            "### Instruction:\n",
            "Translate English sentences into logical form.\n",
            "\n",
            "### Input:\n",
            "A horse said that the moose ate Paula .\n",
            "\n",
            "### Response:\n",
            "horse ( 1 ) ; * mouse ( 1 ) ; Paula ( 1 ) ; say ( 1 ) AND agent ( 1 , 1 ) AND ccomp ( 1 , 1 ) AND eat ( 1 ) AND theme ( 1 , 1 ) AND recipient ( 1 , 1 )\n",
            "\n",
            "\n",
            "\n"
          ]
        },
        {
          "output_type": "stream",
          "name": "stderr",
          "text": [
            "\rGenerating samples:  73%|███████▎  | 307/420 [15:18<04:39,  2.47s/it]"
          ]
        },
        {
          "output_type": "stream",
          "name": "stdout",
          "text": [
            "\n",
            "\n",
            "### Instruction:\n",
            "Translate English sentences into logical form.\n",
            "\n",
            "### Input:\n",
            "Olivia sold Paula to the priest .\n",
            "\n",
            "### Response:\n",
            "Olivia ( 1 ) ; * priest ( 3 ) ; sell ( 1 ) AND agent ( 1 , 1 ) AND recipient ( 1 , 3 ) AND theme ( 1 , 3 )\n",
            "\n",
            "\n",
            "\n"
          ]
        },
        {
          "output_type": "stream",
          "name": "stderr",
          "text": [
            "\rGenerating samples:  73%|███████▎  | 308/420 [15:20<04:12,  2.25s/it]"
          ]
        },
        {
          "output_type": "stream",
          "name": "stdout",
          "text": [
            "\n",
            "\n",
            "### Instruction:\n",
            "Translate English sentences into logical form.\n",
            "\n",
            "### Input:\n",
            "James discovered Paula .\n",
            "\n",
            "### Response:\n",
            "James ( 1 ) ; Paula ( 1 ) ; discover ( 1 ) AND agent ( 1 , 1 ) AND theme ( 1 , 1 )\n",
            "\n",
            "\n",
            "\n"
          ]
        },
        {
          "output_type": "stream",
          "name": "stderr",
          "text": [
            "\rGenerating samples:  74%|███████▎  | 309/420 [15:23<04:26,  2.40s/it]"
          ]
        },
        {
          "output_type": "stream",
          "name": "stdout",
          "text": [
            "\n",
            "\n",
            "### Instruction:\n",
            "Translate English sentences into logical form.\n",
            "\n",
            "### Input:\n",
            "The girl gave Paula to Addison .\n",
            "\n",
            "### Response:\n",
            "* girl ( 1 ) ; Paula ( 1 ) ; Addison ( 3 ) ; give ( 14 ) AND agent ( 14 , 1 ) AND theme ( 14 , 1 ) AND recipient ( 14 , 3 )\n",
            "\n",
            "\n",
            "\n"
          ]
        },
        {
          "output_type": "stream",
          "name": "stderr",
          "text": [
            "\rGenerating samples:  74%|███████▍  | 310/420 [15:24<04:04,  2.22s/it]"
          ]
        },
        {
          "output_type": "stream",
          "name": "stdout",
          "text": [
            "\n",
            "\n",
            "### Instruction:\n",
            "Translate English sentences into logical form.\n",
            "\n",
            "### Input:\n",
            "The girl decomposed Paula .\n",
            "\n",
            "### Response:\n",
            "* girl ( 1 ) ; Paula ( 1 ) ; decompose ( 3 ) AND agent ( 3 , 1 ) AND theme ( 3 , 1 )\n",
            "\n",
            "\n",
            "\n"
          ]
        },
        {
          "output_type": "stream",
          "name": "stderr",
          "text": [
            "\rGenerating samples:  74%|███████▍  | 311/420 [15:27<04:17,  2.36s/it]"
          ]
        },
        {
          "output_type": "stream",
          "name": "stdout",
          "text": [
            "\n",
            "\n",
            "### Instruction:\n",
            "Translate English sentences into logical form.\n",
            "\n",
            "### Input:\n",
            "A boy mailed Paula to the girl .\n",
            "\n",
            "### Response:\n",
            "boy ( 1 ) ; Paula ( 3 ) ; * girl ( 1 ) ; mail ( 24 ) AND agent ( 24 , 1 ) AND theme ( 24 , 3 ) AND recipient ( 24 , 1 )\n",
            "\n",
            "\n",
            "\n"
          ]
        },
        {
          "output_type": "stream",
          "name": "stderr",
          "text": [
            "\rGenerating samples:  74%|███████▍  | 312/420 [15:30<04:22,  2.43s/it]"
          ]
        },
        {
          "output_type": "stream",
          "name": "stdout",
          "text": [
            "\n",
            "\n",
            "### Instruction:\n",
            "Translate English sentences into logical form.\n",
            "\n",
            "### Input:\n",
            "Scarlett lended a consumer Paula .\n",
            "\n",
            "### Response:\n",
            "SSSSSSSSS Emma ( 1 ) ; Paula ( 1 ) ; lend ( 1 ) AND agent ( 1 , 1 ) AND theme ( 1 , 1 ) AND recipient ( 1 , 1 )\n",
            "\n",
            "\n",
            "\n"
          ]
        },
        {
          "output_type": "stream",
          "name": "stderr",
          "text": [
            "\rGenerating samples:  75%|███████▍  | 313/420 [15:31<03:58,  2.23s/it]"
          ]
        },
        {
          "output_type": "stream",
          "name": "stdout",
          "text": [
            "\n",
            "\n",
            "### Instruction:\n",
            "Translate English sentences into logical form.\n",
            "\n",
            "### Input:\n",
            "Ava broke Paula .\n",
            "\n",
            "### Response:\n",
            "Ava ( 1 ) ; Paula ( 1 ) ; break ( 1 ) AND agent ( 1 , 1 ) AND theme ( 1 , 1 )\n",
            "\n",
            "\n",
            "\n"
          ]
        },
        {
          "output_type": "stream",
          "name": "stderr",
          "text": [
            "\rGenerating samples:  75%|███████▍  | 314/420 [15:34<04:14,  2.41s/it]"
          ]
        },
        {
          "output_type": "stream",
          "name": "stdout",
          "text": [
            "\n",
            "\n",
            "### Instruction:\n",
            "Translate English sentences into logical form.\n",
            "\n",
            "### Input:\n",
            "Aubrey handed Paula to Charlotte .\n",
            "\n",
            "### Response:\n",
            "Aubrey ( 1 ) ; Paula ( 1 ) ; Charlotte ( 25 ) ; hand ( 38 ) AND agent ( 38 , 1 ) AND theme ( 38 , 1 ) AND recipient ( 38 , 25 )\n",
            "\n",
            "\n",
            "\n"
          ]
        },
        {
          "output_type": "stream",
          "name": "stderr",
          "text": [
            "\rGenerating samples:  75%|███████▌  | 315/420 [15:37<04:22,  2.50s/it]"
          ]
        },
        {
          "output_type": "stream",
          "name": "stdout",
          "text": [
            "\n",
            "\n",
            "### Instruction:\n",
            "Translate English sentences into logical form.\n",
            "\n",
            "### Input:\n",
            "The girl forwarded Paula to Olivia .\n",
            "\n",
            "### Response:\n",
            "* girl ( 1 ) ; Paula ( 3 ) ; Olivia ( 1 ) ; forward ( 15 ) AND agent ( 15 , 1 ) AND theme ( 15 , 3 ) AND recipient ( 15 , 1 )\n",
            "\n",
            "\n",
            "\n"
          ]
        },
        {
          "output_type": "stream",
          "name": "stderr",
          "text": [
            "\rGenerating samples:  75%|███████▌  | 316/420 [15:40<04:26,  2.56s/it]"
          ]
        },
        {
          "output_type": "stream",
          "name": "stdout",
          "text": [
            "\n",
            "\n",
            "### Instruction:\n",
            "Translate English sentences into logical form.\n",
            "\n",
            "### Input:\n",
            "Logan gave the cat Paula .\n",
            "\n",
            "### Response:\n",
            "Logan ( 1 ) ; * cat ( 1 ) ; Paula ( 2 ) ; give ( 14 ) AND agent ( 14 , 1 ) AND recipient ( 14 , 1 ) AND theme ( 14 , 1 )\n",
            "\n",
            "\n",
            "\n"
          ]
        },
        {
          "output_type": "stream",
          "name": "stderr",
          "text": [
            "\rGenerating samples:  75%|███████▌  | 317/420 [15:45<05:51,  3.41s/it]"
          ]
        },
        {
          "output_type": "stream",
          "name": "stdout",
          "text": [
            "\n",
            "\n",
            "### Instruction:\n",
            "Translate English sentences into logical form.\n",
            "\n",
            "### Input:\n",
            "Wyatt proved that the boy rented Paula to Ava .\n",
            "\n",
            "### Response:\n",
            "Wyatt ( 1 ) ; * boy ( 3 ) ; Ava ( 1 ) ; prove ( 3 ) AND agent ( 3 , 1 ) AND ccomp ( 3 , 1 ) AND rent ( 1 ) AND agent ( 1 , 3 ) AND xcomp ( 1 , 29 ) AND rent ( 29 ) AND agent ( 29 , 3 ) AND recipient ( 29 , 3 ) AND clean ( 29 ) AND agent ( 29 , 3 )\n",
            "\n",
            "\n",
            "\n"
          ]
        },
        {
          "output_type": "stream",
          "name": "stderr",
          "text": [
            "\rGenerating samples:  76%|███████▌  | 318/420 [15:47<05:00,  2.95s/it]"
          ]
        },
        {
          "output_type": "stream",
          "name": "stdout",
          "text": [
            "\n",
            "\n",
            "### Instruction:\n",
            "Translate English sentences into logical form.\n",
            "\n",
            "### Input:\n",
            "Oliver burned Paula .\n",
            "\n",
            "### Response:\n",
            "Oliver ( 19 ) ; Paula ( 2 ) ; burn ( 1 ) AND agent ( 1 , 19 ) AND theme ( 1 , 2 )\n",
            "\n",
            "\n",
            "\n"
          ]
        },
        {
          "output_type": "stream",
          "name": "stderr",
          "text": [
            "\rGenerating samples:  76%|███████▌  | 319/420 [15:49<04:21,  2.59s/it]"
          ]
        },
        {
          "output_type": "stream",
          "name": "stdout",
          "text": [
            "\n",
            "\n",
            "### Instruction:\n",
            "Translate English sentences into logical form.\n",
            "\n",
            "### Input:\n",
            "A girl dusted Paula .\n",
            "\n",
            "### Response:\n",
            "girl ( 1 ) ; Paula ( 1 ) ; dust ( 3 ) AND agent ( 3 , 1 ) AND theme ( 3 , 1 )\n",
            "\n",
            "\n",
            "\n"
          ]
        },
        {
          "output_type": "stream",
          "name": "stderr",
          "text": [
            "\rGenerating samples:  76%|███████▌  | 320/420 [15:51<03:54,  2.35s/it]"
          ]
        },
        {
          "output_type": "stream",
          "name": "stdout",
          "text": [
            "\n",
            "\n",
            "### Instruction:\n",
            "Translate English sentences into logical form.\n",
            "\n",
            "### Input:\n",
            "Logan hunted Paula .\n",
            "\n",
            "### Response:\n",
            "Logan ( 1 ) ; Paula ( 1 ) ; hunt ( 3 ) AND agent ( 3 , 1 ) AND theme ( 3 , 1 )\n",
            "\n",
            "\n",
            "\n"
          ]
        },
        {
          "output_type": "stream",
          "name": "stderr",
          "text": [
            "\rGenerating samples:  76%|███████▋  | 321/420 [15:52<03:35,  2.18s/it]"
          ]
        },
        {
          "output_type": "stream",
          "name": "stdout",
          "text": [
            "\n",
            "\n",
            "### Instruction:\n",
            "Translate English sentences into logical form.\n",
            "\n",
            "### Input:\n",
            "The shark ate a rose .\n",
            "\n",
            "### Response:\n",
            "* shark ( 1 ) ; rose ( 1 ) ; eat ( 1 ) AND agent ( 1 , 1 ) AND theme ( 1 , 1 )\n",
            "\n",
            "\n",
            "\n"
          ]
        },
        {
          "output_type": "stream",
          "name": "stderr",
          "text": [
            "\rGenerating samples:  77%|███████▋  | 322/420 [15:56<04:14,  2.60s/it]"
          ]
        },
        {
          "output_type": "stream",
          "name": "stdout",
          "text": [
            "\n",
            "\n",
            "### Instruction:\n",
            "Translate English sentences into logical form.\n",
            "\n",
            "### Input:\n",
            "The shark gave Elijah the cake beside a seat .\n",
            "\n",
            "### Response:\n",
            "* shark ( 1 ) ; Elijah ( 2 ) ; * cake ( 33 ) ; seat ( 3 ) ; nmod . beside ( 33 , 3 ) AND give ( 1 ) AND agent ( 1 , 1 ) AND recipient ( 1 , 2 ) AND theme ( 1 , 33 )\n",
            "\n",
            "\n",
            "\n"
          ]
        },
        {
          "output_type": "stream",
          "name": "stderr",
          "text": [
            "\rGenerating samples:  77%|███████▋  | 323/420 [15:58<03:49,  2.36s/it]"
          ]
        },
        {
          "output_type": "stream",
          "name": "stdout",
          "text": [
            "\n",
            "\n",
            "### Instruction:\n",
            "Translate English sentences into logical form.\n",
            "\n",
            "### Input:\n",
            "The shark examined Sophia .\n",
            "\n",
            "### Response:\n",
            "* shark ( 1 ) ; Sophia ( 1 ) ; examine ( 3 ) AND theme ( 3 , 1 ) AND agent ( 3 , 1 )\n",
            "\n",
            "\n",
            "\n"
          ]
        },
        {
          "output_type": "stream",
          "name": "stderr",
          "text": [
            "\rGenerating samples:  77%|███████▋  | 324/420 [16:00<03:32,  2.21s/it]"
          ]
        },
        {
          "output_type": "stream",
          "name": "stdout",
          "text": [
            "\n",
            "\n",
            "### Instruction:\n",
            "Translate English sentences into logical form.\n",
            "\n",
            "### Input:\n",
            "The shark pierced a cake .\n",
            "\n",
            "### Response:\n",
            "* shark ( 1 ) ; cake ( 1 ) ; miss ( 3 ) AND agent ( 3 , 1 ) AND theme ( 3 , 1 )\n",
            "\n",
            "\n",
            "\n"
          ]
        },
        {
          "output_type": "stream",
          "name": "stderr",
          "text": [
            "\rGenerating samples:  77%|███████▋  | 325/420 [16:02<03:44,  2.36s/it]"
          ]
        },
        {
          "output_type": "stream",
          "name": "stdout",
          "text": [
            "\n",
            "\n",
            "### Instruction:\n",
            "Translate English sentences into logical form.\n",
            "\n",
            "### Input:\n",
            "The shark juggled the cake beside the bat .\n",
            "\n",
            "### Response:\n",
            "* shark ( 1 ) ; * cake ( 2 ) ; * road ( 1 ) ; nmod . beside (    2 ) AND sell ( 3 ) AND agent ( 3 , 1 ) AND theme ( 3 , 2 )\n",
            "\n",
            "\n",
            "\n"
          ]
        },
        {
          "output_type": "stream",
          "name": "stderr",
          "text": [
            "\rGenerating samples:  78%|███████▊  | 326/420 [16:04<03:28,  2.21s/it]"
          ]
        },
        {
          "output_type": "stream",
          "name": "stdout",
          "text": [
            "\n",
            "\n",
            "### Instruction:\n",
            "Translate English sentences into logical form.\n",
            "\n",
            "### Input:\n",
            "The shark loved the balloon .\n",
            "\n",
            "### Response:\n",
            "* shark ( 1 ) ; * balloon ( 1 ) ; love ( 1 ) AND agent ( 1 , 1 ) AND theme ( 1 , 1 )\n",
            "\n",
            "\n",
            "\n"
          ]
        },
        {
          "output_type": "stream",
          "name": "stderr",
          "text": [
            "\rGenerating samples:  78%|███████▊  | 327/420 [16:07<03:38,  2.35s/it]"
          ]
        },
        {
          "output_type": "stream",
          "name": "stdout",
          "text": [
            "\n",
            "\n",
            "### Instruction:\n",
            "Translate English sentences into logical form.\n",
            "\n",
            "### Input:\n",
            "A shark mailed Oliver the cookie .\n",
            "\n",
            "### Response:\n",
            "shark ( 1 ) ; Oliver ( 2 ) ; * cookie ( 3 ) ; mail ( 19 ) AND agent ( 19 , 1 ) AND recipient ( 19 , 2 ) AND theme ( 19 , 3 )\n",
            "\n",
            "\n",
            "\n"
          ]
        },
        {
          "output_type": "stream",
          "name": "stderr",
          "text": [
            "\rGenerating samples:  78%|███████▊  | 328/420 [16:10<03:47,  2.47s/it]"
          ]
        },
        {
          "output_type": "stream",
          "name": "stdout",
          "text": [
            "\n",
            "\n",
            "### Instruction:\n",
            "Translate English sentences into logical form.\n",
            "\n",
            "### Input:\n",
            "The shark dusted the donut on the road .\n",
            "\n",
            "### Response:\n",
            "* shark ( 1 ) ; * donut ( 1 ) ; * road ( 1 ) ; nmod . on ( 13 , 1 ) AND dust ( 3 ) AND agent ( 3 , 1 ) AND theme ( 3 , 1 )\n",
            "\n",
            "\n",
            "\n"
          ]
        },
        {
          "output_type": "stream",
          "name": "stderr",
          "text": [
            "\rGenerating samples:  78%|███████▊  | 329/420 [16:12<03:40,  2.42s/it]"
          ]
        },
        {
          "output_type": "stream",
          "name": "stdout",
          "text": [
            "\n",
            "\n",
            "### Instruction:\n",
            "Translate English sentences into logical form.\n",
            "\n",
            "### Input:\n",
            "The shark lended a bat to Noah .\n",
            "\n",
            "### Response:\n",
            "* shark ( 1 ) ; Noah ( 1 ) ; lend ( 3 ) AND agent ( 3 , 1 ) AND recipient ( 3 , 1 ) AND theme ( 3 , 3 )\n",
            "\n",
            "\n",
            "\n"
          ]
        },
        {
          "output_type": "stream",
          "name": "stderr",
          "text": [
            "\rGenerating samples:  79%|███████▊  | 330/420 [16:15<03:45,  2.51s/it]"
          ]
        },
        {
          "output_type": "stream",
          "name": "stdout",
          "text": [
            "\n",
            "\n",
            "### Instruction:\n",
            "Translate English sentences into logical form.\n",
            "\n",
            "### Input:\n",
            "The shark painted the chicken beside the table .\n",
            "\n",
            "### Response:\n",
            "* shark ( 1 ) ; * chicken ( 1 ) ; * table ( 1 ) ; nmod . beside ( 1 , 1 ) AND paint ( 1 ) AND agent ( 1 , 1 ) AND theme ( 1 , 1 )\n",
            "\n",
            "\n",
            "\n"
          ]
        },
        {
          "output_type": "stream",
          "name": "stderr",
          "text": [
            "\rGenerating samples:  79%|███████▉  | 331/420 [16:16<03:23,  2.29s/it]"
          ]
        },
        {
          "output_type": "stream",
          "name": "stdout",
          "text": [
            "\n",
            "\n",
            "### Instruction:\n",
            "Translate English sentences into logical form.\n",
            "\n",
            "### Input:\n",
            "The shark collapsed a girl .\n",
            "\n",
            "### Response:\n",
            "* shark ( 1 ) ; girl ( 1 ) ; collapse ( 1 ) AND agent ( 1 , 1 ) AND theme ( 1 , 1 )\n",
            "\n",
            "\n",
            "\n"
          ]
        },
        {
          "output_type": "stream",
          "name": "stderr",
          "text": [
            "\rGenerating samples:  79%|███████▉  | 332/420 [16:18<03:06,  2.12s/it]"
          ]
        },
        {
          "output_type": "stream",
          "name": "stdout",
          "text": [
            "\n",
            "\n",
            "### Instruction:\n",
            "Translate English sentences into logical form.\n",
            "\n",
            "### Input:\n",
            "A shark painted a girl .\n",
            "\n",
            "### Response:\n",
            "shark ( 1 ) ; girl ( 1 ) ; paint ( 3 ) AND agent ( 3 , 1 ) AND theme ( 3 , 1 )\n",
            "\n",
            "\n",
            "\n"
          ]
        },
        {
          "output_type": "stream",
          "name": "stderr",
          "text": [
            "\rGenerating samples:  79%|███████▉  | 333/420 [16:21<03:24,  2.35s/it]"
          ]
        },
        {
          "output_type": "stream",
          "name": "stdout",
          "text": [
            "\n",
            "\n",
            "### Instruction:\n",
            "Translate English sentences into logical form.\n",
            "\n",
            "### Input:\n",
            "The shark froze the boy on a table .\n",
            "\n",
            "### Response:\n",
            "* shark ( 1 ) ; * boy ( 1 ) ; table ( 29 ) ; nmod . on ( 1 , 29 ) AND freeze ( 35 ) AND agent ( 35 , 1 ) AND theme ( 35 , 1 )\n",
            "\n",
            "\n",
            "\n"
          ]
        },
        {
          "output_type": "stream",
          "name": "stderr",
          "text": [
            "\rGenerating samples:  80%|███████▉  | 334/420 [16:23<03:06,  2.17s/it]"
          ]
        },
        {
          "output_type": "stream",
          "name": "stdout",
          "text": [
            "\n",
            "\n",
            "### Instruction:\n",
            "Translate English sentences into logical form.\n",
            "\n",
            "### Input:\n",
            "The shark dusted Michael .\n",
            "\n",
            "### Response:\n",
            "* shark ( 2 ) ; Michael ( 1 ) ; dust ( 1 ) AND agent ( 1 , 2 ) AND theme ( 1 , 1 )\n",
            "\n",
            "\n",
            "\n"
          ]
        },
        {
          "output_type": "stream",
          "name": "stderr",
          "text": [
            "\rGenerating samples:  80%|███████▉  | 335/420 [16:28<04:16,  3.02s/it]"
          ]
        },
        {
          "output_type": "stream",
          "name": "stdout",
          "text": [
            "\n",
            "\n",
            "### Instruction:\n",
            "Translate English sentences into logical form.\n",
            "\n",
            "### Input:\n",
            "Liam said that a shark preferred to sleep .\n",
            "\n",
            "### Response:\n",
            "Liam ( 1 ) ; shark ( 1 ) ; say ( 3 ) AND agent ( 3 , 1 ) AND ccomp ( 3 , 1 ) AND prefer ( 1 ) AND agent ( 1 , 1 ) AND xcomp ( 1 , 1 ) AND sleep ( 1 ) AND agent ( 1 , 1 ) AND prefer ( 1 ) AND agent ( 1 , 1 ) AND sleep ( 1 ) AND agent ( 1 , 1 )\n",
            "\n",
            "\n",
            "\n"
          ]
        },
        {
          "output_type": "stream",
          "name": "stderr",
          "text": [
            "\rGenerating samples:  80%|████████  | 336/420 [16:30<03:53,  2.78s/it]"
          ]
        },
        {
          "output_type": "stream",
          "name": "stdout",
          "text": [
            "\n",
            "\n",
            "### Instruction:\n",
            "Translate English sentences into logical form.\n",
            "\n",
            "### Input:\n",
            "The shark wished to eat .\n",
            "\n",
            "### Response:\n",
            "* shark ( 1 ) ; want ( 1 ) AND agent ( 1 , 1 ) AND xcomp ( 1 , 1 ) AND eat ( 1 ) AND agent ( 1 , 1 )\n",
            "\n",
            "\n",
            "\n"
          ]
        },
        {
          "output_type": "stream",
          "name": "stderr",
          "text": [
            "\rGenerating samples:  80%|████████  | 337/420 [16:33<04:02,  2.93s/it]"
          ]
        },
        {
          "output_type": "stream",
          "name": "stdout",
          "text": [
            "\n",
            "\n",
            "### Instruction:\n",
            "Translate English sentences into logical form.\n",
            "\n",
            "### Input:\n",
            "The girl thought that the shark liked a cake .\n",
            "\n",
            "### Response:\n",
            "* girl ( 1 ) ; * shark ( 1 ) ; think ( 3 ) ; think ( 1 ) AND agent ( 1 , 1 ) AND ccomp ( 1 , 1 ) AND play ( 1 ) AND recipient ( 1 , 1 ) AND theme ( 1 , 1 )\n",
            "\n",
            "\n",
            "\n"
          ]
        },
        {
          "output_type": "stream",
          "name": "stderr",
          "text": [
            "\rGenerating samples:  80%|████████  | 338/420 [16:36<03:54,  2.85s/it]"
          ]
        },
        {
          "output_type": "stream",
          "name": "stdout",
          "text": [
            "\n",
            "\n",
            "### Instruction:\n",
            "Translate English sentences into logical form.\n",
            "\n",
            "### Input:\n",
            "The shark froze a cake in a house .\n",
            "\n",
            "### Response:\n",
            "* shark ( 1 ) ; cake ( 1 ) ; house ( 2 ) ; nmod . in ( 1 , 2 ) AND freeze ( 1 ) AND agent ( 1 , 1 ) AND theme ( 1 , 1 )\n",
            "\n",
            "\n",
            "\n"
          ]
        },
        {
          "output_type": "stream",
          "name": "stderr",
          "text": [
            "\rGenerating samples:  81%|████████  | 339/420 [16:38<03:45,  2.78s/it]"
          ]
        },
        {
          "output_type": "stream",
          "name": "stdout",
          "text": [
            "\n",
            "\n",
            "### Instruction:\n",
            "Translate English sentences into logical form.\n",
            "\n",
            "### Input:\n",
            "The shark offered a cake to Liam .\n",
            "\n",
            "### Response:\n",
            "* shark ( 1 ) ; cake ( 2 ) ; Liam ( 1 ) ; offer ( 1 ) AND agent ( 1 , 1 ) AND theme ( 1 , 2 ) AND recipient ( 1 , 1 )\n",
            "\n",
            "\n",
            "\n"
          ]
        },
        {
          "output_type": "stream",
          "name": "stderr",
          "text": [
            "\rGenerating samples:  81%|████████  | 340/420 [16:41<03:29,  2.62s/it]"
          ]
        },
        {
          "output_type": "stream",
          "name": "stdout",
          "text": [
            "\n",
            "\n",
            "### Instruction:\n",
            "Translate English sentences into logical form.\n",
            "\n",
            "### Input:\n",
            "The shark intended to giggle .\n",
            "\n",
            "### Response:\n",
            "* shark ( 1 ) ; intend ( 1 ) AND agent ( 1 , 1 ) AND xcomp ( 1 , 1 ) AND giggle ( 1 ) AND agent ( 1 , 1 )\n",
            "\n",
            "\n",
            "\n"
          ]
        },
        {
          "output_type": "stream",
          "name": "stderr",
          "text": [
            "\rGenerating samples:  81%|████████  | 341/420 [16:42<03:05,  2.35s/it]"
          ]
        },
        {
          "output_type": "stream",
          "name": "stdout",
          "text": [
            "\n",
            "\n",
            "### Instruction:\n",
            "Translate English sentences into logical form.\n",
            "\n",
            "### Input:\n",
            "Paula rolled a brick .\n",
            "\n",
            "### Response:\n",
            "Paula ( 1 ) ; brick ( 1 ) ; roll ( 1 ) AND agent ( 1 , 1 ) AND theme ( 1 , 1 )\n",
            "\n",
            "\n",
            "\n"
          ]
        },
        {
          "output_type": "stream",
          "name": "stderr",
          "text": [
            "\rGenerating samples:  81%|████████▏ | 342/420 [16:44<02:48,  2.16s/it]"
          ]
        },
        {
          "output_type": "stream",
          "name": "stdout",
          "text": [
            "\n",
            "\n",
            "### Instruction:\n",
            "Translate English sentences into logical form.\n",
            "\n",
            "### Input:\n",
            "Paula dusted Lucas .\n",
            "\n",
            "### Response:\n",
            "Paula ( 1 ) ; Lucas ( 1 ) ; dust ( 1 ) AND agent ( 1 , 1 ) AND theme ( 1 , 1 )\n",
            "\n",
            "\n",
            "\n"
          ]
        },
        {
          "output_type": "stream",
          "name": "stderr",
          "text": [
            "\rGenerating samples:  82%|████████▏ | 343/420 [16:48<03:17,  2.56s/it]"
          ]
        },
        {
          "output_type": "stream",
          "name": "stdout",
          "text": [
            "\n",
            "\n",
            "### Instruction:\n",
            "Translate English sentences into logical form.\n",
            "\n",
            "### Input:\n",
            "Paula gave a cat the cake on the speaker .\n",
            "\n",
            "### Response:\n",
            "Paula ( 1 ) ; cat ( 1 ) ; * cake ( 33 ) ; * speaker ( 1 ) ; nmod . on ( 33 , 1 ) AND give ( 1 ) AND agent ( 1 , 1 ) AND recipient ( 1 , 1 ) AND theme ( 1 , 33 )\n",
            "\n",
            "\n",
            "\n"
          ]
        },
        {
          "output_type": "stream",
          "name": "stderr",
          "text": [
            "\rGenerating samples:  82%|████████▏ | 344/420 [16:51<03:37,  2.87s/it]"
          ]
        },
        {
          "output_type": "stream",
          "name": "stdout",
          "text": [
            "\n",
            "\n",
            "### Instruction:\n",
            "Translate English sentences into logical form.\n",
            "\n",
            "### Input:\n",
            "Paula gave Emma a cake on the TV .\n",
            "\n",
            "### Response:\n",
            "Paula ( 1 ) ; Emma ( 1 ) ; cake ( 33 ) ; * tv ( 1 ) ; nmod . on ( 33 , 1 ) AND give ( 1 ) AND agent ( 1 , 1 ) AND recipient ( 1 , 1 ) AND theme ( 1 , 33 )\n",
            "\n",
            "\n",
            "\n"
          ]
        },
        {
          "output_type": "stream",
          "name": "stderr",
          "text": [
            "\rGenerating samples:  82%|████████▏ | 345/420 [16:54<03:31,  2.83s/it]"
          ]
        },
        {
          "output_type": "stream",
          "name": "stdout",
          "text": [
            "\n",
            "\n",
            "### Instruction:\n",
            "Translate English sentences into logical form.\n",
            "\n",
            "### Input:\n",
            "Paula liked the drink in the house .\n",
            "\n",
            "### Response:\n",
            "Paula ( 1 ) ; * drink ( 3 ) ; * house ( 24 ) ; nmod . in ( 3 , 24 ) AND like ( 1 ) AND agent ( 1 , 1 ) AND theme ( 1 , 3 )\n",
            "\n",
            "\n",
            "\n"
          ]
        },
        {
          "output_type": "stream",
          "name": "stderr",
          "text": [
            "\rGenerating samples:  82%|████████▏ | 346/420 [16:56<03:05,  2.51s/it]"
          ]
        },
        {
          "output_type": "stream",
          "name": "stdout",
          "text": [
            "\n",
            "\n",
            "### Instruction:\n",
            "Translate English sentences into logical form.\n",
            "\n",
            "### Input:\n",
            "Paula rolled Ethan .\n",
            "\n",
            "### Response:\n",
            "Paula ( 1 ) ; Ethan ( 1 ) ; roll ( 3 ) AND agent ( 3 , 1 ) AND theme ( 3 , 1 )\n",
            "\n",
            "\n",
            "\n"
          ]
        },
        {
          "output_type": "stream",
          "name": "stderr",
          "text": [
            "\rGenerating samples:  83%|████████▎ | 347/420 [16:57<02:46,  2.29s/it]"
          ]
        },
        {
          "output_type": "stream",
          "name": "stdout",
          "text": [
            "\n",
            "\n",
            "### Instruction:\n",
            "Translate English sentences into logical form.\n",
            "\n",
            "### Input:\n",
            "Paula liked the cookie .\n",
            "\n",
            "### Response:\n",
            "Paula ( 1 ) ; * cookie ( 2 ) ; like ( 1 ) AND agent ( 1 , 1 ) AND theme ( 1 , 2 )\n",
            "\n",
            "\n",
            "\n"
          ]
        },
        {
          "output_type": "stream",
          "name": "stderr",
          "text": [
            "\rGenerating samples:  83%|████████▎ | 348/420 [17:01<03:12,  2.68s/it]"
          ]
        },
        {
          "output_type": "stream",
          "name": "stdout",
          "text": [
            "\n",
            "\n",
            "### Instruction:\n",
            "Translate English sentences into logical form.\n",
            "\n",
            "### Input:\n",
            "Paula lended a boy the cake beside the chair .\n",
            "\n",
            "### Response:\n",
            "Paula ( 1 ) ; boy ( 1 ) ; * cake ( 1 ) ; * chair ( 2 ) ; nmod . beside ( 13 , 2 ) AND lend ( 1 ) AND agent ( 1 , 1 ) AND recipient ( 1 , 1 ) AND theme ( 1 , 13 )\n",
            "\n",
            "\n",
            "\n"
          ]
        },
        {
          "output_type": "stream",
          "name": "stderr",
          "text": [
            "\rGenerating samples:  83%|████████▎ | 349/420 [17:03<02:52,  2.43s/it]"
          ]
        },
        {
          "output_type": "stream",
          "name": "stdout",
          "text": [
            "\n",
            "\n",
            "### Instruction:\n",
            "Translate English sentences into logical form.\n",
            "\n",
            "### Input:\n",
            "Paula rolled the knife .\n",
            "\n",
            "### Response:\n",
            "Paula ( 1 ) ; * knife ( 1 ) ; roll ( 1 ) AND agent ( 1 , 1 ) AND theme ( 1 , 1 )\n",
            "\n",
            "\n",
            "\n"
          ]
        },
        {
          "output_type": "stream",
          "name": "stderr",
          "text": [
            "\rGenerating samples:  83%|████████▎ | 350/420 [17:06<02:53,  2.48s/it]"
          ]
        },
        {
          "output_type": "stream",
          "name": "stdout",
          "text": [
            "\n",
            "\n",
            "### Instruction:\n",
            "Translate English sentences into logical form.\n",
            "\n",
            "### Input:\n",
            "Paula brought the donut to the duck .\n",
            "\n",
            "### Response:\n",
            "Paula ( 1 ) ; * donut ( 1 ) ; * duck ( 1 ) ; bring ( 1 ) AND agent ( 1 , 1 ) AND theme ( 1 , 1 ) AND recipient ( 1 , 1 )\n",
            "\n",
            "\n",
            "\n"
          ]
        },
        {
          "output_type": "stream",
          "name": "stderr",
          "text": [
            "\rGenerating samples:  84%|████████▎ | 351/420 [17:08<02:55,  2.55s/it]"
          ]
        },
        {
          "output_type": "stream",
          "name": "stdout",
          "text": [
            "\n",
            "\n",
            "### Instruction:\n",
            "Translate English sentences into logical form.\n",
            "\n",
            "### Input:\n",
            "Paula helped a girl beside the table .\n",
            "\n",
            "### Response:\n",
            "Paula ( 1 ) ; girl ( 1 ) ; * table ( 14 ) ; nmod . beside ( 13 , 14 ) AND help ( 1 ) AND agent ( 1 , 1 ) AND theme ( 1 , 1 )\n",
            "\n",
            "\n",
            "\n"
          ]
        },
        {
          "output_type": "stream",
          "name": "stderr",
          "text": [
            "\rGenerating samples:  84%|████████▍ | 352/420 [17:11<02:52,  2.54s/it]"
          ]
        },
        {
          "output_type": "stream",
          "name": "stdout",
          "text": [
            "\n",
            "\n",
            "### Instruction:\n",
            "Translate English sentences into logical form.\n",
            "\n",
            "### Input:\n",
            "Paula mailed Liam the newspaper .\n",
            "\n",
            "### Response:\n",
            "Paula ( 1 ) ; Liam ( 1 ) ; * newspaper ( 2 ) ; mail ( 1 ) AND agent ( 1 , 1 ) AND recipient ( 1 , 1 ) AND theme ( 1 , 2 )\n",
            "\n",
            "\n",
            "\n"
          ]
        },
        {
          "output_type": "stream",
          "name": "stderr",
          "text": [
            "\rGenerating samples:  84%|████████▍ | 353/420 [17:14<03:07,  2.80s/it]"
          ]
        },
        {
          "output_type": "stream",
          "name": "stdout",
          "text": [
            "\n",
            "\n",
            "### Instruction:\n",
            "Translate English sentences into logical form.\n",
            "\n",
            "### Input:\n",
            "Paula gave a cake on a table to Emma .\n",
            "\n",
            "### Response:\n",
            "Paula ( 1 ) ; cake ( 2 ) ; table ( 1 ) ; Emma ( 2 ) ; nmod . on ( 2 , 1 ) AND give ( 1 ) AND agent ( 1 , 1 ) AND theme ( 1 , 2 ) AND recipient ( 1 , 2 )\n",
            "\n",
            "\n",
            "\n"
          ]
        },
        {
          "output_type": "stream",
          "name": "stderr",
          "text": [
            "\rGenerating samples:  84%|████████▍ | 354/420 [17:16<02:52,  2.62s/it]"
          ]
        },
        {
          "output_type": "stream",
          "name": "stdout",
          "text": [
            "\n",
            "\n",
            "### Instruction:\n",
            "Translate English sentences into logical form.\n",
            "\n",
            "### Input:\n",
            "Paula wanted to paint .\n",
            "\n",
            "### Response:\n",
            "Paula ( 1 ) ; want ( 1 ) AND agent ( 1 , 1 ) AND xcomp ( 1 , 1 ) AND paint ( 1 ) AND agent ( 1 , 1 )\n",
            "\n",
            "\n",
            "\n"
          ]
        },
        {
          "output_type": "stream",
          "name": "stderr",
          "text": [
            "\rGenerating samples:  85%|████████▍ | 355/420 [17:20<03:05,  2.86s/it]"
          ]
        },
        {
          "output_type": "stream",
          "name": "stdout",
          "text": [
            "\n",
            "\n",
            "### Instruction:\n",
            "Translate English sentences into logical form.\n",
            "\n",
            "### Input:\n",
            "Paula lended a donut on a gravel to the girl .\n",
            "\n",
            "### Response:\n",
            "Paula ( 1 ) ; donut ( 3 ) ; gravel ( 1 ) ; * girl ( 2 ) ; nmod . on ( 3 , 1 ) AND lend ( 3 ) AND agent ( 3 , 1 ) AND theme ( 3 , 3 ) AND recipient ( 3 , 2 )\n",
            "\n",
            "\n",
            "\n"
          ]
        },
        {
          "output_type": "stream",
          "name": "stderr",
          "text": [
            "\rGenerating samples:  85%|████████▍ | 356/420 [17:22<02:58,  2.79s/it]"
          ]
        },
        {
          "output_type": "stream",
          "name": "stdout",
          "text": [
            "\n",
            "\n",
            "### Instruction:\n",
            "Translate English sentences into logical form.\n",
            "\n",
            "### Input:\n",
            "Paula helped a glue in the garden .\n",
            "\n",
            "### Response:\n",
            "Paula ( 1 ) ; glue ( 1 ) ; * garden ( 3 ) ; nmod . in ( 1 , 3 ) AND help ( 1 ) AND agent ( 1 , 1 ) AND theme ( 1 , 1 )\n",
            "\n",
            "\n",
            "\n"
          ]
        },
        {
          "output_type": "stream",
          "name": "stderr",
          "text": [
            "\rGenerating samples:  85%|████████▌ | 357/420 [17:24<02:35,  2.47s/it]"
          ]
        },
        {
          "output_type": "stream",
          "name": "stdout",
          "text": [
            "\n",
            "\n",
            "### Instruction:\n",
            "Translate English sentences into logical form.\n",
            "\n",
            "### Input:\n",
            "Paula rolled a boy .\n",
            "\n",
            "### Response:\n",
            "Paula ( 1 ) ; boy ( 1 ) ; roll ( 1 ) AND agent ( 1 , 1 ) AND theme ( 1 , 1 )\n",
            "\n",
            "\n",
            "\n"
          ]
        },
        {
          "output_type": "stream",
          "name": "stderr",
          "text": [
            "\rGenerating samples:  85%|████████▌ | 358/420 [17:28<02:50,  2.76s/it]"
          ]
        },
        {
          "output_type": "stream",
          "name": "stdout",
          "text": [
            "\n",
            "\n",
            "### Instruction:\n",
            "Translate English sentences into logical form.\n",
            "\n",
            "### Input:\n",
            "Paula gave a patient the donut in the barrel .\n",
            "\n",
            "### Response:\n",
            "Paula ( 1 ) ; patient ( 1 ) ; * donut ( 1 ) ; * barrel ( 1 ) ; nmod . in ( 1 , 1 ) AND give ( 1 ) AND agent ( 1 , 1 ) AND recipient ( 1 , 1 ) AND theme ( 1 , 1 )\n",
            "\n",
            "\n",
            "\n"
          ]
        },
        {
          "output_type": "stream",
          "name": "stderr",
          "text": [
            "\rGenerating samples:  85%|████████▌ | 359/420 [17:30<02:48,  2.76s/it]"
          ]
        },
        {
          "output_type": "stream",
          "name": "stdout",
          "text": [
            "\n",
            "\n",
            "### Instruction:\n",
            "Translate English sentences into logical form.\n",
            "\n",
            "### Input:\n",
            "Paula froze the crayon on the pad .\n",
            "\n",
            "### Response:\n",
            "Paula ( 1 ) ; * crayon ( 3 ) ; * pad ( 2 ) ; n nmod . on ( 3 , 2 ) AND freeze ( 1 ) AND agent ( 1 , 1 ) AND theme ( 1 , 3 )\n",
            "\n",
            "\n",
            "\n"
          ]
        },
        {
          "output_type": "stream",
          "name": "stderr",
          "text": [
            "\rGenerating samples:  86%|████████▌ | 360/420 [17:33<02:42,  2.70s/it]"
          ]
        },
        {
          "output_type": "stream",
          "name": "stdout",
          "text": [
            "\n",
            "\n",
            "### Instruction:\n",
            "Translate English sentences into logical form.\n",
            "\n",
            "### Input:\n",
            "Paula lended the donut to a girl .\n",
            "\n",
            "### Response:\n",
            "Paula ( 1 ) ; * donut ( 3 ) ; girl ( 1 ) ; lend ( 1 ) AND agent ( 1 , 1 ) AND theme ( 1 , 3 ) AND recipient ( 1 , 1 )\n",
            "\n",
            "\n",
            "\n"
          ]
        },
        {
          "output_type": "stream",
          "name": "stderr",
          "text": [
            "\rGenerating samples:  86%|████████▌ | 361/420 [17:36<02:38,  2.69s/it]"
          ]
        },
        {
          "output_type": "stream",
          "name": "stdout",
          "text": [
            "\n",
            "\n",
            "### Instruction:\n",
            "Translate English sentences into logical form.\n",
            "\n",
            "### Input:\n",
            "Abigail gave the hedgehog to the frog .\n",
            "\n",
            "### Response:\n",
            "Abigail ( 1 ) ; * hog ( 3 ) ; * frog ( 1 ) ; give ( 1 ) AND agent ( 1 , 1 ) AND theme ( 1 , 3 ) AND recipient ( 1 , 1 )\n",
            "\n",
            "\n",
            "\n"
          ]
        },
        {
          "output_type": "stream",
          "name": "stderr",
          "text": [
            "\rGenerating samples:  86%|████████▌ | 362/420 [17:38<02:36,  2.70s/it]"
          ]
        },
        {
          "output_type": "stream",
          "name": "stdout",
          "text": [
            "\n",
            "\n",
            "### Instruction:\n",
            "Translate English sentences into logical form.\n",
            "\n",
            "### Input:\n",
            "A dog liked the hedgehog beside the seat .\n",
            "\n",
            "### Response:\n",
            "dog ( 1 ) ; * hedge ( 1 ) ; * seat ( 25 ) ; nmod . beside ( 1 , 25 ) AND like ( 1 ) AND agent ( 1 , 1 ) AND theme ( 1 , 1 )\n",
            "\n",
            "\n",
            "\n"
          ]
        },
        {
          "output_type": "stream",
          "name": "stderr",
          "text": [
            "\rGenerating samples:  86%|████████▋ | 363/420 [17:41<02:41,  2.83s/it]"
          ]
        },
        {
          "output_type": "stream",
          "name": "stdout",
          "text": [
            "\n",
            "\n",
            "### Instruction:\n",
            "Translate English sentences into logical form.\n",
            "\n",
            "### Input:\n",
            "Isabella crumpled the hedgehog .\n",
            "\n",
            "### Response:\n",
            "Isabella ( 1 ) ; * hen ( 2 ) ; * hog ( 35 ) ; crumple ( 1 ) AND agent ( 1 , 1 ) AND theme ( 1 , 2 ) AND crumple ( 1 ) AND recipient ( 1 , 1 )\n",
            "\n",
            "\n",
            "\n"
          ]
        },
        {
          "output_type": "stream",
          "name": "stderr",
          "text": [
            "\rGenerating samples:  87%|████████▋ | 364/420 [17:44<02:39,  2.85s/it]"
          ]
        },
        {
          "output_type": "stream",
          "name": "stdout",
          "text": [
            "\n",
            "\n",
            "### Instruction:\n",
            "Translate English sentences into logical form.\n",
            "\n",
            "### Input:\n",
            "The girl found the hedgehog on a table .\n",
            "\n",
            "### Response:\n",
            "* girl ( 1 ) ; * hog ( 1 ) ; table ( 29 ) ; nmod . on ( 1 , 29 ) AND find ( 35 ) AND agent ( 35 , 1 ) AND theme ( 35 , 1 )\n",
            "\n",
            "\n",
            "\n"
          ]
        },
        {
          "output_type": "stream",
          "name": "stderr",
          "text": [
            "\rGenerating samples:  87%|████████▋ | 365/420 [17:48<02:46,  3.02s/it]"
          ]
        },
        {
          "output_type": "stream",
          "name": "stdout",
          "text": [
            "\n",
            "\n",
            "### Instruction:\n",
            "Translate English sentences into logical form.\n",
            "\n",
            "### Input:\n",
            "The guest handed the hedgehog in the vehicle to a lion .\n",
            "\n",
            "### Response:\n",
            "* guest ( 1 ) ; * hog ( 3 ) ; * vehicle ( 1 ) ; lion ( 2 ) ; nmod . in ( 3 , 1 ) AND hand ( 1 ) AND agent ( 1 , 1 ) AND theme ( 1 , 3 ) AND recipient ( 1 , 2 )\n",
            "\n",
            "\n",
            "\n"
          ]
        },
        {
          "output_type": "stream",
          "name": "stderr",
          "text": [
            "\rGenerating samples:  87%|████████▋ | 366/420 [17:51<02:44,  3.04s/it]"
          ]
        },
        {
          "output_type": "stream",
          "name": "stdout",
          "text": [
            "\n",
            "\n",
            "### Instruction:\n",
            "Translate English sentences into logical form.\n",
            "\n",
            "### Input:\n",
            "Emma crumpled a hedgehog on the stage .\n",
            "\n",
            "### Response:\n",
            "Emma ( 1 ) ; hedge ( 2 ) ; hose ( 1 ) ; * stage ( 3 ) ; nmod . on ( 1 , 3 ) AND crumple ( 1 ) AND agent ( 1 , 1 ) AND theme ( 1 , 2 )\n",
            "\n",
            "\n",
            "\n"
          ]
        },
        {
          "output_type": "stream",
          "name": "stderr",
          "text": [
            "\rGenerating samples:  87%|████████▋ | 367/420 [17:55<02:51,  3.24s/it]"
          ]
        },
        {
          "output_type": "stream",
          "name": "stdout",
          "text": [
            "\n",
            "\n",
            "### Instruction:\n",
            "Translate English sentences into logical form.\n",
            "\n",
            "### Input:\n",
            "Liam gave Emma the hedgehog beside the road in the bag .\n",
            "\n",
            "### Response:\n",
            "Liam ( 1 ) ; Emma ( 1 ) ; * hedge ( 3 ) ; * road ( 3 ) ; * road ( 4 ) ; nmod . beside ( 3 , 3 ) AND give ( 1 ) AND agent ( 1 , 1 ) AND recipient ( 1 , 1 ) AND theme ( 1 , 3 )\n",
            "\n",
            "\n",
            "\n"
          ]
        },
        {
          "output_type": "stream",
          "name": "stderr",
          "text": [
            "\rGenerating samples:  88%|████████▊ | 368/420 [17:57<02:38,  3.05s/it]"
          ]
        },
        {
          "output_type": "stream",
          "name": "stdout",
          "text": [
            "\n",
            "\n",
            "### Instruction:\n",
            "Translate English sentences into logical form.\n",
            "\n",
            "### Input:\n",
            "A girl snapped a hedgehog on a tree beside the table .\n",
            "\n",
            "### Response:\n",
            "girl ( 1 ) ; hedge ( 1 ) ; tree ( 1 ) ; nmod . on ( 1 , 1 ) AND snap ( 1 ) AND agent ( 1 , 1 ) AND theme ( 1 , 1 )\n",
            "\n",
            "\n",
            "\n"
          ]
        },
        {
          "output_type": "stream",
          "name": "stderr",
          "text": [
            "\rGenerating samples:  88%|████████▊ | 369/420 [18:00<02:28,  2.91s/it]"
          ]
        },
        {
          "output_type": "stream",
          "name": "stdout",
          "text": [
            "\n",
            "\n",
            "### Instruction:\n",
            "Translate English sentences into logical form.\n",
            "\n",
            "### Input:\n",
            "Benjamin floated the hedgehog in a room .\n",
            "\n",
            "### Response:\n",
            "Benjamin ( 1 ) ; * hedge ( 3 ) ; room ( 1 ) ; nmod . in ( 3 , 1 ) AND float ( 2 ) AND agent ( 2 , 1 ) AND theme ( 2 , 3 )\n",
            "\n",
            "\n",
            "\n"
          ]
        },
        {
          "output_type": "stream",
          "name": "stderr",
          "text": [
            "\rGenerating samples:  88%|████████▊ | 370/420 [18:02<02:21,  2.83s/it]"
          ]
        },
        {
          "output_type": "stream",
          "name": "stdout",
          "text": [
            "\n",
            "\n",
            "### Instruction:\n",
            "Translate English sentences into logical form.\n",
            "\n",
            "### Input:\n",
            "Emma rolled a hedgehog on the notebook .\n",
            "\n",
            "### Response:\n",
            "Emma ( 1 ) ; hedge ( 1 ) ; * not ( 3 ) ; nmod . on ( 1 , 3 ) AND roll ( 1 ) AND agent ( 1 , 1 ) AND theme ( 1 , 1 )\n",
            "\n",
            "\n",
            "\n"
          ]
        },
        {
          "output_type": "stream",
          "name": "stderr",
          "text": [
            "\rGenerating samples:  88%|████████▊ | 371/420 [18:05<02:17,  2.80s/it]"
          ]
        },
        {
          "output_type": "stream",
          "name": "stdout",
          "text": [
            "\n",
            "\n",
            "### Instruction:\n",
            "Translate English sentences into logical form.\n",
            "\n",
            "### Input:\n",
            "The frog shortened the hedgehog in a box .\n",
            "\n",
            "### Response:\n",
            "* frog ( 1 ) ; * hedge ( 2 ) ; box ( 1 ) ; nmod . in ( 2 , 1 ) AND shorten ( 3 ) AND agent ( 3 , 1 ) AND theme ( 3 , 2 )\n",
            "\n",
            "\n",
            "\n"
          ]
        },
        {
          "output_type": "stream",
          "name": "stderr",
          "text": [
            "\rGenerating samples:  89%|████████▊ | 372/420 [18:08<02:11,  2.74s/it]"
          ]
        },
        {
          "output_type": "stream",
          "name": "stdout",
          "text": [
            "\n",
            "\n",
            "### Instruction:\n",
            "Translate English sentences into logical form.\n",
            "\n",
            "### Input:\n",
            "Emma gave a bunny a hedgehog .\n",
            "\n",
            "### Response:\n",
            "Emma ( 1 ) ; bunny ( 1 ) ; hedge ( 3 ) ; give ( 1 ) AND agent ( 1 , 1 ) AND recipient ( 1 , 1 ) AND theme ( 1 , 3 )\n",
            "\n",
            "\n",
            "\n"
          ]
        },
        {
          "output_type": "stream",
          "name": "stderr",
          "text": [
            "\rGenerating samples:  89%|████████▉ | 373/420 [18:10<02:09,  2.75s/it]"
          ]
        },
        {
          "output_type": "stream",
          "name": "stdout",
          "text": [
            "\n",
            "\n",
            "### Instruction:\n",
            "Translate English sentences into logical form.\n",
            "\n",
            "### Input:\n",
            "Isabella poked the hedgehog beside the table .\n",
            "\n",
            "### Response:\n",
            "Isabella ( 1 ) ; * hage ( 1 ) ; * table ( 2 ) ; nmod nmod . beside ( 1 , 2 ) AND paint ( 3 ) AND agent ( 3 , 1 ) AND theme ( 3 , 1 )\n",
            "\n",
            "\n",
            "\n"
          ]
        },
        {
          "output_type": "stream",
          "name": "stderr",
          "text": [
            "\rGenerating samples:  89%|████████▉ | 374/420 [18:14<02:16,  2.97s/it]"
          ]
        },
        {
          "output_type": "stream",
          "name": "stdout",
          "text": [
            "\n",
            "\n",
            "### Instruction:\n",
            "Translate English sentences into logical form.\n",
            "\n",
            "### Input:\n",
            "The boy liked that Alexander brought a monster a hedgehog .\n",
            "\n",
            "### Response:\n",
            "* boy ( 1 ) ; Alexander ( 3 ) ; hamb ( 1 ) ; hedge ( 3 ) ; like ( 1 ) AND agent ( 1 , 1 ) AND ccomp ( 1 , 1 ) AND bring ( 1 ) AND recipient ( 1 , 3 ) AND theme ( 1 , 1 )\n",
            "\n",
            "\n",
            "\n"
          ]
        },
        {
          "output_type": "stream",
          "name": "stderr",
          "text": [
            "\rGenerating samples:  89%|████████▉ | 375/420 [18:17<02:18,  3.07s/it]"
          ]
        },
        {
          "output_type": "stream",
          "name": "stdout",
          "text": [
            "\n",
            "\n",
            "### Instruction:\n",
            "Translate English sentences into logical form.\n",
            "\n",
            "### Input:\n",
            "A doctor lended a hedgehog beside a cup to a hero .\n",
            "\n",
            "### Response:\n",
            "doctor ( 1 ) ; hedge ( 3 ) ; cup ( 2 ) ; hero ( 3 ) ; nmod . beside ( 3 , 2 ) AND lend ( 1 ) AND agent ( 1 , 1 ) AND theme ( 1 , 3 ) AND recipient ( 1 , 3 )\n",
            "\n",
            "\n",
            "\n"
          ]
        },
        {
          "output_type": "stream",
          "name": "stderr",
          "text": [
            "\rGenerating samples:  90%|████████▉ | 376/420 [18:20<02:08,  2.93s/it]"
          ]
        },
        {
          "output_type": "stream",
          "name": "stdout",
          "text": [
            "\n",
            "\n",
            "### Instruction:\n",
            "Translate English sentences into logical form.\n",
            "\n",
            "### Input:\n",
            "A child shortened the hedgehog in a room .\n",
            "\n",
            "### Response:\n",
            "child ( 1 ) ; * hedge ( 1 ) ; room ( 2 ) ; nmod . in ( 1 , 2 ) AND shorten ( 3 ) AND agent ( 3 , 1 ) AND theme ( 3 , 1 )\n",
            "\n",
            "\n",
            "\n"
          ]
        },
        {
          "output_type": "stream",
          "name": "stderr",
          "text": [
            "\rGenerating samples:  90%|████████▉ | 377/420 [18:24<02:18,  3.23s/it]"
          ]
        },
        {
          "output_type": "stream",
          "name": "stdout",
          "text": [
            "\n",
            "\n",
            "### Instruction:\n",
            "Translate English sentences into logical form.\n",
            "\n",
            "### Input:\n",
            "Emma declared that a cat gave the hedgehog to a girl .\n",
            "\n",
            "### Response:\n",
            "Emma ( 1 ) ; cat ( 1 ) ; * hedge ( 3 ) ; girl ( 1 ) ; declare ( 3 ) AND agent ( 3 , 1 ) AND ccomp ( 3 , 1 ) AND give ( 1 ) AND agent ( 1 , 1 ) AND recipient ( 1 , 1 ) AND theme ( 1 , 3 )\n",
            "\n",
            "\n",
            "\n"
          ]
        },
        {
          "output_type": "stream",
          "name": "stderr",
          "text": [
            "\rGenerating samples:  90%|█████████ | 378/420 [18:26<01:56,  2.78s/it]"
          ]
        },
        {
          "output_type": "stream",
          "name": "stdout",
          "text": [
            "\n",
            "\n",
            "### Instruction:\n",
            "Translate English sentences into logical form.\n",
            "\n",
            "### Input:\n",
            "Emma ate a hedgehog .\n",
            "\n",
            "### Response:\n",
            "Emma ( 1 ) ; hedge ( 3 ) ; eat ( 1 ) AND agent ( 1 , 1 ) AND theme ( 1 , 3 )\n",
            "\n",
            "\n",
            "\n"
          ]
        },
        {
          "output_type": "stream",
          "name": "stderr",
          "text": [
            "\rGenerating samples:  90%|█████████ | 379/420 [18:30<02:16,  3.34s/it]"
          ]
        },
        {
          "output_type": "stream",
          "name": "stdout",
          "text": [
            "\n",
            "\n",
            "### Instruction:\n",
            "Translate English sentences into logical form.\n",
            "\n",
            "### Input:\n",
            "The customer supported that a boy proved that the girl gave a hedgehog to a mouse .\n",
            "\n",
            "### Response:\n",
            "* customer ( 1 ) ; boy ( 1 ) ; hog ( 3 ) ; mouse ( 1 ) ; support ( 1 ) AND agent ( 1 , 1 ) AND ccomp ( 1 , 1 ) AND prove ( 1 ) AND agent ( 1 , 1 ) AND ccomp ( 1 , 1 ) AND give ( 1 ) AND recipient ( 1 , 1 ) AND theme ( 1 , 3 )\n",
            "\n",
            "\n",
            "\n"
          ]
        },
        {
          "output_type": "stream",
          "name": "stderr",
          "text": [
            "\rGenerating samples:  90%|█████████ | 380/420 [18:32<01:55,  2.88s/it]"
          ]
        },
        {
          "output_type": "stream",
          "name": "stdout",
          "text": [
            "\n",
            "\n",
            "### Instruction:\n",
            "Translate English sentences into logical form.\n",
            "\n",
            "### Input:\n",
            "Emma stabbed a hedgehog .\n",
            "\n",
            "### Response:\n",
            "Emma ( 1 ) ; hedge ( 1 ) ; stab ( 1 ) AND agent ( 1 , 1 ) AND theme ( 1 , 1 )\n",
            "\n",
            "\n",
            "\n"
          ]
        },
        {
          "output_type": "stream",
          "name": "stderr",
          "text": [
            "\rGenerating samples:  91%|█████████ | 381/420 [18:34<01:39,  2.54s/it]"
          ]
        },
        {
          "output_type": "stream",
          "name": "stdout",
          "text": [
            "\n",
            "\n",
            "### Instruction:\n",
            "Translate English sentences into logical form.\n",
            "\n",
            "### Input:\n",
            "William rolled Lina .\n",
            "\n",
            "### Response:\n",
            "William ( 1 ) ; Lina ( 1 ) ; roll ( 1 ) AND agent ( 1 , 1 ) AND theme ( 1 , 1 )\n",
            "\n",
            "\n",
            "\n"
          ]
        },
        {
          "output_type": "stream",
          "name": "stderr",
          "text": [
            "\rGenerating samples:  91%|█████████ | 382/420 [18:36<01:35,  2.53s/it]"
          ]
        },
        {
          "output_type": "stream",
          "name": "stdout",
          "text": [
            "\n",
            "\n",
            "### Instruction:\n",
            "Translate English sentences into logical form.\n",
            "\n",
            "### Input:\n",
            "Addison handed Lina to Emma .\n",
            "\n",
            "### Response:\n",
            "Addison ( 1 ) ; Lina ( 1 ) ; Emma ( 1 ) ; hand ( 3 ) AND agent ( 3 , 1 ) AND theme ( 3 , 1 ) AND recipient ( 3 , 1 )\n",
            "\n",
            "\n",
            "\n"
          ]
        },
        {
          "output_type": "stream",
          "name": "stderr",
          "text": [
            "\rGenerating samples:  91%|█████████ | 383/420 [18:39<01:35,  2.59s/it]"
          ]
        },
        {
          "output_type": "stream",
          "name": "stdout",
          "text": [
            "\n",
            "\n",
            "### Instruction:\n",
            "Translate English sentences into logical form.\n",
            "\n",
            "### Input:\n",
            "The girl offered the horse Lina .\n",
            "\n",
            "### Response:\n",
            "* girl ( 1 ) ; * horse ( 1 ) ; Lina ( 1 ) ; offer ( 15 ) AND agent ( 15 , 1 ) AND theme ( 15 , 1 ) AND recipient ( 15 , 1 )\n",
            "\n",
            "\n",
            "\n"
          ]
        },
        {
          "output_type": "stream",
          "name": "stderr",
          "text": [
            "\rGenerating samples:  91%|█████████▏| 384/420 [18:41<01:24,  2.35s/it]"
          ]
        },
        {
          "output_type": "stream",
          "name": "stdout",
          "text": [
            "\n",
            "\n",
            "### Instruction:\n",
            "Translate English sentences into logical form.\n",
            "\n",
            "### Input:\n",
            "Emma cleaned Lina .\n",
            "\n",
            "### Response:\n",
            "Emma ( 1 ) ; Lina ( 1 ) ; clean ( 1 ) AND agent ( 1 , 1 ) AND theme ( 1 , 1 )\n",
            "\n",
            "\n",
            "\n"
          ]
        },
        {
          "output_type": "stream",
          "name": "stderr",
          "text": [
            "\rGenerating samples:  92%|█████████▏| 385/420 [18:43<01:25,  2.45s/it]"
          ]
        },
        {
          "output_type": "stream",
          "name": "stdout",
          "text": [
            "\n",
            "\n",
            "### Instruction:\n",
            "Translate English sentences into logical form.\n",
            "\n",
            "### Input:\n",
            "The boy gave the girl Lina .\n",
            "\n",
            "### Response:\n",
            "* boy ( 1 ) ; * girl ( 1 ) ; Lina ( 1 ) ; give ( 15 ) AND agent ( 15 , 1 ) AND recipient ( 15 , 1 ) AND theme ( 15 , 1 )\n",
            "\n",
            "\n",
            "\n"
          ]
        },
        {
          "output_type": "stream",
          "name": "stderr",
          "text": [
            "\rGenerating samples:  92%|█████████▏| 386/420 [18:46<01:25,  2.53s/it]"
          ]
        },
        {
          "output_type": "stream",
          "name": "stdout",
          "text": [
            "\n",
            "\n",
            "### Instruction:\n",
            "Translate English sentences into logical form.\n",
            "\n",
            "### Input:\n",
            "Logan gave the cat Lina .\n",
            "\n",
            "### Response:\n",
            "Logan ( 1 ) ; * cat ( 2 ) ; Lina ( 1 ) ; give ( 14 ) AND agent ( 14 , 1 ) AND theme ( 14 , 2 ) AND recipient ( 14 , 1 )\n",
            "\n",
            "\n",
            "\n"
          ]
        },
        {
          "output_type": "stream",
          "name": "stderr",
          "text": [
            "\rGenerating samples:  92%|█████████▏| 387/420 [18:50<01:35,  2.89s/it]"
          ]
        },
        {
          "output_type": "stream",
          "name": "stdout",
          "text": [
            "\n",
            "\n",
            "### Instruction:\n",
            "Translate English sentences into logical form.\n",
            "\n",
            "### Input:\n",
            "A king liked that a chicken gave Emma Lina .\n",
            "\n",
            "### Response:\n",
            "king ( 1 ) ; chicken ( 3 ) ; Emma ( 3 ) ; like ( 15 ) AND agent ( 15 , 1 ) AND ccomp ( 15 , 1 ) AND give ( 1 ) AND agent ( 1 , 3 ) AND recipient ( 1 , 3 ) AND theme ( 1 , 3 )\n",
            "\n",
            "\n",
            "\n"
          ]
        },
        {
          "output_type": "stream",
          "name": "stderr",
          "text": [
            "\rGenerating samples:  92%|█████████▏| 388/420 [18:52<01:30,  2.82s/it]"
          ]
        },
        {
          "output_type": "stream",
          "name": "stdout",
          "text": [
            "\n",
            "\n",
            "### Instruction:\n",
            "Translate English sentences into logical form.\n",
            "\n",
            "### Input:\n",
            "Daniel promised Ellie Lina .\n",
            "\n",
            "### Response:\n",
            "Daniel ( 1 ) ; Ellie ( 1 ) ; Lily ( 3 ) ; offer ( 15 ) AND agent ( 15 , 1 ) AND recipient ( 15 , 1 ) AND theme ( 15 , 3 )\n",
            "\n",
            "\n",
            "\n"
          ]
        },
        {
          "output_type": "stream",
          "name": "stderr",
          "text": [
            "\rGenerating samples:  93%|█████████▎| 389/420 [18:54<01:19,  2.55s/it]"
          ]
        },
        {
          "output_type": "stream",
          "name": "stdout",
          "text": [
            "\n",
            "\n",
            "### Instruction:\n",
            "Translate English sentences into logical form.\n",
            "\n",
            "### Input:\n",
            "The duck liked Lina .\n",
            "\n",
            "### Response:\n",
            "* duck ( 1 ) ; Lina ( 1 ) ; like ( 14 ) AND agent ( 14 , 1 ) AND theme ( 14 , 1 )\n",
            "\n",
            "\n",
            "\n"
          ]
        },
        {
          "output_type": "stream",
          "name": "stderr",
          "text": [
            "\rGenerating samples:  93%|█████████▎| 390/420 [18:57<01:18,  2.62s/it]"
          ]
        },
        {
          "output_type": "stream",
          "name": "stdout",
          "text": [
            "\n",
            "\n",
            "### Instruction:\n",
            "Translate English sentences into logical form.\n",
            "\n",
            "### Input:\n",
            "Caleb sold Ethan Lina .\n",
            "\n",
            "### Response:\n",
            "Caleb ( 1 ) ; Ethan ( 1 ) ; Lina ( 3 ) ; sell ( 15 ) AND agent ( 15 , 1 ) AND recipient ( 15 , 1 ) AND theme ( 15 , 3 )\n",
            "\n",
            "\n",
            "\n"
          ]
        },
        {
          "output_type": "stream",
          "name": "stderr",
          "text": [
            "\rGenerating samples:  93%|█████████▎| 391/420 [19:01<01:24,  2.93s/it]"
          ]
        },
        {
          "output_type": "stream",
          "name": "stdout",
          "text": [
            "\n",
            "\n",
            "### Instruction:\n",
            "Translate English sentences into logical form.\n",
            "\n",
            "### Input:\n",
            "Emma believed that Noah gave Liam Lina .\n",
            "\n",
            "### Response:\n",
            "Emma ( 1 ) ; Noah ( 1 ) ; Liam ( 3 ) ; believe ( 1 ) AND agent ( 1 , 1 ) AND ccomp ( 1 , 1 ) AND give ( 1 ) AND agent ( 1 , 1 ) AND recipient ( 1 , 3 ) AND theme ( 1 , 3 )\n",
            "\n",
            "\n",
            "\n"
          ]
        },
        {
          "output_type": "stream",
          "name": "stderr",
          "text": [
            "\rGenerating samples:  93%|█████████▎| 392/420 [19:03<01:19,  2.83s/it]"
          ]
        },
        {
          "output_type": "stream",
          "name": "stdout",
          "text": [
            "\n",
            "\n",
            "### Instruction:\n",
            "Translate English sentences into logical form.\n",
            "\n",
            "### Input:\n",
            "Emma passed Lina to a kitty .\n",
            "\n",
            "### Response:\n",
            "Emma ( 1 ) ; Lina ( 3 ) ; kitty ( 19 ) ; pass ( 4 ) AND agent ( 4 , 1 ) AND recipient ( 4 , 3 ) AND theme ( 4 , 3 )\n",
            "\n",
            "\n",
            "\n"
          ]
        },
        {
          "output_type": "stream",
          "name": "stderr",
          "text": [
            "\rGenerating samples:  94%|█████████▎| 393/420 [19:05<01:08,  2.53s/it]"
          ]
        },
        {
          "output_type": "stream",
          "name": "stdout",
          "text": [
            "\n",
            "\n",
            "### Instruction:\n",
            "Translate English sentences into logical form.\n",
            "\n",
            "### Input:\n",
            "The princess ate Lina .\n",
            "\n",
            "### Response:\n",
            "* princess ( 1 ) ; Lina ( 1 ) ; eat ( 1 ) AND agent ( 1 , 1 ) AND theme ( 1 , 1 )\n",
            "\n",
            "\n",
            "\n"
          ]
        },
        {
          "output_type": "stream",
          "name": "stderr",
          "text": [
            "\rGenerating samples:  94%|█████████▍| 394/420 [19:08<01:06,  2.56s/it]"
          ]
        },
        {
          "output_type": "stream",
          "name": "stdout",
          "text": [
            "\n",
            "\n",
            "### Instruction:\n",
            "Translate English sentences into logical form.\n",
            "\n",
            "### Input:\n",
            "Evelyn gave Lina to a journalist .\n",
            "\n",
            "### Response:\n",
            "Evelyn ( 1 ) ; Lina ( 3 ) ; journalist ( 1 ) ; give ( 3 ) AND agent ( 3 , 1 ) AND theme ( 3 , 3 ) AND recipient ( 3 , 1 )\n",
            "\n",
            "\n",
            "\n"
          ]
        },
        {
          "output_type": "stream",
          "name": "stderr",
          "text": [
            "\rGenerating samples:  94%|█████████▍| 395/420 [19:10<00:57,  2.32s/it]"
          ]
        },
        {
          "output_type": "stream",
          "name": "stdout",
          "text": [
            "\n",
            "\n",
            "### Instruction:\n",
            "Translate English sentences into logical form.\n",
            "\n",
            "### Input:\n",
            "Oliver dusted Lina .\n",
            "\n",
            "### Response:\n",
            "Oliver ( 1 ) ; Lina ( 1 ) ; dust ( 1 ) AND agent ( 1 , 1 ) AND theme ( 1 , 1 )\n",
            "\n",
            "\n",
            "\n"
          ]
        },
        {
          "output_type": "stream",
          "name": "stderr",
          "text": [
            "\rGenerating samples:  94%|█████████▍| 396/420 [19:12<00:57,  2.39s/it]"
          ]
        },
        {
          "output_type": "stream",
          "name": "stdout",
          "text": [
            "\n",
            "\n",
            "### Instruction:\n",
            "Translate English sentences into logical form.\n",
            "\n",
            "### Input:\n",
            "A giraffe mailed Lina to the girl .\n",
            "\n",
            "### Response:\n",
            "giraffe ( 1 ) ; Luna ( 3 ) ; * girl ( 1 ) ; mail ( 1 ) AND agent ( 1 , 1 ) AND theme ( 1 , 3 ) AND recipient ( 1 , 1 )\n",
            "\n",
            "\n",
            "\n"
          ]
        },
        {
          "output_type": "stream",
          "name": "stderr",
          "text": [
            "\rGenerating samples:  95%|█████████▍| 397/420 [19:14<00:50,  2.21s/it]"
          ]
        },
        {
          "output_type": "stream",
          "name": "stdout",
          "text": [
            "\n",
            "\n",
            "### Instruction:\n",
            "Translate English sentences into logical form.\n",
            "\n",
            "### Input:\n",
            "Elijah grew Lina .\n",
            "\n",
            "### Response:\n",
            "Elijah ( 1 ) ; Lily ( 1 ) ; grow ( 3 ) AND agent ( 3 , 1 ) AND theme ( 3 , 1 )\n",
            "\n",
            "\n",
            "\n"
          ]
        },
        {
          "output_type": "stream",
          "name": "stderr",
          "text": [
            "\rGenerating samples:  95%|█████████▍| 398/420 [19:16<00:45,  2.08s/it]"
          ]
        },
        {
          "output_type": "stream",
          "name": "stdout",
          "text": [
            "\n",
            "\n",
            "### Instruction:\n",
            "Translate English sentences into logical form.\n",
            "\n",
            "### Input:\n",
            "The bear painted Lina .\n",
            "\n",
            "### Response:\n",
            "* bear ( 1 ) ; Lina ( 1 ) ; paint ( 4 ) AND agent ( 4 , 1 ) AND theme ( 4 , 1 )\n",
            "\n",
            "\n",
            "\n"
          ]
        },
        {
          "output_type": "stream",
          "name": "stderr",
          "text": [
            "\rGenerating samples:  95%|█████████▌| 399/420 [19:18<00:42,  2.00s/it]"
          ]
        },
        {
          "output_type": "stream",
          "name": "stdout",
          "text": [
            "\n",
            "\n",
            "### Instruction:\n",
            "Translate English sentences into logical form.\n",
            "\n",
            "### Input:\n",
            "A butterfly rolled Lina .\n",
            "\n",
            "### Response:\n",
            "butterfly ( 1 ) ; Lina ( 1 ) ; roll ( 3 ) AND agent ( 3 , 1 ) AND theme ( 3 , 1 )\n",
            "\n",
            "\n",
            "\n"
          ]
        },
        {
          "output_type": "stream",
          "name": "stderr",
          "text": [
            "\rGenerating samples:  95%|█████████▌| 400/420 [19:20<00:43,  2.19s/it]"
          ]
        },
        {
          "output_type": "stream",
          "name": "stdout",
          "text": [
            "\n",
            "\n",
            "### Instruction:\n",
            "Translate English sentences into logical form.\n",
            "\n",
            "### Input:\n",
            "A scientist gave Penelope Lina .\n",
            "\n",
            "### Response:\n",
            "sssister ( 1 ) ; Penel ( 1 ) ; Lina ( 1 ) ; give ( 1 ) AND agent ( 1 , 1 ) AND recipient ( 1 , 1 ) AND theme ( 1 , 1 )\n",
            "\n",
            "\n",
            "\n"
          ]
        },
        {
          "output_type": "stream",
          "name": "stderr",
          "text": [
            "\rGenerating samples:  95%|█████████▌| 401/420 [19:23<00:43,  2.31s/it]"
          ]
        },
        {
          "output_type": "stream",
          "name": "stdout",
          "text": [
            "\n",
            "\n",
            "### Instruction:\n",
            "Translate English sentences into logical form.\n",
            "\n",
            "### Input:\n",
            "A boy shattered the block on a tree .\n",
            "\n",
            "### Response:\n",
            "boy ( 1 ) ; * block ( 1 ) ; tree ( 3 ) ; nmod . on ( 1 , 3 ) AND shatter ( 1 ) AND agent ( 1 , 1 ) AND theme ( 1 , 1 )\n",
            "\n",
            "\n",
            "\n"
          ]
        },
        {
          "output_type": "stream",
          "name": "stderr",
          "text": [
            "\rGenerating samples:  96%|█████████▌| 402/420 [19:26<00:43,  2.42s/it]"
          ]
        },
        {
          "output_type": "stream",
          "name": "stdout",
          "text": [
            "\n",
            "\n",
            "### Instruction:\n",
            "Translate English sentences into logical form.\n",
            "\n",
            "### Input:\n",
            "Liam shattered the cake beside a table .\n",
            "\n",
            "### Response:\n",
            "Liam ( 1 ) ; * cake ( 1 ) ; table ( 2 ) ; nmod . beside ( 1 , 2 ) AND shatter ( 1 ) AND agent ( 1 , 1 ) AND theme ( 1 , 1 )\n",
            "\n",
            "\n",
            "\n"
          ]
        },
        {
          "output_type": "stream",
          "name": "stderr",
          "text": [
            "\rGenerating samples:  96%|█████████▌| 403/420 [19:27<00:35,  2.11s/it]"
          ]
        },
        {
          "output_type": "stream",
          "name": "stdout",
          "text": [
            "\n",
            "\n",
            "### Instruction:\n",
            "Translate English sentences into logical form.\n",
            "\n",
            "### Input:\n",
            "A girl shattered a block .\n",
            "\n",
            "### Response:\n",
            "girl ( 1 ) ; William ( 3 ) ; shake ( 1 ) AND agent ( 1 , 1 )\n",
            "\n",
            "\n",
            "\n"
          ]
        },
        {
          "output_type": "stream",
          "name": "stderr",
          "text": [
            "\rGenerating samples:  96%|█████████▌| 404/420 [19:30<00:37,  2.34s/it]"
          ]
        },
        {
          "output_type": "stream",
          "name": "stdout",
          "text": [
            "\n",
            "\n",
            "### Instruction:\n",
            "Translate English sentences into logical form.\n",
            "\n",
            "### Input:\n",
            "Harper shattered a ball in a house .\n",
            "\n",
            "### Response:\n",
            "Harper ( 1 ) ; ball ( 1 ) ; house ( 2 ) ; house ( 3 ) ; nmod . in ( 1 , 2 ) AND shatter ( 1 ) AND agent ( 1 , 1 ) AND theme ( 1 , 1 )\n",
            "\n",
            "\n",
            "\n"
          ]
        },
        {
          "output_type": "stream",
          "name": "stderr",
          "text": [
            "\rGenerating samples:  96%|█████████▋| 405/420 [19:32<00:32,  2.19s/it]"
          ]
        },
        {
          "output_type": "stream",
          "name": "stdout",
          "text": [
            "\n",
            "\n",
            "### Instruction:\n",
            "Translate English sentences into logical form.\n",
            "\n",
            "### Input:\n",
            "The girl shattered a donut .\n",
            "\n",
            "### Response:\n",
            "* girl ( 1 ) ; donut ( 1 ) ; shatter ( 1 ) AND agent ( 1 , 1 ) AND theme ( 1 , 1 )\n",
            "\n",
            "\n",
            "\n"
          ]
        },
        {
          "output_type": "stream",
          "name": "stderr",
          "text": [
            "\rGenerating samples:  97%|█████████▋| 406/420 [19:33<00:29,  2.08s/it]"
          ]
        },
        {
          "output_type": "stream",
          "name": "stdout",
          "text": [
            "\n",
            "\n",
            "### Instruction:\n",
            "Translate English sentences into logical form.\n",
            "\n",
            "### Input:\n",
            "A professor shattered Emily .\n",
            "\n",
            "### Response:\n",
            "professor ( 1 ) ; Emily ( 1 ) ; shatter ( 3 ) AND agent ( 3 , 1 ) AND theme ( 3 , 1 )\n",
            "\n",
            "\n",
            "\n"
          ]
        },
        {
          "output_type": "stream",
          "name": "stderr",
          "text": [
            "\rGenerating samples:  97%|█████████▋| 407/420 [19:35<00:25,  2.00s/it]"
          ]
        },
        {
          "output_type": "stream",
          "name": "stdout",
          "text": [
            "\n",
            "\n",
            "### Instruction:\n",
            "Translate English sentences into logical form.\n",
            "\n",
            "### Input:\n",
            "The child shattered Olivia .\n",
            "\n",
            "### Response:\n",
            "* child ( 1 ) ; Olivia ( 3 ) ; shatter ( 1 ) AND agent ( 1 , 1 ) AND theme ( 1 , 3 )\n",
            "\n",
            "\n",
            "\n"
          ]
        },
        {
          "output_type": "stream",
          "name": "stderr",
          "text": [
            "\rGenerating samples:  97%|█████████▋| 408/420 [19:38<00:26,  2.22s/it]"
          ]
        },
        {
          "output_type": "stream",
          "name": "stdout",
          "text": [
            "\n",
            "\n",
            "### Instruction:\n",
            "Translate English sentences into logical form.\n",
            "\n",
            "### Input:\n",
            "Alexander shattered the researcher on a mattress .\n",
            "\n",
            "### Response:\n",
            "Alexander ( 1 ) ; * researcher ( 3 ) ; mattress ( 4 ) ; nmod . on ( 3 , 4 ) AND shatter ( 1 ) AND agent ( 1 , 1 ) AND theme ( 1 , 3 )\n",
            "\n",
            "\n",
            "\n"
          ]
        },
        {
          "output_type": "stream",
          "name": "stderr",
          "text": [
            "\rGenerating samples:  97%|█████████▋| 409/420 [19:43<00:35,  3.18s/it]"
          ]
        },
        {
          "output_type": "stream",
          "name": "stdout",
          "text": [
            "\n",
            "\n",
            "### Instruction:\n",
            "Translate English sentences into logical form.\n",
            "\n",
            "### Input:\n",
            "William supported that Grace shattered the cookie on the table .\n",
            "\n",
            "### Response:\n",
            "William ( 1 ) ; Grace ( 1 ) ; * cookie ( 2 ) ; * table ( 3 ) ; nmod . on ( 2 , 3 ) AND support ( 1 ) AND agent ( 1 , 1 ) AND ccomp ( 1 , 1 ) AND sh ( 1 ) AND agent ( 1 , 1 ) AND ccomp ( 1 , 25 ) AND shuffle ( 25 ) AND agent ( 25 , 1 ) AND theme ( 25 , 2 )\n",
            "\n",
            "\n",
            "\n"
          ]
        },
        {
          "output_type": "stream",
          "name": "stderr",
          "text": [
            "\rGenerating samples:  98%|█████████▊| 410/420 [19:46<00:30,  3.02s/it]"
          ]
        },
        {
          "output_type": "stream",
          "name": "stdout",
          "text": [
            "\n",
            "\n",
            "### Instruction:\n",
            "Translate English sentences into logical form.\n",
            "\n",
            "### Input:\n",
            "The cat shattered a shell in the storage .\n",
            "\n",
            "### Response:\n",
            "* cat ( 1 ) ; shell ( 1 ) ; * storage ( 2 ) ; nmod . in ( 1 , 2 ) AND shatter ( 1 ) AND agent ( 1 , 1 ) AND theme ( 1 , 1 )\n",
            "\n",
            "\n",
            "\n"
          ]
        },
        {
          "output_type": "stream",
          "name": "stderr",
          "text": [
            "\rGenerating samples:  98%|█████████▊| 411/420 [19:48<00:23,  2.66s/it]"
          ]
        },
        {
          "output_type": "stream",
          "name": "stdout",
          "text": [
            "\n",
            "\n",
            "### Instruction:\n",
            "Translate English sentences into logical form.\n",
            "\n",
            "### Input:\n",
            "Liam shattered the girl .\n",
            "\n",
            "### Response:\n",
            "Liam ( 1 ) ; * girl ( 1 ) ; shatter ( 3 ) AND agent ( 3 , 1 ) AND theme ( 3 , 1 )\n",
            "\n",
            "\n",
            "\n"
          ]
        },
        {
          "output_type": "stream",
          "name": "stderr",
          "text": [
            "\rGenerating samples:  98%|█████████▊| 412/420 [19:51<00:21,  2.68s/it]"
          ]
        },
        {
          "output_type": "stream",
          "name": "stdout",
          "text": [
            "\n",
            "\n",
            "### Instruction:\n",
            "Translate English sentences into logical form.\n",
            "\n",
            "### Input:\n",
            "Carter shattered the cat on the desk .\n",
            "\n",
            "### Response:\n",
            "Carter ( 1 ) ; * cat ( 1 ) ; * desk ( 3 ) ; nmod . on ( 1 , 3 ) AND shuffle ( 1 ) AND agent ( 1 , 1 ) AND theme ( 1 , 1 )\n",
            "\n",
            "\n",
            "\n"
          ]
        },
        {
          "output_type": "stream",
          "name": "stderr",
          "text": [
            "\rGenerating samples:  98%|█████████▊| 413/420 [19:52<00:17,  2.43s/it]"
          ]
        },
        {
          "output_type": "stream",
          "name": "stdout",
          "text": [
            "\n",
            "\n",
            "### Instruction:\n",
            "Translate English sentences into logical form.\n",
            "\n",
            "### Input:\n",
            "Emma shattered a baby .\n",
            "\n",
            "### Response:\n",
            "Emma ( 19 ) ; baby ( 1 ) ; shatter ( 3 ) AND agent ( 3 , 19 ) AND theme ( 3 , 1 )\n",
            "\n",
            "\n",
            "\n"
          ]
        },
        {
          "output_type": "stream",
          "name": "stderr",
          "text": [
            "\rGenerating samples:  99%|█████████▊| 414/420 [19:57<00:18,  3.11s/it]"
          ]
        },
        {
          "output_type": "stream",
          "name": "stdout",
          "text": [
            "\n",
            "\n",
            "### Instruction:\n",
            "Translate English sentences into logical form.\n",
            "\n",
            "### Input:\n",
            "Emma thought that the farmer shattered William .\n",
            "\n",
            "### Response:\n",
            "Emma ( 1 ) ; * farmer ( 3 ) ; William ( 3 ) ; think ( 1 ) AND agent ( 1 , 1 ) AND ccomp ( 1 , 1 ) AND shatter ( 1 ) AND agent ( 1 , 3 ) AND xcomp ( 1 , 1 ) AND sh ( 1 ) AND agent ( 1 , 3 ) AND shutter ( 1 ) AND agent ( 1 , 3 )\n",
            "\n",
            "\n",
            "\n"
          ]
        },
        {
          "output_type": "stream",
          "name": "stderr",
          "text": [
            "\rGenerating samples:  99%|█████████▉| 415/420 [19:59<00:13,  2.72s/it]"
          ]
        },
        {
          "output_type": "stream",
          "name": "stdout",
          "text": [
            "\n",
            "\n",
            "### Instruction:\n",
            "Translate English sentences into logical form.\n",
            "\n",
            "### Input:\n",
            "Emma shattered the donut .\n",
            "\n",
            "### Response:\n",
            "Emma ( 1 ) ; * donut ( 1 ) ; shatter ( 1 ) AND agent ( 1 , 1 ) AND theme ( 1 , 1 )\n",
            "\n",
            "\n",
            "\n"
          ]
        },
        {
          "output_type": "stream",
          "name": "stderr",
          "text": [
            "\rGenerating samples:  99%|█████████▉| 416/420 [20:01<00:09,  2.48s/it]"
          ]
        },
        {
          "output_type": "stream",
          "name": "stdout",
          "text": [
            "\n",
            "\n",
            "### Instruction:\n",
            "Translate English sentences into logical form.\n",
            "\n",
            "### Input:\n",
            "Emma shattered the baby .\n",
            "\n",
            "### Response:\n",
            "Emma ( 19 ) ; * baby ( 1 ) ; shatter ( 3 ) AND agent ( 3 , 19 ) AND theme ( 3 , 1 )\n",
            "\n",
            "\n",
            "\n"
          ]
        },
        {
          "output_type": "stream",
          "name": "stderr",
          "text": [
            "\rGenerating samples:  99%|█████████▉| 417/420 [20:03<00:06,  2.29s/it]"
          ]
        },
        {
          "output_type": "stream",
          "name": "stdout",
          "text": [
            "\n",
            "\n",
            "### Instruction:\n",
            "Translate English sentences into logical form.\n",
            "\n",
            "### Input:\n",
            "Lucas shattered a cake .\n",
            "\n",
            "### Response:\n",
            "Lucas ( 1 ) ; cake ( 3 ) ; shatter ( 1 ) AND agent ( 1 , 1 ) AND theme ( 1 , 3 )\n",
            "\n",
            "\n",
            "\n"
          ]
        },
        {
          "output_type": "stream",
          "name": "stderr",
          "text": [
            "\rGenerating samples: 100%|█████████▉| 418/420 [20:07<00:05,  2.97s/it]"
          ]
        },
        {
          "output_type": "stream",
          "name": "stdout",
          "text": [
            "\n",
            "\n",
            "### Instruction:\n",
            "Translate English sentences into logical form.\n",
            "\n",
            "### Input:\n",
            "The politician thought that the lion shattered a donut .\n",
            "\n",
            "### Response:\n",
            "* politician ( 1 ) ; * lion ( 1 ) ; donut ( 3 ) ; think ( 1 ) AND agent ( 1 , 1 ) AND ccomp ( 1 , 1 ) AND think ( 1 ) AND agent ( 1 , 1 ) AND ccomp ( 1 , 29 ) AND think ( 29 ) AND agent ( 29 , 1 ) AND theme ( 29 , 3 )\n",
            "\n",
            "\n",
            "\n"
          ]
        },
        {
          "output_type": "stream",
          "name": "stderr",
          "text": [
            "\rGenerating samples: 100%|█████████▉| 419/420 [20:10<00:02,  2.88s/it]"
          ]
        },
        {
          "output_type": "stream",
          "name": "stdout",
          "text": [
            "\n",
            "\n",
            "### Instruction:\n",
            "Translate English sentences into logical form.\n",
            "\n",
            "### Input:\n",
            "A hero shattered a cake beside a table .\n",
            "\n",
            "### Response:\n",
            "hero ( 1 ) ; cake ( 1 ) ; table ( 2 ) ; nmod . beside ( 1 , 2 ) AND shatter ( 1 ) AND agent ( 1 , 1 ) AND theme ( 1 , 1 )\n",
            "\n",
            "\n",
            "\n"
          ]
        },
        {
          "output_type": "stream",
          "name": "stderr",
          "text": [
            "Generating samples: 100%|██████████| 420/420 [20:13<00:00,  2.89s/it]"
          ]
        },
        {
          "output_type": "stream",
          "name": "stdout",
          "text": [
            "\n",
            "\n",
            "### Instruction:\n",
            "Translate English sentences into logical form.\n",
            "\n",
            "### Input:\n",
            "Mia shattered the raisin on the box .\n",
            "\n",
            "### Response:\n",
            "Mia ( 1 ) ; * raisin ( 1 ) ; * box ( 2 ) ; nmod . on ( 1 , 2 ) AND shatter ( 3 ) AND agent ( 3 , 1 ) AND theme ( 3 , 1 )\n",
            "\n",
            "\n",
            "\n"
          ]
        },
        {
          "output_type": "stream",
          "name": "stderr",
          "text": [
            "\n"
          ]
        },
        {
          "output_type": "execute_result",
          "data": {
            "text/plain": [
              "['cake ( 1 ) ; * wolf ( 1 ) ; blend ( 3 ) AND theme ( 3 , 1 ) AND agent ( 3 , 1 )',\n",
              " 'mel melmelon ( 1 ) ; boy ( 1 ) ; bless ( 3 ) AND theme ( 3 , 1 ) AND agent ( 3 , 1 )',\n",
              " 'cake ( 1 ) ; Nathan ( 1 ) ; blend ( 3 ) AND theme ( 3 , 1 ) AND agent ( 3 , 1 )',\n",
              " '* bowl ( 1 ) ; girl ( 1 ) ; blend ( 3 ) AND theme ( 3 , 1 ) AND agent ( 3 , 1 )',\n",
              " '* teacher ( 1 ) ; * toy ( 2 ) ; believe ( 3 ) ; believe ( 14 ) AND agent ( 14 , 1 ) AND ccomp ( 14 , 1 ) AND eat ( 1 ) AND theme ( 1 , 2 ) AND recipient ( 1 , 3 )',\n",
              " '* radio ( 2 ) ; blend ( 1 ) AND theme ( 1 , 2 )',\n",
              " 'raisin ( 1 ) ; Sofia ( 1 ) ; blend ( 3 ) AND theme ( 3 , 1 ) AND agent ( 3 , 1 )',\n",
              " 'ppencil ( 1 ) ; blend ( 1 ) AND theme ( 1 , 1 )',\n",
              " 'donut ( 1 ) ; horse ( 1 ) ; blend ( 3 ) AND theme ( 3 , 1 ) AND agent ( 3 , 1 )',\n",
              " 'rose ( 1 ) ; blend ( 1 ) AND theme ( 1 , 1 )',\n",
              " 'Emma ( 1 ) ; * drink ( 3 ) ; girl ( 3 ) ; say ( 1 ) AND agent ( 1 , 1 ) AND ccomp ( 1 , 1 ) AND eat ( 1 ) AND theme ( 1 , 3 ) AND recipient ( 1 , 33 )',\n",
              " '* needle ( 1 ) ; eat ( 1 ) AND theme ( 1 , 1 )',\n",
              " '* banana ( 1 ) ; * dog ( 1 ) ; blend ( 3 ) AND theme ( 3 , 1 ) AND agent ( 3 , 1 )',\n",
              " '* cake ( 1 ) ; cat ( 1 ) ; blend ( 3 ) AND theme ( 3 , 1 ) AND agent ( 3 , 1 )',\n",
              " 'shoe ( 1 ) ; blend ( 1 ) AND theme ( 1 , 1 )',\n",
              " '* box ( 1 ) ; Benjamin ( 1 ) ; blend ( 3 ) AND theme ( 3 , 1 ) AND agent ( 3 , 1 )',\n",
              " 'melmelmel ( 1 ) ; go ( 1 ) ; blieve ( 1 ) AND theme ( 1 , 1 ) AND agent ( 1 , 1 )',\n",
              " 'Aria ( 1 ) ; * liver ( 3 ) ; Emma ( 1 ) ; respect ( 4 ) AND agent ( 4 , 1 ) AND ccomp ( 4 , 1 ) AND blend ( 1 ) AND theme ( 1 , 3 ) AND recipient ( 1 , 1 )',\n",
              " '* cake ( 1 ) ; Emma ( 1 ) ; blend ( 3 ) AND theme ( 3 , 1 ) AND agent ( 3 , 1 )',\n",
              " 'rose ( 1 ) ; boy ( 3 ) ; blend ( 19 ) AND theme ( 19 , 1 ) AND agent ( 19 , 33 )',\n",
              " 'Emma ( 1 ) ; teacher ( 1 ) ; chow ( 1 ) ; believe ( 2 ) ; believe ( 1 ) ; believe ( 2 ) ; believe ( 1 ) AND agent ( 1 , 1 ) AND ccomp ( 1 , 1 ) AND like ( 1 ) AND theme ( 1 , 1 ) AND recipient ( 1 , 1 )',\n",
              " 'chah ( 1 ) ; Ell Oliv Olivia ( 1 ) ; Olivia ( 2 ) ; Emma ( 2 ) ; Liam ( 2 ) ; believe ( 1 ) ; believe ( 1 ) ; believe ( 1 ) ; believe ( 1 ) AND agent ( 1 , 1 ) AND theme ( 1 , 1 ) AND expect ( 1 ) AND agent ( 1 , 2 )',\n",
              " '* pig ( 1 ) ; Sopha ( 1 ) ; Sophah ( 1 ) ; Emma ( 1 ) ; girl ( 1 ) ; like ( 1 ) ; like ( 1 ) ; Emma ( 1 ) ; like ( 1 ) AND agent ( 1 , 1 ) AND xcomp ( 1 , 1 ) AND like ( 1 ) AND agent ( 1 , 1 ) AND theme ( 1 , 1 )',\n",
              " 'Henry ( 1 ) ; cat ( 1 ) ; Lucas ( 1 ) ; Emma ( 2 ) ; Emma ( 3 ) ; Emma ( 1 ) ; Emma ( 1 ) ; Emma ( 1 ) ; * house ( 3 ) ; Leah ( 1 ) ; say ( 1 ) AND agent ( 1 , 1 ) AND ccomp ( 1 , 1 ) AND say ( 1 ) AND agent ( 1 , 1 ) AND xcomp ( 1 , 3 ) AND believe ( 3 ) AND agent ( 3 , 1 ) AND theme ( 3 , 3 )',\n",
              " '* boy ( 1 ) ; * poet ( 1 ) ; William ( 1 ) ; William ( 1 ) ; William ( 2 ) ; Hannah ( 3 ) ; Liam ( 1 ) ; mean ( 1 ) AND agent ( 1 , 1 ) AND ccomp ( 1 , 1 ) AND eat ( 1 ) AND theme ( 1 , 1 )',\n",
              " 'Emma ( 1 ) ; James ( 1 ) ; James ( 1 ) ; * du ( 1 ) ; think ( 1 ) AND agent ( 18 , 1 ) AND theme ( 18 , 1 ) AND like ( 1 ) AND agent ( 1 , 1 )',\n",
              " 'Emma ( 1 ) ; * liam ( 1 ) ; Abig ( 1 ) ; like ( 1 ) ; like ( 1 ) ; Sebastian ( 1 ) ; like ( 1 ) AND theme ( 1 , 1 ) AND agent ( 1 , 1 )',\n",
              " 'boy ( 1 ) ; * professor ( 3 ) ; Liam ( 1 ) ; girl ( 2 ) ; confess ( 3 ) ; confess ( 1 ) ; Liam ( 2 ) ; confess ( 1 ) AND agent ( 1 , 1 ) AND ccomp ( 1 , 3 ) AND imagine ( 3 ) AND agent ( 3 , 3 ) AND xcomp ( 3 , 1 ) AND confess ( 1 ) AND agent ( 1 , 3 ) AND confess ( 1 ) AND agent ( 1 , 3 ) AND ccomp ( 1 , 1 ) AND confess ( 1 ) AND agent ( 1 , 3 ) AND confess ( 1 ) AND agent ( 1 , 3 ) AND confess ( 1 ) AND agent ( 1 , 3 ) AND ccomp ( 1 , 1 ) AND confess',\n",
              " 'Olivia ( 1 ) ; Sophia ( 1 ) ; Noah ( 1 ) ; * rose ( 3 ) ; Emma ( 2 ) ; admire ( 3 ) AND agent ( 3 , 1 ) AND ccomp ( 3 , 1 ) AND hope ( 1 ) AND agent ( 1 , 1 ) AND xcomp ( 1 , 33 ) AND expect ( 33 ) AND agent ( 33 , 1 ) AND ccomp ( 33 , 1 ) AND admire ( 1 ) AND agent ( 1 , 1 ) AND expect ( 1 ) AND agent ( 1 , 2 ) AND xcomp ( 1 , 19 ) AND admire ( 19 ) AND agent ( 19 , 1 ) AND expect ( 19 ) AND agent ( 19 , 1 ) AND xcomp ( 19 , 1 ) AND admire (',\n",
              " '* scientist scientist ( 1 ) ; William ( 1 ) ; Daniel ( 3 ) ; * game ( 49 ) ; Aria ( 1 ) ; declare ( 1 ) AND agent ( 1 , 1 ) AND ccomp ( 1 , 1 ) AND say ( 1 ) AND agent ( 1 , 3 ) AND xcomp ( 1 , 1 ) AND say ( 1 ) AND agent ( 1 , 1 ) AND ccomp ( 1 , 1 ) AND eat ( 1 ) AND agent ( 1 , 3 )',\n",
              " 'Oliv A\\nO\\nOb ( 1 ) ; A\\n Ay wasnnnn ( 1 ) ; Ay ( 1 ) ; Ay ( 1 ) ; admen ( 1 ) ; admen ( 1 ) ; Ava ( 1 ) ; admn ( 1 ) AND',\n",
              " 'Elizabeth ( 1 ) ; * girl ( 1 ) ; Liam ( 3 ) ; Liam ( 2 ) ; teacher ( 1 ) ; Emma ( 3 ) ; teacher ( 1 ) ; like ( 1 ) ; teacher ( 1 ) ; Emma ( 1 ) ; like ( 1 ) AND agent ( 1 , 1 ) AND ccomp ( 1 , 1 ) AND think ( 1 ) AND agent ( 1 , 3 ) AND ccomp ( 1 , 1 ) AND think ( 1 ) AND agent ( 1 , 1 ) AND ccomp ( 1 , 1 ) AND think ( 1 ) AND agent ( 1 , 3 ) AND xcomp ( 1 , 1 ) AND float ( 1 ) AND agent ( 1 , 3 ) AND ccomp ( 1 , 19 ) AND eat ( 19 ) AND agent',\n",
              " 'dog ( 1 ) ; child ( 1 ) ; James ( 3 ) ; Emma ( 4 ) ; confess ( 3 ) ; * penguin ( 1 ) ; Liam ( 1 ) ; confess ( 1 ) AND agent ( 1 , 1 ) AND ccomp ( 1 , 1 ) AND say ( 1 ) AND agent ( 1 , 3 ) AND xcomp ( 1 , 29 ) AND say ( 29 ) AND agent ( 29 , 1 ) AND ccomp ( 29 , 1 ) AND say ( 1 ) AND agent ( 19 , 3 ) AND ccomp ( 19 , 1 ) AND say ( 19 ) AND agent ( 19 , 1 ) AND ccomp ( 19',\n",
              " 'Emma ( 1 ) ; * citizen ( 3 ) ; girl ( 4 ) ; girl ( 3 ) ; girl ( 3 ) ; girl ( 1 ) ; believe ( 1 ) ; believe ( 1 ) AND agent ( 1 , 1 ) AND ccomp ( 1 , 1 ) AND think ( 1 ) AND agent ( 1 , 3 ) AND ccomp ( 1 , 1 ) AND think ( 1 ) AND agent ( 1 , 3 ) AND xcomp ( 1 , 1 ) AND run ( 1 ) AND agent ( 1 , 3 ) AND confess ( 1 ) AND agent ( 1 , 3 )',\n",
              " 'cat ( 1 ) ; Luna ( 3 ) ; Emma ( 1 ) ; Olivia ( 4 ) ; Liam ( 3 ) ; Liam ( 1 ) ; Liam ( 2 ) ; like ( 3 ) AND agent ( 3 , 1 ) AND ccomp ( 3 , 1 ) AND like ( 1 ) AND agent ( 1 , 3 ) AND xcomp ( 1 , 1 ) AND eat ( 1 ) AND agent ( 1 , 3 ) AND goal ( 1 , 1 ) AND like ( 1 ) AND agent ( 1 , 3 )',\n",
              " '* judge ( 1 ) ; Emma ( 1 ) ; Liam ( 3 ) ; Liam ( 4 ) ; Liam ( 2 ) ; Liam ( 3 ) ; like ( 1 ) AND agent ( 1 , 1 ) AND ccomp ( 1 , 1 ) AND say ( 1 ) AND agent ( 1 , 3 ) AND ccomp ( 1 , 1 ) AND believe ( 1 ) AND theme ( 1 , 3 )',\n",
              " '* fly ( 1 ) ; * cat ( 3 ) ; priest ( 3 ) ; priest ( 49 ) ; confess ( 3 ) ; * baby ( 1 ) ; confess ( 1 ) AND agent ( 1 , 1 ) AND ccomp ( 1 , 3 ) AND wish ( 3 ) AND agent ( 3 , 3 ) AND xcomp ( 3 , 25 ) AND confess ( 25 ) AND agent ( 25 , 3 ) AND ccomp ( 25 , 1 ) AND wish ( 1 ) AND agent ( 1 , 3 ) AND xcomp ( 1 , 25 ) AND confess ( 25 ) AND agent ( 25 , 3 ) AND wish ( 25 ) AND agent ( 25 , 3 ) AND xcomp ( 25 , 1 ) AND',\n",
              " '* child ( 1 ) ; Emma ( 1 ) ; Emma ( 1 ) ; Liam ( 1 ) ; Liam ( 2 ) ; Liam ( 1 ) ; Liam ( 1 ) ; Emma ( 1 ) ; Emma ( 1 ) ; Liam ( 1 ) ; Emma ( 1 ) ; Liam ( 1 ) ; Emma ( 1 ) ; Liam ( 1 ) ; Liam ( 1 ) ; Liam ( 1 ) ; Emma ( 1 ) ; Liam ( 1 ) ; Emma ( 1 ) ; Liam ( 1 ) ; Emma ( 1 ) ; Liam ( 1 ) ; Emma ( 1 ) ; Liam ( 1 ) ; Liam ( 1 ) ; Liam ( 1 ) ; Emma ( 1 )',\n",
              " 'Em (',\n",
              " 'Levi ( 1 ) ; Emma ( 1 ) ; lawyer ( 1 ) ; lawyer ( 3 ) ; lawyer ( 3 ) ; lawyer ( 3 ) ; like ( 2 ) AND theme ( 2 , 1 ) AND agent ( 2 , 1 )',\n",
              " 'Noah ( 1 ) ; llipop ( 3 ) ; * box ( 1 ) ; box ( 2 ) ; girl ( 3 ) ; nmod . beside ( 3 , 1 ) AND telephone ( 1 ) AND agent ( 1 , 1 ) AND theme ( 1 , 3 ) AND recipient ( 1 , 3 )',\n",
              " '* girl ( 1 ) ; * donut ( 3 ) ; * house ( 1 ) ; * cat ( 2 ) ; nmod . in ( 3 , 1 ) AND tele ( 1 ) AND agent ( 1 , 1 ) AND theme ( 1 , 3 ) AND recipient ( 1 , 2 )',\n",
              " 'Emma ( 1 ) ; cake ( 2 ) ; dog ( 1 ) ; telephone ( 38 ) AND agent ( 38 , 1 ) AND theme ( 38 , 2 ) AND recipient ( 38 , 1 )',\n",
              " 'Olivia ( 1 ) ; mandarin ( 3 ) ; * cat ( 1 ) ; telephone ( 49 ) AND agent ( 49 , 1 ) AND theme ( 49 , 3 ) AND recipient ( 49 , 1 )',\n",
              " '* cat ( 1 ) ; crown ( 1 ) ; table ( 1 ) ; Emma ( 2 ) ; nmod . on ( 1 , 1 ) AND telephone ( 2 ) AND agent ( 2 , 1 ) AND theme ( 2 , 1 ) AND recipient ( 2 , 2 )',\n",
              " '* child ( 1 ) ; * glue ( 1 ) ; tree ( 2 ) ; Olivia ( 1 ) ; nmod . on ( 1 , 2 ) AND tele ( 1 ) AND agent ( 1 , 1 ) AND theme ( 1 , 1 ) AND recipient ( 1 , 1 )',\n",
              " 'Joshua ( 1 ) ; * cookie ( 2 ) ; * box ( 1 ) ; box ( 3 ) ; girl ( 3 ) ; nmod . beside ( 2 , 1 ) AND teleport ( 1 ) AND agent ( 1 , 1 ) AND theme ( 1 , 2 ) AND recipient ( 1 , 3 )',\n",
              " 'monkey ( 1 ) ; * cake ( 2 ) ; Ava ( 1 ) ; telepose ( 1 ) AND agent ( 1 , 1 ) AND theme ( 1 , 2 ) AND recipient ( 11 , 1 )',\n",
              " '* dog ( 1 ) ; cookie ( 3 ) ; table ( 1 ) ; Harper ( 1 ) ; nmod . on ( 3 , 1 ) AND telephone ( 3 ) AND agent ( 3 , 1 ) AND theme ( 3 , 3 ) AND recipient ( 3 , 1 )',\n",
              " 'Liam ( 1 ) ; * cookie ( 3 ) ; car ( 2 ) ; boy ( 1 ) ; nmod . in ( 3 , 2 ) AND telephone ( 1 ) AND agent ( 1 , 1 ) AND theme ( 1 , 3 ) AND recipient ( 1 , 1 )',\n",
              " 'Liam ( 1 ) ; * box ( 2 ) ; * stage ( 1 ) ; tourist ( 3 ) ; nmod . 2 ) AND theme ( 2 , 2 ) AND recipient ( 2 , 3 )',\n",
              " 'SSS Sophia ( 1 ) ; * cake ( 3 ) ; table ( 2 ) ; girl ( 1 ) ; nmod . on ( 3 , 2 ) AND tele ( 1 ) AND agent ( 1 , 1 ) AND theme ( 1 , 3 ) AND recipient ( 1 , 1 )',\n",
              " 'Julian ( 1 ) ; * cookie ( 2 ) ; * table ( 3 ) ; girl ( 1 ) ; nmod . beside ( 2 , 3 ) AND teleport ( 1 ) AND agent ( 1 , 1 ) AND theme ( 1 , 2 ) AND recipient ( 1 , 1 )',\n",
              " 'Emma ( 1 ) ; * toato ( 3 ) ; * stool ( 2 ) ; * stool ( 3 ) ; nmod . beside (  2 , 3 ) AND teleport ( 3 ) AND agent ( 3 , 1 ) AND theme ( 3 , 3 )',\n",
              " '* lawyer ( 1 ) ; * tourist ( 3 ) ; Ava ( 3 ) ; Emma ( 1 ) ; * cake ( 3 ) ; * table ( 1 ) ; * girl ( 1 ) ; hope ( 1 ) AND agent ( 1 , 1 ) AND ccomp ( 1 , 1 ) AND believe ( 1 ) AND agent ( 1 , 3 ) AND ccomp ( 1 , 25 ) AND believe ( 25 ) AND agent ( 25 , 1 ) AND ccomp ( 25 , 1 ) AND believe ( 1 ) AND agent ( 1 , 3 ) AND ccomp ( 1 , 19 ) AND believe ( 19 ) AND agent ( 19 , 1 )',\n",
              " 'Emma ( 1 ) ; * donut ( 3 ) ; Benjamin ( 1 ) ; telephone ( 44 ) AND agent ( 44 , 1 ) AND theme ( 44 , 3 ) AND recipient ( 44 , 1 )',\n",
              " 'Luna ( 1 ) ; cake ( 2 ) ; Sophia ( 1 ) ; telephone ( 14 ) AND agent ( 14 , 1 ) AND theme ( 14 , 2 ) AND recipient ( 14 , 1 )',\n",
              " '* boy ( 1 ) ; newspaper ( 3 ) ; road ( 1 ) ; * mouse ( 1 ) ; nmod . beside ( 3 , 1 ) AND tele ( 2 ) AND agent ( 2 , 1 ) AND theme ( 2 , 3 ) AND recipient ( 2 , 13 )',\n",
              " 'Emma ( 1 ) ; * cake ( 2 ) ; room ( 1 ) ; * boy ( 2 ) ; nmod . in ( 2 , 1 ) AND tele ( 3 ) AND agent ( 3 , 1 ) AND theme ( 3 , 2 ) AND recipient ( 3 , 2 )',\n",
              " 'Liam ( 1 ) ; * raisin ( 3 ) ; baby ( 1 ) ; telephone ( 49 ) AND agent ( 49 , 1 ) AND theme ( 49 , 3 ) AND recipient ( 49 , 1 )',\n",
              " 'cat ( 1 ) ; girl ( 1 ) ; * desk ( 29 ) ; nmod . on ( 13 , 29 ) AND bake ( 1 ) AND agent ( 1 , 1 ) AND theme ( 1 , 13 )',\n",
              " 'Natalie ( 1 ) ; * girl ( 3 ) ; * box ( 3 ) ; respect ( 1 ) AND agent ( 1 , 1 ) AND ccomp ( 1 , 1 ) AND b ( 1 , 37 ) AND break ( 37 ) AND agent ( 37 , 3 ) AND theme ( 37 , 3 )',\n",
              " 'Emma ( 19 ) ; * cookie ( 3 ) ; bake ( 1 ) AND agent ( 1 , 19 ) AND theme ( 1 , 3 )',\n",
              " 'sailor ( 1 ) ; cake ( 1 ) ; bake ( 1 ) AND agent ( 1 , 1 ) AND theme ( 1 , 1 )',\n",
              " 'Jackson ( 15 ) ; Jayden ( 1 ) ; bend ( 3 ) AND agent ( 3 , 15 ) AND theme ( 3 , 1 )',\n",
              " 'Liam ( 1 ) ; girl ( 1 ) ; table ( 2 ) ; nmod . on ( 1 , 2 ) AND bake ( 3 ) AND agent ( 3 , 1 ) AND theme ( 3 , 1 )',\n",
              " 'Emma ( 3 ) ; Christopher ( 1 ) ; bake ( 1 ) AND agent ( 1 , 3 ) AND theme ( 1 , 1 )',\n",
              " '* cat ( 1 ) ; * frog ( 1 ) ; * table ( 29 ) ; nmod . on ( 1 , 29 ) AND bake ( 3 ) AND agent ( 3 , 1 ) AND theme ( 3 , 1 )',\n",
              " 'Emma ( 1 ) ; * drink ( 2 ) ; * stool ( 1 ) ; nmod . beside ( 2 , 1 ) AND bake ( 1 ) AND agent ( 1 , 1 ) AND theme ( 1 , 2 )',\n",
              " 'Emma ( 1 ) ; Hannah ( 1 ) ; bake ( 3 ) AND agent ( 3 , 1 ) AND theme ( 3 , 1 )',\n",
              " 'Olivia ( 1 ) ; * tool ( 2 ) ; * table ( 1 ) ; nmod . beside ( 2 , 1 ) AND bake ( 1 ) AND agent ( 1 , 1 ) AND theme ( 1 , 2 )',\n",
              " 'girl ( 1 ) ; * boy ( 1 ) ; * trap ( 2 ) ; n nmod . in ( 1 , 2 ) AND bake ( 1 ) AND agent ( 1 , 1 ) AND theme ( 1 , 1 )',\n",
              " 'girl ( 1 ) ; * patient ( 1 ) ; donut ( 1 ) ; window ( 3 ) ; nmod . on ( 1 , 3 ) AND like ( 1 ) AND agent ( 1 , 1 ) AND ccomp ( 1 , 1 ) AND b ( 1 ) AND eat ( 1 ) AND agent ( 1 , 1 ) AND xcomp ( 1 , 1 ) AND b ( 1 ) AND agent ( 1 , 1 ) AND b ( 1 ) AND the ( 1 ) AND agent ( 1 , 3 )',\n",
              " 'Benjamin ( 1 ) ; teacher ( 1 ) ; * boy ( 3 ) ; hope ( 1 ) AND agent ( 1 , 1 ) AND ccomp ( 1 , 1 ) AND b ( 1 ) AND wish ( 1 ) AND agent ( 1 , 1 ) AND ccomp ( 1 , 1 ) AND b ( 1 ) AND h ( 1 ) AND agent ( 1 , 3 ) AND ccomp ( 1 , 1 ) AND b ( 1 ) AND 1 ) AND agent ( 1 , 3 )',\n",
              " 'Aiden ( 1 ) ; Liam ( 1 ) ; bake ( 3 ) AND agent ( 3 , 1 ) AND theme ( 3 , 1 )',\n",
              " '* frog ( 1 ) ; cake ( 3 ) ; bounce ( 14 ) AND agent ( 14 , 1 ) AND theme ( 14 , 3 )',\n",
              " 'Emma ( 1 ) ; * donut ( 2 ) ; table ( 1 ) ; nmod . beside ( 2 , 1 ) AND bake ( 1 ) AND agent ( 1 , 1 ) AND theme ( 1 , 2 )',\n",
              " 'Carter ( 1 ) ; Emma ( 1 ) ; bounce ( 3 ) AND agent ( 3 , 1 ) AND theme ( 3 , 1 )',\n",
              " '* president ( 1 ) ; cake ( 1 ) ; vehicle ( 2 ) ; nmod . in ( 1 , 2 ) AND bake ( 3 ) AND agent ( 3 , 1 ) AND theme ( 3 , 1 )',\n",
              " '* spokesman ( 1 ) ; pig ( 1 ) ; bake ( 3 ) AND agent ( 3 , 1 ) AND theme ( 3 , 1 )',\n",
              " 'stst st st st st st st l lion ( 1 ) ; lion ( 3 ) ; box ( 1 ) ; nmod . 3 ) AND throw ( 19 ) AND theme ( 19 , 1 ) AND agent ( 19 , 3 )',\n",
              " '* boy ( 1 ) ; * frog ( 1 ) ; * cake ( 3 ) ; booklet ( 4 ) ; nmod . on ( 3 , 4 ) AND give ( 1 ) AND agent ( 1 , 1 ) AND recipient ( 1 , 1 ) AND theme ( 1 , 3 )',\n",
              " '* bird ( 1 ) ; box ( 1 ) ; * girl ( 3 ) ; * machine ( 25 ) ; nmod . in ( 133 , 1 ) AND award ( 1 ) AND recipient ( 1 , 1 ) AND theme ( 1 , 13 ) AND agent ( 13 , 35 )',\n",
              " 'producer ( 1 ) ; * pumpkin ( 1 ) ; cabinet ( 2 ) ; nmod . beside ( 13 , 2 ) AND give ( 3 ) AND recipient ( 3 , 1 ) AND theme ( 3 , 13 )',\n",
              " '* friend ( 1 ) ; house ( 1 ) ; stage ( 2 ) ; stage ( 3 ) ; nmod . in ( 1 , 2 ) AND need ( 1 ) AND agent ( 1 , 1 ) AND xcomp ( 1 , 1 ) AND eat ( 1 ) AND agent ( 1 , 1 ) AND theme ( 1 , 1 )',\n",
              " '* cake ( 1 ) ; * bed ( 2 ) ; * girl ( 3 ) ; tin ( 1 ) ; nmod . on ( 1 , 1 ) AND roll ( 1 ) AND theme ( 1 , 1 ) AND agent ( 1 , 3 )',\n",
              " '* boy ( 1 ) ; bush ( 3 ) ; Ryan ( 1 ) ; nmod . in ( 3 , 3 ) AND sell ( 1 ) AND agent ( 1 , 1 ) AND theme ( 1 , 3 ) AND recipient ( 1 , 1 )',\n",
              " '* basket ( 1 ) ; * keyboard ( 1 ) ; nmod . on ( 1 , 1 ) AND eat ( 2 ) AND theme ( 2 , 1 )',\n",
              " '* chief ( 1 ) ; Grace ( 1 ) ; nmod . beside ( 1 , 1 ) AND roll ( 3 ) AND agent ( 3 , 1 ) AND theme ( 3 , 1 )',\n",
              " '* duck ( 1 ) ; table ( 2 ) ; table ( 3 ) ; nmod . beside ( 1 , 3 ) AND serve ( 1 ) AND recipient ( 1 , 1 ) AND theme ( 1 , 1 )',\n",
              " '* moose ( 1 ) ; * computer ( 3 ) ; James ( 2 ) ; nmod . on ( 3 , 3 ) AND like ( 1 ) AND agent ( 1 , 1 ) AND theme ( 1 , 3 ) AND recipient ( 1 , 2 )',\n",
              " '* boy ( 1 ) ; yacht ( 3 ) ; yacht ( 1 ) ; nmod . beside ( 3 , 1 ) AND clean ( 1 ) AND agent ( 1 , 1 ) AND theme ( 1 , 1 )',\n",
              " 'cat ( 1 ) ; * computer ( 3 ) ; * teacher ( 1 ) ; * book ( 2 ) ; nmod . beside ( 1 , 2 ) AND value ( 1 ) AND agent ( 1 , 1 ) AND ccomp ( 1 , 1 ) AND sell ( 1 ) AND recipient ( 1 , 1 ) AND theme ( 1 , 1 )',\n",
              " '* cake ( 1 ) ; bed ( 2 ) ; roll ( 1 ) AND theme ( 1 , 1 )',\n",
              " '* cookie ( 2 ) ; bed ( 1 ) ; nmod . beside (  2 , 1 ) AND disintegrate ( 15 ) AND theme ( 15 , 2 ) AND agent ( 15 , 1 )',\n",
              " 'rose ( 1 ) ; king ( 1 ) ; * house ( 25 ) ; nmod . in ( 1 , 25 ) AND eat ( 1 ) AND theme ( 1 , 1 ) AND agent ( 1 , 1 )',\n",
              " '* cake ( 1 ) ; * room ( 1 ) ; nmod . in ( 1 , 1 ) AND see ( 2 ) AND theme ( 2 , 1 )',\n",
              " 'girl ( 1 ) ; * house ( 1 ) ; nmod . in ( 1 , 1 ) AND offer ( 3 ) AND agent ( 3 , 1 ) AND theme ( 3 , 1 ) AND recipient ( 3 , 1 )',\n",
              " '* raisin ( 1 ) ; bear ( 2 ) ; William ( 1 ) ; nmod . 1 ) ; stage ( 29 ) ; nmod . beside ( 1 , 29 ) AND value ( 18 ) AND theme ( 18 , 1 ) AND agent ( 18 , 19 )',\n",
              " 'horse ( 1 ) ; * house ( 3 ) ; bed ( 1 ) ; nmod . beside ( 3 , 1 ) AND give ( 1 ) AND recipient ( 1 , 1 ) AND theme ( 1 , 3 )',\n",
              " 'cockrook ( 1 ) ; * cookie ( 2 ) ; sock ( 1 ) ; nmod . on ( 2 , 1 ) AND clean ( 1 ) AND agent ( 1 , 1 ) AND theme ( 1 , 2 )',\n",
              " '* cockroach ( 1 ) ; guest ( 3 ) ; slide ( 1 ) AND theme ( 1 , 1 ) AND recipient ( 1 , 3 )',\n",
              " '* cock ( 1 ) ; * girl ( 1 ) ; * cake ( 3 ) ; lend ( 1 ) AND agent ( 1 , 1 ) AND recipient ( 1 , 1 ) AND theme ( 1 , 3 )',\n",
              " 'cockrock ( 1 ) ; * sandwich ( 3 ) ; burn ( 1 ) AND agent ( 1 , 1 ) AND theme ( 1 , 3 )',\n",
              " '* cock ( 1 ) ; * child ( 3 ) ; cake ( 1 ) ; lend ( 1 ) AND agent ( 1 , 1 ) AND recipient ( 1 , 3 ) AND theme ( 1 , 1 )',\n",
              " '* cockro ( 1 ) ; Isabella ( 1 ) ; split ( 3 ) AND theme ( 3 , 1 ) AND recipient ( 3 , 1 )',\n",
              " 'cock ( 1 ) ; * girl ( 1 ) ; * cake ( 3 ) ; feed ( 1 ) AND agent ( 1 , 1 ) AND recipient ( 1 , 1 ) AND theme ( 1 , 3 )',\n",
              " 'William ( 1 ) ; cock ( 3 ) ; hope ( 1 ) AND agent ( 1 , 1 ) AND ccomp ( 1 , 1 ) AND eat ( 1 ) AND theme ( 1 , 3 )',\n",
              " 'cockrock ( 1 ) ; observe ( 1 ) AND theme ( 1 , 1 )',\n",
              " '* cock ( 1 ) ; judge ( 1 ) ; * donut ( 1 ) ; * stage ( 2 ) ; nmod . on ( 13 , 2 ) AND pass ( 1 ) AND agent ( 1 , 1 ) AND recipient ( 1 , 1 ) AND theme ( 1 , 13 )',\n",
              " 'girl ( 1 ) ; * cock ( 3 ) ; cake ( 1 ) ; * bed ( 2 ) ; cat ( 3 ) ; nmod . beside ( 1 , 2 ) AND hope ( 1 ) AND agent ( 1 , 1 ) AND ccomp ( 1 , 1 ) AND give ( 1 ) AND agent ( 1 , 3 ) AND recipient ( 1 , 3 ) AND theme ( 1 , 1 ) AND recipient ( 1 , 3 )',\n",
              " 'cockro ( 1 ) ; * cake ( 3 ) ; like ( 1 ) AND agent ( 1 , 1 ) AND theme ( 1 , 3 )',\n",
              " '* cockroach ( 1 ) ; Charlotte ( 3 ) ; * cookie ( 1 ) ; lend ( 1 ) AND agent ( 1 , 1 ) AND recipient ( 1 , 3 ) AND theme ( 1 , 1 )',\n",
              " '* cockrock ( 1 ) ; Emma ( 3 ) ; cake ( 1 ) ; pass ( 1 ) AND agent ( 1 , 1 ) AND recipient ( 1 , 3 ) AND theme ( 1 , 1 )',\n",
              " '* cockrock ( 1 ) ; study ( 1 ) AND theme ( 1 , 1 )',\n",
              " 'cockrook ( 1 ) ; Lucas ( 1 ) ; paint ( 3 ) AND agent ( 3 , 1 ) AND theme ( 3 , 1 )',\n",
              " 'Nora ( 1 ) ; * cock ( 1 ) ; * box ( 3 ) ; table ( 1 ) ; nmod . on ( 3 , 1 ) AND say ( 1 ) AND agent ( 1 , 1 ) AND ccomp ( 1 , 1 ) AND paint ( 1 ) AND theme ( 1 , 3 )',\n",
              " 'Emma ( 1 ) ; * cockroach ( 2 ) ; eat ( 1 ) ; like ( 1 ) AND agent ( 1 , 1 ) AND ccomp ( 1 , 1 ) AND eat ( 1 ) AND theme ( 1 , 2 ) AND recipient ( 1 , 2 )',\n",
              " 'cockro ( 1 ) ; st stoney ( 3 ) ; nmod . on ( 3 , 1 ) AND sell ( 1 ) AND agent ( 1 , 1 ) AND theme ( 1 , 3 )',\n",
              " '* girl ( 1 ) ; * cockroach ( 3 ) ; say ( 1 ) AND agent ( 1 , 1 ) AND ccomp ( 1 , 1 ) AND dream ( 1 ) AND agent ( 1 , 3 ) AND xcomp ( 1 , 33 ) AND dream ( 33 ) AND agent ( 33 , 3 )',\n",
              " 'Charlotte ( 1 ) ; flag ( 1 ) ; trophy ( 3 ) ; Liam ( 1 ) ; nmod . beside ( 1 , 3 ) AND offer ( 1 ) AND agent ( 1 , 1 ) AND theme ( 1 , 1 ) AND recipient ( 1 , 13 )',\n",
              " 'Charlotte ( 1 ) ; shell ( 1 ) ; * house ( 2 ) ; nmod . in ( 1 , 2 ) AND study ( 1 ) AND agent ( 1 , 1 ) AND theme ( 1 , 1 )',\n",
              " 'Charlie ( 19 ) ; * doll ( 2 ) ; roll ( 1 ) AND agent ( 1 , 19 ) AND theme ( 1 , 2 )',\n",
              " 'Charlie ( 1 ) ; donut ( 1 ) ; * table ( 1 ) ; nmod . on ( 13 , 1 ) AND help ( 1 ) AND agent ( 1 , 1 ) AND theme ( 1 , 1 )',\n",
              " 'Charlie ( 1 ) ; * cookie ( 2 ) ; table ( 3 ) ; nmod . on ( 2 , 33 ) AND eat ( 1 ) AND agent ( 1 , 1 ) AND theme ( 1 , 2 )',\n",
              " 'Charlotte ( 1 ) ; * cake ( 3 ) ; seat ( 2 ) ; * girl ( 1 ) ; nmod . on ( 3 , 2 ) AND give ( 1 ) AND agent ( 1 , 1 ) AND theme ( 1 , 3 ) AND recipient ( 1 , 1 )',\n",
              " 'Charlie ( 1 ) ; Lily ( 1 ) ; inflate ( 3 ) AND agent ( 3 , 1 ) AND theme ( 3 , 1 )',\n",
              " 'Charlotte ( 1 ) ; cookie ( 3 ) ; girl ( 2 ) ; give ( 19 ) AND agent ( 19 , 1 ) AND theme ( 19 , 3 ) AND recipient ( 19 , 2 )',\n",
              " 'Charlotte ( 1 ) ; * girl ( 1 ) ; stage ( 2 ) ; nmod . on ( 1 , 2 ) AND eat ( 1 ) AND agent ( 1 , 1 ) AND theme ( 1 , 1 )',\n",
              " 'Charlotte ( 1 ) ; Savannah ( 3 ) ; * cake ( 4 ) ; bed ( 1 ) ; nmod . on ( 4 , 1 ) AND offer ( 1 ) AND agent ( 1 , 1 ) AND recipient ( 1 , 3 ) AND theme ( 1 , 4 )',\n",
              " 'Charlotte ( 1 ) ; Isabella ( 2 ) ; roll ( 19 ) AND agent ( 19 , 1 ) AND theme ( 19 , 2 )',\n",
              " 'Charlotte ( 1 ) ; Harper ( 3 ) ; like ( 14 ) AND agent ( 14 , 1 ) AND theme ( 14 , 3 )',\n",
              " 'Charlotte ( 1 ) ; * crystal ( 3 ) ; car ( 1 ) ; nmod . in ( 3 , 1 ) AND like ( 1 ) AND agent ( 1 , 1 ) AND theme ( 1 , 3 )',\n",
              " 'Charlotte ( 1 ) ; * zebra ( 3 ) ; * nail ( 1 ) ; feed ( 3 ) AND agent ( 3 , 1 ) AND recipient ( 3 , 3 ) AND theme ( 3 , 1 )',\n",
              " 'Charlotte ( 1 ) ; * puppy ( 1 ) ; * chemical ( 2 ) ; give ( 1 ) AND agent ( 1 , 1 ) AND recipient ( 1 , 1 ) AND theme ( 1 , 2 )',\n",
              " 'Thomas ( 1 ) ; Charlotte ( 2 ) ; * cookie ( 3 ) ; say ( 1 ) AND agent ( 1 , 1 ) AND ccomp ( 1 , 1 ) AND eat ( 1 ) AND agent ( 1 , 2 ) AND theme ( 1 , 33 )',\n",
              " 'Charlie ( 1 ) ; * cake ( 2 ) ; table ( 3 ) ; nmod . on ( 2 , 33 ) AND inflate ( 1 ) AND agent ( 1 , 1 ) AND theme ( 1 , 2 )',\n",
              " 'Charlotte ( 1 ) ; * girl ( 1 ) ; * car ( 20 ) ; nmod . in ( 13 , 20 ) AND sketch ( 1 ) AND agent ( 1 , 1 ) AND theme ( 1 , 1 )',\n",
              " 'Charlie ( 1 ) ; girl ( 1 ) ; table ( 19 ) ; nmod . beside ( 1 , 19 ) AND paint ( 3 ) AND agent ( 3 , 1 ) AND theme ( 3 , 1 )',\n",
              " 'Charlotte ( 1 ) ; cake ( 2 ) ; beast ( 3 ) ; nmod . beside ( 2 , 3 ) AND help ( 1 ) AND agent ( 1 , 1 ) AND theme ( 1 , 2 )',\n",
              " 'coach ( 1 ) ; * cobra ( 1 ) ; like ( 1 ) AND agent ( 1 , 1 ) AND ccomp ( 1 , 1 ) AND roll ( 1 ) AND theme ( 1 , 1 )',\n",
              " 'Emma ( 1 ) ; cobra ( 1 ) ; declare ( 14 ) AND agent ( 14 , 1 ) AND ccomp ( 14 , 1 ) AND split ( 1 ) AND theme ( 1 , 1 )',\n",
              " 'LLLLL* c* cra ( 1 ) ; wish ( 1 ) AND agent ( 1 , 1 ) AND ccomp ( 1 , 1 ) AND wish ( 1 ) AND agent ( 1 , 1 ) AND xcomp ( 1 , 1 ) AND wish ( 1 ) AND agent ( 1 , 1 ) AND ccomp ( 1 , 1 ) AND float ( 1 ) AND agent ( 1 , 1 )',\n",
              " 'Amelia ( 1 ) ; * cobra ( 1 ) ; support ( 14 ) AND agent ( 14 , 1 ) AND ccomp ( 14 , 1 ) AND roll ( 1 ) AND theme ( 1 , 1 )',\n",
              " 'Emily ( 1 ) ; cobra ( 2 ) ; confess ( 3 ) AND agent ( 3 , 1 ) AND ccomp ( 3 , 1 ) AND burn ( 1 ) AND theme ( 1 , 2 )',\n",
              " '* dog ( 1 ) ; * cobra ( 1 ) ; tolerate ( 3 ) AND agent ( 3 , 1 ) AND ccomp ( 3 , 1 ) AND roll ( 1 ) AND theme ( 1 , 1 )',\n",
              " 'Ella ( 1 ) ; * cobra ( 1 ) ; dream ( 3 ) AND agent ( 3 , 1 ) AND ccomp ( 3 , 1 ) AND slide ( 1 ) AND theme ( 1 , 1 )',\n",
              " 'girl ( 1 ) ; * cobra ( 1 ) ; respect ( 1 ) AND agent ( 1 , 1 ) AND ccomp ( 1 , 1 ) AND roll ( 1 ) AND theme ( 1 , 1 )',\n",
              " 'Elijah ( 1 ) ; * cobra ( 1 ) ; wish ( 14 ) AND agent ( 14 , 1 ) AND ccomp ( 14 , 1 ) AND freeze ( 1 ) AND theme ( 1 , 1 )',\n",
              " 'govern ( 1 ) ; cobra ( 1 ) ; believe ( 2 ) AND agent ( 2 , 1 ) AND ccomp ( 2 , 1 ) AND burn ( 1 ) AND theme ( 1 , 1 )',\n",
              " '* coach ( 1 ) ; * cobra ( 1 ) ; like ( 1 ) AND agent ( 1 , 1 ) AND ccomp ( 1 , 1 ) AND freeze ( 1 ) AND theme ( 1 , 1 )',\n",
              " '* girl ( 1 ) ; cobra ( 1 ) ; like ( 1 ) AND agent ( 1 , 1 ) AND ccomp ( 1 , 1 ) AND freeze ( 1 ) AND theme ( 1 , 1 )',\n",
              " 'cobra ( 1 ) ; burn ( 1 ) AND theme ( 1 , 1 )',\n",
              " 'Olivia ( 1 ) ; cobra ( 1 ) ; hope ( 14 ) AND agent ( 14 , 1 ) AND ccomp ( 14 , 1 ) AND freeze ( 1 ) AND theme ( 1 , 1 )',\n",
              " 'girl ( 1 ) ; cobra ( 3 ) ; like ( 1 ) AND agent ( 1 , 1 ) AND ccomp ( 1 , 1 ) AND burn ( 1 ) AND theme ( 1 , 3 )',\n",
              " 'SSSSSS 17 ) ; cobra ( 1 ) ; like ( 1 ) AND agent ( 1 , 17 )',\n",
              " 'Emma ( 1 ) ; cobra ( 1 ) ; admire ( 3 ) AND agent ( 3 , 1 ) AND ccomp ( 3 , 1 ) AND decompose ( 1 ) AND theme ( 1 , 1 )',\n",
              " 'Emma ( 1 ) ; cobra ( 1 ) ; say ( 1 ) AND agent ( 1 , 1 ) AND ccomp ( 1 , 1 ) AND freeze ( 1 ) AND theme ( 1 , 1 )',\n",
              " 'girl ( 1 ) ; cobra ( 1 ) ; support ( 1 ) AND agent ( 1 , 1 ) AND ccomp ( 1 , 1 ) AND collapse ( 1 ) AND theme ( 1 , 1 )',\n",
              " 'Liam ( 1 ) ; cobra ( 1 ) ; notice ( 2 ) AND agent ( 2 , 1 ) AND ccomp ( 2 , 1 ) AND freeze ( 1 ) AND theme ( 1 , 1 )',\n",
              " 'Claire ( 1 ) ; * hi ( 1 ) ; hope ( 2 ) AND agent ( 2 , 1 ) AND ccomp ( 2 , 1 ) AND draw ( 1 ) AND theme ( 1 , 1 )',\n",
              " 'girl ( 1 ) ; * hi ( 1 ) ; say ( 1 ) AND agent ( 1 , 1 ) AND ccomp ( 1 , 1 ) AND say ( 1 ) AND agent ( 1 , 1 ) AND xcomp ( 1 , 1 ) AND say ( 1 ) AND agent ( 1 , 1 ) AND ccomp ( 1 , 1 ) AND sketch ( 1 ) AND agent ( 1 , 1 )',\n",
              " 'baby ( 1 ) ; hiw ( 3 ) ; hope ( 1 ) AND agent ( 1 , 1 ) AND ccomp ( 1 , 1 ) AND wish ( 1 ) AND agent ( 1 , 3 ) AND ccomp ( 1 , 1 ) AND sketch ( 1 ) AND agent ( 1 , 3 ) AND ccomp ( 1 , 1 ) AND sketch ( 1 ) AND agent ( 1 , 3 )',\n",
              " '* cat ( 1 ) ; hi ( 1 ) ; like ( 1 ) AND agent ( 1 , 1 ) AND ccomp ( 1 , 1 ) AND call ( 1 ) AND theme ( 1 , 1 )',\n",
              " 'puppy ( 1 ) ; hi ( 1 ) ; notice ( 3 ) AND agent ( 3 , 1 ) AND ccomp ( 3 , 1 ) AND paint ( 1 ) AND theme ( 1 , 1 )',\n",
              " '* hero ( 1 ) ; hiwi ( 1 ) ; imagine ( 3 ) AND agent ( 3 , 1 ) AND ccomp ( 3 , 1 ) AND cook ( 1 ) AND theme ( 1 , 1 )',\n",
              " 'Emma ( 1 ) ; hi ( 1 ) ; admore ( 3 ) AND agent ( 3 , 1 ) AND ccomp ( 3 , 1 ) AND admire ( 1 ) AND theme ( 1 , 1 )',\n",
              " '* journalist ( 1 ) ; * hi ( 1 ) ; believe ( 3 ) AND agent ( 3 , 1 ) AND ccomp ( 3 , 1 ) AND eat ( 1 ) AND agent ( 1 , 1 ) AND xcomp ( 1 , 29 ) AND eat ( 29 ) AND agent ( 29 , 1 )',\n",
              " '* child ( 1 ) ; * hippo ( 3 ) ; hope ( 1 ) AND agent ( 1 , 1 ) AND ccomp ( 1 , 1 ) AND investigate ( 1 ) AND theme ( 1 , 3 )',\n",
              " '* teacher ( 1 ) ; hi ( 1 ) ; like ( 1 ) AND agent ( 1 , 1 ) AND ccomp ( 1 , 1 ) AND eat ( 1 ) AND agent ( 1 , 1 ) AND xcomp ( 1 , 20 ) AND eat ( 20 ) AND agent ( 20 , 1 )',\n",
              " 'Mia ( 1 ) ; * hi ( 2 ) ; wish ( 3 ) AND agent ( 3 , 1 ) AND ccomp ( 3 , 1 ) AND wish ( 1 ) AND agent ( 1 , 2 ) AND xcomp ( 1 , 1 ) AND dance ( 1 ) AND agent ( 1 , 3 )',\n",
              " 'Olivia ( 19 ) ; * hi ( 1 ) ; eat ( 3 ) AND agent ( 3 , 19 ) AND ccomp ( 3 , 1 ) AND eat ( 1 ) AND agent ( 1 , 19 ) AND xcomp ( 1 , 2 ) AND eat ( 2 ) AND agent ( 2 , 19 )',\n",
              " '* boy ( 1 ) ; hippo ( 1 ) ; notice ( 1 ) AND agent ( 1 , 1 ) AND ccomp ( 1 , 1 ) AND paint ( 1 ) AND theme ( 1 , 1 )',\n",
              " 'hippo ( 1 ) ; juggle ( 19 ) AND theme ( 19 , 1 )',\n",
              " '* boy ( 1 ) ; hippo ( 1 ) ; admire ( 1 ) AND agent ( 1 , 1 ) AND ccomp ( 1 , 1 ) AND eat ( 1 ) AND theme ( 1 , 1 ) AND recipient ( 1 , 1 )',\n",
              " 'Isabella ( 1 ) ; hi ( 1 ) ; confess ( 3 ) AND agent ( 3 , 1 ) AND ccomp ( 3 , 1 ) AND paint ( 1 ) AND theme ( 1 , 1 )',\n",
              " 'Mia ( 1 ) ; hi ( 1 ) ; say ( 1 ) AND agent ( 1 , 1 ) AND ccomp ( 1 , 1 ) AND say ( 1 ) AND agent ( 1 , 1 ) AND xcomp ( 1 , 1 ) AND say ( 1 ) AND agent ( 1 , 1 ) AND ccomp ( 1 , 1 ) AND hunt ( 1 ) AND agent ( 1 , 1 )',\n",
              " 'Emma ( 1 ) ; hi ( 1 ) ; like ( 4 ) AND agent ( 4 , 1 ) AND ccomp ( 4 , 1 ) AND eat ( 1 ) AND theme ( 1 , 1 )',\n",
              " 'Noah ( 1 ) ; Liam ( 1 ) ; * hi ( 1 ) ; like ( 4 ) AND agent ( 4 , 1 ) AND ccomp ( 4 , 1 ) AND eat ( 1 ) AND agent ( 1 , 1 ) AND xcomp ( 1 , 1 ) AND eat ( 1 ) AND agent ( 1 , 1 )',\n",
              " 'bird ( 1 ) ; hi ( 2 ) ; like ( 1 ) AND agent ( 1 , 1 )',\n",
              " 'Liam ( 1 ) ; * hi ( 2 ) ; like ( 1 ) AND agent ( 1 , 1 ) AND ccomp ( 1 , 1 ) AND like ( 1 ) AND agent ( 1 , 2 ) AND xcomp ( 1 , 1 ) AND run ( 1 ) AND agent ( 1 , 2 )',\n",
              " 'girl ( 1 ) ; hippo ( 1 ) ; prove ( 3 ) AND agent ( 3 , 1 )',\n",
              " 'boy ( 1 ) ; * hippo ( 3 ) ; notice ( 1 ) AND agent ( 1 , 1 ) AND ccomp ( 1 , 1 ) AND talk ( 1 ) AND agent ( 1 , 3 ) AND xcomp ( 1 , 1 ) AND talk ( 1 ) AND agent ( 1 , 3 ) AND ccomp ( 1 , 1 ) AND talk ( 1 ) AND agent ( 1 , 3 )',\n",
              " 'Emma ( 1 ) ; * hi ( 2 ) ; support ( 1 ) AND agent ( 1 , 1 ) AND ccomp ( 1 , 1 ) AND talk ( 1 ) AND theme ( 1 , 2 )',\n",
              " 'girl ( 1 ) ; * hippo ( 1 ) ; value ( 1 ) AND agent ( 1 , 1 ) AND ccomp ( 1 , 1 ) AND sleep ( 1 ) AND agent ( 1 , 1 )',\n",
              " 'Isabella ( 1 ) ; hi ( 1 ) ; prove ( 2 ) AND agent ( 2 , 1 ) AND ccomp ( 2 , 1 ) AND sneeze ( 1 ) AND theme ( 1 , 1 )',\n",
              " 'Olivia ( 1 ) ; hirose ( 1 ) ; like ( 1 ) AND agent ( 1 , 1 ) AND ccomp ( 1 , 1 ) AND like ( 1 ) AND agent ( 1 , 1 )',\n",
              " 'professor ( 1 ) ; hiri ( 1 ) ; believe ( 1 ) AND agent ( 1 , 1 ) AND ccomp ( 1 , 1 ) AND cry ( 1 ) AND agent ( 1 , 1 ) AND xcomp ( 1 , 1 ) AND cry ( 1 ) AND agent ( 1 , 1 ) AND ccomp ( 1 , 1 ) AND cry ( 1 ) AND agent ( 1 , 1 ) AND xcomp ( 1 , 25 ) AND cry ( 25 ) AND agent ( 25 , 1 )',\n",
              " 'Emma ( 1 ) ; * hi ( 1 ) ; appreciate ( 1 ) AND agent ( 1 , 1 ) AND ccomp ( 1 , 1 ) AND eat ( 1 ) AND theme ( 1 , 1 )',\n",
              " '* dog ( 1 ) ; hi ( 1 ) ; notice ( 1 ) AND agent ( 1 , 1 ) AND ccomp ( 1 , 1 ) AND run ( 1 ) AND theme ( 1 , 1 )',\n",
              " 'Liam ( 1 ) ; * hi ( 1 ) ; say ( 2 ) AND agent ( 2 , 1 ) AND ccomp ( 2 , 1 ) AND say ( 1 ) AND agent ( 1 , 1 ) AND xcomp ( 1 , 1 ) AND say ( 1 ) AND agent ( 1 , 1 ) AND ccomp ( 1 , 1 ) AND sneeze ( 1 ) AND agent ( 1 , 1 )',\n",
              " 'girl ( 1 ) ; hi ( 1 ) ; hope ( 1 ) AND agent ( 1 , 1 ) AND ccomp ( 1 , 1 ) AND sleep ( 1 ) AND agent ( 1 , 1 )',\n",
              " 'priser ( 1 ) ; * hi ( 1 ) ; believe ( 3 ) AND agent ( 3 , 1 ) AND ccomp ( 3 , 1 ) AND sleep ( 1 ) AND agent ( 1 , 1 )',\n",
              " 'Noah ( 1 ) ; hi ( 1 ) ; like ( 1 ) AND agent ( 1 , 1 ) AND ccomp ( 1 , 1 ) AND smile ( 1 ) AND agent ( 1 , 1 )',\n",
              " '* girl ( 1 ) ; hirose ( 1 ) ; expect ( 1 ) AND agent ( 1 , 1 ) AND ccomp ( 1 , 1 ) AND expect ( 1 ) AND agent ( 1 , 1 ) AND xcomp ( 1 , 1 ) AND sneeze ( 1 ) AND agent ( 1 , 1 )',\n",
              " 'boy ( 1 ) ; * hi ( 1 ) ; appreciate ( 1 ) AND agent ( 1 , 1 ) AND ccomp ( 1 , 1 ) AND sleep ( 1 ) AND agent ( 1 , 1 )',\n",
              " 'Jacob ( 19 ) ; * hi ( 2 ) ; notice ( 3 ) AND agent ( 3 , 19 ) AND ccomp ( 3 , 1 ) AND smile ( 1 ) AND agent ( 1 , 2 )',\n",
              " 'girl ( 1 ) ; hi ( 1 ) ; believe ( 1 ) AND agent ( 1 , 1 ) AND ccomp ( 1 , 1 ) AND believe ( 1 ) AND agent ( 1 , 1 ) AND xcomp ( 1 , 1 ) AND eat ( 1 ) AND agent ( 1 , 1 )',\n",
              " '* doctor ( 1 ) ; hiwi ( 3 ) ; like ( 1 ) AND agent ( 1 , 1 ) AND ccomp ( 1 , 1 ) AND eat ( 1 ) AND theme ( 1 , 3 )',\n",
              " '* dog ( 1 ) ; hippo ( 1 ) ; expect ( 1 ) AND agent ( 1 , 1 ) AND ccomp ( 1 , 1 ) AND sleep ( 1 ) AND agent ( 1 , 1 )',\n",
              " 'Emma ( 1 ) ; donut ( 1 ) ; squeeze ( 1 ) AND agent ( 1 , 1 ) AND theme ( 1 , 1 )',\n",
              " 'MMM Emma ( 1 ) ; Emma ( 3 ) ; * cake ( 2 ) ; book ( 3 ) ; nmod . beside ( 2 , 3 ) AND like ( 1 ) AND agent ( 1 , 1 ) AND ccomp ( 1 , 1 ) AND sneeze ( 1 ) AND agent ( 1 , 3 ) AND ccomp ( 1 , 1 ) AND sneeze ( 1 ) AND agent ( 1 , 1 ) AND xcomp ( 1 , 25 ) AND sneeze ( 25 ) AND agent ( 25 , 3 )',\n",
              " 'Leah ( 1 ) ; Emma ( 1 ) ; * rose ( 3 ) ; * piano ( 2 ) ; nmod . beside ( 3 , 2 ) AND mean ( 1 ) AND agent ( 1 , 1 ) AND ccomp ( 1 , 1 ) AND snee ( 1 ) AND recipient ( 1 , 1 ) AND theme ( 1 , 3 )',\n",
              " 'Nora ( 1 ) ; Benjamin ( 1 ) ; squee ( 3 ) AND agent ( 3 , 1 ) AND theme ( 3 , 1 )',\n",
              " '* girl ( 1 ) ; book ( 1 ) ; table ( 1 ) ; nmod . on ( 1 , 1 ) AND squeeze ( 1 ) AND agent ( 1 , 1 ) AND theme ( 1 , 1 )',\n",
              " '* frog ( 1 ) ; Emma ( 3 ) ; squee ( 1 ) AND agent ( 1 , 1 ) AND theme ( 1 , 3 )',\n",
              " 'cat ( 1 ) ; Amelia ( 1 ) ; squee ( 3 ) AND agent ( 3 , 1 ) AND theme ( 3 , 1 )',\n",
              " 'monkey ( 1 ) ; Emma ( 1 ) ; squee ( 3 ) AND agent ( 3 , 1 ) AND theme ( 3 , 1 )',\n",
              " 'Olivia ( 15 ) ; fish ( 1 ) ; * crack ( 3 ) ; nmod . on ( 1 , 3 ) AND squeeze ( 1 ) AND agent ( 1 , 15 ) AND theme ( 1 , 1 )',\n",
              " 'Amelia ( 19 ) ; beer ( 3 ) ; sneeze ( 1 ) AND agent ( 1 , 19 ) AND theme ( 1 , 3 )',\n",
              " 'Ethan ( 1 ) ; * girl ( 1 ) ; * garden ( 29 ) ; nmod . in ( 1 , 29 ) AND squee ( 1 ) AND agent ( 1 , 1 ) AND theme ( 1 , 1 )',\n",
              " '* dog ( 1 ) ; box ( 1 ) ; squeeze ( 1 ) AND agent ( 1 , 1 ) AND theme ( 1 , 1 )',\n",
              " 'dog ( 1 ) ; Liam ( 1 ) ; squeze ( 3 ) AND agent ( 3 , 1 ) AND theme ( 3 , 1 )',\n",
              " 'Ella ( 1 ) ; rose ( 1 ) ; chair ( 2 ) ; chair ( 3 ) ; * speaker ( 3 ) ; nmod . on ( 1 , 2 ) AND squee ( 1 ) AND agent ( 1 , 1 ) AND theme ( 1 , 1 )',\n",
              " 'William ( 1 ) ; * cake ( 3 ) ; stool ( 1 ) ; stool ( 3 ) ; nmod . on ( 3 , 1 ) AND squee ( 1 ) AND agent ( 1 , 1 ) AND theme ( 1 , 3 )',\n",
              " 'Elelizabeth ( 1 ) ; * st st st st strawry ( 3 ) ; crystal ( 1 ) ; crystal ( 3 ) ; crystal ( 4 ) ; nmod . beside ( 3 , 1 ) AND sneeze ( 1 ) AND agent ( 1 , 1 ) AND theme ( 1 , 3 )',\n",
              " 'boy ( 1 ) ; box ( 3 ) ; squeaze ( 1 ) AND agent ( 1 , 1 ) AND theme ( 1 , 3 )',\n",
              " 'Carter ( 1 ) ; Emma ( 1 ) ; squeen ( 3 ) AND agent ( 3 , 1 ) AND theme ( 3 , 1 )',\n",
              " 'Emma ( 1 ) ; girl ( 1 ) ; stool ( 3 ) ; nmod . on ( 1 , 3 ) AND sneeze ( 1 ) AND agent ( 1 , 1 ) AND theme ( 1 , 1 )',\n",
              " '* girl ( 1 ) ; Jacob ( 1 ) ; squee ( 3 ) AND agent ( 3 , 1 ) AND theme ( 3 , 1 )',\n",
              " 'Jackson ( 1 ) ; friend ( 3 ) ; * tool ( 2 ) ; tree ( 1 ) ; nmod . on ( 2 , 1 ) AND shift ( 1 ) AND agent ( 1 , 1 ) AND recipient ( 1 , 3 ) AND theme ( 1 , 2 )',\n",
              " 'Olivia ( 15 ) ; Emma ( 2 ) ; rose ( 3 ) ; tin ( 1 ) ; nmod . in ( 3 , 1 ) AND shift ( 1 ) AND agent ( 1 , 15 ) AND recipient ( 1 , 2 ) AND theme ( 1 , 3 )',\n",
              " '* citizen ( 1 ) ; Liam ( 1 ) ; cake ( 3 ) ; house ( 29 ) ; nmod . in ( 3 , 29 ) AND shipped ( 1 ) AND agent ( 1 , 1 ) AND recipient ( 1 , 1 ) AND theme ( 1 , 3 )',\n",
              " 'girl ( 19 ) ; Oliver ( 3 ) ; * clock ( 2 ) ; shelve ( 1 ) AND agent ( 1 , 19 ) AND recipient ( 1 , 3 ) AND theme ( 1 , 2 )',\n",
              " '* coach ( 1 ) ; Emma ( 1 ) ; * seed ( 2 ) ; shave ( 19 ) AND agent ( 19 , 1 ) AND recipient ( 19 , 1 ) AND theme ( 19 , 2 )',\n",
              " 'Grayson ( 1 ) ; * boy ( 1 ) ; shirt ( 3 ) ; shake ( 1 ) AND agent ( 1 , 1 ) AND theme ( 1 , 1 )',\n",
              " '* coach ( 1 ) ; dog ( 1 ) ; cake ( 3 ) ; shave ( 1 ) AND agent ( 1 , 1 ) AND recipient ( 1 , 1 ) AND theme ( 1 , 3 )',\n",
              " 'passpass passenger ( 1 ) ; Riley ( 1 ) ; * cake ( 3 ) ; shave ( 1 ) AND agent ( 1 , 1 ) AND recipient ( 1 , 1 ) AND theme ( 1 , 3 )',\n",
              " 'girl ( 1 ) ; Sclett ( 3 ) ; Olivia ( 1 ) ; Olivia ( 1 ) ; Olivia ( 3 ) ; Olivia ( 1 ) ; Olivia ( 2 ) ; Olivia ( 1 ) ; house ( 1 ) ; house ( 20 ) ; house ( 3 ) ; nmod . in ( 3 , 20 ) AND like ( 1 ) AND agent ( 1 , 1 ) AND ccomp ( 1 , 1 ) AND declare ( 1 ) AND agent ( 1 , 3 ) AND xcomp ( 1 , 3 ) AND eat ( 3 ) AND agent ( 3 , 1 ) AND clean ( 3 ) AND agent ( 3 , 1 )',\n",
              " 'girl ( 1 ) ; * boy ( 1 ) ; chalk ( 3 ) ; garden ( 1 ) ; nmod . in ( 3 , 1 ) AND ship ( 1 ) AND agent ( 1 , 1 ) AND recipient ( 1 , 1 ) AND theme ( 1 , 3 )',\n",
              " 'Skylar ( 1 ) ; Scarlett ( 1 ) ; bucket ( 3 ) ; shave ( 1 ) AND agent ( 1 , 1 ) AND recipient ( 1 , 1 ) AND theme ( 1 , 3 )',\n",
              " 'Emma ( 1 ) ; Alexander ( 1 ) ; box ( 3 ) ; * stage ( 2 ) ; nmod . on ( 31 , 2 ) AND shine ( 1 ) AND agent ( 1 , 1 ) AND recipient ( 1 , 1 ) AND theme ( 1 , 3 )',\n",
              " 'father ( 1 ) ; Liam ( 1 ) ; * rose ( 2 ) ; table ( 1 ) ; nmod . on ( 2 , 1 ) AND ship ( 3 ) AND agent ( 3 , 1 ) AND recipient ( 3 , 1 ) AND theme ( 3 , 2 )',\n",
              " 'Emma ( 1 ) ; girl ( 1 ) ; * cake ( 33 ) ; shake ( 1 ) AND agent ( 1 , 1 ) AND recipient ( 1 , 1 ) AND theme ( 1 , 33 )',\n",
              " '* boy ( 1 ) ; Samuel ( 1 ) ; Olivia ( 1 ) ; Olivia ( 1 ) ; * box ( 3 ) ; * room ( 1 ) ; nmod . in ( 3 , 1 ) AND respect ( 1 ) AND agent ( 1 , 1 ) AND ccomp ( 1 , 1 ) AND shipped ( 1 ) AND agent ( 1 , 1 ) AND xcomp ( 1 , 25 ) AND shipped ( 25 ) AND agent ( 25 , 1 ) AND recipient ( 25 , 1 ) AND shipped ( 25 ) AND theme ( 25 , 3 )',\n",
              " 'Eleanor ( 1 ) ; Joseph ( 1 ) ; cake ( 1 ) ; * table ( 2 ) ; nmod . beside ( 1 , 2 ) AND shift ( 1 ) AND agent ( 1 , 1 ) AND recipient ( 1 , 1 ) AND theme ( 1 , 1 )',\n",
              " 'lion ( 1 ) ; Mateo ( 1 ) ; * cake ( 3 ) ; shave ( 1 ) AND agent ( 1 , 1 ) AND recipient ( 1 , 1 ) AND theme ( 1 , 3 )',\n",
              " 'Hannah ( 1 ) ; Brooklyn ( 1 ) ; * cake ( 3 ) ; shave ( 1 ) AND agent ( 1 , 1 ) AND recipient ( 1 , 1 ) AND theme ( 1 , 3 )',\n",
              " 'boy ( 1 ) ; frog ( 1 ) ; * sandwich ( 2 ) ; * garden ( 3 ) ; nmod . in ( 2 , 3 ) AND ship ( 1 ) AND agent ( 1 , 1 ) AND recipient ( 1 , 1 ) AND theme ( 1 , 2 )',\n",
              " '* donkey ( 1 ) ; Noah ( 1 ) ; donut ( 3 ) ; shave ( 1 ) AND agent ( 1 , 1 ) AND recipient ( 1 , 1 ) AND theme ( 1 , 3 )',\n",
              " 'Logan ( 1 ) ; donut ( 1 ) ; * bunny ( 2 ) ; * bed ( 3 ) ; Emily ( 1 ) ; Logan ( 1 ) ; Emily ( 1 ) ; nmod . on ( 1 , 3 ) AND slip ( 3 ) AND agent ( 3 , 1 ) AND theme ( 3 , 1 )',\n",
              " 'jud ( 1 ) ; * donut ( 1 ) ; cupboard ( 2 ) ; cup ( 3 ) ; * bin ( 49 ) ; taxi ( 1 ) ; rock ( 1 ) ; nmod . in ( 13 , 1 ) AND poke ( 1 ) AND agent ( 1 , 1 ) AND theme ( 1 , 13 )',\n",
              " 'cat ( 1 ) ; box ( 3 ) ; logkin ( 2 ) ; log ( 1 ) ; log ( 3 ) ; log ( 1 ) ; nmod . on ( 3 , 1 ) AND serve ( 1 ) AND agent ( 1 , 1 ) AND theme ( 1 , 3 )',\n",
              " 'Liam ( 1 ) ; * soldier ( 2 ) ; bottle ( 1 ) ; road ( 3 ) ; cup ( 2 ) ; nmod . beside ( 2 , 1 ) AND like ( 1 ) AND agent ( 1 , 1 ) AND theme ( 1 , 2 )',\n",
              " 'Emma ( 1 ) ; * cat ( 3 ) ; * dealer ( 1 ) ; * cage ( 1 ) ; house ( 3 ) ; house ( 4 ) ; house ( 1 ) ; nmod . in ( 1 , 4 ) AND appreciate ( 1 ) AND agent ( 1 , 1 ) AND ccomp ( 1 , 1 ) AND snap ( 1 ) AND agent ( 1 , 3 ) AND theme ( 1 , 1 )',\n",
              " 'Liam ( 1 ) ; donut ( 1 ) ; * garden ( 3 ) ; * garden ( 49 ) ; bike ( 1 ) ; bowl ( 3 ) ; bowl ( 1 ) ; bowl ( 2 ) ; bowl ( 3 ) ; nmod . in ( 1 , 3 ) AND like ( 1 ) AND agent ( 1 , 1 ) AND theme ( 1 , 1 )',\n",
              " 'cat ( 1 ) ; chicken ( 3 ) ; chair ( 2 ) ; chair ( 3 ) ; chair ( 4 ) ; nmod . on ( 3 , 2 ) AND freeze ( 1 ) AND agent ( 1 , 1 ) AND theme ( 1 , 3 )',\n",
              " '* girl ( 1 ) ; * cat ( 1 ) ; house ( 3 ) ; seat ( 49 ) ; seat ( 3 ) ; nmod . in ( 13 , 3 ) AND sketch ( 1 ) AND agent ( 1 , 1 ) AND theme ( 1 , 1 )',\n",
              " '* boy ( 1 ) ; * mon ( 1 ) ; * cabinet ( 3 ) ; envelope ( 4 ) ; cat ( 2 ) ; cat ( 1 ) ; cat ( 1 ) ; cat ( 3 ) ; nmod . in ( 3 , 3 ) AND eat ( 1 ) AND agent ( 1 , 1 ) AND theme ( 1 , 3 )',\n",
              " 'Emily ( 1 ) ; girl ( 1 ) ; * monkey ( 3 ) ; * bible ( 1 ) ; * bible ( 2 ) ; cup ( 3 ) ; nmod . beside ( 1 , 3 ) AND admire ( 1 ) AND agent ( 1 , 1 ) AND theme ( 1 , 1 )',\n",
              " 'tenant ( 1 ) ; * teacher ( 3 ) ; glass ( 1 ) ; stage ( 20 ) ; stage ( 3 ) ; nmod . in ( 3 , 2 ) AND like ( 1 ) AND agent ( 1 , 1 ) AND theme ( 1 , 3 )',\n",
              " 'Eleanor ( 1 ) ; teacher ( 1 ) ; house ( 2 ) ; house ( 3 ) ; nmod . in ( 1 , 2 ) AND paint ( 1 ) AND agent ( 1 , 1 ) AND theme ( 1 , 1 )',\n",
              " 'teacher ( 1 ) ; bat ( 1 ) ; machine ( 3 ) ; * house ( 3 ) ; * chair ( 4 ) ; nmod . beside ( 13 , 3 ) AND sell ( 1 ) AND agent ( 1 , 1 ) AND theme ( 1 , 1 ) AND recipient ( 1 , 3 )',\n",
              " 'dog ( 1 ) ; * girl ( 1 ) ; house ( 3 ) ; house ( 3 ) ; house ( 2 ) ; road ( 3 ) ; nmod . beside ( 1 , 3 ) AND paint ( 1 ) AND agent ( 1 , 1 ) AND theme ( 1 , 1 )',\n",
              " '* baby ( 1 ) ; James ( 1 ) ; * donut ( 1 ) ; * tree ( 3 ) ; * house ( 2 ) ; * house ( 3 ) ; nmod . on ( 13 , 3 ) AND return ( 1 ) AND agent ( 1 , 1 ) AND recipient ( 1 , 1 ) AND theme ( 1 , 13 )',\n",
              " '* boy ( 1 ) ; * cake ( 2 ) ; * boat ( 1 ) ; * leaflet ( 3 ) ; * hay ( 4 ) ; stage ( 1 ) ; * president ( 1 ) ; nmod . on ( 2 , 1 ) AND sell ( 1 ) AND agent ( 1 , 1 ) AND theme ( 1 , 2 ) AND recipient ( 1 , 1 )',\n",
              " '* girl ( 1 ) ; cat ( 1 ) ; table ( 3 ) ; rock ( 49 ) ; rock ( 3 ) ; nmod . beside ( 13 , 3 ) AND clean ( 1 ) AND agent ( 1 , 1 ) AND theme ( 1 , 13 )',\n",
              " 'girl ( 1 ) ; * block ( 2 ) ; mirror ( 3 ) ; mirror ( 1 ) ; vessel ( 2 ) ; vessel ( 3 ) ; house ( 1 ) ; nmod . beside ( 3 , 1 ) AND hand ( 15 ) AND agent ( 15 , 1 ) AND theme ( 15 , 3 ) AND recipient ( 15 , 3 )',\n",
              " 'Liam ( 1 ) ; * cookie ( 3 ) ; pent ( 2 ) ; * book ( 1 ) ; * house ( 3 ) ; bible ( 4 ) ; nbakley ( 1 ) ; bakley ( 3 ) ; nmod . in ( 3 , 4 ) AND eat ( 1 ) AND agent ( 1 , 1 ) AND theme ( 1 , 3 )',\n",
              " 'William ( 1 ) ; boy ( 1 ) ; * table ( 35 ) ; truck ( 4 ) ; * yacht ( 1 ) ; chair ( 3 ) ; nmod . beside ( 1 , 35 ) AND help ( 1 ) AND agent ( 1 , 1 ) AND theme ( 1 , 1 )',\n",
              " '* lion ( 1 ) ; prefer ( 1 ) AND agent ( 1 , 1 ) AND xcomp ( 1 , 1 ) AND craw ( 1 ) AND agent ( 1 , 1 )',\n",
              " 'Elijah ( 1 ) ; want ( 1 ) AND agent ( 1 , 1 ) AND xcomp ( 1 , 1 ) AND craw ( 1 ) AND agent ( 1 , 1 )',\n",
              " 'student ( 1 ) ; want ( 1 ) AND agent ( 1 , 1 ) AND xcomp ( 1 , 1 ) AND craw ( 1 ) AND agent ( 1 , 1 )',\n",
              " 'Liam ( 1 ) ; dream ( 1 ) AND agent ( 1 , 1 )',\n",
              " 'butbutbutta Ava ( 1 ) ; Ava ( 1 ) ; hope ( 1 ) AND agent ( 1 , 2 ) AND xcomp ( 1 , 1 ) AND want ( 1 ) AND agent ( 1 , 1 )',\n",
              " 'Avery ( 1 ) ; want ( 1 ) AND agent ( 1 , 1 )',\n",
              " 'manager ( 1 ) ; prefer ( 1 ) AND agent ( 1 , 1 ) AND xcomp ( 1 , 1 ) AND craw ( 1 ) AND agent ( 1 , 1 )',\n",
              " 'Ava ( 1 ) ; want ( 1 ) AND agent ( 1 , 1 ) AND xcomp ( 1 , 1 ) AND hunt ( 1 ) AND agent ( 1 , 1 )',\n",
              " '* girl ( 1 ) ; long ( 1 ) AND agent ( 1 , 1 )',\n",
              " 'guard ( 1 ) ; like ( 1 ) AND agent ( 1 , 1 )',\n",
              " 'hen ( 1 ) ; expect ( 1 ) AND agent ( 1 , 1 ) AND xcomp ( 1 , 1 ) AND craw ( 1 ) AND agent ( 1 , 1 )',\n",
              " '* frog ( 1 ) ; want ( 1 ) AND agent ( 1 , 1 ) AND xcomp ( 1 , 1 ) AND snee ( 1 ) AND agent ( 1 , 1 )',\n",
              " 'Emma ( 1 ) ; Noah ( 1 ) ; like ( 1 ) AND agent ( 1 , 1 )',\n",
              " 'child ( 1 ) ; plan ( 1 ) ; plan ( 1 ) ; plan ( 1 ) AND agent ( 1 , 1 ) AND xcomp ( 1 , 1 ) AND craw ( 1 ) AND agent ( 1 , 1 ) AND slip ( 1 ) AND theme ( 1 , 1 )',\n",
              " 'chicken ( 1 ) ; cry ( 3 ) ; shorten ( 1 ) AND agent ( 1 , 1 ) AND xcomp ( 1 , 1 ) AND call ( 1 ) AND agent ( 1 , 1 ) AND sneeze ( 1 ) AND agent ( 1 , 1 )',\n",
              " '* dog ( 1 ) ; yearn ( 3 ) AND agent ( 3 , 1 ) AND xcomp ( 3 , 20 ) AND crawl ( 20 ) AND agent ( 20 , 1 )',\n",
              " '* scientist ( 1 ) ; want ( 1 ) AND agent ( 1 , 1 )',\n",
              " 'Madison ( 1 ) ; want ( 1 ) AND agent ( 1 , 1 ) AND xcomp ( 1 , 1 ) AND craw ( 1 ) AND agent ( 1 , 1 )',\n",
              " 'lion ( 1 ) ; itch ( 1 ) ; eat ( 1 ) AND agent ( 1 , 1 ) AND xcomp ( 1 , 1 ) AND hunt ( 1 ) AND agent ( 1 , 1 )',\n",
              " 'Logan ( 1 ) ; want ( 1 ) AND agent ( 1 , 1 ) AND xcomp ( 1 , 1 ) AND hunt ( 1 ) AND agent ( 1 , 1 )',\n",
              " 'Owen ( 1 ) ; Olivia ( 2 ) ; * shark ( 1 ) ; * stool ( 3 ) ; nmod . beside ( 1 , 3 ) AND rent ( 1 ) AND agent ( 1 , 1 ) AND recipient ( 1 , 2 ) AND theme ( 1 , 1 )',\n",
              " 'bear ( 1 ) ; Claire ( 1 ) ; shark ( 25 ) ; give ( 1 ) AND agent ( 1 , 1 ) AND recipient ( 1 , 1 ) AND theme ( 1 , 25 )',\n",
              " 'cat ( 1 ) ; * shark ( 1 ) ; * desk ( 3 ) ; Sophia ( 1 ) ; nmod . on ( 1 , 3 ) AND post ( 1 ) AND agent ( 1 , 1 ) AND theme ( 1 , 1 ) AND recipient ( 1 , 1 )',\n",
              " 'Liam ( 1 ) ; * shark ( 3 ) ; Emma ( 1 ) ; sell ( 1 ) AND agent ( 1 , 1 ) AND theme ( 1 , 3 ) AND recipient ( 1 , 1 )',\n",
              " 'tiger ( 1 ) ; shark ( 1 ) ; roll ( 3 ) AND agent ( 3 , 1 ) AND theme ( 3 , 1 )',\n",
              " 'James ( 1 ) ; shark ( 1 ) ; draw ( 1 ) AND agent ( 1 , 1 ) AND theme ( 1 , 1 )',\n",
              " 'Isabella ( 1 ) ; * shark ( 1 ) ; * car ( 3 ) ; Emma ( 1 ) ; nmod . in ( 1 , 3 ) AND give ( 1 ) AND agent ( 1 , 1 ) AND theme ( 1 , 1 ) AND recipient ( 1 , 1 )',\n",
              " 'Emma ( 1 ) ; shark ( 3 ) ; * not ( 1 ) ; * notebook ( 3 ) ; nmod . on ( 3 , 1 ) AND roll ( 1 ) AND agent ( 1 , 1 ) AND theme ( 1 , 3 )',\n",
              " 'Ethan ( 1 ) ; * shark ( 1 ) ; crumple ( 3 ) AND agent ( 3 , 1 ) AND theme ( 3 , 1 )',\n",
              " '* girl ( 1 ) ; donkey ( 3 ) ; shark ( 2 ) ; speaker ( 3 ) ; nmod . on ( 2 , 3 ) AND pass ( 1 ) AND agent ( 1 , 1 ) AND recipient ( 1 , 3 ) AND theme ( 1 , 2 )',\n",
              " 'Michael ( 1 ) ; Elizabeth ( 1 ) ; shark ( 3 ) ; think ( 1 ) AND agent ( 1 , 1 ) AND ccomp ( 1 , 1 ) AND offer ( 1 ) AND agent ( 1 , 1 ) AND recipient ( 1 , 1 ) AND theme ( 1 , 3 )',\n",
              " 'cat ( 1 ) ; Emma ( 3 ) ; shark ( 1 ) ; give ( 3 ) AND agent ( 3 , 1 ) AND recipient ( 3 , 3 ) AND theme ( 3 , 1 )',\n",
              " '* priest ( 1 ) ; shark ( 1 ) ; eat ( 1 ) AND agent ( 1 , 1 ) AND theme ( 1 , 1 )',\n",
              " 'boy ( 1 ) ; * lion ( 1 ) ; shark ( 1 ) ; * table ( 2 ) ; nmod . beside ( 1 , 2 ) AND give ( 1 ) AND agent ( 1 , 1 ) AND recipient ( 11 , 1 ) AND theme ( 11 , 1 )',\n",
              " 'Benjamin ( 1 ) ; * shark ( 1 ) ; eat ( 1 ) AND agent ( 1 , 1 ) AND theme ( 1 , 1 )',\n",
              " 'Liam ( 1 ) ; shark ( 1 ) ; * rock ( 2 ) ; nmod . on ( 1 , 2 ) AND eat ( 1 ) AND agent ( 1 , 1 ) AND theme ( 1 , 1 )',\n",
              " 'Benjamin ( 1 ) ; Emma ( 1 ) ; Liam ( 3 ) ; Liam ( 1 ) ; Liam ( 1 ) ; like ( 1 ) AND agent ( 1 , 1 ) AND ccomp ( 1 , 1 ) AND loan ( 1 ) AND agent ( 1 , 1 ) AND xcomp ( 1 , 33 ) AND loan ( 33 ) AND agent ( 33 , 1 ) AND recipient ( 33 , 3 ) AND loan ( 33 ) AND agent ( 33 , 1 )',\n",
              " 'teacher ( 1 ) ; girl ( 1 ) ; shark ( 2 ) ; * table ( 3 ) ; nmod . on ( 2 , 3 ) AND hope ( 1 ) AND agent ( 1 , 1 ) AND ccomp ( 1 , 1 ) AND eat ( 1 ) AND agent ( 1 , 1 ) AND theme ( 1 , 2 )',\n",
              " 'Noah ( 1 ) ; cat ( 1 ) ; table ( 3 ) ; table ( 49 ) ; nmod . beside ( 1 , 39 ) AND like ( 1 ) AND agent ( 1 , 1 ) AND ccomp ( 1 , 1 ) AND like ( 1 ) AND agent ( 1 , 1 ) AND xcomp ( 1 , 1 ) AND help ( 1 ) AND agent ( 1 , 1 ) AND theme ( 1 , 1 )',\n",
              " 'Emily ( 1 ) ; * shark ( 1 ) ; * house ( 1 ) ; nmod . in ( 1 , 1 ) AND eat ( 3 ) AND agent ( 3 , 1 ) AND theme ( 3 , 1 )',\n",
              " '*odore ( 1 ) ; Paula ( 1 ) ; change ( 1 ) AND agent ( 1 , 1 ) AND theme ( 1 , 1 )',\n",
              " 'tiger ( 1 ) ; Paula ( 1 ) ; roll ( 3 ) AND agent ( 3 , 1 ) AND theme ( 3 , 1 )',\n",
              " 'SSSSSSAah ( 1 ) ; Ava ( 1 ) ; send ( 1 ) AND agent ( 1 , 1 ) AND recipient ( 1 , 1 ) AND theme ( 1 , 1 )',\n",
              " 'Noah ( 1 ) ; Paula ( 1 ) ; like ( 1 ) AND agent ( 1 , 1 ) AND theme ( 1 , 1 )',\n",
              " '* student ( 1 ) ; Paula ( 1 ) ; help ( 14 ) AND agent ( 14 , 1 ) AND theme ( 14 , 1 )',\n",
              " 'horse ( 1 ) ; * mouse ( 1 ) ; Paula ( 1 ) ; say ( 1 ) AND agent ( 1 , 1 ) AND ccomp ( 1 , 1 ) AND eat ( 1 ) AND theme ( 1 , 1 ) AND recipient ( 1 , 1 )',\n",
              " 'Olivia ( 1 ) ; * priest ( 3 ) ; sell ( 1 ) AND agent ( 1 , 1 ) AND recipient ( 1 , 3 ) AND theme ( 1 , 3 )',\n",
              " 'James ( 1 ) ; Paula ( 1 ) ; discover ( 1 ) AND agent ( 1 , 1 ) AND theme ( 1 , 1 )',\n",
              " '* girl ( 1 ) ; Paula ( 1 ) ; Addison ( 3 ) ; give ( 14 ) AND agent ( 14 , 1 ) AND theme ( 14 , 1 ) AND recipient ( 14 , 3 )',\n",
              " '* girl ( 1 ) ; Paula ( 1 ) ; decompose ( 3 ) AND agent ( 3 , 1 ) AND theme ( 3 , 1 )',\n",
              " 'boy ( 1 ) ; Paula ( 3 ) ; * girl ( 1 ) ; mail ( 24 ) AND agent ( 24 , 1 ) AND theme ( 24 , 3 ) AND recipient ( 24 , 1 )',\n",
              " 'SSSSSSSSS Emma ( 1 ) ; Paula ( 1 ) ; lend ( 1 ) AND agent ( 1 , 1 ) AND theme ( 1 , 1 ) AND recipient ( 1 , 1 )',\n",
              " 'Ava ( 1 ) ; Paula ( 1 ) ; break ( 1 ) AND agent ( 1 , 1 ) AND theme ( 1 , 1 )',\n",
              " 'Aubrey ( 1 ) ; Paula ( 1 ) ; Charlotte ( 25 ) ; hand ( 38 ) AND agent ( 38 , 1 ) AND theme ( 38 , 1 ) AND recipient ( 38 , 25 )',\n",
              " '* girl ( 1 ) ; Paula ( 3 ) ; Olivia ( 1 ) ; forward ( 15 ) AND agent ( 15 , 1 ) AND theme ( 15 , 3 ) AND recipient ( 15 , 1 )',\n",
              " 'Logan ( 1 ) ; * cat ( 1 ) ; Paula ( 2 ) ; give ( 14 ) AND agent ( 14 , 1 ) AND recipient ( 14 , 1 ) AND theme ( 14 , 1 )',\n",
              " 'Wyatt ( 1 ) ; * boy ( 3 ) ; Ava ( 1 ) ; prove ( 3 ) AND agent ( 3 , 1 ) AND ccomp ( 3 , 1 ) AND rent ( 1 ) AND agent ( 1 , 3 ) AND xcomp ( 1 , 29 ) AND rent ( 29 ) AND agent ( 29 , 3 ) AND recipient ( 29 , 3 ) AND clean ( 29 ) AND agent ( 29 , 3 )',\n",
              " 'Oliver ( 19 ) ; Paula ( 2 ) ; burn ( 1 ) AND agent ( 1 , 19 ) AND theme ( 1 , 2 )',\n",
              " 'girl ( 1 ) ; Paula ( 1 ) ; dust ( 3 ) AND agent ( 3 , 1 ) AND theme ( 3 , 1 )',\n",
              " 'Logan ( 1 ) ; Paula ( 1 ) ; hunt ( 3 ) AND agent ( 3 , 1 ) AND theme ( 3 , 1 )',\n",
              " '* shark ( 1 ) ; rose ( 1 ) ; eat ( 1 ) AND agent ( 1 , 1 ) AND theme ( 1 , 1 )',\n",
              " '* shark ( 1 ) ; Elijah ( 2 ) ; * cake ( 33 ) ; seat ( 3 ) ; nmod . beside ( 33 , 3 ) AND give ( 1 ) AND agent ( 1 , 1 ) AND recipient ( 1 , 2 ) AND theme ( 1 , 33 )',\n",
              " '* shark ( 1 ) ; Sophia ( 1 ) ; examine ( 3 ) AND theme ( 3 , 1 ) AND agent ( 3 , 1 )',\n",
              " '* shark ( 1 ) ; cake ( 1 ) ; miss ( 3 ) AND agent ( 3 , 1 ) AND theme ( 3 , 1 )',\n",
              " '* shark ( 1 ) ; * cake ( 2 ) ; * road ( 1 ) ; nmod . beside (    2 ) AND sell ( 3 ) AND agent ( 3 , 1 ) AND theme ( 3 , 2 )',\n",
              " '* shark ( 1 ) ; * balloon ( 1 ) ; love ( 1 ) AND agent ( 1 , 1 ) AND theme ( 1 , 1 )',\n",
              " 'shark ( 1 ) ; Oliver ( 2 ) ; * cookie ( 3 ) ; mail ( 19 ) AND agent ( 19 , 1 ) AND recipient ( 19 , 2 ) AND theme ( 19 , 3 )',\n",
              " '* shark ( 1 ) ; * donut ( 1 ) ; * road ( 1 ) ; nmod . on ( 13 , 1 ) AND dust ( 3 ) AND agent ( 3 , 1 ) AND theme ( 3 , 1 )',\n",
              " '* shark ( 1 ) ; Noah ( 1 ) ; lend ( 3 ) AND agent ( 3 , 1 ) AND recipient ( 3 , 1 ) AND theme ( 3 , 3 )',\n",
              " '* shark ( 1 ) ; * chicken ( 1 ) ; * table ( 1 ) ; nmod . beside ( 1 , 1 ) AND paint ( 1 ) AND agent ( 1 , 1 ) AND theme ( 1 , 1 )',\n",
              " '* shark ( 1 ) ; girl ( 1 ) ; collapse ( 1 ) AND agent ( 1 , 1 ) AND theme ( 1 , 1 )',\n",
              " 'shark ( 1 ) ; girl ( 1 ) ; paint ( 3 ) AND agent ( 3 , 1 ) AND theme ( 3 , 1 )',\n",
              " '* shark ( 1 ) ; * boy ( 1 ) ; table ( 29 ) ; nmod . on ( 1 , 29 ) AND freeze ( 35 ) AND agent ( 35 , 1 ) AND theme ( 35 , 1 )',\n",
              " '* shark ( 2 ) ; Michael ( 1 ) ; dust ( 1 ) AND agent ( 1 , 2 ) AND theme ( 1 , 1 )',\n",
              " 'Liam ( 1 ) ; shark ( 1 ) ; say ( 3 ) AND agent ( 3 , 1 ) AND ccomp ( 3 , 1 ) AND prefer ( 1 ) AND agent ( 1 , 1 ) AND xcomp ( 1 , 1 ) AND sleep ( 1 ) AND agent ( 1 , 1 ) AND prefer ( 1 ) AND agent ( 1 , 1 ) AND sleep ( 1 ) AND agent ( 1 , 1 )',\n",
              " '* shark ( 1 ) ; want ( 1 ) AND agent ( 1 , 1 ) AND xcomp ( 1 , 1 ) AND eat ( 1 ) AND agent ( 1 , 1 )',\n",
              " '* girl ( 1 ) ; * shark ( 1 ) ; think ( 3 ) ; think ( 1 ) AND agent ( 1 , 1 ) AND ccomp ( 1 , 1 ) AND play ( 1 ) AND recipient ( 1 , 1 ) AND theme ( 1 , 1 )',\n",
              " '* shark ( 1 ) ; cake ( 1 ) ; house ( 2 ) ; nmod . in ( 1 , 2 ) AND freeze ( 1 ) AND agent ( 1 , 1 ) AND theme ( 1 , 1 )',\n",
              " '* shark ( 1 ) ; cake ( 2 ) ; Liam ( 1 ) ; offer ( 1 ) AND agent ( 1 , 1 ) AND theme ( 1 , 2 ) AND recipient ( 1 , 1 )',\n",
              " '* shark ( 1 ) ; intend ( 1 ) AND agent ( 1 , 1 ) AND xcomp ( 1 , 1 ) AND giggle ( 1 ) AND agent ( 1 , 1 )',\n",
              " 'Paula ( 1 ) ; brick ( 1 ) ; roll ( 1 ) AND agent ( 1 , 1 ) AND theme ( 1 , 1 )',\n",
              " 'Paula ( 1 ) ; Lucas ( 1 ) ; dust ( 1 ) AND agent ( 1 , 1 ) AND theme ( 1 , 1 )',\n",
              " 'Paula ( 1 ) ; cat ( 1 ) ; * cake ( 33 ) ; * speaker ( 1 ) ; nmod . on ( 33 , 1 ) AND give ( 1 ) AND agent ( 1 , 1 ) AND recipient ( 1 , 1 ) AND theme ( 1 , 33 )',\n",
              " 'Paula ( 1 ) ; Emma ( 1 ) ; cake ( 33 ) ; * tv ( 1 ) ; nmod . on ( 33 , 1 ) AND give ( 1 ) AND agent ( 1 , 1 ) AND recipient ( 1 , 1 ) AND theme ( 1 , 33 )',\n",
              " 'Paula ( 1 ) ; * drink ( 3 ) ; * house ( 24 ) ; nmod . in ( 3 , 24 ) AND like ( 1 ) AND agent ( 1 , 1 ) AND theme ( 1 , 3 )',\n",
              " 'Paula ( 1 ) ; Ethan ( 1 ) ; roll ( 3 ) AND agent ( 3 , 1 ) AND theme ( 3 , 1 )',\n",
              " 'Paula ( 1 ) ; * cookie ( 2 ) ; like ( 1 ) AND agent ( 1 , 1 ) AND theme ( 1 , 2 )',\n",
              " 'Paula ( 1 ) ; boy ( 1 ) ; * cake ( 1 ) ; * chair ( 2 ) ; nmod . beside ( 13 , 2 ) AND lend ( 1 ) AND agent ( 1 , 1 ) AND recipient ( 1 , 1 ) AND theme ( 1 , 13 )',\n",
              " 'Paula ( 1 ) ; * knife ( 1 ) ; roll ( 1 ) AND agent ( 1 , 1 ) AND theme ( 1 , 1 )',\n",
              " 'Paula ( 1 ) ; * donut ( 1 ) ; * duck ( 1 ) ; bring ( 1 ) AND agent ( 1 , 1 ) AND theme ( 1 , 1 ) AND recipient ( 1 , 1 )',\n",
              " 'Paula ( 1 ) ; girl ( 1 ) ; * table ( 14 ) ; nmod . beside ( 13 , 14 ) AND help ( 1 ) AND agent ( 1 , 1 ) AND theme ( 1 , 1 )',\n",
              " 'Paula ( 1 ) ; Liam ( 1 ) ; * newspaper ( 2 ) ; mail ( 1 ) AND agent ( 1 , 1 ) AND recipient ( 1 , 1 ) AND theme ( 1 , 2 )',\n",
              " 'Paula ( 1 ) ; cake ( 2 ) ; table ( 1 ) ; Emma ( 2 ) ; nmod . on ( 2 , 1 ) AND give ( 1 ) AND agent ( 1 , 1 ) AND theme ( 1 , 2 ) AND recipient ( 1 , 2 )',\n",
              " 'Paula ( 1 ) ; want ( 1 ) AND agent ( 1 , 1 ) AND xcomp ( 1 , 1 ) AND paint ( 1 ) AND agent ( 1 , 1 )',\n",
              " 'Paula ( 1 ) ; donut ( 3 ) ; gravel ( 1 ) ; * girl ( 2 ) ; nmod . on ( 3 , 1 ) AND lend ( 3 ) AND agent ( 3 , 1 ) AND theme ( 3 , 3 ) AND recipient ( 3 , 2 )',\n",
              " 'Paula ( 1 ) ; glue ( 1 ) ; * garden ( 3 ) ; nmod . in ( 1 , 3 ) AND help ( 1 ) AND agent ( 1 , 1 ) AND theme ( 1 , 1 )',\n",
              " 'Paula ( 1 ) ; boy ( 1 ) ; roll ( 1 ) AND agent ( 1 , 1 ) AND theme ( 1 , 1 )',\n",
              " 'Paula ( 1 ) ; patient ( 1 ) ; * donut ( 1 ) ; * barrel ( 1 ) ; nmod . in ( 1 , 1 ) AND give ( 1 ) AND agent ( 1 , 1 ) AND recipient ( 1 , 1 ) AND theme ( 1 , 1 )',\n",
              " 'Paula ( 1 ) ; * crayon ( 3 ) ; * pad ( 2 ) ; n nmod . on ( 3 , 2 ) AND freeze ( 1 ) AND agent ( 1 , 1 ) AND theme ( 1 , 3 )',\n",
              " 'Paula ( 1 ) ; * donut ( 3 ) ; girl ( 1 ) ; lend ( 1 ) AND agent ( 1 , 1 ) AND theme ( 1 , 3 ) AND recipient ( 1 , 1 )',\n",
              " 'Abigail ( 1 ) ; * hog ( 3 ) ; * frog ( 1 ) ; give ( 1 ) AND agent ( 1 , 1 ) AND theme ( 1 , 3 ) AND recipient ( 1 , 1 )',\n",
              " 'dog ( 1 ) ; * hedge ( 1 ) ; * seat ( 25 ) ; nmod . beside ( 1 , 25 ) AND like ( 1 ) AND agent ( 1 , 1 ) AND theme ( 1 , 1 )',\n",
              " 'Isabella ( 1 ) ; * hen ( 2 ) ; * hog ( 35 ) ; crumple ( 1 ) AND agent ( 1 , 1 ) AND theme ( 1 , 2 ) AND crumple ( 1 ) AND recipient ( 1 , 1 )',\n",
              " '* girl ( 1 ) ; * hog ( 1 ) ; table ( 29 ) ; nmod . on ( 1 , 29 ) AND find ( 35 ) AND agent ( 35 , 1 ) AND theme ( 35 , 1 )',\n",
              " '* guest ( 1 ) ; * hog ( 3 ) ; * vehicle ( 1 ) ; lion ( 2 ) ; nmod . in ( 3 , 1 ) AND hand ( 1 ) AND agent ( 1 , 1 ) AND theme ( 1 , 3 ) AND recipient ( 1 , 2 )',\n",
              " 'Emma ( 1 ) ; hedge ( 2 ) ; hose ( 1 ) ; * stage ( 3 ) ; nmod . on ( 1 , 3 ) AND crumple ( 1 ) AND agent ( 1 , 1 ) AND theme ( 1 , 2 )',\n",
              " 'Liam ( 1 ) ; Emma ( 1 ) ; * hedge ( 3 ) ; * road ( 3 ) ; * road ( 4 ) ; nmod . beside ( 3 , 3 ) AND give ( 1 ) AND agent ( 1 , 1 ) AND recipient ( 1 , 1 ) AND theme ( 1 , 3 )',\n",
              " 'girl ( 1 ) ; hedge ( 1 ) ; tree ( 1 ) ; nmod . on ( 1 , 1 ) AND snap ( 1 ) AND agent ( 1 , 1 ) AND theme ( 1 , 1 )',\n",
              " 'Benjamin ( 1 ) ; * hedge ( 3 ) ; room ( 1 ) ; nmod . in ( 3 , 1 ) AND float ( 2 ) AND agent ( 2 , 1 ) AND theme ( 2 , 3 )',\n",
              " 'Emma ( 1 ) ; hedge ( 1 ) ; * not ( 3 ) ; nmod . on ( 1 , 3 ) AND roll ( 1 ) AND agent ( 1 , 1 ) AND theme ( 1 , 1 )',\n",
              " '* frog ( 1 ) ; * hedge ( 2 ) ; box ( 1 ) ; nmod . in ( 2 , 1 ) AND shorten ( 3 ) AND agent ( 3 , 1 ) AND theme ( 3 , 2 )',\n",
              " 'Emma ( 1 ) ; bunny ( 1 ) ; hedge ( 3 ) ; give ( 1 ) AND agent ( 1 , 1 ) AND recipient ( 1 , 1 ) AND theme ( 1 , 3 )',\n",
              " 'Isabella ( 1 ) ; * hage ( 1 ) ; * table ( 2 ) ; nmod nmod . beside ( 1 , 2 ) AND paint ( 3 ) AND agent ( 3 , 1 ) AND theme ( 3 , 1 )',\n",
              " '* boy ( 1 ) ; Alexander ( 3 ) ; hamb ( 1 ) ; hedge ( 3 ) ; like ( 1 ) AND agent ( 1 , 1 ) AND ccomp ( 1 , 1 ) AND bring ( 1 ) AND recipient ( 1 , 3 ) AND theme ( 1 , 1 )',\n",
              " 'doctor ( 1 ) ; hedge ( 3 ) ; cup ( 2 ) ; hero ( 3 ) ; nmod . beside ( 3 , 2 ) AND lend ( 1 ) AND agent ( 1 , 1 ) AND theme ( 1 , 3 ) AND recipient ( 1 , 3 )',\n",
              " 'child ( 1 ) ; * hedge ( 1 ) ; room ( 2 ) ; nmod . in ( 1 , 2 ) AND shorten ( 3 ) AND agent ( 3 , 1 ) AND theme ( 3 , 1 )',\n",
              " 'Emma ( 1 ) ; cat ( 1 ) ; * hedge ( 3 ) ; girl ( 1 ) ; declare ( 3 ) AND agent ( 3 , 1 ) AND ccomp ( 3 , 1 ) AND give ( 1 ) AND agent ( 1 , 1 ) AND recipient ( 1 , 1 ) AND theme ( 1 , 3 )',\n",
              " 'Emma ( 1 ) ; hedge ( 3 ) ; eat ( 1 ) AND agent ( 1 , 1 ) AND theme ( 1 , 3 )',\n",
              " '* customer ( 1 ) ; boy ( 1 ) ; hog ( 3 ) ; mouse ( 1 ) ; support ( 1 ) AND agent ( 1 , 1 ) AND ccomp ( 1 , 1 ) AND prove ( 1 ) AND agent ( 1 , 1 ) AND ccomp ( 1 , 1 ) AND give ( 1 ) AND recipient ( 1 , 1 ) AND theme ( 1 , 3 )',\n",
              " 'Emma ( 1 ) ; hedge ( 1 ) ; stab ( 1 ) AND agent ( 1 , 1 ) AND theme ( 1 , 1 )',\n",
              " 'William ( 1 ) ; Lina ( 1 ) ; roll ( 1 ) AND agent ( 1 , 1 ) AND theme ( 1 , 1 )',\n",
              " 'Addison ( 1 ) ; Lina ( 1 ) ; Emma ( 1 ) ; hand ( 3 ) AND agent ( 3 , 1 ) AND theme ( 3 , 1 ) AND recipient ( 3 , 1 )',\n",
              " '* girl ( 1 ) ; * horse ( 1 ) ; Lina ( 1 ) ; offer ( 15 ) AND agent ( 15 , 1 ) AND theme ( 15 , 1 ) AND recipient ( 15 , 1 )',\n",
              " 'Emma ( 1 ) ; Lina ( 1 ) ; clean ( 1 ) AND agent ( 1 , 1 ) AND theme ( 1 , 1 )',\n",
              " '* boy ( 1 ) ; * girl ( 1 ) ; Lina ( 1 ) ; give ( 15 ) AND agent ( 15 , 1 ) AND recipient ( 15 , 1 ) AND theme ( 15 , 1 )',\n",
              " 'Logan ( 1 ) ; * cat ( 2 ) ; Lina ( 1 ) ; give ( 14 ) AND agent ( 14 , 1 ) AND theme ( 14 , 2 ) AND recipient ( 14 , 1 )',\n",
              " 'king ( 1 ) ; chicken ( 3 ) ; Emma ( 3 ) ; like ( 15 ) AND agent ( 15 , 1 ) AND ccomp ( 15 , 1 ) AND give ( 1 ) AND agent ( 1 , 3 ) AND recipient ( 1 , 3 ) AND theme ( 1 , 3 )',\n",
              " 'Daniel ( 1 ) ; Ellie ( 1 ) ; Lily ( 3 ) ; offer ( 15 ) AND agent ( 15 , 1 ) AND recipient ( 15 , 1 ) AND theme ( 15 , 3 )',\n",
              " '* duck ( 1 ) ; Lina ( 1 ) ; like ( 14 ) AND agent ( 14 , 1 ) AND theme ( 14 , 1 )',\n",
              " 'Caleb ( 1 ) ; Ethan ( 1 ) ; Lina ( 3 ) ; sell ( 15 ) AND agent ( 15 , 1 ) AND recipient ( 15 , 1 ) AND theme ( 15 , 3 )',\n",
              " 'Emma ( 1 ) ; Noah ( 1 ) ; Liam ( 3 ) ; believe ( 1 ) AND agent ( 1 , 1 ) AND ccomp ( 1 , 1 ) AND give ( 1 ) AND agent ( 1 , 1 ) AND recipient ( 1 , 3 ) AND theme ( 1 , 3 )',\n",
              " 'Emma ( 1 ) ; Lina ( 3 ) ; kitty ( 19 ) ; pass ( 4 ) AND agent ( 4 , 1 ) AND recipient ( 4 , 3 ) AND theme ( 4 , 3 )',\n",
              " '* princess ( 1 ) ; Lina ( 1 ) ; eat ( 1 ) AND agent ( 1 , 1 ) AND theme ( 1 , 1 )',\n",
              " 'Evelyn ( 1 ) ; Lina ( 3 ) ; journalist ( 1 ) ; give ( 3 ) AND agent ( 3 , 1 ) AND theme ( 3 , 3 ) AND recipient ( 3 , 1 )',\n",
              " 'Oliver ( 1 ) ; Lina ( 1 ) ; dust ( 1 ) AND agent ( 1 , 1 ) AND theme ( 1 , 1 )',\n",
              " 'giraffe ( 1 ) ; Luna ( 3 ) ; * girl ( 1 ) ; mail ( 1 ) AND agent ( 1 , 1 ) AND theme ( 1 , 3 ) AND recipient ( 1 , 1 )',\n",
              " 'Elijah ( 1 ) ; Lily ( 1 ) ; grow ( 3 ) AND agent ( 3 , 1 ) AND theme ( 3 , 1 )',\n",
              " '* bear ( 1 ) ; Lina ( 1 ) ; paint ( 4 ) AND agent ( 4 , 1 ) AND theme ( 4 , 1 )',\n",
              " 'butterfly ( 1 ) ; Lina ( 1 ) ; roll ( 3 ) AND agent ( 3 , 1 ) AND theme ( 3 , 1 )',\n",
              " 'sssister ( 1 ) ; Penel ( 1 ) ; Lina ( 1 ) ; give ( 1 ) AND agent ( 1 , 1 ) AND recipient ( 1 , 1 ) AND theme ( 1 , 1 )',\n",
              " 'boy ( 1 ) ; * block ( 1 ) ; tree ( 3 ) ; nmod . on ( 1 , 3 ) AND shatter ( 1 ) AND agent ( 1 , 1 ) AND theme ( 1 , 1 )',\n",
              " 'Liam ( 1 ) ; * cake ( 1 ) ; table ( 2 ) ; nmod . beside ( 1 , 2 ) AND shatter ( 1 ) AND agent ( 1 , 1 ) AND theme ( 1 , 1 )',\n",
              " 'girl ( 1 ) ; William ( 3 ) ; shake ( 1 ) AND agent ( 1 , 1 )',\n",
              " 'Harper ( 1 ) ; ball ( 1 ) ; house ( 2 ) ; house ( 3 ) ; nmod . in ( 1 , 2 ) AND shatter ( 1 ) AND agent ( 1 , 1 ) AND theme ( 1 , 1 )',\n",
              " '* girl ( 1 ) ; donut ( 1 ) ; shatter ( 1 ) AND agent ( 1 , 1 ) AND theme ( 1 , 1 )',\n",
              " 'professor ( 1 ) ; Emily ( 1 ) ; shatter ( 3 ) AND agent ( 3 , 1 ) AND theme ( 3 , 1 )',\n",
              " '* child ( 1 ) ; Olivia ( 3 ) ; shatter ( 1 ) AND agent ( 1 , 1 ) AND theme ( 1 , 3 )',\n",
              " 'Alexander ( 1 ) ; * researcher ( 3 ) ; mattress ( 4 ) ; nmod . on ( 3 , 4 ) AND shatter ( 1 ) AND agent ( 1 , 1 ) AND theme ( 1 , 3 )',\n",
              " 'William ( 1 ) ; Grace ( 1 ) ; * cookie ( 2 ) ; * table ( 3 ) ; nmod . on ( 2 , 3 ) AND support ( 1 ) AND agent ( 1 , 1 ) AND ccomp ( 1 , 1 ) AND sh ( 1 ) AND agent ( 1 , 1 ) AND ccomp ( 1 , 25 ) AND shuffle ( 25 ) AND agent ( 25 , 1 ) AND theme ( 25 , 2 )',\n",
              " '* cat ( 1 ) ; shell ( 1 ) ; * storage ( 2 ) ; nmod . in ( 1 , 2 ) AND shatter ( 1 ) AND agent ( 1 , 1 ) AND theme ( 1 , 1 )',\n",
              " 'Liam ( 1 ) ; * girl ( 1 ) ; shatter ( 3 ) AND agent ( 3 , 1 ) AND theme ( 3 , 1 )',\n",
              " 'Carter ( 1 ) ; * cat ( 1 ) ; * desk ( 3 ) ; nmod . on ( 1 , 3 ) AND shuffle ( 1 ) AND agent ( 1 , 1 ) AND theme ( 1 , 1 )',\n",
              " 'Emma ( 19 ) ; baby ( 1 ) ; shatter ( 3 ) AND agent ( 3 , 19 ) AND theme ( 3 , 1 )',\n",
              " 'Emma ( 1 ) ; * farmer ( 3 ) ; William ( 3 ) ; think ( 1 ) AND agent ( 1 , 1 ) AND ccomp ( 1 , 1 ) AND shatter ( 1 ) AND agent ( 1 , 3 ) AND xcomp ( 1 , 1 ) AND sh ( 1 ) AND agent ( 1 , 3 ) AND shutter ( 1 ) AND agent ( 1 , 3 )',\n",
              " 'Emma ( 1 ) ; * donut ( 1 ) ; shatter ( 1 ) AND agent ( 1 , 1 ) AND theme ( 1 , 1 )',\n",
              " 'Emma ( 19 ) ; * baby ( 1 ) ; shatter ( 3 ) AND agent ( 3 , 19 ) AND theme ( 3 , 1 )',\n",
              " 'Lucas ( 1 ) ; cake ( 3 ) ; shatter ( 1 ) AND agent ( 1 , 1 ) AND theme ( 1 , 3 )',\n",
              " '* politician ( 1 ) ; * lion ( 1 ) ; donut ( 3 ) ; think ( 1 ) AND agent ( 1 , 1 ) AND ccomp ( 1 , 1 ) AND think ( 1 ) AND agent ( 1 , 1 ) AND ccomp ( 1 , 29 ) AND think ( 29 ) AND agent ( 29 , 1 ) AND theme ( 29 , 3 )',\n",
              " 'hero ( 1 ) ; cake ( 1 ) ; table ( 2 ) ; nmod . beside ( 1 , 2 ) AND shatter ( 1 ) AND agent ( 1 , 1 ) AND theme ( 1 , 1 )',\n",
              " 'Mia ( 1 ) ; * raisin ( 1 ) ; * box ( 2 ) ; nmod . on ( 1 , 2 ) AND shatter ( 3 ) AND agent ( 3 , 1 ) AND theme ( 3 , 1 )']"
            ]
          },
          "metadata": {},
          "execution_count": 29
        }
      ]
    },
    {
      "cell_type": "code",
      "source": [
        "bakeoff_df['prediction'] = responses"
      ],
      "metadata": {
        "id": "H_7kNyd2cJ-y"
      },
      "execution_count": 32,
      "outputs": []
    },
    {
      "cell_type": "code",
      "source": [
        "bakeoff_df.to_csv(\"cs224u-recogs-bakeoff-entry.tsv\", sep=\"\\t\")"
      ],
      "metadata": {
        "id": "ZQAkdBmMb-x-"
      },
      "execution_count": 33,
      "outputs": []
    },
    {
      "cell_type": "code",
      "source": [
        "def test_bakeoff_file(filename=\"cs224u-recogs-bakeoff-entry.tsv\"):\n",
        "    ref_filename = os.path.join(SRC_DIRNAME, \"cs224u-recogs-test-unlabeled.tsv\")\n",
        "    ref_df = pd.read_csv(ref_filename, sep=\"\\t\", index_col=0)\n",
        "\n",
        "    entry_df = pd.read_csv(filename, sep=\"\\t\", index_col=0)\n",
        "\n",
        "    errcount = 0\n",
        "\n",
        "    # Check expected columns:\n",
        "    expected_cols = [\"input\", \"category\", \"prediction\"]\n",
        "    for col in expected_cols:\n",
        "        if col not in entry_df.columns:\n",
        "            errcount += 1\n",
        "            print(f\"Missing column: {col}\")\n",
        "    if errcount > 0:\n",
        "        return\n",
        "\n",
        "    # Use the \"category\" column as a check that the rows have not\n",
        "    # been shuffled:\n",
        "    if not entry_df.category.equals(ref_df.category):\n",
        "        errcount += 1\n",
        "        print(\"Rows do not seem to be aligned with reference file. \"\n",
        "              \"Might they have gotten shuffled?\")\n",
        "\n",
        "    # Check that the predictions all have type str:\n",
        "    for line_num, x in enumerate(entry_df.prediction, start=1):\n",
        "        if not isinstance(x, str):\n",
        "            errcount += 1\n",
        "            print(f\"Prediction on line {line_num} is not a str: {x}\")\n",
        "\n",
        "    if errcount == 0:\n",
        "        print(\"Bakeoff file seems to be in good shape!\")\n",
        "\n",
        "test_bakeoff_file(\"cs224u-recogs-bakeoff-entry.tsv\")"
      ],
      "metadata": {
        "id": "ChXiden17MMj",
        "colab": {
          "base_uri": "https://localhost:8080/"
        },
        "outputId": "9454f49a-fa0f-43d8-ac7a-aa3c163f09a7"
      },
      "execution_count": 35,
      "outputs": [
        {
          "output_type": "stream",
          "name": "stdout",
          "text": [
            "Bakeoff file seems to be in good shape!\n"
          ]
        }
      ]
    },
    {
      "cell_type": "code",
      "source": [],
      "metadata": {
        "id": "CzzpJwakm86l"
      },
      "execution_count": null,
      "outputs": []
    }
  ],
  "metadata": {
    "colab": {
      "name": "Como aproveitar ao máximo sua assinatura do Colab",
      "provenance": [],
      "machine_shape": "hm",
      "gpuType": "A100",
      "include_colab_link": true
    },
    "kernelspec": {
      "display_name": "Python 3",
      "name": "python3"
    },
    "widgets": {
      "application/vnd.jupyter.widget-state+json": {
        "8ce8bea7519e44a4a5cba05bdfb58b9a": {
          "model_module": "@jupyter-widgets/controls",
          "model_name": "HBoxModel",
          "model_module_version": "1.5.0",
          "state": {
            "_dom_classes": [],
            "_model_module": "@jupyter-widgets/controls",
            "_model_module_version": "1.5.0",
            "_model_name": "HBoxModel",
            "_view_count": null,
            "_view_module": "@jupyter-widgets/controls",
            "_view_module_version": "1.5.0",
            "_view_name": "HBoxView",
            "box_style": "",
            "children": [
              "IPY_MODEL_514ddeae42e942a88a6f8824b7be7685",
              "IPY_MODEL_a643961b53434bf9a9b82797be756be2",
              "IPY_MODEL_7acf95515d7a40798efbf4e829127450"
            ],
            "layout": "IPY_MODEL_348507f0373f4ef3a8e6e2396f9aca09"
          }
        },
        "514ddeae42e942a88a6f8824b7be7685": {
          "model_module": "@jupyter-widgets/controls",
          "model_name": "HTMLModel",
          "model_module_version": "1.5.0",
          "state": {
            "_dom_classes": [],
            "_model_module": "@jupyter-widgets/controls",
            "_model_module_version": "1.5.0",
            "_model_name": "HTMLModel",
            "_view_count": null,
            "_view_module": "@jupyter-widgets/controls",
            "_view_module_version": "1.5.0",
            "_view_name": "HTMLView",
            "description": "",
            "description_tooltip": null,
            "layout": "IPY_MODEL_540912b5220e494d806788795493e63f",
            "placeholder": "​",
            "style": "IPY_MODEL_a9e9cbda2a9446a384fc5eedcd8bf8fe",
            "value": "Loading checkpoint shards: 100%"
          }
        },
        "a643961b53434bf9a9b82797be756be2": {
          "model_module": "@jupyter-widgets/controls",
          "model_name": "FloatProgressModel",
          "model_module_version": "1.5.0",
          "state": {
            "_dom_classes": [],
            "_model_module": "@jupyter-widgets/controls",
            "_model_module_version": "1.5.0",
            "_model_name": "FloatProgressModel",
            "_view_count": null,
            "_view_module": "@jupyter-widgets/controls",
            "_view_module_version": "1.5.0",
            "_view_name": "ProgressView",
            "bar_style": "success",
            "description": "",
            "description_tooltip": null,
            "layout": "IPY_MODEL_f69d6e32762246eca08b545e25a4d645",
            "max": 2,
            "min": 0,
            "orientation": "horizontal",
            "style": "IPY_MODEL_22dea40497e9462ab4e8cb15cef21111",
            "value": 2
          }
        },
        "7acf95515d7a40798efbf4e829127450": {
          "model_module": "@jupyter-widgets/controls",
          "model_name": "HTMLModel",
          "model_module_version": "1.5.0",
          "state": {
            "_dom_classes": [],
            "_model_module": "@jupyter-widgets/controls",
            "_model_module_version": "1.5.0",
            "_model_name": "HTMLModel",
            "_view_count": null,
            "_view_module": "@jupyter-widgets/controls",
            "_view_module_version": "1.5.0",
            "_view_name": "HTMLView",
            "description": "",
            "description_tooltip": null,
            "layout": "IPY_MODEL_100c502cfda14ed9a07f300c6da8bcf1",
            "placeholder": "​",
            "style": "IPY_MODEL_95051328adcf4e9c868e293166c9ea60",
            "value": " 2/2 [00:04&lt;00:00,  2.00s/it]"
          }
        },
        "348507f0373f4ef3a8e6e2396f9aca09": {
          "model_module": "@jupyter-widgets/base",
          "model_name": "LayoutModel",
          "model_module_version": "1.2.0",
          "state": {
            "_model_module": "@jupyter-widgets/base",
            "_model_module_version": "1.2.0",
            "_model_name": "LayoutModel",
            "_view_count": null,
            "_view_module": "@jupyter-widgets/base",
            "_view_module_version": "1.2.0",
            "_view_name": "LayoutView",
            "align_content": null,
            "align_items": null,
            "align_self": null,
            "border": null,
            "bottom": null,
            "display": null,
            "flex": null,
            "flex_flow": null,
            "grid_area": null,
            "grid_auto_columns": null,
            "grid_auto_flow": null,
            "grid_auto_rows": null,
            "grid_column": null,
            "grid_gap": null,
            "grid_row": null,
            "grid_template_areas": null,
            "grid_template_columns": null,
            "grid_template_rows": null,
            "height": null,
            "justify_content": null,
            "justify_items": null,
            "left": null,
            "margin": null,
            "max_height": null,
            "max_width": null,
            "min_height": null,
            "min_width": null,
            "object_fit": null,
            "object_position": null,
            "order": null,
            "overflow": null,
            "overflow_x": null,
            "overflow_y": null,
            "padding": null,
            "right": null,
            "top": null,
            "visibility": null,
            "width": null
          }
        },
        "540912b5220e494d806788795493e63f": {
          "model_module": "@jupyter-widgets/base",
          "model_name": "LayoutModel",
          "model_module_version": "1.2.0",
          "state": {
            "_model_module": "@jupyter-widgets/base",
            "_model_module_version": "1.2.0",
            "_model_name": "LayoutModel",
            "_view_count": null,
            "_view_module": "@jupyter-widgets/base",
            "_view_module_version": "1.2.0",
            "_view_name": "LayoutView",
            "align_content": null,
            "align_items": null,
            "align_self": null,
            "border": null,
            "bottom": null,
            "display": null,
            "flex": null,
            "flex_flow": null,
            "grid_area": null,
            "grid_auto_columns": null,
            "grid_auto_flow": null,
            "grid_auto_rows": null,
            "grid_column": null,
            "grid_gap": null,
            "grid_row": null,
            "grid_template_areas": null,
            "grid_template_columns": null,
            "grid_template_rows": null,
            "height": null,
            "justify_content": null,
            "justify_items": null,
            "left": null,
            "margin": null,
            "max_height": null,
            "max_width": null,
            "min_height": null,
            "min_width": null,
            "object_fit": null,
            "object_position": null,
            "order": null,
            "overflow": null,
            "overflow_x": null,
            "overflow_y": null,
            "padding": null,
            "right": null,
            "top": null,
            "visibility": null,
            "width": null
          }
        },
        "a9e9cbda2a9446a384fc5eedcd8bf8fe": {
          "model_module": "@jupyter-widgets/controls",
          "model_name": "DescriptionStyleModel",
          "model_module_version": "1.5.0",
          "state": {
            "_model_module": "@jupyter-widgets/controls",
            "_model_module_version": "1.5.0",
            "_model_name": "DescriptionStyleModel",
            "_view_count": null,
            "_view_module": "@jupyter-widgets/base",
            "_view_module_version": "1.2.0",
            "_view_name": "StyleView",
            "description_width": ""
          }
        },
        "f69d6e32762246eca08b545e25a4d645": {
          "model_module": "@jupyter-widgets/base",
          "model_name": "LayoutModel",
          "model_module_version": "1.2.0",
          "state": {
            "_model_module": "@jupyter-widgets/base",
            "_model_module_version": "1.2.0",
            "_model_name": "LayoutModel",
            "_view_count": null,
            "_view_module": "@jupyter-widgets/base",
            "_view_module_version": "1.2.0",
            "_view_name": "LayoutView",
            "align_content": null,
            "align_items": null,
            "align_self": null,
            "border": null,
            "bottom": null,
            "display": null,
            "flex": null,
            "flex_flow": null,
            "grid_area": null,
            "grid_auto_columns": null,
            "grid_auto_flow": null,
            "grid_auto_rows": null,
            "grid_column": null,
            "grid_gap": null,
            "grid_row": null,
            "grid_template_areas": null,
            "grid_template_columns": null,
            "grid_template_rows": null,
            "height": null,
            "justify_content": null,
            "justify_items": null,
            "left": null,
            "margin": null,
            "max_height": null,
            "max_width": null,
            "min_height": null,
            "min_width": null,
            "object_fit": null,
            "object_position": null,
            "order": null,
            "overflow": null,
            "overflow_x": null,
            "overflow_y": null,
            "padding": null,
            "right": null,
            "top": null,
            "visibility": null,
            "width": null
          }
        },
        "22dea40497e9462ab4e8cb15cef21111": {
          "model_module": "@jupyter-widgets/controls",
          "model_name": "ProgressStyleModel",
          "model_module_version": "1.5.0",
          "state": {
            "_model_module": "@jupyter-widgets/controls",
            "_model_module_version": "1.5.0",
            "_model_name": "ProgressStyleModel",
            "_view_count": null,
            "_view_module": "@jupyter-widgets/base",
            "_view_module_version": "1.2.0",
            "_view_name": "StyleView",
            "bar_color": null,
            "description_width": ""
          }
        },
        "100c502cfda14ed9a07f300c6da8bcf1": {
          "model_module": "@jupyter-widgets/base",
          "model_name": "LayoutModel",
          "model_module_version": "1.2.0",
          "state": {
            "_model_module": "@jupyter-widgets/base",
            "_model_module_version": "1.2.0",
            "_model_name": "LayoutModel",
            "_view_count": null,
            "_view_module": "@jupyter-widgets/base",
            "_view_module_version": "1.2.0",
            "_view_name": "LayoutView",
            "align_content": null,
            "align_items": null,
            "align_self": null,
            "border": null,
            "bottom": null,
            "display": null,
            "flex": null,
            "flex_flow": null,
            "grid_area": null,
            "grid_auto_columns": null,
            "grid_auto_flow": null,
            "grid_auto_rows": null,
            "grid_column": null,
            "grid_gap": null,
            "grid_row": null,
            "grid_template_areas": null,
            "grid_template_columns": null,
            "grid_template_rows": null,
            "height": null,
            "justify_content": null,
            "justify_items": null,
            "left": null,
            "margin": null,
            "max_height": null,
            "max_width": null,
            "min_height": null,
            "min_width": null,
            "object_fit": null,
            "object_position": null,
            "order": null,
            "overflow": null,
            "overflow_x": null,
            "overflow_y": null,
            "padding": null,
            "right": null,
            "top": null,
            "visibility": null,
            "width": null
          }
        },
        "95051328adcf4e9c868e293166c9ea60": {
          "model_module": "@jupyter-widgets/controls",
          "model_name": "DescriptionStyleModel",
          "model_module_version": "1.5.0",
          "state": {
            "_model_module": "@jupyter-widgets/controls",
            "_model_module_version": "1.5.0",
            "_model_name": "DescriptionStyleModel",
            "_view_count": null,
            "_view_module": "@jupyter-widgets/base",
            "_view_module_version": "1.2.0",
            "_view_name": "StyleView",
            "description_width": ""
          }
        }
      }
    },
    "accelerator": "GPU"
  },
  "nbformat": 4,
  "nbformat_minor": 0
}